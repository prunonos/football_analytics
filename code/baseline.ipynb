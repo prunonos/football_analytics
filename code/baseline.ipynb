{
 "cells": [
  {
   "cell_type": "code",
   "execution_count": 1,
   "metadata": {},
   "outputs": [],
   "source": [
    "import numpy as np\n",
    "import pandas as pd\n",
    "from datetime import datetime\n",
    "import mytrain_lib as ml\n",
    "import matplotlib.pyplot as plt\n",
    "from sklearn.metrics import confusion_matrix as confmat\n",
    "from sklearn.svm import SVC\n",
    "from sklearn.model_selection import RandomizedSearchCV,KFold\n",
    "from sklearn.ensemble import RandomForestClassifier\n",
    "from scipy.stats import uniform, randint\n",
    "%matplotlib inline\n",
    "import importlib\n",
    "\n",
    "import random\n",
    "random.seed(0)"
   ]
  },
  {
   "cell_type": "code",
   "execution_count": 2,
   "metadata": {},
   "outputs": [],
   "source": [
    "path_rawdata    = 'F://TFG//datasets/raw_datasets//'\n",
    "path_train      = 'F://TFG//datasets//data_train//'\n",
    "path_graphs     = 'F://TFG//graphs//'\n",
    "path            = 'F:/TFG/datasets/nature-dataset/'"
   ]
  },
  {
   "cell_type": "code",
   "execution_count": 3,
   "metadata": {},
   "outputs": [
    {
     "data": {
      "text/html": [
       "<div>\n",
       "<style scoped>\n",
       "    .dataframe tbody tr th:only-of-type {\n",
       "        vertical-align: middle;\n",
       "    }\n",
       "\n",
       "    .dataframe tbody tr th {\n",
       "        vertical-align: top;\n",
       "    }\n",
       "\n",
       "    .dataframe thead th {\n",
       "        text-align: right;\n",
       "    }\n",
       "</style>\n",
       "<table border=\"1\" class=\"dataframe\">\n",
       "  <thead>\n",
       "    <tr style=\"text-align: right;\">\n",
       "      <th></th>\n",
       "      <th>dateutc</th>\n",
       "      <th>competitionId</th>\n",
       "      <th>seasonId</th>\n",
       "      <th>roundId</th>\n",
       "      <th>winner</th>\n",
       "      <th>teamId_home</th>\n",
       "      <th>score_home</th>\n",
       "      <th>scoreHT_home</th>\n",
       "      <th>teamId_away</th>\n",
       "      <th>score_away</th>\n",
       "      <th>...</th>\n",
       "      <th>keyPasses_H</th>\n",
       "      <th>keyPasses_A</th>\n",
       "      <th>ataque_h</th>\n",
       "      <th>defensa_h</th>\n",
       "      <th>ataque_a</th>\n",
       "      <th>defensa_a</th>\n",
       "      <th>ataquedefensa_H</th>\n",
       "      <th>ataquedefensa_A</th>\n",
       "      <th>res</th>\n",
       "      <th>matchId</th>\n",
       "    </tr>\n",
       "    <tr>\n",
       "      <th>wyId</th>\n",
       "      <th></th>\n",
       "      <th></th>\n",
       "      <th></th>\n",
       "      <th></th>\n",
       "      <th></th>\n",
       "      <th></th>\n",
       "      <th></th>\n",
       "      <th></th>\n",
       "      <th></th>\n",
       "      <th></th>\n",
       "      <th></th>\n",
       "      <th></th>\n",
       "      <th></th>\n",
       "      <th></th>\n",
       "      <th></th>\n",
       "      <th></th>\n",
       "      <th></th>\n",
       "      <th></th>\n",
       "      <th></th>\n",
       "      <th></th>\n",
       "      <th></th>\n",
       "    </tr>\n",
       "  </thead>\n",
       "  <tbody>\n",
       "    <tr>\n",
       "      <th>2499738</th>\n",
       "      <td>2018-03-31 14:00:00</td>\n",
       "      <td>364</td>\n",
       "      <td>181150</td>\n",
       "      <td>4405654</td>\n",
       "      <td>1633</td>\n",
       "      <td>1633</td>\n",
       "      <td>3</td>\n",
       "      <td>3</td>\n",
       "      <td>1619</td>\n",
       "      <td>0</td>\n",
       "      <td>...</td>\n",
       "      <td>5</td>\n",
       "      <td>6</td>\n",
       "      <td>0.76</td>\n",
       "      <td>1.72</td>\n",
       "      <td>0.96</td>\n",
       "      <td>2.24</td>\n",
       "      <td>0.973546</td>\n",
       "      <td>0.817933</td>\n",
       "      <td>1</td>\n",
       "      <td>2499738</td>\n",
       "    </tr>\n",
       "    <tr>\n",
       "      <th>2499799</th>\n",
       "      <td>2017-10-21 11:30:00</td>\n",
       "      <td>364</td>\n",
       "      <td>181150</td>\n",
       "      <td>4405654</td>\n",
       "      <td>1610</td>\n",
       "      <td>1610</td>\n",
       "      <td>4</td>\n",
       "      <td>1</td>\n",
       "      <td>1644</td>\n",
       "      <td>2</td>\n",
       "      <td>...</td>\n",
       "      <td>4</td>\n",
       "      <td>8</td>\n",
       "      <td>0.56</td>\n",
       "      <td>0.84</td>\n",
       "      <td>2.00</td>\n",
       "      <td>1.20</td>\n",
       "      <td>1.316667</td>\n",
       "      <td>0.810784</td>\n",
       "      <td>1</td>\n",
       "      <td>2499799</td>\n",
       "    </tr>\n",
       "    <tr>\n",
       "      <th>2499800</th>\n",
       "      <td>2017-10-22 12:30:00</td>\n",
       "      <td>364</td>\n",
       "      <td>181150</td>\n",
       "      <td>4405654</td>\n",
       "      <td>1609</td>\n",
       "      <td>1623</td>\n",
       "      <td>2</td>\n",
       "      <td>1</td>\n",
       "      <td>1609</td>\n",
       "      <td>5</td>\n",
       "      <td>...</td>\n",
       "      <td>16</td>\n",
       "      <td>7</td>\n",
       "      <td>0.60</td>\n",
       "      <td>1.20</td>\n",
       "      <td>0.48</td>\n",
       "      <td>1.72</td>\n",
       "      <td>0.983333</td>\n",
       "      <td>1.399187</td>\n",
       "      <td>2</td>\n",
       "      <td>2499800</td>\n",
       "    </tr>\n",
       "  </tbody>\n",
       "</table>\n",
       "<p>3 rows × 54 columns</p>\n",
       "</div>"
      ],
      "text/plain": [
       "                     dateutc  competitionId  seasonId  roundId  winner  \\\n",
       "wyId                                                                     \n",
       "2499738  2018-03-31 14:00:00            364    181150  4405654    1633   \n",
       "2499799  2017-10-21 11:30:00            364    181150  4405654    1610   \n",
       "2499800  2017-10-22 12:30:00            364    181150  4405654    1609   \n",
       "\n",
       "         teamId_home  score_home  scoreHT_home  teamId_away  score_away  ...  \\\n",
       "wyId                                                                     ...   \n",
       "2499738         1633           3             3         1619           0  ...   \n",
       "2499799         1610           4             1         1644           2  ...   \n",
       "2499800         1623           2             1         1609           5  ...   \n",
       "\n",
       "         keyPasses_H  keyPasses_A  ataque_h  defensa_h  ataque_a  defensa_a  \\\n",
       "wyId                                                                          \n",
       "2499738            5            6      0.76       1.72      0.96       2.24   \n",
       "2499799            4            8      0.56       0.84      2.00       1.20   \n",
       "2499800           16            7      0.60       1.20      0.48       1.72   \n",
       "\n",
       "         ataquedefensa_H  ataquedefensa_A  res  matchId  \n",
       "wyId                                                     \n",
       "2499738         0.973546         0.817933    1  2499738  \n",
       "2499799         1.316667         0.810784    1  2499799  \n",
       "2499800         0.983333         1.399187    2  2499800  \n",
       "\n",
       "[3 rows x 54 columns]"
      ]
     },
     "execution_count": 3,
     "metadata": {},
     "output_type": "execute_result"
    }
   ],
   "source": [
    "data             = pd.read_csv(path_rawdata+'matches_wUltPartidos.csv',sep=';',index_col='wyId')\n",
    "\n",
    "target = []\n",
    "\n",
    "for match in data.itertuples():\n",
    "    if match.winner == 0: target.append(0)\n",
    "    elif match.winner == match.teamId_home: target.append(1)\n",
    "    else: target.append(2)\n",
    "\n",
    "data['res'] = target\n",
    "data['matchId'] = data.index\n",
    "data.head(3)"
   ]
  },
  {
   "cell_type": "code",
   "execution_count": 7,
   "metadata": {},
   "outputs": [],
   "source": [
    "# train_data  = ml.FootballMatchesDataset(file = 'train')\n",
    "# test_data   = ml.FootballMatchesDataset(file = 'test')\n",
    "train_data  = ml.WyscoutDataset(file = 'train')\n",
    "test_data   = ml.WyscoutDataset(file = 'test')"
   ]
  },
  {
   "cell_type": "code",
   "execution_count": 12,
   "metadata": {},
   "outputs": [
    {
     "data": {
      "text/plain": [
       "torch.Size([1100])"
      ]
     },
     "execution_count": 12,
     "metadata": {},
     "output_type": "execute_result"
    }
   ],
   "source": [
    "trainmatches = train_data.matches\n",
    "testmatches  = test_data.matches\n",
    "trainmatches.shape"
   ]
  },
  {
   "cell_type": "code",
   "execution_count": 9,
   "metadata": {},
   "outputs": [],
   "source": [
    "def get_odds_res(X):\n",
    "    odds = [1/X.B365D.to_numpy(),1/(X.B365H.to_numpy()),1/(X.B365A.to_numpy())]\n",
    "    odds = np.array(odds).T\n",
    "    res = np.array(X.res)\n",
    "    return odds,res"
   ]
  },
  {
   "cell_type": "markdown",
   "metadata": {},
   "source": [
    "## Baseline I: max odds"
   ]
  },
  {
   "cell_type": "code",
   "execution_count": 10,
   "metadata": {},
   "outputs": [
    {
     "data": {
      "text/plain": [
       "0.55"
      ]
     },
     "execution_count": 10,
     "metadata": {},
     "output_type": "execute_result"
    }
   ],
   "source": [
    "odds,res = get_odds_res(data.loc[trainmatches])\n",
    "pred = np.argmax(odds,axis=1)\n",
    "assert len(pred) == len(res)\n",
    "np.mean(pred==res)"
   ]
  },
  {
   "cell_type": "code",
   "execution_count": 14,
   "metadata": {},
   "outputs": [
    {
     "data": {
      "text/plain": [
       "<module 'mytrain_lib' from 'f:\\\\TFG\\\\code\\\\mytrain_lib.py'>"
      ]
     },
     "execution_count": 14,
     "metadata": {},
     "output_type": "execute_result"
    }
   ],
   "source": [
    "importlib.reload(ml)"
   ]
  },
  {
   "cell_type": "code",
   "execution_count": 15,
   "metadata": {},
   "outputs": [
    {
     "data": {
      "image/png": "[encoded data removed]",
      "text/plain": [
       "<Figure size 432x360 with 2 Axes>"
      ]
     },
     "metadata": {
      "needs_background": "light"
     },
     "output_type": "display_data"
    }
   ],
   "source": [
    "ml.dispConfusionMatrix(confmat(res,pred,labels=[0,1,2]),'Baseline max odds training confusion matrix',filename='confmat_base_maxodds_train',save=True,size=(6,5))"
   ]
  },
  {
   "cell_type": "markdown",
   "metadata": {},
   "source": [
    "#### Baseline test"
   ]
  },
  {
   "cell_type": "code",
   "execution_count": 16,
   "metadata": {},
   "outputs": [
    {
     "data": {
      "text/plain": [
       "0.5445859872611465"
      ]
     },
     "execution_count": 16,
     "metadata": {},
     "output_type": "execute_result"
    }
   ],
   "source": [
    "odds,res = get_odds_res(data.loc[testmatches])\n",
    "pred = np.argmax(odds,axis=1)\n",
    "assert len(pred) == len(res)\n",
    "np.mean(pred==res)"
   ]
  },
  {
   "cell_type": "code",
   "execution_count": 17,
   "metadata": {},
   "outputs": [
    {
     "data": {
      "image/png": "[encoded data removed]",
      "text/plain": [
       "<Figure size 432x360 with 2 Axes>"
      ]
     },
     "metadata": {
      "needs_background": "light"
     },
     "output_type": "display_data"
    }
   ],
   "source": [
    "ml.dispConfusionMatrix(confmat(res,pred,labels=[0,1,2]),'Baseline max odds test confusion matrix',filename='confmat_base_maxodds_test',save=True,size=(6,5))"
   ]
  },
  {
   "cell_type": "markdown",
   "metadata": {},
   "source": [
    "## Baseline II: SVM Baseline model"
   ]
  },
  {
   "cell_type": "code",
   "execution_count": 18,
   "metadata": {},
   "outputs": [],
   "source": [
    "odds,res = get_odds_res(data.loc[trainmatches])\n",
    "rand_list = {\"C\": uniform(2, 10),\n",
    "             \"gamma\": uniform(0.1, 1),\n",
    "             \"degree\": uniform(2,10),\n",
    "             \"kernel\":['linear','poly','rbf']}\n",
    "\n",
    "svm = SVC(random_state=1)"
   ]
  },
  {
   "cell_type": "code",
   "execution_count": 19,
   "metadata": {},
   "outputs": [],
   "source": [
    "rand_search = RandomizedSearchCV(svm, param_distributions=rand_list, n_iter=50, n_jobs=4, cv=3, random_state=0) \n",
    "rand_search.fit(odds,res)\n",
    "cv_results = pd.DataFrame(rand_search.cv_results_)"
   ]
  },
  {
   "cell_type": "code",
   "execution_count": 20,
   "metadata": {},
   "outputs": [
    {
     "data": {
      "text/html": [
       "<div>\n",
       "<style scoped>\n",
       "    .dataframe tbody tr th:only-of-type {\n",
       "        vertical-align: middle;\n",
       "    }\n",
       "\n",
       "    .dataframe tbody tr th {\n",
       "        vertical-align: top;\n",
       "    }\n",
       "\n",
       "    .dataframe thead th {\n",
       "        text-align: right;\n",
       "    }\n",
       "</style>\n",
       "<table border=\"1\" class=\"dataframe\">\n",
       "  <thead>\n",
       "    <tr style=\"text-align: right;\">\n",
       "      <th></th>\n",
       "      <th>mean_fit_time</th>\n",
       "      <th>std_fit_time</th>\n",
       "      <th>mean_score_time</th>\n",
       "      <th>std_score_time</th>\n",
       "      <th>param_C</th>\n",
       "      <th>param_degree</th>\n",
       "      <th>param_gamma</th>\n",
       "      <th>param_kernel</th>\n",
       "      <th>params</th>\n",
       "      <th>split0_test_score</th>\n",
       "      <th>split1_test_score</th>\n",
       "      <th>split2_test_score</th>\n",
       "      <th>mean_test_score</th>\n",
       "      <th>std_test_score</th>\n",
       "      <th>rank_test_score</th>\n",
       "    </tr>\n",
       "  </thead>\n",
       "  <tbody>\n",
       "    <tr>\n",
       "      <th>11</th>\n",
       "      <td>0.025666</td>\n",
       "      <td>0.000471</td>\n",
       "      <td>0.019335</td>\n",
       "      <td>0.000472</td>\n",
       "      <td>2.992804</td>\n",
       "      <td>11.698091</td>\n",
       "      <td>0.75314</td>\n",
       "      <td>rbf</td>\n",
       "      <td>{'C': 2.9928035035897387, 'degree': 11.6980906...</td>\n",
       "      <td>0.553134</td>\n",
       "      <td>0.53951</td>\n",
       "      <td>0.546448</td>\n",
       "      <td>0.546364</td>\n",
       "      <td>0.005562</td>\n",
       "      <td>1</td>\n",
       "    </tr>\n",
       "    <tr>\n",
       "      <th>49</th>\n",
       "      <td>0.028697</td>\n",
       "      <td>0.002053</td>\n",
       "      <td>0.020000</td>\n",
       "      <td>0.002831</td>\n",
       "      <td>4.378928</td>\n",
       "      <td>11.34214</td>\n",
       "      <td>0.713966</td>\n",
       "      <td>rbf</td>\n",
       "      <td>{'C': 4.378928213745086, 'degree': 11.34213997...</td>\n",
       "      <td>0.550409</td>\n",
       "      <td>0.53951</td>\n",
       "      <td>0.546448</td>\n",
       "      <td>0.545455</td>\n",
       "      <td>0.004505</td>\n",
       "      <td>2</td>\n",
       "    </tr>\n",
       "    <tr>\n",
       "      <th>43</th>\n",
       "      <td>0.028994</td>\n",
       "      <td>0.002464</td>\n",
       "      <td>0.020337</td>\n",
       "      <td>0.003696</td>\n",
       "      <td>9.220556</td>\n",
       "      <td>10.663823</td>\n",
       "      <td>1.075522</td>\n",
       "      <td>rbf</td>\n",
       "      <td>{'C': 9.22055599470348, 'degree': 10.663823259...</td>\n",
       "      <td>0.550409</td>\n",
       "      <td>0.53951</td>\n",
       "      <td>0.546448</td>\n",
       "      <td>0.545455</td>\n",
       "      <td>0.004505</td>\n",
       "      <td>2</td>\n",
       "    </tr>\n",
       "  </tbody>\n",
       "</table>\n",
       "</div>"
      ],
      "text/plain": [
       "    mean_fit_time  std_fit_time  mean_score_time  std_score_time   param_C  \\\n",
       "11       0.025666      0.000471         0.019335        0.000472  2.992804   \n",
       "49       0.028697      0.002053         0.020000        0.002831  4.378928   \n",
       "43       0.028994      0.002464         0.020337        0.003696  9.220556   \n",
       "\n",
       "   param_degree param_gamma param_kernel  \\\n",
       "11    11.698091     0.75314          rbf   \n",
       "49     11.34214    0.713966          rbf   \n",
       "43    10.663823    1.075522          rbf   \n",
       "\n",
       "                                               params  split0_test_score  \\\n",
       "11  {'C': 2.9928035035897387, 'degree': 11.6980906...           0.553134   \n",
       "49  {'C': 4.378928213745086, 'degree': 11.34213997...           0.550409   \n",
       "43  {'C': 9.22055599470348, 'degree': 10.663823259...           0.550409   \n",
       "\n",
       "    split1_test_score  split2_test_score  mean_test_score  std_test_score  \\\n",
       "11            0.53951           0.546448         0.546364        0.005562   \n",
       "49            0.53951           0.546448         0.545455        0.004505   \n",
       "43            0.53951           0.546448         0.545455        0.004505   \n",
       "\n",
       "    rank_test_score  \n",
       "11                1  \n",
       "49                2  \n",
       "43                2  "
      ]
     },
     "execution_count": 20,
     "metadata": {},
     "output_type": "execute_result"
    }
   ],
   "source": [
    "cv_results.sort_values('rank_test_score')[:3]"
   ]
  },
  {
   "cell_type": "code",
   "execution_count": 21,
   "metadata": {},
   "outputs": [
    {
     "data": {
      "text/plain": [
       "0.5463637130676037"
      ]
     },
     "execution_count": 21,
     "metadata": {},
     "output_type": "execute_result"
    }
   ],
   "source": [
    "np.max(cv_results.mean_test_score)"
   ]
  },
  {
   "cell_type": "markdown",
   "metadata": {},
   "source": [
    "#### Baseline test"
   ]
  },
  {
   "cell_type": "code",
   "execution_count": 22,
   "metadata": {},
   "outputs": [
    {
     "data": {
      "text/plain": [
       "0.5477707006369427"
      ]
     },
     "execution_count": 22,
     "metadata": {},
     "output_type": "execute_result"
    }
   ],
   "source": [
    "odds,res = get_odds_res(data.loc[testmatches])\n",
    "pred = rand_search.best_estimator_.predict(odds)\n",
    "assert len(pred) == len(res)\n",
    "np.mean(pred==res)"
   ]
  },
  {
   "cell_type": "code",
   "execution_count": 23,
   "metadata": {},
   "outputs": [
    {
     "data": {
      "image/png": "[encoded data removed]",
      "text/plain": [
       "<Figure size 432x360 with 2 Axes>"
      ]
     },
     "metadata": {
      "needs_background": "light"
     },
     "output_type": "display_data"
    }
   ],
   "source": [
    "ml.dispConfusionMatrix(confmat(res,pred,labels=[0,1,2]),'Baseline svm test confusion matrix',filename='confmat_base_svm_test',save=True,size=(6,5))"
   ]
  },
  {
   "cell_type": "markdown",
   "metadata": {},
   "source": [
    "## Baseline III: Random Forest"
   ]
  },
  {
   "cell_type": "code",
   "execution_count": 24,
   "metadata": {},
   "outputs": [],
   "source": [
    "odds,res = get_odds_res(data.loc[trainmatches])\n",
    "rand_list = {\"n_estimators\": randint(5, 200),\n",
    "             \"max_depth\": randint(2, 10),\n",
    "             \"min_samples_split\": randint(2,100),\n",
    "             \"min_samples_leaf\": randint(1,100),\n",
    "             \"max_leaf_nodes\": randint(3,20)}\n",
    "\n",
    "randforest = RandomForestClassifier(random_state=0)"
   ]
  },
  {
   "cell_type": "code",
   "execution_count": 25,
   "metadata": {},
   "outputs": [],
   "source": [
    "rand_search = RandomizedSearchCV(randforest, param_distributions=rand_list, n_iter=50, n_jobs=4, cv=3, random_state=0) \n",
    "rand_search.fit(odds,res)\n",
    "cv_results = pd.DataFrame(rand_search.cv_results_)"
   ]
  },
  {
   "cell_type": "code",
   "execution_count": 26,
   "metadata": {},
   "outputs": [
    {
     "data": {
      "text/html": [
       "<div>\n",
       "<style scoped>\n",
       "    .dataframe tbody tr th:only-of-type {\n",
       "        vertical-align: middle;\n",
       "    }\n",
       "\n",
       "    .dataframe tbody tr th {\n",
       "        vertical-align: top;\n",
       "    }\n",
       "\n",
       "    .dataframe thead th {\n",
       "        text-align: right;\n",
       "    }\n",
       "</style>\n",
       "<table border=\"1\" class=\"dataframe\">\n",
       "  <thead>\n",
       "    <tr style=\"text-align: right;\">\n",
       "      <th></th>\n",
       "      <th>mean_fit_time</th>\n",
       "      <th>std_fit_time</th>\n",
       "      <th>mean_score_time</th>\n",
       "      <th>std_score_time</th>\n",
       "      <th>param_max_depth</th>\n",
       "      <th>param_max_leaf_nodes</th>\n",
       "      <th>param_min_samples_leaf</th>\n",
       "      <th>param_min_samples_split</th>\n",
       "      <th>param_n_estimators</th>\n",
       "      <th>params</th>\n",
       "      <th>split0_test_score</th>\n",
       "      <th>split1_test_score</th>\n",
       "      <th>split2_test_score</th>\n",
       "      <th>mean_test_score</th>\n",
       "      <th>std_test_score</th>\n",
       "      <th>rank_test_score</th>\n",
       "    </tr>\n",
       "  </thead>\n",
       "  <tbody>\n",
       "    <tr>\n",
       "      <th>30</th>\n",
       "      <td>0.121668</td>\n",
       "      <td>0.013673</td>\n",
       "      <td>0.010017</td>\n",
       "      <td>0.000026</td>\n",
       "      <td>7</td>\n",
       "      <td>5</td>\n",
       "      <td>4</td>\n",
       "      <td>96</td>\n",
       "      <td>112</td>\n",
       "      <td>{'max_depth': 7, 'max_leaf_nodes': 5, 'min_sam...</td>\n",
       "      <td>0.531335</td>\n",
       "      <td>0.558583</td>\n",
       "      <td>0.551913</td>\n",
       "      <td>0.547277</td>\n",
       "      <td>0.011597</td>\n",
       "      <td>1</td>\n",
       "    </tr>\n",
       "    <tr>\n",
       "      <th>21</th>\n",
       "      <td>0.126710</td>\n",
       "      <td>0.004192</td>\n",
       "      <td>0.012311</td>\n",
       "      <td>0.002615</td>\n",
       "      <td>5</td>\n",
       "      <td>5</td>\n",
       "      <td>43</td>\n",
       "      <td>79</td>\n",
       "      <td>117</td>\n",
       "      <td>{'max_depth': 5, 'max_leaf_nodes': 5, 'min_sam...</td>\n",
       "      <td>0.531335</td>\n",
       "      <td>0.558583</td>\n",
       "      <td>0.551913</td>\n",
       "      <td>0.547277</td>\n",
       "      <td>0.011597</td>\n",
       "      <td>1</td>\n",
       "    </tr>\n",
       "    <tr>\n",
       "      <th>19</th>\n",
       "      <td>0.102668</td>\n",
       "      <td>0.005802</td>\n",
       "      <td>0.010001</td>\n",
       "      <td>0.001438</td>\n",
       "      <td>5</td>\n",
       "      <td>3</td>\n",
       "      <td>96</td>\n",
       "      <td>71</td>\n",
       "      <td>99</td>\n",
       "      <td>{'max_depth': 5, 'max_leaf_nodes': 3, 'min_sam...</td>\n",
       "      <td>0.534060</td>\n",
       "      <td>0.542234</td>\n",
       "      <td>0.562842</td>\n",
       "      <td>0.546379</td>\n",
       "      <td>0.012110</td>\n",
       "      <td>3</td>\n",
       "    </tr>\n",
       "  </tbody>\n",
       "</table>\n",
       "</div>"
      ],
      "text/plain": [
       "    mean_fit_time  std_fit_time  mean_score_time  std_score_time  \\\n",
       "30       0.121668      0.013673         0.010017        0.000026   \n",
       "21       0.126710      0.004192         0.012311        0.002615   \n",
       "19       0.102668      0.005802         0.010001        0.001438   \n",
       "\n",
       "   param_max_depth param_max_leaf_nodes param_min_samples_leaf  \\\n",
       "30               7                    5                      4   \n",
       "21               5                    5                     43   \n",
       "19               5                    3                     96   \n",
       "\n",
       "   param_min_samples_split param_n_estimators  \\\n",
       "30                      96                112   \n",
       "21                      79                117   \n",
       "19                      71                 99   \n",
       "\n",
       "                                               params  split0_test_score  \\\n",
       "30  {'max_depth': 7, 'max_leaf_nodes': 5, 'min_sam...           0.531335   \n",
       "21  {'max_depth': 5, 'max_leaf_nodes': 5, 'min_sam...           0.531335   \n",
       "19  {'max_depth': 5, 'max_leaf_nodes': 3, 'min_sam...           0.534060   \n",
       "\n",
       "    split1_test_score  split2_test_score  mean_test_score  std_test_score  \\\n",
       "30           0.558583           0.551913         0.547277        0.011597   \n",
       "21           0.558583           0.551913         0.547277        0.011597   \n",
       "19           0.542234           0.562842         0.546379        0.012110   \n",
       "\n",
       "    rank_test_score  \n",
       "30                1  \n",
       "21                1  \n",
       "19                3  "
      ]
     },
     "execution_count": 26,
     "metadata": {},
     "output_type": "execute_result"
    }
   ],
   "source": [
    "cv_results.sort_values('rank_test_score')[:3]"
   ]
  },
  {
   "cell_type": "code",
   "execution_count": 27,
   "metadata": {},
   "outputs": [
    {
     "data": {
      "text/plain": [
       "0.5472769414789337"
      ]
     },
     "execution_count": 27,
     "metadata": {},
     "output_type": "execute_result"
    }
   ],
   "source": [
    "np.max(cv_results.mean_test_score)"
   ]
  },
  {
   "cell_type": "markdown",
   "metadata": {},
   "source": [
    "#### Baseline test"
   ]
  },
  {
   "cell_type": "code",
   "execution_count": 28,
   "metadata": {},
   "outputs": [
    {
     "data": {
      "text/plain": [
       "0.5414012738853503"
      ]
     },
     "execution_count": 28,
     "metadata": {},
     "output_type": "execute_result"
    }
   ],
   "source": [
    "odds,res = get_odds_res(data.loc[testmatches])\n",
    "pred = rand_search.best_estimator_.predict(odds)\n",
    "assert len(pred) == len(res)\n",
    "np.mean(pred==res)"
   ]
  },
  {
   "cell_type": "code",
   "execution_count": 29,
   "metadata": {},
   "outputs": [
    {
     "data": {
      "image/png": "[encoded data removed]",
      "text/plain": [
       "<Figure size 432x360 with 2 Axes>"
      ]
     },
     "metadata": {
      "needs_background": "light"
     },
     "output_type": "display_data"
    }
   ],
   "source": [
    "ml.dispConfusionMatrix(confmat(res,pred,labels=[0,1,2]),'Baseline random forest test confusion matrix',filename='confmat_base_randforest_test',save=True,size=(6,5))"
   ]
  },
  {
   "cell_type": "markdown",
   "metadata": {},
   "source": [
    "## Baseline IV: Multi-layer Perceptron"
   ]
  },
  {
   "cell_type": "code",
   "execution_count": 30,
   "metadata": {},
   "outputs": [
    {
     "name": "stdout",
     "output_type": "stream",
     "text": [
      "Using cuda device\n"
     ]
    }
   ],
   "source": [
    "import torch\n",
    "import torch.nn as nn\n",
    "import torch.nn.functional as F\n",
    "from torch.utils.data import Dataset, DataLoader\n",
    "torch.manual_seed(0)\n",
    "\n",
    "device = \"cuda\" if torch.cuda.is_available() else \"cpu\"\n",
    "print(f\"Using {device} device\")"
   ]
  },
  {
   "cell_type": "code",
   "execution_count": 31,
   "metadata": {},
   "outputs": [],
   "source": [
    "class BettingDataset(Dataset):\n",
    "    def __init__(self,odds,res):\n",
    "        self.data       = torch.tensor(odds).float()\n",
    "        self.labels     = F.one_hot(torch.tensor(res),num_classes=3).float()\n",
    "        \n",
    "    def __len__(self):\n",
    "        return len(self.data)\n",
    "\n",
    "    def shape(self):\n",
    "        return self.data.shape\n",
    "\n",
    "    def __getitem__(self,idx):\n",
    "        sample  = self.data[idx]\n",
    "        label   = self.labels[idx]\n",
    "        return sample, label, -1\n",
    "\n",
    "\n",
    "class NeuralNetwork(nn.Module):\n",
    "    def __init__(self, input_feature, ouput_classes, hidden_neurons=5):\n",
    "        super().__init__()\n",
    "        \n",
    "        self.h1 = nn.Linear(in_features=input_feature,out_features=hidden_neurons)\n",
    "        self.bn = nn.BatchNorm1d(hidden_neurons)\n",
    "        self.out = nn.Linear(hidden_neurons,ouput_classes)\n",
    "\n",
    "    def forward(self,x):\n",
    "        x = self.h1(x)\n",
    "        x = F.relu(self.bn(x))\n",
    "        return F.softmax(self.out(x),1)    \n",
    "\n",
    "    def reset_weights(self):\n",
    "        self.h1.reset_parameters()\n",
    "        self.bn.reset_parameters()\n",
    "        self.out.reset_parameters()    "
   ]
  },
  {
   "cell_type": "code",
   "execution_count": 32,
   "metadata": {},
   "outputs": [
    {
     "data": {
      "text/plain": [
       "(tensor([0.2639, 0.6024, 0.1905]), tensor([0., 1., 0.]), -1)"
      ]
     },
     "execution_count": 32,
     "metadata": {},
     "output_type": "execute_result"
    }
   ],
   "source": [
    "model = NeuralNetwork(3,3,3)\n",
    "train_data = BettingDataset(odds,res)\n",
    "train_data[0]"
   ]
  },
  {
   "cell_type": "code",
   "execution_count": 33,
   "metadata": {},
   "outputs": [
    {
     "ename": "TypeError",
     "evalue": "train_wCrossValidation() got multiple values for argument 'epochs'",
     "output_type": "error",
     "traceback": [
      "\u001b[1;31m---------------------------------------------------------------------------\u001b[0m",
      "\u001b[1;31mTypeError\u001b[0m                                 Traceback (most recent call last)",
      "\u001b[1;32m<ipython-input-33-0ff8c7972487>\u001b[0m in \u001b[0;36m<module>\u001b[1;34m\u001b[0m\n\u001b[0;32m      2\u001b[0m \u001b[0mkfold\u001b[0m \u001b[1;33m=\u001b[0m \u001b[0mKFold\u001b[0m\u001b[1;33m(\u001b[0m\u001b[0mn_splits\u001b[0m\u001b[1;33m=\u001b[0m\u001b[1;36m3\u001b[0m\u001b[1;33m,\u001b[0m\u001b[0mshuffle\u001b[0m\u001b[1;33m=\u001b[0m\u001b[1;32mTrue\u001b[0m\u001b[1;33m,\u001b[0m\u001b[0mrandom_state\u001b[0m\u001b[1;33m=\u001b[0m\u001b[1;36m0\u001b[0m\u001b[1;33m)\u001b[0m\u001b[1;33m\u001b[0m\u001b[1;33m\u001b[0m\u001b[0m\n\u001b[0;32m      3\u001b[0m \u001b[0mml\u001b[0m\u001b[1;33m.\u001b[0m\u001b[0mlog\u001b[0m \u001b[1;33m=\u001b[0m \u001b[1;33m{\u001b[0m\u001b[1;33m}\u001b[0m\u001b[1;33m\u001b[0m\u001b[1;33m\u001b[0m\u001b[0m\n\u001b[1;32m----> 4\u001b[1;33m error, accuracy_train, accuracy_test,_ = ml.train_wCrossValidation(model,nn.BCELoss(),\n\u001b[0m\u001b[0;32m      5\u001b[0m                                             optimizer,train_data,kfold,epochs=100,bat_size=32)\n\u001b[0;32m      6\u001b[0m \u001b[0mml\u001b[0m\u001b[1;33m.\u001b[0m\u001b[0msave_logging\u001b[0m\u001b[1;33m(\u001b[0m\u001b[0mdatetime\u001b[0m\u001b[1;33m.\u001b[0m\u001b[0mnow\u001b[0m\u001b[1;33m(\u001b[0m\u001b[1;33m)\u001b[0m\u001b[1;33m.\u001b[0m\u001b[0mstrftime\u001b[0m\u001b[1;33m(\u001b[0m\u001b[1;34m\"_%m%d_%H%M%S\"\u001b[0m\u001b[1;33m)\u001b[0m\u001b[1;33m,\u001b[0m \u001b[0mtitle\u001b[0m\u001b[1;33m=\u001b[0m\u001b[1;34m'baseline_cv'\u001b[0m\u001b[1;33m)\u001b[0m\u001b[1;33m\u001b[0m\u001b[1;33m\u001b[0m\u001b[0m\n",
      "\u001b[1;31mTypeError\u001b[0m: train_wCrossValidation() got multiple values for argument 'epochs'"
     ]
    }
   ],
   "source": [
    "optimizer = torch.optim.SGD(model.parameters(), lr=1e-1)\n",
    "kfold = KFold(n_splits=3,shuffle=True,random_state=0)\n",
    "ml.log = {}\n",
    "error, accuracy_train, accuracy_test,_ = ml.train_wCrossValidation(model,nn.BCELoss(),\n",
    "                                            optimizer,train_data,kfold,epochs=100,bat_size=32)\n",
    "ml.save_logging(datetime.now().strftime(\"_%m%d_%H%M%S\"), title='baseline_cv')"
   ]
  },
  {
   "cell_type": "code",
   "execution_count": 34,
   "metadata": {},
   "outputs": [
    {
     "ename": "NameError",
     "evalue": "name 'accuracy_test' is not defined",
     "output_type": "error",
     "traceback": [
      "\u001b[1;31m---------------------------------------------------------------------------\u001b[0m",
      "\u001b[1;31mNameError\u001b[0m                                 Traceback (most recent call last)",
      "\u001b[1;32m<ipython-input-34-68bc52efee13>\u001b[0m in \u001b[0;36m<module>\u001b[1;34m\u001b[0m\n\u001b[1;32m----> 1\u001b[1;33m \u001b[0mnp\u001b[0m\u001b[1;33m.\u001b[0m\u001b[0mmean\u001b[0m\u001b[1;33m(\u001b[0m\u001b[0mnp\u001b[0m\u001b[1;33m.\u001b[0m\u001b[0marray\u001b[0m\u001b[1;33m(\u001b[0m\u001b[0maccuracy_test\u001b[0m\u001b[1;33m)\u001b[0m\u001b[1;33m[\u001b[0m\u001b[1;33m:\u001b[0m\u001b[1;33m,\u001b[0m\u001b[1;33m-\u001b[0m\u001b[1;36m1\u001b[0m\u001b[1;33m]\u001b[0m\u001b[1;33m)\u001b[0m\u001b[1;33m\u001b[0m\u001b[1;33m\u001b[0m\u001b[0m\n\u001b[0m",
      "\u001b[1;31mNameError\u001b[0m: name 'accuracy_test' is not defined"
     ]
    }
   ],
   "source": [
    "np.mean(np.array(accuracy_test)[:,-1])"
   ]
  },
  {
   "cell_type": "markdown",
   "metadata": {},
   "source": [
    "#### Baseline Test"
   ]
  },
  {
   "cell_type": "code",
   "execution_count": null,
   "metadata": {},
   "outputs": [],
   "source": [
    "odds,res   = get_odds_res(data.loc[testmatches])\n",
    "test_data  = BettingDataset(odds,res)\n",
    "testloader = DataLoader(test_data,32,shuffle=True)"
   ]
  },
  {
   "cell_type": "code",
   "execution_count": null,
   "metadata": {},
   "outputs": [],
   "source": [
    "importlib.reload(ml)\n",
    "acc_test, cm = ml.test_model(model,testloader)\n",
    "acc_test"
   ]
  },
  {
   "cell_type": "code",
   "execution_count": null,
   "metadata": {},
   "outputs": [],
   "source": [
    "ml.dispConfusionMatrix(cm,'Baseline MLP 1x3 test confusion matrix',\n",
    "                        filename='confmat_base_mlp1x3_test',save=True,size=(6,5))"
   ]
  }
 ],
 "metadata": {
  "kernelspec": {
   "display_name": "Python 3.8.8 ('tfg')",
   "language": "python",
   "name": "python3"
  },
  "language_info": {
   "codemirror_mode": {
    "name": "ipython",
    "version": 3
   },
   "file_extension": ".py",
   "mimetype": "text/x-python",
   "name": "python",
   "nbconvert_exporter": "python",
   "pygments_lexer": "ipython3",
   "version": "3.8.8 (default, Apr 13 2021, 15:08:03) [MSC v.1916 64 bit (AMD64)]"
  },
  "orig_nbformat": 4,
  "vscode": {
   "interpreter": {
    "hash": "288ff6fe8157f43ba3e1fb4cfa0011490e9beb907b54ad0d71ae70a61946bdb3"
   }
  }
 },
 "nbformat": 4,
 "nbformat_minor": 2
}
