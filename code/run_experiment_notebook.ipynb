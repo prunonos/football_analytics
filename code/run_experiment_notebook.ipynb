{
 "cells": [
  {
   "cell_type": "code",
   "execution_count": 1,
   "metadata": {},
   "outputs": [],
   "source": [
    "import torch\n",
    "import torch.nn as nn\n",
    "import torch.nn.functional as F\n",
    "from torch.utils.data import DataLoader\n",
    "import numpy as np\n",
    "import pandas as pd\n",
    "from datetime import datetime\n",
    "from sklearn import preprocessing, model_selection, feature_selection\n",
    "from sklearn.decomposition import PCA\n",
    "import mytrain_lib_cluster as ml\n",
    "import goalnets as gn\n",
    "import os"
   ]
  },
  {
   "cell_type": "code",
   "execution_count": 78,
   "metadata": {},
   "outputs": [
    {
     "data": {
      "text/plain": [
       "array([5, 5, 5, 5, 5, 5, 5, 5, 5, 5, 5, 5, 5, 5, 5, 5, 5, 5, 5, 5, 5, 5,\n",
       "       5, 5, 5])"
      ]
     },
     "execution_count": 78,
     "metadata": {},
     "output_type": "execute_result"
    }
   ],
   "source": [
    "(np.ones(25)*5).astype(int)"
   ]
  },
  {
   "cell_type": "code",
   "execution_count": 86,
   "metadata": {},
   "outputs": [],
   "source": [
    "import importlib\n",
    "importlib.reload(ml)\n",
    "\n",
    "dataset = 'historical_longterm'\n",
    "drop = ['15D']\n",
    "regression = False\n",
    "\n",
    "config = {\n",
    "    'root':'experiment_regression',\n",
    "    'train_data':ml.FootballMatchesDataset('train',dataset,drop=drop,factor=-1, regression=regression),\n",
    "    'test_data':ml.FootballMatchesDataset('test',dataset,drop=drop,factor=-1, regression=regression),\n",
    "    'model':{\n",
    "        'model': gn.dumbmodelclass,\n",
    "        'params':{\n",
    "            'hidden_neurons':(np.ones(25)*5).astype(int),\n",
    "            'activation': F.relu,\n",
    "            'output_classes': 2 if regression else 3,\n",
    "            'activ_opt':{\n",
    "                'negative_slope':0.\n",
    "            },\n",
    "            'loss_weights':torch.tensor([1.6,1.,1.3]),\n",
    "            'initialization':False,\n",
    "            # 'p':0.136341944633018\n",
    "        }\n",
    "    },\n",
    "    'optimizer':{\n",
    "        'optimizer':torch.optim.SGD,\n",
    "        'params':{\n",
    "            'momentum':0,\n",
    "            'weight_decay':0,\n",
    "            'nesterov':0,\n",
    "            'dampening':0.161764655710075,\n",
    "            'lr':0.001\n",
    "        }\n",
    "    },\n",
    "    'criterion':nn.CrossEntropyLoss,\n",
    "    'scalers':preprocessing.StandardScaler,\n",
    "    'batch_size':32,\n",
    "    'epochs':20,\n",
    "    'save_outputs':False,\n",
    "    'display':True,\n",
    "    'logs':False,\n",
    "}"
   ]
  },
  {
   "cell_type": "code",
   "execution_count": 87,
   "metadata": {},
   "outputs": [
    {
     "data": {
      "text/plain": [
       "tensor([[1., 0., 0.],\n",
       "        [0., 1., 0.],\n",
       "        [0., 1., 0.],\n",
       "        ...,\n",
       "        [0., 1., 0.],\n",
       "        [0., 0., 1.],\n",
       "        [0., 0., 1.]])"
      ]
     },
     "execution_count": 87,
     "metadata": {},
     "output_type": "execute_result"
    }
   ],
   "source": [
    "config['train_data'].labels"
   ]
  },
  {
   "cell_type": "code",
   "execution_count": 88,
   "metadata": {},
   "outputs": [
    {
     "name": "stdout",
     "output_type": "stream",
     "text": [
      "Config: 1/1: loss train: 1.35, accuracy train: 0.46, loss test: 1.35, accuracy test: 0.46\t\t: 0.46\n",
      "\u001b[2K"
     ]
    },
    {
     "data": {
      "text/plain": [
       "1"
      ]
     },
     "execution_count": 88,
     "metadata": {},
     "output_type": "execute_result"
    }
   ],
   "source": [
    "import importlib\n",
    "importlib.reload(ml)\n",
    "importlib.reload(gn)\n",
    "ml.Tuning(**config)"
   ]
  },
  {
   "cell_type": "code",
   "execution_count": null,
   "metadata": {},
   "outputs": [],
   "source": [
    "aux = torch.tensor([])"
   ]
  },
  {
   "cell_type": "code",
   "execution_count": null,
   "metadata": {},
   "outputs": [
    {
     "data": {
      "text/plain": [
       "tensor([[1., 5., 6.],\n",
       "        [1., 5., 6.],\n",
       "        [1., 5., 6.],\n",
       "        [1., 5., 6.],\n",
       "        [1., 5., 6.],\n",
       "        [1., 5., 6.],\n",
       "        [1., 5., 6.],\n",
       "        [1., 5., 6.],\n",
       "        [1., 5., 6.],\n",
       "        [1., 5., 6.],\n",
       "        [1., 5., 6.]])"
      ]
     },
     "execution_count": 41,
     "metadata": {},
     "output_type": "execute_result"
    }
   ],
   "source": [
    "aux = torch.cat((aux,torch.tensor([1,5,6]).reshape(1,-1)),0)\n",
    "aux"
   ]
  },
  {
   "cell_type": "code",
   "execution_count": null,
   "metadata": {},
   "outputs": [
    {
     "data": {
      "text/plain": [
       "tensor([[1, 2, 3]])"
      ]
     },
     "execution_count": 24,
     "metadata": {},
     "output_type": "execute_result"
    }
   ],
   "source": [
    "torch.tensor([1,2,3]).reshape(1,-1)"
   ]
  }
 ],
 "metadata": {
  "kernelspec": {
   "display_name": "tfg",
   "language": "python",
   "name": "python3"
  },
  "language_info": {
   "codemirror_mode": {
    "name": "ipython",
    "version": 3
   },
   "file_extension": ".py",
   "mimetype": "text/x-python",
   "name": "python",
   "nbconvert_exporter": "python",
   "pygments_lexer": "ipython3",
   "version": "3.8.8"
  },
  "orig_nbformat": 4,
  "vscode": {
   "interpreter": {
    "hash": "288ff6fe8157f43ba3e1fb4cfa0011490e9beb907b54ad0d71ae70a61946bdb3"
   }
  }
 },
 "nbformat": 4,
 "nbformat_minor": 2
}
