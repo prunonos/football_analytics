{
 "cells": [
  {
   "cell_type": "markdown",
   "metadata": {},
   "source": [
    "# FEATURE SELECTION"
   ]
  },
  {
   "cell_type": "code",
   "execution_count": 54,
   "metadata": {},
   "outputs": [],
   "source": [
    "import os\n",
    "import pandas as pd\n",
    "import numpy as np\n",
    "import seaborn as sns\n",
    "from scipy.stats import gamma,poisson,norm\n",
    "from scipy.optimize import curve_fit\n",
    "from sklearn import feature_selection, preprocessing, discriminant_analysis\n",
    "import matplotlib.pyplot as plt\n",
    "import matplotlib.patches as mpatches\n",
    "from matplotlib.colors import ListedColormap\n",
    "%matplotlib inline "
   ]
  },
  {
   "cell_type": "code",
   "execution_count": 2,
   "metadata": {},
   "outputs": [],
   "source": [
    "path_rawdata    = 'F://TFG//datasets/raw_datasets//'\n",
    "path_train      = 'F://TFG//datasets//data_train//'\n",
    "path_graphs     = 'F://TFG//graphs//'\n",
    "path            = 'F:/TFG/datasets/nature-dataset/'"
   ]
  },
  {
   "cell_type": "code",
   "execution_count": 3,
   "metadata": {},
   "outputs": [
    {
     "data": {
      "text/html": [
       "<div>\n",
       "<style scoped>\n",
       "    .dataframe tbody tr th:only-of-type {\n",
       "        vertical-align: middle;\n",
       "    }\n",
       "\n",
       "    .dataframe tbody tr th {\n",
       "        vertical-align: top;\n",
       "    }\n",
       "\n",
       "    .dataframe thead th {\n",
       "        text-align: right;\n",
       "    }\n",
       "</style>\n",
       "<table border=\"1\" class=\"dataframe\">\n",
       "  <thead>\n",
       "    <tr style=\"text-align: right;\">\n",
       "      <th></th>\n",
       "      <th>dateutc</th>\n",
       "      <th>competitionId</th>\n",
       "      <th>seasonId</th>\n",
       "      <th>roundId</th>\n",
       "      <th>winner</th>\n",
       "      <th>teamId_home</th>\n",
       "      <th>score_home</th>\n",
       "      <th>scoreHT_home</th>\n",
       "      <th>teamId_away</th>\n",
       "      <th>score_away</th>\n",
       "      <th>...</th>\n",
       "      <th>passes_acc_11H</th>\n",
       "      <th>passes_acc_11A</th>\n",
       "      <th>keyPasses_H</th>\n",
       "      <th>keyPasses_A</th>\n",
       "      <th>ataque_h</th>\n",
       "      <th>defensa_h</th>\n",
       "      <th>ataque_a</th>\n",
       "      <th>defensa_a</th>\n",
       "      <th>ataquedefensa_H</th>\n",
       "      <th>ataquedefensa_A</th>\n",
       "    </tr>\n",
       "    <tr>\n",
       "      <th>wyId</th>\n",
       "      <th></th>\n",
       "      <th></th>\n",
       "      <th></th>\n",
       "      <th></th>\n",
       "      <th></th>\n",
       "      <th></th>\n",
       "      <th></th>\n",
       "      <th></th>\n",
       "      <th></th>\n",
       "      <th></th>\n",
       "      <th></th>\n",
       "      <th></th>\n",
       "      <th></th>\n",
       "      <th></th>\n",
       "      <th></th>\n",
       "      <th></th>\n",
       "      <th></th>\n",
       "      <th></th>\n",
       "      <th></th>\n",
       "      <th></th>\n",
       "      <th></th>\n",
       "    </tr>\n",
       "  </thead>\n",
       "  <tbody>\n",
       "    <tr>\n",
       "      <th>2499738</th>\n",
       "      <td>2018-03-31 14:00:00</td>\n",
       "      <td>364</td>\n",
       "      <td>181150</td>\n",
       "      <td>4405654</td>\n",
       "      <td>1633</td>\n",
       "      <td>1633</td>\n",
       "      <td>3</td>\n",
       "      <td>3</td>\n",
       "      <td>1619</td>\n",
       "      <td>0</td>\n",
       "      <td>...</td>\n",
       "      <td>0.757778</td>\n",
       "      <td>0.782137</td>\n",
       "      <td>5</td>\n",
       "      <td>6</td>\n",
       "      <td>0.76</td>\n",
       "      <td>1.72</td>\n",
       "      <td>0.96</td>\n",
       "      <td>2.24</td>\n",
       "      <td>0.973546</td>\n",
       "      <td>0.817933</td>\n",
       "    </tr>\n",
       "    <tr>\n",
       "      <th>2499799</th>\n",
       "      <td>2017-10-21 11:30:00</td>\n",
       "      <td>364</td>\n",
       "      <td>181150</td>\n",
       "      <td>4405654</td>\n",
       "      <td>1610</td>\n",
       "      <td>1610</td>\n",
       "      <td>4</td>\n",
       "      <td>1</td>\n",
       "      <td>1644</td>\n",
       "      <td>2</td>\n",
       "      <td>...</td>\n",
       "      <td>0.851005</td>\n",
       "      <td>0.843464</td>\n",
       "      <td>4</td>\n",
       "      <td>8</td>\n",
       "      <td>0.56</td>\n",
       "      <td>0.84</td>\n",
       "      <td>2.00</td>\n",
       "      <td>1.20</td>\n",
       "      <td>1.316667</td>\n",
       "      <td>0.810784</td>\n",
       "    </tr>\n",
       "    <tr>\n",
       "      <th>2499800</th>\n",
       "      <td>2017-10-22 12:30:00</td>\n",
       "      <td>364</td>\n",
       "      <td>181150</td>\n",
       "      <td>4405654</td>\n",
       "      <td>1609</td>\n",
       "      <td>1623</td>\n",
       "      <td>2</td>\n",
       "      <td>1</td>\n",
       "      <td>1609</td>\n",
       "      <td>5</td>\n",
       "      <td>...</td>\n",
       "      <td>0.836437</td>\n",
       "      <td>0.858100</td>\n",
       "      <td>16</td>\n",
       "      <td>7</td>\n",
       "      <td>0.60</td>\n",
       "      <td>1.20</td>\n",
       "      <td>0.48</td>\n",
       "      <td>1.72</td>\n",
       "      <td>0.983333</td>\n",
       "      <td>1.399187</td>\n",
       "    </tr>\n",
       "  </tbody>\n",
       "</table>\n",
       "<p>3 rows × 52 columns</p>\n",
       "</div>"
      ],
      "text/plain": [
       "                     dateutc  competitionId  seasonId  roundId  winner  \\\n",
       "wyId                                                                     \n",
       "2499738  2018-03-31 14:00:00            364    181150  4405654    1633   \n",
       "2499799  2017-10-21 11:30:00            364    181150  4405654    1610   \n",
       "2499800  2017-10-22 12:30:00            364    181150  4405654    1609   \n",
       "\n",
       "         teamId_home  score_home  scoreHT_home  teamId_away  score_away  ...  \\\n",
       "wyId                                                                     ...   \n",
       "2499738         1633           3             3         1619           0  ...   \n",
       "2499799         1610           4             1         1644           2  ...   \n",
       "2499800         1623           2             1         1609           5  ...   \n",
       "\n",
       "         passes_acc_11H  passes_acc_11A  keyPasses_H  keyPasses_A  ataque_h  \\\n",
       "wyId                                                                          \n",
       "2499738        0.757778        0.782137            5            6      0.76   \n",
       "2499799        0.851005        0.843464            4            8      0.56   \n",
       "2499800        0.836437        0.858100           16            7      0.60   \n",
       "\n",
       "         defensa_h  ataque_a  defensa_a  ataquedefensa_H  ataquedefensa_A  \n",
       "wyId                                                                       \n",
       "2499738       1.72      0.96       2.24         0.973546         0.817933  \n",
       "2499799       0.84      2.00       1.20         1.316667         0.810784  \n",
       "2499800       1.20      0.48       1.72         0.983333         1.399187  \n",
       "\n",
       "[3 rows x 52 columns]"
      ]
     },
     "execution_count": 3,
     "metadata": {},
     "output_type": "execute_result"
    }
   ],
   "source": [
    "ataque_defensa   = pd.read_csv(path_rawdata+'indicador_ataquedefensa_teams.csv',sep=';')\n",
    "data             = pd.read_csv(path_rawdata+'matches_wUltPartidos.csv',sep=';',index_col='wyId')\n",
    "shots            = pd.read_json(path_rawdata + 'shots.json')\n",
    "passes           = pd.read_json(path_rawdata + 'passes.json')\n",
    "data.head(3)"
   ]
  },
  {
   "cell_type": "code",
   "execution_count": 4,
   "metadata": {},
   "outputs": [
    {
     "data": {
      "text/plain": [
       "(1414, 52)"
      ]
     },
     "execution_count": 4,
     "metadata": {},
     "output_type": "execute_result"
    }
   ],
   "source": [
    "data.shape"
   ]
  },
  {
   "cell_type": "markdown",
   "metadata": {},
   "source": [
    "Este es el dataset base sobre el cual haremos un analisis de características. Las características se dividen en diferentes tipos:\n",
    "- **Características propias del partido (lo identifican)**<br>\n",
    "       ['matchId', 'dateutc', 'competitionId', 'seasonId', 'roundId', 'winner',\n",
    "       'teamId_home', 'score_home', 'scoreHT_home', 'teamId_away',\n",
    "       'score_away', 'scoreHT_away']\n",
    "\n",
    "\n",
    "- **Estadísticas del partido**: p.e. goles, faltas, corners... Las usaremos para visualizar y ver si hay dependencia con el resultado<br>\n",
    "       ['HS', 'AS', 'HST', 'AST', 'HC', 'AC',\n",
    "       'HF', 'AF']\n",
    "\n",
    "\n",
    "- **Cuotas de Cassas de Apuestas**: usadas en el Baseline<br> ['B365H', 'B365D', 'B365A']\n",
    "\n",
    "\n",
    "- **Más estadísticas**: Las usaremos para visualizar y ver si hay dependencia con el resultado <br>\n",
    "       ['y0_sh_H', 'x0_sh_H',\n",
    "       'acc_avg_sh_H', 'goal_avg_sh_H', 'y0_sh_A', 'x0_sh_A', 'acc_avg_sh_A',\n",
    "       'goal_avg_sh_A', 'y0_ps_H', 'x0_ps_H', 'y1_ps_H',\n",
    "       'x1_ps_H', 'acc_avg_ps_H', 'keypass_ps_H', 'y0_ps_A', 'x0_ps_A',\n",
    "       'y1_ps_A', 'x1_ps_A', 'acc_avg_ps_A', 'keypass_ps_A']\n",
    "\n",
    "       \n",
    "- **Estadísticas del 11 titular los ultimos N partidos**: usadas para el modelo de predicción<br>\n",
    "       ['mins4_H', 'mins4_A', 'shots_11H',\n",
    "       'shots_11A', 'shots_acc_11H', 'shots_acc_11A', 'goals_H', 'goals_A',\n",
    "       'passes_11H', 'passes_11A', 'passes_acc_11H', 'passes_acc_11A',\n",
    "       'keyPasses_H', 'keyPasses_A']\n",
    "\n",
    "- **Rating del equipo**: define la forma y rating del equipo. Los 4 primeros definen el estado de forma en ataque y defensa del equipo en los ultimos 4 partidos, y los ultimos dos indicadores definen el rating del equipo durante la temporada.<br>\n",
    "       ['ataque_h, 'defensa_h', 'ataque_a', 'defensa_a', 'ataquedefensa_H, 'ataquedefensa_A']"
   ]
  },
  {
   "cell_type": "markdown",
   "metadata": {},
   "source": [
    "### PREPROCESAMIENTO DEL DATASET\n",
    "\n",
    "Ligeros cambios para visualizar y analizar los datos de los que disponemos."
   ]
  },
  {
   "cell_type": "code",
   "execution_count": 4,
   "metadata": {},
   "outputs": [
    {
     "data": {
      "text/html": [
       "<div>\n",
       "<style scoped>\n",
       "    .dataframe tbody tr th:only-of-type {\n",
       "        vertical-align: middle;\n",
       "    }\n",
       "\n",
       "    .dataframe tbody tr th {\n",
       "        vertical-align: top;\n",
       "    }\n",
       "\n",
       "    .dataframe thead th {\n",
       "        text-align: right;\n",
       "    }\n",
       "</style>\n",
       "<table border=\"1\" class=\"dataframe\">\n",
       "  <thead>\n",
       "    <tr style=\"text-align: right;\">\n",
       "      <th></th>\n",
       "      <th>dateutc</th>\n",
       "      <th>competitionId</th>\n",
       "      <th>seasonId</th>\n",
       "      <th>roundId</th>\n",
       "      <th>winner</th>\n",
       "      <th>teamId_home</th>\n",
       "      <th>score_home</th>\n",
       "      <th>scoreHT_home</th>\n",
       "      <th>teamId_away</th>\n",
       "      <th>score_away</th>\n",
       "      <th>...</th>\n",
       "      <th>keyPasses_H</th>\n",
       "      <th>keyPasses_A</th>\n",
       "      <th>ataque_h</th>\n",
       "      <th>defensa_h</th>\n",
       "      <th>ataque_a</th>\n",
       "      <th>defensa_a</th>\n",
       "      <th>ataquedefensa_H</th>\n",
       "      <th>ataquedefensa_A</th>\n",
       "      <th>res</th>\n",
       "      <th>matchId</th>\n",
       "    </tr>\n",
       "    <tr>\n",
       "      <th>wyId</th>\n",
       "      <th></th>\n",
       "      <th></th>\n",
       "      <th></th>\n",
       "      <th></th>\n",
       "      <th></th>\n",
       "      <th></th>\n",
       "      <th></th>\n",
       "      <th></th>\n",
       "      <th></th>\n",
       "      <th></th>\n",
       "      <th></th>\n",
       "      <th></th>\n",
       "      <th></th>\n",
       "      <th></th>\n",
       "      <th></th>\n",
       "      <th></th>\n",
       "      <th></th>\n",
       "      <th></th>\n",
       "      <th></th>\n",
       "      <th></th>\n",
       "      <th></th>\n",
       "    </tr>\n",
       "  </thead>\n",
       "  <tbody>\n",
       "    <tr>\n",
       "      <th>2499738</th>\n",
       "      <td>2018-03-31 14:00:00</td>\n",
       "      <td>364</td>\n",
       "      <td>181150</td>\n",
       "      <td>4405654</td>\n",
       "      <td>1633</td>\n",
       "      <td>1633</td>\n",
       "      <td>3</td>\n",
       "      <td>3</td>\n",
       "      <td>1619</td>\n",
       "      <td>0</td>\n",
       "      <td>...</td>\n",
       "      <td>5</td>\n",
       "      <td>6</td>\n",
       "      <td>0.76</td>\n",
       "      <td>1.72</td>\n",
       "      <td>0.96</td>\n",
       "      <td>2.24</td>\n",
       "      <td>0.973546</td>\n",
       "      <td>0.817933</td>\n",
       "      <td>1</td>\n",
       "      <td>2499738</td>\n",
       "    </tr>\n",
       "    <tr>\n",
       "      <th>2499799</th>\n",
       "      <td>2017-10-21 11:30:00</td>\n",
       "      <td>364</td>\n",
       "      <td>181150</td>\n",
       "      <td>4405654</td>\n",
       "      <td>1610</td>\n",
       "      <td>1610</td>\n",
       "      <td>4</td>\n",
       "      <td>1</td>\n",
       "      <td>1644</td>\n",
       "      <td>2</td>\n",
       "      <td>...</td>\n",
       "      <td>4</td>\n",
       "      <td>8</td>\n",
       "      <td>0.56</td>\n",
       "      <td>0.84</td>\n",
       "      <td>2.00</td>\n",
       "      <td>1.20</td>\n",
       "      <td>1.316667</td>\n",
       "      <td>0.810784</td>\n",
       "      <td>1</td>\n",
       "      <td>2499799</td>\n",
       "    </tr>\n",
       "    <tr>\n",
       "      <th>2499800</th>\n",
       "      <td>2017-10-22 12:30:00</td>\n",
       "      <td>364</td>\n",
       "      <td>181150</td>\n",
       "      <td>4405654</td>\n",
       "      <td>1609</td>\n",
       "      <td>1623</td>\n",
       "      <td>2</td>\n",
       "      <td>1</td>\n",
       "      <td>1609</td>\n",
       "      <td>5</td>\n",
       "      <td>...</td>\n",
       "      <td>16</td>\n",
       "      <td>7</td>\n",
       "      <td>0.60</td>\n",
       "      <td>1.20</td>\n",
       "      <td>0.48</td>\n",
       "      <td>1.72</td>\n",
       "      <td>0.983333</td>\n",
       "      <td>1.399187</td>\n",
       "      <td>2</td>\n",
       "      <td>2499800</td>\n",
       "    </tr>\n",
       "  </tbody>\n",
       "</table>\n",
       "<p>3 rows × 54 columns</p>\n",
       "</div>"
      ],
      "text/plain": [
       "                     dateutc  competitionId  seasonId  roundId  winner  \\\n",
       "wyId                                                                     \n",
       "2499738  2018-03-31 14:00:00            364    181150  4405654    1633   \n",
       "2499799  2017-10-21 11:30:00            364    181150  4405654    1610   \n",
       "2499800  2017-10-22 12:30:00            364    181150  4405654    1609   \n",
       "\n",
       "         teamId_home  score_home  scoreHT_home  teamId_away  score_away  ...  \\\n",
       "wyId                                                                     ...   \n",
       "2499738         1633           3             3         1619           0  ...   \n",
       "2499799         1610           4             1         1644           2  ...   \n",
       "2499800         1623           2             1         1609           5  ...   \n",
       "\n",
       "         keyPasses_H  keyPasses_A  ataque_h  defensa_h  ataque_a  defensa_a  \\\n",
       "wyId                                                                          \n",
       "2499738            5            6      0.76       1.72      0.96       2.24   \n",
       "2499799            4            8      0.56       0.84      2.00       1.20   \n",
       "2499800           16            7      0.60       1.20      0.48       1.72   \n",
       "\n",
       "         ataquedefensa_H  ataquedefensa_A  res  matchId  \n",
       "wyId                                                     \n",
       "2499738         0.973546         0.817933    1  2499738  \n",
       "2499799         1.316667         0.810784    1  2499799  \n",
       "2499800         0.983333         1.399187    2  2499800  \n",
       "\n",
       "[3 rows x 54 columns]"
      ]
     },
     "execution_count": 4,
     "metadata": {},
     "output_type": "execute_result"
    }
   ],
   "source": [
    "target = []\n",
    "\n",
    "for match in data.itertuples():\n",
    "    if match.winner == 0: target.append(0)\n",
    "    elif match.winner == match.teamId_home: target.append(1)\n",
    "    else: target.append(2)\n",
    "\n",
    "data['res'] = target\n",
    "data['matchId'] = data.index\n",
    "data.head(3)"
   ]
  },
  {
   "cell_type": "markdown",
   "metadata": {},
   "source": [
    "## ANALISIS Y VISUALIZACIÓN"
   ]
  },
  {
   "cell_type": "markdown",
   "metadata": {},
   "source": [
    "## Estadísticas del partido"
   ]
  },
  {
   "cell_type": "markdown",
   "metadata": {},
   "source": [
    "#### Distribución de los resultados"
   ]
  },
  {
   "cell_type": "markdown",
   "metadata": {},
   "source": [
    "Importante también visualizar separando las diferentes competiciones, para ver si siguen las mismas distribuciones o no.\n",
    "\n",
    "También buena idea visualizar dependiendo el nivel de los clubes. Para ello podemos hacer clusters de los equipos según las características (goles marcados y encajados por ejemplo)"
   ]
  },
  {
   "cell_type": "code",
   "execution_count": 13,
   "metadata": {},
   "outputs": [
    {
     "name": "stdout",
     "output_type": "stream",
     "text": [
      "La distribución de victorias locales, empates y victores visitantes es la siguiente:\n",
      "Empate: 350\n",
      "Victorias locales: 646\n",
      "Victorias visitantes: 418\n"
     ]
    }
   ],
   "source": [
    "print('La distribución de victorias locales, empates y victores visitantes es la siguiente:')\n",
    "clases = ['Empate','Victorias locales','Victorias visitantes']\n",
    "for clase,count in zip(clases,np.bincount(data.res)):\n",
    "    print(f'{clase}: {count}')"
   ]
  },
  {
   "cell_type": "markdown",
   "metadata": {},
   "source": [
    "#### Distribución de los goles"
   ]
  },
  {
   "cell_type": "code",
   "execution_count": 14,
   "metadata": {},
   "outputs": [],
   "source": [
    "def gauss_function(x, a, x0, sigma):\n",
    "    return a*np.exp(-(x-x0)**2/(2*sigma**2))\n",
    "\n",
    "def fit_function(k, lamb):\n",
    "    '''poisson function, parameter lamb is the fit parameter'''\n",
    "    return poisson.pmf(k, lamb)"
   ]
  },
  {
   "cell_type": "code",
   "execution_count": 114,
   "metadata": {},
   "outputs": [
    {
     "name": "stdout",
     "output_type": "stream",
     "text": [
      "[1.13024481]\n"
     ]
    },
    {
     "data": {
      "image/png": "[encoded data removed]",
      "text/plain": [
       "<Figure size 432x288 with 1 Axes>"
      ]
     },
     "metadata": {
      "needs_background": "light"
     },
     "output_type": "display_data"
    }
   ],
   "source": [
    "# get poisson deviated random numbers\n",
    "x = data.score_away\n",
    "\n",
    "# the bins should be of integer width, because poisson is an integer distribution\n",
    "bins = np.arange(11) - 0.5\n",
    "entries, bin_edges, patches = plt.hist(x, bins=bins, density=True, label='Data')\n",
    "\n",
    "# calculate bin centres\n",
    "bin_middles = 0.5 * (bin_edges[1:] + bin_edges[:-1])\n",
    "\n",
    "\n",
    "# fit with curve_fit\n",
    "parameters, cov_matrix = curve_fit(fit_function, bin_middles, entries)\n",
    "print(parameters)\n",
    "# plot poisson-deviation with fitted parameter\n",
    "x_plot = np.arange(0, 8)\n",
    "\n",
    "spl = make_interp_spline(x_plot, fit_function(x_plot, *parameters), k=7)  # type: BSpline\n",
    "ysmooth = spl(x_plot)\n",
    "\n",
    "plt.plot(\n",
    "    x_plot,\n",
    "    1414*ysmooth,\n",
    "    marker='o', linestyle='-',\n",
    "    label='Fit result',\n",
    ")\n",
    "plt.legend()\n",
    "plt.show()"
   ]
  },
  {
   "cell_type": "code",
   "execution_count": 135,
   "metadata": {},
   "outputs": [
    {
     "name": "stdout",
     "output_type": "stream",
     "text": [
      "score_home [1.4858359]\n",
      "score_away [1.13024483]\n"
     ]
    },
    {
     "data": {
      "image/png": "[encoded data removed]",
      "text/plain": [
       "<Figure size 864x288 with 2 Axes>"
      ]
     },
     "metadata": {
      "needs_background": "light"
     },
     "output_type": "display_data"
    }
   ],
   "source": [
    "fig, axs = plt.subplots(1,2,figsize=(12,4))\n",
    "\n",
    "# fig.suptitle('Goal distribution', fontsize=20)\n",
    "\n",
    "axs[0].set_title('Home team goals distribution')\n",
    "axs[1].set_title('Away team goals distribution')\n",
    "\n",
    "max_value = max(np.concatenate([data.score_home, data.score_away]))\n",
    "\n",
    "idxs = ['score_home','score_away']\n",
    "for i,ax in zip(idxs,axs):\n",
    "    x = data[i]\n",
    "    en, be, _ = ax.hist(x,bins=np.arange(max_value+1)-0.5,align='mid',density=True,color='red')\n",
    "    ax.hist(x,bins=np.arange(max_value+1)-0.5,align='mid',rwidth=0.8,label='Data')\n",
    "    ax.set_ylim(0,550)\n",
    "    ax.set_xlim([-1,max_value+1])\n",
    "    ax.set_xticks(range(max_value+1))\n",
    "    ax.set_xlabel('# goals')\n",
    "    ax.set_ylabel('# matches')\n",
    "    \n",
    "    bm = 0.5 * (be[1:] + be[:-1])\n",
    "    params, cov_matrix = curve_fit(fit_function, bm, en)\n",
    "    print(i,params)\n",
    "    x_plot = np.arange(0, 8)\n",
    "    ax.plot(\n",
    "        x_plot,\n",
    "        1414*fit_function(x_plot, *params),\n",
    "        marker='o', linestyle='',\n",
    "        label='Poisson fit result',\n",
    "    )\n",
    "\n",
    "plt.legend()\n",
    "\n",
    "# plt.savefig(path_graphs + 'goals_distribution_poisson.jpg', format='jpg', dpi=200)\n",
    "plt.show()\n"
   ]
  },
  {
   "cell_type": "code",
   "execution_count": 15,
   "metadata": {},
   "outputs": [
    {
     "name": "stdout",
     "output_type": "stream",
     "text": [
      "HS [13.26695936]\n",
      "HS [ 0.07893387 12.91016863  5.0044658 ]\n",
      "AS [10.70023008]\n",
      "AS [ 0.0902222  10.28393952  4.39338715]\n"
     ]
    },
    {
     "data": {
      "image/png": "[encoded data removed]",
      "text/plain": [
       "<Figure size 648x504 with 2 Axes>"
      ]
     },
     "metadata": {
      "needs_background": "light"
     },
     "output_type": "display_data"
    }
   ],
   "source": [
    "\n",
    "\n",
    "fig, axs = plt.subplots(2,1,figsize=(9,7))\n",
    "\n",
    "# fig.suptitle('Distribución de los disparos', fontsize=20)\n",
    "\n",
    "axs[0].set_title('Home team shots distribution')\n",
    "axs[1].set_title('Away team shots distribution')\n",
    "\n",
    "max_value = max(np.concatenate([data.HS, data.AS]))\n",
    "\n",
    "idxs = ['HS','AS']\n",
    "for i,ax in zip(idxs,axs):\n",
    "    x = data[i]\n",
    "    en, be, _ = ax.hist(x,bins=np.arange(max_value+1)-0.5,align='mid',density=True,color='red',alpha=0)\n",
    "    ax.hist(x,bins=np.arange(max_value+1)-0.5,rwidth=0.8,align='mid',label='Data')\n",
    "    ax.set_ylim(0,180)\n",
    "    ax.set_xlim([-1,max_value+1])\n",
    "    ax.set_xticks(range(max_value+1))\n",
    "    ax.set_xlabel('# shots')\n",
    "    ax.set_ylabel('# matches')\n",
    "    # ax.grid()\n",
    "\n",
    "    bm = 0.5 * (be[1:] + be[:-1])\n",
    "    params, cov_matrix = curve_fit(fit_function, bm, en)\n",
    "    print(i,params)\n",
    "    x_plot = np.arange(0, 38)\n",
    "    ax.plot(\n",
    "        x_plot,\n",
    "        1414*fit_function(x_plot, *params),\n",
    "        marker='o', linestyle='',\n",
    "        label='Poisson fit result',\n",
    "    )\n",
    "\n",
    "    bm = 0.5 * (be[1:] + be[:-1])\n",
    "    params, cov_matrix = curve_fit(gauss_function, bm, en, p0=[1,np.mean(x),np.std(x)])\n",
    "    print(i,params)\n",
    "    x_plot = np.arange(0, 38)\n",
    "    ax.plot(\n",
    "        x_plot,\n",
    "        1414*gauss_function(x_plot, *params),\n",
    "        marker='o', linestyle='',\n",
    "        label='Gaussian fit result',\n",
    "    )\n",
    "plt.legend()\n",
    "\n",
    "fig.tight_layout()\n",
    "\n",
    "# plt.savefig(path_graphs + 'goals_distribution.pdf', format='pdf')\n",
    "# plt.savefig(path_graphs + 'shots_distribution.jpg', format='jpg', dpi=200)"
   ]
  },
  {
   "cell_type": "code",
   "execution_count": 16,
   "metadata": {},
   "outputs": [
    {
     "name": "stdout",
     "output_type": "stream",
     "text": [
      "Los disparos locales siguen una distribución Normal con μ=13.704384724186705 y σ=5.268359345591253.\n",
      "Los disparos visitantes siguen una distribución Normal con μ=10.86067892503536 y σ=4.5549880758069925.\n"
     ]
    }
   ],
   "source": [
    "mean_HS = np.mean(data.HS)\n",
    "std_HS  = np.std(data.HS)\n",
    "mean_AS = np.mean(data.AS)\n",
    "std_AS  = np.std(data.AS)\n",
    "\n",
    "print(f\"Los disparos locales siguen una distribución Normal con \\u03BC={mean_HS} y \\u03C3={std_HS}.\")\n",
    "print(f\"Los disparos visitantes siguen una distribución Normal con \\u03BC={mean_AS} y \\u03C3={std_AS}.\")"
   ]
  },
  {
   "cell_type": "markdown",
   "metadata": {},
   "source": [
    "QQ-plot"
   ]
  },
  {
   "cell_type": "markdown",
   "metadata": {},
   "source": [
    "Visualizar:\n",
    "- distribución de disparos del equipo que gana\n",
    "- distribucion de disparos del equipo que pierde\n",
    "- distribucion de la zona del campo de los disparos (total, local y visitante)\n",
    "- distribucion de la zona del campo de los pases (total, local y visitante)\n",
    "- Zona del campo en la que hace los pases el equipo ganador y perdedor (heatmap) [necesario el dataset de pases]\n",
    "- Zona del campo en la que dispara el equipo ganador y perdedor (heatmap) [necesario el dataset de disparos]\n",
    "- Probabilidad de que el equipo más acertado cara a puerta gana el partido\n",
    "- Probabilidad de que el equipo más acertado en pases gana el partido"
   ]
  },
  {
   "cell_type": "markdown",
   "metadata": {},
   "source": [
    "#### Distribucion de disparos del equipo que gana y del que pierde\n"
   ]
  },
  {
   "cell_type": "code",
   "execution_count": 36,
   "metadata": {},
   "outputs": [
    {
     "data": {
      "text/plain": [
       "Index(['teamId', 'matchId', 'shots'], dtype='object')"
      ]
     },
     "execution_count": 36,
     "metadata": {},
     "output_type": "execute_result"
    }
   ],
   "source": [
    "# distribucion de disparos del equipo que gana y del que pierde\n",
    "\n",
    "num_shots = shots.set_index(['teamId','matchId']).groupby(['teamId','matchId']).agg(shots=('id','count')).reset_index()\n",
    "num_shots.columns"
   ]
  },
  {
   "cell_type": "code",
   "execution_count": 37,
   "metadata": {},
   "outputs": [],
   "source": [
    "winner_ids, match_ids = (list(data[data.winner!=0].winner), list(data[data.winner!=0].index))"
   ]
  },
  {
   "cell_type": "code",
   "execution_count": 38,
   "metadata": {},
   "outputs": [
    {
     "data": {
      "text/plain": [
       "Index(['teamId', 'matchId'], dtype='object')"
      ]
     },
     "execution_count": 38,
     "metadata": {},
     "output_type": "execute_result"
    }
   ],
   "source": [
    "winners_match = pd.DataFrame({'teamId':winner_ids, 'matchId':match_ids})\n",
    "winners_match.columns"
   ]
  },
  {
   "cell_type": "code",
   "execution_count": 39,
   "metadata": {},
   "outputs": [
    {
     "data": {
      "text/html": [
       "<div>\n",
       "<style scoped>\n",
       "    .dataframe tbody tr th:only-of-type {\n",
       "        vertical-align: middle;\n",
       "    }\n",
       "\n",
       "    .dataframe tbody tr th {\n",
       "        vertical-align: top;\n",
       "    }\n",
       "\n",
       "    .dataframe thead th {\n",
       "        text-align: right;\n",
       "    }\n",
       "</style>\n",
       "<table border=\"1\" class=\"dataframe\">\n",
       "  <thead>\n",
       "    <tr style=\"text-align: right;\">\n",
       "      <th></th>\n",
       "      <th>teamId</th>\n",
       "      <th>matchId</th>\n",
       "      <th>shots</th>\n",
       "    </tr>\n",
       "  </thead>\n",
       "  <tbody>\n",
       "    <tr>\n",
       "      <th>0</th>\n",
       "      <td>1633</td>\n",
       "      <td>2499738</td>\n",
       "      <td>11</td>\n",
       "    </tr>\n",
       "    <tr>\n",
       "      <th>1</th>\n",
       "      <td>1610</td>\n",
       "      <td>2499799</td>\n",
       "      <td>13</td>\n",
       "    </tr>\n",
       "    <tr>\n",
       "      <th>2</th>\n",
       "      <td>1609</td>\n",
       "      <td>2499800</td>\n",
       "      <td>26</td>\n",
       "    </tr>\n",
       "    <tr>\n",
       "      <th>3</th>\n",
       "      <td>1673</td>\n",
       "      <td>2499801</td>\n",
       "      <td>5</td>\n",
       "    </tr>\n",
       "    <tr>\n",
       "      <th>4</th>\n",
       "      <td>1625</td>\n",
       "      <td>2499802</td>\n",
       "      <td>14</td>\n",
       "    </tr>\n",
       "    <tr>\n",
       "      <th>...</th>\n",
       "      <td>...</td>\n",
       "      <td>...</td>\n",
       "      <td>...</td>\n",
       "    </tr>\n",
       "    <tr>\n",
       "      <th>1059</th>\n",
       "      <td>3159</td>\n",
       "      <td>2576334</td>\n",
       "      <td>23</td>\n",
       "    </tr>\n",
       "    <tr>\n",
       "      <th>1060</th>\n",
       "      <td>3161</td>\n",
       "      <td>2576335</td>\n",
       "      <td>14</td>\n",
       "    </tr>\n",
       "    <tr>\n",
       "      <th>1061</th>\n",
       "      <td>3158</td>\n",
       "      <td>2576336</td>\n",
       "      <td>15</td>\n",
       "    </tr>\n",
       "    <tr>\n",
       "      <th>1062</th>\n",
       "      <td>3204</td>\n",
       "      <td>2576337</td>\n",
       "      <td>14</td>\n",
       "    </tr>\n",
       "    <tr>\n",
       "      <th>1063</th>\n",
       "      <td>3185</td>\n",
       "      <td>2576338</td>\n",
       "      <td>4</td>\n",
       "    </tr>\n",
       "  </tbody>\n",
       "</table>\n",
       "<p>1064 rows × 3 columns</p>\n",
       "</div>"
      ],
      "text/plain": [
       "      teamId  matchId  shots\n",
       "0       1633  2499738     11\n",
       "1       1610  2499799     13\n",
       "2       1609  2499800     26\n",
       "3       1673  2499801      5\n",
       "4       1625  2499802     14\n",
       "...      ...      ...    ...\n",
       "1059    3159  2576334     23\n",
       "1060    3161  2576335     14\n",
       "1061    3158  2576336     15\n",
       "1062    3204  2576337     14\n",
       "1063    3185  2576338      4\n",
       "\n",
       "[1064 rows x 3 columns]"
      ]
     },
     "execution_count": 39,
     "metadata": {},
     "output_type": "execute_result"
    }
   ],
   "source": [
    "winner_shots = pd.merge(winners_match,num_shots, on=['teamId','matchId'], how='inner')\n",
    "winner_shots"
   ]
  },
  {
   "cell_type": "code",
   "execution_count": 40,
   "metadata": {},
   "outputs": [],
   "source": [
    "assert np.unique(winner_shots.matchId).shape[0] == len(match_ids)"
   ]
  },
  {
   "cell_type": "code",
   "execution_count": 41,
   "metadata": {},
   "outputs": [],
   "source": [
    "pierde_h, matches_pierde_h = data[data.res == 2].teamId_home, data[data.res == 2].index         # cogemos el contrario -> si gana visitante (2) cogemos el local\n",
    "pierde_a, matches_pierde_a = data[data.res == 1].teamId_away, data[data.res == 1].index\n",
    "\n",
    "pierde = np.concatenate([pierde_h,pierde_a])\n",
    "matches_pierde = np.concatenate([matches_pierde_h, matches_pierde_a])"
   ]
  },
  {
   "cell_type": "code",
   "execution_count": 42,
   "metadata": {},
   "outputs": [
    {
     "data": {
      "text/plain": [
       "Index(['teamId', 'matchId'], dtype='object')"
      ]
     },
     "execution_count": 42,
     "metadata": {},
     "output_type": "execute_result"
    }
   ],
   "source": [
    "losers_match = pd.DataFrame({'teamId':pierde, 'matchId':matches_pierde})\n",
    "losers_match.columns"
   ]
  },
  {
   "cell_type": "code",
   "execution_count": 43,
   "metadata": {},
   "outputs": [
    {
     "data": {
      "text/html": [
       "<div>\n",
       "<style scoped>\n",
       "    .dataframe tbody tr th:only-of-type {\n",
       "        vertical-align: middle;\n",
       "    }\n",
       "\n",
       "    .dataframe tbody tr th {\n",
       "        vertical-align: top;\n",
       "    }\n",
       "\n",
       "    .dataframe thead th {\n",
       "        text-align: right;\n",
       "    }\n",
       "</style>\n",
       "<table border=\"1\" class=\"dataframe\">\n",
       "  <thead>\n",
       "    <tr style=\"text-align: right;\">\n",
       "      <th></th>\n",
       "      <th>teamId</th>\n",
       "      <th>matchId</th>\n",
       "      <th>shots</th>\n",
       "    </tr>\n",
       "  </thead>\n",
       "  <tbody>\n",
       "    <tr>\n",
       "      <th>0</th>\n",
       "      <td>1623</td>\n",
       "      <td>2499800</td>\n",
       "      <td>7</td>\n",
       "    </tr>\n",
       "    <tr>\n",
       "      <th>1</th>\n",
       "      <td>1639</td>\n",
       "      <td>2499805</td>\n",
       "      <td>13</td>\n",
       "    </tr>\n",
       "    <tr>\n",
       "      <th>2</th>\n",
       "      <td>10531</td>\n",
       "      <td>2499806</td>\n",
       "      <td>19</td>\n",
       "    </tr>\n",
       "    <tr>\n",
       "      <th>3</th>\n",
       "      <td>1659</td>\n",
       "      <td>2499809</td>\n",
       "      <td>6</td>\n",
       "    </tr>\n",
       "    <tr>\n",
       "      <th>4</th>\n",
       "      <td>1644</td>\n",
       "      <td>2499817</td>\n",
       "      <td>14</td>\n",
       "    </tr>\n",
       "    <tr>\n",
       "      <th>...</th>\n",
       "      <td>...</td>\n",
       "      <td>...</td>\n",
       "      <td>...</td>\n",
       "    </tr>\n",
       "    <tr>\n",
       "      <th>1057</th>\n",
       "      <td>3166</td>\n",
       "      <td>2576331</td>\n",
       "      <td>8</td>\n",
       "    </tr>\n",
       "    <tr>\n",
       "      <th>1058</th>\n",
       "      <td>3197</td>\n",
       "      <td>2576332</td>\n",
       "      <td>9</td>\n",
       "    </tr>\n",
       "    <tr>\n",
       "      <th>1059</th>\n",
       "      <td>3176</td>\n",
       "      <td>2576333</td>\n",
       "      <td>10</td>\n",
       "    </tr>\n",
       "    <tr>\n",
       "      <th>1060</th>\n",
       "      <td>3194</td>\n",
       "      <td>2576334</td>\n",
       "      <td>7</td>\n",
       "    </tr>\n",
       "    <tr>\n",
       "      <th>1061</th>\n",
       "      <td>3164</td>\n",
       "      <td>2576337</td>\n",
       "      <td>9</td>\n",
       "    </tr>\n",
       "  </tbody>\n",
       "</table>\n",
       "<p>1062 rows × 3 columns</p>\n",
       "</div>"
      ],
      "text/plain": [
       "      teamId  matchId  shots\n",
       "0       1623  2499800      7\n",
       "1       1639  2499805     13\n",
       "2      10531  2499806     19\n",
       "3       1659  2499809      6\n",
       "4       1644  2499817     14\n",
       "...      ...      ...    ...\n",
       "1057    3166  2576331      8\n",
       "1058    3197  2576332      9\n",
       "1059    3176  2576333     10\n",
       "1060    3194  2576334      7\n",
       "1061    3164  2576337      9\n",
       "\n",
       "[1062 rows x 3 columns]"
      ]
     },
     "execution_count": 43,
     "metadata": {},
     "output_type": "execute_result"
    }
   ],
   "source": [
    "loser_shots = pd.merge(losers_match,num_shots, on=['teamId','matchId'], how='inner')\n",
    "loser_shots"
   ]
  },
  {
   "cell_type": "code",
   "execution_count": 167,
   "metadata": {},
   "outputs": [
    {
     "name": "stdout",
     "output_type": "stream",
     "text": [
      "0 [ 0.08509575 11.92075635  4.69957649]\n",
      "1 [0.10028741 8.8340356  3.8848922 ]\n"
     ]
    },
    {
     "data": {
      "image/png": "[encoded data removed]",
      "text/plain": [
       "<Figure size 720x504 with 2 Axes>"
      ]
     },
     "metadata": {
      "needs_background": "light"
     },
     "output_type": "display_data"
    }
   ],
   "source": [
    "fig, axs = plt.subplots(2,1,figsize=(10,7))\n",
    "\n",
    "# fig.suptitle('Distribución de los disparos', fontsize=20)\n",
    "\n",
    "axs[0].set_title('Shots distribution of winning team')\n",
    "axs[1].set_title('Shots distribution of losing team')\n",
    "\n",
    "max_value = max(np.concatenate([winner_shots.shots, loser_shots.shots]))\n",
    "\n",
    "# idxs = ['HS','AS']\n",
    "x = [winner_shots.shots,loser_shots.shots]\n",
    "\n",
    "for i,ax in enumerate(axs):\n",
    "    en, be, _ = ax.hist(x[i],bins=np.arange(max_value+1)-0.5,align='mid',density=True,color='red',alpha=0)\n",
    "    ax.hist(x[i],bins=np.arange(max_value+1)-0.5,rwidth=0.8,align='mid',label='Data')\n",
    "    ax.set_ylim(0,150)\n",
    "    ax.set_xlim([-1,max_value+1])\n",
    "    ax.set_xticks(range(max_value+1))\n",
    "    ax.set_xlabel('# shots')\n",
    "    ax.set_ylabel('# matches')\n",
    "    # ax.grid()\n",
    "\n",
    "    bm = 0.5 * (be[1:] + be[:-1])\n",
    "    params, cov_matrix = curve_fit(gauss_function, bm, en, p0=[1,np.mean(x[i]),np.std(x[i])])\n",
    "    print(i,params)\n",
    "    x_plot = np.arange(0, 38)\n",
    "    ax.plot(\n",
    "        x_plot,\n",
    "        1062*gauss_function(x_plot, *params),\n",
    "        marker='o', linestyle='',\n",
    "        label='Gaussian fit result',\n",
    "    )\n",
    "plt.legend()\n",
    "\n",
    "\n",
    "fig.tight_layout()\n",
    "\n",
    "# plt.savefig(path_graphs + 'goals_distribution.pdf', format='pdf')\n",
    "plt.savefig(path_graphs + 'shots_distribution_winner_losers.jpg', format='jpg', dpi=200)"
   ]
  },
  {
   "cell_type": "markdown",
   "metadata": {},
   "source": [
    "# FEATURE SELECTION"
   ]
  },
  {
   "cell_type": "markdown",
   "metadata": {},
   "source": [
    "#### Relacion de los disparos del equipo ganador y perdedor con el resultado del partido"
   ]
  },
  {
   "cell_type": "code",
   "execution_count": 29,
   "metadata": {},
   "outputs": [
    {
     "data": {
      "text/html": [
       "<div>\n",
       "<style scoped>\n",
       "    .dataframe tbody tr th:only-of-type {\n",
       "        vertical-align: middle;\n",
       "    }\n",
       "\n",
       "    .dataframe tbody tr th {\n",
       "        vertical-align: top;\n",
       "    }\n",
       "\n",
       "    .dataframe thead th {\n",
       "        text-align: right;\n",
       "    }\n",
       "</style>\n",
       "<table border=\"1\" class=\"dataframe\">\n",
       "  <thead>\n",
       "    <tr style=\"text-align: right;\">\n",
       "      <th></th>\n",
       "      <th>res</th>\n",
       "      <th>matchId</th>\n",
       "    </tr>\n",
       "    <tr>\n",
       "      <th>wyId</th>\n",
       "      <th></th>\n",
       "      <th></th>\n",
       "    </tr>\n",
       "  </thead>\n",
       "  <tbody>\n",
       "    <tr>\n",
       "      <th>2499738</th>\n",
       "      <td>1</td>\n",
       "      <td>2499738</td>\n",
       "    </tr>\n",
       "    <tr>\n",
       "      <th>2499799</th>\n",
       "      <td>1</td>\n",
       "      <td>2499799</td>\n",
       "    </tr>\n",
       "    <tr>\n",
       "      <th>2499800</th>\n",
       "      <td>2</td>\n",
       "      <td>2499800</td>\n",
       "    </tr>\n",
       "    <tr>\n",
       "      <th>2499801</th>\n",
       "      <td>1</td>\n",
       "      <td>2499801</td>\n",
       "    </tr>\n",
       "    <tr>\n",
       "      <th>2499802</th>\n",
       "      <td>1</td>\n",
       "      <td>2499802</td>\n",
       "    </tr>\n",
       "    <tr>\n",
       "      <th>...</th>\n",
       "      <td>...</td>\n",
       "      <td>...</td>\n",
       "    </tr>\n",
       "    <tr>\n",
       "      <th>2576334</th>\n",
       "      <td>1</td>\n",
       "      <td>2576334</td>\n",
       "    </tr>\n",
       "    <tr>\n",
       "      <th>2576335</th>\n",
       "      <td>2</td>\n",
       "      <td>2576335</td>\n",
       "    </tr>\n",
       "    <tr>\n",
       "      <th>2576336</th>\n",
       "      <td>2</td>\n",
       "      <td>2576336</td>\n",
       "    </tr>\n",
       "    <tr>\n",
       "      <th>2576337</th>\n",
       "      <td>1</td>\n",
       "      <td>2576337</td>\n",
       "    </tr>\n",
       "    <tr>\n",
       "      <th>2576338</th>\n",
       "      <td>2</td>\n",
       "      <td>2576338</td>\n",
       "    </tr>\n",
       "  </tbody>\n",
       "</table>\n",
       "<p>1414 rows × 2 columns</p>\n",
       "</div>"
      ],
      "text/plain": [
       "         res  matchId\n",
       "wyId                 \n",
       "2499738    1  2499738\n",
       "2499799    1  2499799\n",
       "2499800    2  2499800\n",
       "2499801    1  2499801\n",
       "2499802    1  2499802\n",
       "...      ...      ...\n",
       "2576334    1  2576334\n",
       "2576335    2  2576335\n",
       "2576336    2  2576336\n",
       "2576337    1  2576337\n",
       "2576338    2  2576338\n",
       "\n",
       "[1414 rows x 2 columns]"
      ]
     },
     "execution_count": 29,
     "metadata": {},
     "output_type": "execute_result"
    }
   ],
   "source": [
    "res = data[['res','matchId']]\n",
    "res"
   ]
  },
  {
   "cell_type": "code",
   "execution_count": 44,
   "metadata": {},
   "outputs": [
    {
     "data": {
      "text/html": [
       "<div>\n",
       "<style scoped>\n",
       "    .dataframe tbody tr th:only-of-type {\n",
       "        vertical-align: middle;\n",
       "    }\n",
       "\n",
       "    .dataframe tbody tr th {\n",
       "        vertical-align: top;\n",
       "    }\n",
       "\n",
       "    .dataframe thead th {\n",
       "        text-align: right;\n",
       "    }\n",
       "</style>\n",
       "<table border=\"1\" class=\"dataframe\">\n",
       "  <thead>\n",
       "    <tr style=\"text-align: right;\">\n",
       "      <th></th>\n",
       "      <th>teamId_win</th>\n",
       "      <th>matchId</th>\n",
       "      <th>shots_win</th>\n",
       "      <th>teamId_los</th>\n",
       "      <th>shots_los</th>\n",
       "      <th>res</th>\n",
       "    </tr>\n",
       "  </thead>\n",
       "  <tbody>\n",
       "    <tr>\n",
       "      <th>0</th>\n",
       "      <td>1633</td>\n",
       "      <td>2499738</td>\n",
       "      <td>11</td>\n",
       "      <td>1619</td>\n",
       "      <td>8</td>\n",
       "      <td>1</td>\n",
       "    </tr>\n",
       "    <tr>\n",
       "      <th>1</th>\n",
       "      <td>1610</td>\n",
       "      <td>2499799</td>\n",
       "      <td>13</td>\n",
       "      <td>1644</td>\n",
       "      <td>14</td>\n",
       "      <td>1</td>\n",
       "    </tr>\n",
       "    <tr>\n",
       "      <th>2</th>\n",
       "      <td>1609</td>\n",
       "      <td>2499800</td>\n",
       "      <td>26</td>\n",
       "      <td>1623</td>\n",
       "      <td>7</td>\n",
       "      <td>2</td>\n",
       "    </tr>\n",
       "    <tr>\n",
       "      <th>3</th>\n",
       "      <td>1673</td>\n",
       "      <td>2499801</td>\n",
       "      <td>5</td>\n",
       "      <td>1611</td>\n",
       "      <td>9</td>\n",
       "      <td>1</td>\n",
       "    </tr>\n",
       "    <tr>\n",
       "      <th>4</th>\n",
       "      <td>1625</td>\n",
       "      <td>2499802</td>\n",
       "      <td>14</td>\n",
       "      <td>1646</td>\n",
       "      <td>5</td>\n",
       "      <td>1</td>\n",
       "    </tr>\n",
       "    <tr>\n",
       "      <th>...</th>\n",
       "      <td>...</td>\n",
       "      <td>...</td>\n",
       "      <td>...</td>\n",
       "      <td>...</td>\n",
       "      <td>...</td>\n",
       "      <td>...</td>\n",
       "    </tr>\n",
       "    <tr>\n",
       "      <th>1057</th>\n",
       "      <td>3159</td>\n",
       "      <td>2576334</td>\n",
       "      <td>23</td>\n",
       "      <td>3194</td>\n",
       "      <td>7</td>\n",
       "      <td>1</td>\n",
       "    </tr>\n",
       "    <tr>\n",
       "      <th>1058</th>\n",
       "      <td>3161</td>\n",
       "      <td>2576335</td>\n",
       "      <td>14</td>\n",
       "      <td>3162</td>\n",
       "      <td>14</td>\n",
       "      <td>2</td>\n",
       "    </tr>\n",
       "    <tr>\n",
       "      <th>1059</th>\n",
       "      <td>3158</td>\n",
       "      <td>2576336</td>\n",
       "      <td>15</td>\n",
       "      <td>3315</td>\n",
       "      <td>14</td>\n",
       "      <td>2</td>\n",
       "    </tr>\n",
       "    <tr>\n",
       "      <th>1060</th>\n",
       "      <td>3204</td>\n",
       "      <td>2576337</td>\n",
       "      <td>14</td>\n",
       "      <td>3164</td>\n",
       "      <td>9</td>\n",
       "      <td>1</td>\n",
       "    </tr>\n",
       "    <tr>\n",
       "      <th>1061</th>\n",
       "      <td>3185</td>\n",
       "      <td>2576338</td>\n",
       "      <td>4</td>\n",
       "      <td>3193</td>\n",
       "      <td>11</td>\n",
       "      <td>2</td>\n",
       "    </tr>\n",
       "  </tbody>\n",
       "</table>\n",
       "<p>1062 rows × 6 columns</p>\n",
       "</div>"
      ],
      "text/plain": [
       "      teamId_win  matchId  shots_win  teamId_los  shots_los  res\n",
       "0           1633  2499738         11        1619          8    1\n",
       "1           1610  2499799         13        1644         14    1\n",
       "2           1609  2499800         26        1623          7    2\n",
       "3           1673  2499801          5        1611          9    1\n",
       "4           1625  2499802         14        1646          5    1\n",
       "...          ...      ...        ...         ...        ...  ...\n",
       "1057        3159  2576334         23        3194          7    1\n",
       "1058        3161  2576335         14        3162         14    2\n",
       "1059        3158  2576336         15        3315         14    2\n",
       "1060        3204  2576337         14        3164          9    1\n",
       "1061        3185  2576338          4        3193         11    2\n",
       "\n",
       "[1062 rows x 6 columns]"
      ]
     },
     "execution_count": 44,
     "metadata": {},
     "output_type": "execute_result"
    }
   ],
   "source": [
    "x = pd.merge(winner_shots,loser_shots,on='matchId', suffixes=['_win','_los'])\n",
    "x = pd.merge(x,res,on='matchId')\n",
    "x\n"
   ]
  },
  {
   "cell_type": "code",
   "execution_count": 31,
   "metadata": {},
   "outputs": [],
   "source": [
    "num_passes      = passes.groupby(['teamId','matchId']).agg(passes=('id','count'))\n",
    "winner_passes   = pd.merge(winners_match,num_passes, on=['teamId','matchId'], how='inner')\n",
    "loser_passes    = pd.merge(losers_match,num_passes, on=['teamId','matchId'], how='inner')\n",
    "x = pd.merge(winner_passes,loser_passes,on='matchId',suffixes=['_winner','_loser'])"
   ]
  },
  {
   "cell_type": "code",
   "execution_count": 32,
   "metadata": {},
   "outputs": [
    {
     "data": {
      "text/plain": [
       "([<matplotlib.axis.XTick at 0x267d1448370>,\n",
       "  <matplotlib.axis.XTick at 0x267d1448340>],\n",
       " [Text(1, 0, 'winner team passes'), Text(2, 0, 'loser team passes')])"
      ]
     },
     "execution_count": 32,
     "metadata": {},
     "output_type": "execute_result"
    },
    {
     "data": {
      "image/png": "[encoded data removed]",
      "text/plain": [
       "<Figure size 432x360 with 1 Axes>"
      ]
     },
     "metadata": {
      "needs_background": "light"
     },
     "output_type": "display_data"
    }
   ],
   "source": [
    "dataplot = [x.passes_winner.to_numpy(),x.passes_loser.to_numpy()]\n",
    "plt.figure(figsize=(6,5))\n",
    "plt.boxplot(dataplot)\n",
    "plt.title('Winning and losing team passes')\n",
    "plt.xticks(ticks=[1,2],labels=['winner team passes','loser team passes'])\n",
    "# plt.savefig(path_graphs + 'boxplot_winlos_passes.jpg', format='jpg', dpi=200)"
   ]
  },
  {
   "cell_type": "code",
   "execution_count": 33,
   "metadata": {},
   "outputs": [
    {
     "data": {
      "text/html": [
       "<div>\n",
       "<style scoped>\n",
       "    .dataframe tbody tr th:only-of-type {\n",
       "        vertical-align: middle;\n",
       "    }\n",
       "\n",
       "    .dataframe tbody tr th {\n",
       "        vertical-align: top;\n",
       "    }\n",
       "\n",
       "    .dataframe thead th {\n",
       "        text-align: right;\n",
       "    }\n",
       "</style>\n",
       "<table border=\"1\" class=\"dataframe\">\n",
       "  <thead>\n",
       "    <tr style=\"text-align: right;\">\n",
       "      <th></th>\n",
       "      <th>matchId</th>\n",
       "      <th>teamId_home</th>\n",
       "      <th>res</th>\n",
       "      <th>passes_x</th>\n",
       "      <th>teamId_away</th>\n",
       "      <th>passes_y</th>\n",
       "    </tr>\n",
       "  </thead>\n",
       "  <tbody>\n",
       "    <tr>\n",
       "      <th>0</th>\n",
       "      <td>2499738</td>\n",
       "      <td>1633</td>\n",
       "      <td>1</td>\n",
       "      <td>352</td>\n",
       "      <td>1619</td>\n",
       "      <td>385</td>\n",
       "    </tr>\n",
       "    <tr>\n",
       "      <th>1</th>\n",
       "      <td>2499799</td>\n",
       "      <td>1610</td>\n",
       "      <td>1</td>\n",
       "      <td>432</td>\n",
       "      <td>1644</td>\n",
       "      <td>380</td>\n",
       "    </tr>\n",
       "    <tr>\n",
       "      <th>2</th>\n",
       "      <td>2499800</td>\n",
       "      <td>1623</td>\n",
       "      <td>2</td>\n",
       "      <td>267</td>\n",
       "      <td>1609</td>\n",
       "      <td>603</td>\n",
       "    </tr>\n",
       "    <tr>\n",
       "      <th>3</th>\n",
       "      <td>2499801</td>\n",
       "      <td>1673</td>\n",
       "      <td>1</td>\n",
       "      <td>194</td>\n",
       "      <td>1611</td>\n",
       "      <td>739</td>\n",
       "    </tr>\n",
       "    <tr>\n",
       "      <th>4</th>\n",
       "      <td>2499802</td>\n",
       "      <td>1625</td>\n",
       "      <td>1</td>\n",
       "      <td>784</td>\n",
       "      <td>1646</td>\n",
       "      <td>212</td>\n",
       "    </tr>\n",
       "    <tr>\n",
       "      <th>...</th>\n",
       "      <td>...</td>\n",
       "      <td>...</td>\n",
       "      <td>...</td>\n",
       "      <td>...</td>\n",
       "      <td>...</td>\n",
       "      <td>...</td>\n",
       "    </tr>\n",
       "    <tr>\n",
       "      <th>1409</th>\n",
       "      <td>2576334</td>\n",
       "      <td>3159</td>\n",
       "      <td>1</td>\n",
       "      <td>577</td>\n",
       "      <td>3194</td>\n",
       "      <td>285</td>\n",
       "    </tr>\n",
       "    <tr>\n",
       "      <th>1410</th>\n",
       "      <td>2576335</td>\n",
       "      <td>3162</td>\n",
       "      <td>2</td>\n",
       "      <td>302</td>\n",
       "      <td>3161</td>\n",
       "      <td>492</td>\n",
       "    </tr>\n",
       "    <tr>\n",
       "      <th>1411</th>\n",
       "      <td>2576336</td>\n",
       "      <td>3315</td>\n",
       "      <td>2</td>\n",
       "      <td>337</td>\n",
       "      <td>3158</td>\n",
       "      <td>500</td>\n",
       "    </tr>\n",
       "    <tr>\n",
       "      <th>1412</th>\n",
       "      <td>2576337</td>\n",
       "      <td>3204</td>\n",
       "      <td>1</td>\n",
       "      <td>363</td>\n",
       "      <td>3164</td>\n",
       "      <td>446</td>\n",
       "    </tr>\n",
       "    <tr>\n",
       "      <th>1413</th>\n",
       "      <td>2576338</td>\n",
       "      <td>3193</td>\n",
       "      <td>2</td>\n",
       "      <td>532</td>\n",
       "      <td>3185</td>\n",
       "      <td>338</td>\n",
       "    </tr>\n",
       "  </tbody>\n",
       "</table>\n",
       "<p>1414 rows × 6 columns</p>\n",
       "</div>"
      ],
      "text/plain": [
       "      matchId  teamId_home  res  passes_x  teamId_away  passes_y\n",
       "0     2499738         1633    1       352         1619       385\n",
       "1     2499799         1610    1       432         1644       380\n",
       "2     2499800         1623    2       267         1609       603\n",
       "3     2499801         1673    1       194         1611       739\n",
       "4     2499802         1625    1       784         1646       212\n",
       "...       ...          ...  ...       ...          ...       ...\n",
       "1409  2576334         3159    1       577         3194       285\n",
       "1410  2576335         3162    2       302         3161       492\n",
       "1411  2576336         3315    2       337         3158       500\n",
       "1412  2576337         3204    1       363         3164       446\n",
       "1413  2576338         3193    2       532         3185       338\n",
       "\n",
       "[1414 rows x 6 columns]"
      ]
     },
     "execution_count": 33,
     "metadata": {},
     "output_type": "execute_result"
    }
   ],
   "source": [
    "# pases local vs visitante\n",
    "xhome = pd.merge(data[['matchId','teamId_home','res']],num_passes,left_on=['teamId_home','matchId'],right_index=True)\n",
    "xaway = pd.merge(data[['matchId','teamId_away']],num_passes,left_on=['teamId_away','matchId'],right_index=True)\n",
    "x     = pd.merge(xhome,xaway,on='matchId')\n",
    "x"
   ]
  },
  {
   "cell_type": "code",
   "execution_count": 34,
   "metadata": {},
   "outputs": [],
   "source": [
    "keypassesagg    = passes.groupby(['teamId','matchId']).agg(keypasses=('keyPass','sum')).reset_index()\n",
    "goalsagg        = shots.groupby(['teamId','matchId']).agg(goals=('goal','sum')).reset_index()       \n",
    "x = pd.merge(keypassesagg,goalsagg,on=['teamId','matchId'])"
   ]
  },
  {
   "cell_type": "markdown",
   "metadata": {},
   "source": [
    "Cual es la probabilidad de que un equipo que ha realizado más disparos pierda un partido?"
   ]
  },
  {
   "cell_type": "code",
   "execution_count": 172,
   "metadata": {},
   "outputs": [
    {
     "data": {
      "text/plain": [
       "0.3229755178907721"
      ]
     },
     "execution_count": 172,
     "metadata": {},
     "output_type": "execute_result"
    }
   ],
   "source": [
    "np.mean(x.shots_win < x.shots_los)"
   ]
  },
  {
   "cell_type": "markdown",
   "metadata": {},
   "source": [
    "El **32%** de los partidos los gana el equipo que menos disparos ha realizado."
   ]
  },
  {
   "cell_type": "code",
   "execution_count": 199,
   "metadata": {},
   "outputs": [
    {
     "data": {
      "text/plain": [
       "array([-23, -21, -20, -18, -17, -16, -15, -14, -13, -12, -11, -10,  -9,\n",
       "        -8,  -7,  -6,  -5,  -4,  -3,  -2,  -1,   0,   1,   2,   3,   4,\n",
       "         5,   6,   7,   8,   9,  10,  11,  12,  13,  14,  15,  16,  17,\n",
       "        18,  19,  20,  21,  22,  28,  31,  33], dtype=int64)"
      ]
     },
     "execution_count": 199,
     "metadata": {},
     "output_type": "execute_result"
    }
   ],
   "source": [
    "np.unique(x.shots_win-x.shots_los)"
   ]
  },
  {
   "cell_type": "code",
   "execution_count": 53,
   "metadata": {},
   "outputs": [
    {
     "name": "stdout",
     "output_type": "stream",
     "text": [
      "AS [0.05502387 2.86034851 7.17866327]\n"
     ]
    },
    {
     "data": {
      "image/png": "[encoded data removed]",
      "text/plain": [
       "<Figure size 1080x360 with 1 Axes>"
      ]
     },
     "metadata": {
      "needs_background": "light"
     },
     "output_type": "display_data"
    }
   ],
   "source": [
    "max_value = max(x.shots_win-x.shots_los)\n",
    "plt.figure(figsize=(15,5))\n",
    "plt.xticks(np.arange(-24,max_value+1,2))\n",
    "plotdata = x.shots_win-x.shots_los\n",
    "en,be,_ = plt.hist(plotdata, bins=np.arange(-25,max_value+1)-0.5, density=True,color='red',alpha=0, align='mid')\n",
    "plt.hist(plotdata, bins=np.arange(-25,max_value+1)-0.5, rwidth=0.8, align='mid',label='Data')\n",
    "plt.ylim = (-60,80)\n",
    "plt.xlim = ([-25,max_value+1])\n",
    "\n",
    "plt.title('Distribution of the difference of number\\n of shosts between the winner and the loser.')\n",
    "plt.xlabel('# shot difference')\n",
    "plt.ylabel('# matches')\n",
    "# plt.grid()\n",
    "\n",
    "bm = 0.5 * (be[1:] + be[:-1])\n",
    "params, cov_matrix = curve_fit(gauss_function, bm, en, p0=[1,np.mean(plotdata),np.std(plotdata)])\n",
    "print(i,params)\n",
    "x_plot = np.arange(-25, 33)\n",
    "plt.plot(\n",
    "    x_plot,\n",
    "    1062*gauss_function(x_plot, *params),\n",
    "    marker='o', linestyle='',\n",
    "    label='Gaussian fit result',\n",
    ")\n",
    "plt.legend()\n",
    "\n",
    "plt.savefig(path_graphs + 'dif_shots_winlos.jpg', format='jpg', dpi=200)"
   ]
  },
  {
   "cell_type": "code",
   "execution_count": 191,
   "metadata": {},
   "outputs": [
    {
     "data": {
      "image/png": "[encoded data removed]",
      "text/plain": [
       "<Figure size 648x360 with 1 Axes>"
      ]
     },
     "metadata": {
      "needs_background": "light"
     },
     "output_type": "display_data"
    }
   ],
   "source": [
    "max_value = max(x[x.res==1].shots_win-x[x.res==1].shots_los)\n",
    "mask = x.shots_win < x.shots_los\n",
    "plt.figure(figsize=(9,5))\n",
    "plt.xticks(range(max_value+1))\n",
    "plt.hist(x[mask].shots_los-x[mask].shots_win, bins=np.arange(max_value+1)-0.5, rwidth=0.8, align='mid')\n",
    "plt.ylim = (0,80)\n",
    "plt.xlim = ([-1,max_value+1])\n",
    "\n",
    "plt.title('Distribution of the difference of number\\n of shots when the winner has shot less times than loser.')\n",
    "plt.xlabel('# shot difference')\n",
    "plt.ylabel('# matches')\n",
    "# plt.grid()\n",
    "\n",
    "plt.savefig(path_graphs + 'dif_shots_los_mas_disparos.jpg', format='jpg', dpi=200)"
   ]
  },
  {
   "cell_type": "code",
   "execution_count": 54,
   "metadata": {},
   "outputs": [],
   "source": [
    "tags2name    = pd.read_csv(path_rawdata+'tags2name.csv').set_index('Tag')\n",
    "eventid2name = pd.read_csv(path_rawdata+'eventid2name.csv')"
   ]
  },
  {
   "cell_type": "markdown",
   "metadata": {},
   "source": [
    "#### Acierto en el disparo y en el pase en relación con el numero de partidos ganados."
   ]
  },
  {
   "cell_type": "code",
   "execution_count": 209,
   "metadata": {},
   "outputs": [],
   "source": [
    "teams = pd.read_csv(path_rawdata+'teams.csv',index_col='wyId',delimiter=';')"
   ]
  },
  {
   "cell_type": "code",
   "execution_count": 51,
   "metadata": {},
   "outputs": [],
   "source": [
    "acc_shots_teams = shots.groupby('teamId').agg(accuracy=('accuracy','mean')).sort_values('accuracy',ascending=False)\n",
    "acc_passes_teams = passes.groupby('teamId').agg(accuracy=('accuracy','mean')).sort_values('accuracy',ascending=False)"
   ]
  },
  {
   "cell_type": "code",
   "execution_count": 52,
   "metadata": {},
   "outputs": [],
   "source": [
    "acc_shots_teams_names = acc_shots_teams.join(teams)[['name','accuracy']]\n",
    "acc_shots_teams_names['index'] = range(1,len(acc_shots_teams_names)+1)\n",
    "acc_shots_teams_names.set_index('index',inplace=True)\n",
    "\n",
    "acc_passes_teams_names = acc_passes_teams.join(teams)[['name','accuracy']]\n",
    "acc_passes_teams_names['index'] = range(1,len(acc_passes_teams_names)+1)\n",
    "acc_passes_teams_names.set_index('index',inplace=True)"
   ]
  },
  {
   "cell_type": "code",
   "execution_count": 53,
   "metadata": {},
   "outputs": [
    {
     "data": {
      "text/plain": [
       "(                       name  accuracy\n",
       " index                                \n",
       " 1                 Barcelona  0.476096\n",
       " 2                Hertha BSC  0.437931\n",
       " 3                       PSG  0.417563\n",
       " 4                Real Betis  0.415042\n",
       " 5           Manchester City  0.414594\n",
       " 6               Real Madrid  0.412044\n",
       " 7                Schalke 04  0.410765\n",
       " 8        Olympique Lyonnais  0.406746\n",
       " 9                   Arsenal  0.403346\n",
       " 10     Atl\\u00e9tico Madrid  0.401130,\n",
       "                        name  accuracy\n",
       " index                                \n",
       " 89                  Watford  0.307882\n",
       " 90     West Bromwich Albion  0.304843\n",
       " 91                  Levante  0.303977\n",
       " 92                     SPAL  0.302395\n",
       " 93               Strasbourg  0.300248\n",
       " 94                 Sassuolo  0.296729\n",
       " 95                Amiens SC  0.292308\n",
       " 96                   Nantes  0.281755\n",
       " 97            Hellas Verona  0.281150\n",
       " 98                     Caen  0.276699)"
      ]
     },
     "execution_count": 53,
     "metadata": {},
     "output_type": "execute_result"
    }
   ],
   "source": [
    "acc_shots_teams_names[:10], acc_shots_teams_names[-10:]"
   ]
  },
  {
   "cell_type": "code",
   "execution_count": 54,
   "metadata": {},
   "outputs": [
    {
     "data": {
      "text/plain": [
       "(                      name  accuracy\n",
       " index                               \n",
       " 1          Manchester City  0.899866\n",
       " 2                      PSG  0.892463\n",
       " 3                     Nice  0.886754\n",
       " 4                Barcelona  0.885168\n",
       " 5                 Juventus  0.884102\n",
       " 6      Bayern M\\u00fcnchen  0.881899\n",
       " 7                   Napoli  0.881782\n",
       " 8              Real Madrid  0.881437\n",
       " 9               Real Betis  0.866870\n",
       " 10      Olympique Lyonnais  0.866804,\n",
       "                         name  accuracy\n",
       " index                                 \n",
       " 89                  Sassuolo  0.780407\n",
       " 90              Hamburger SV  0.779338\n",
       " 91                   Burnley  0.777125\n",
       " 92     Deportivo Alav\\u00e9s  0.776339\n",
       " 93      West Bromwich Albion  0.776100\n",
       " 94              Legan\\u00e9s  0.775907\n",
       " 95                Stoke City  0.772087\n",
       " 96                  Augsburg  0.771405\n",
       " 97                   Crotone  0.758714\n",
       " 98                    Getafe  0.729798)"
      ]
     },
     "execution_count": 54,
     "metadata": {},
     "output_type": "execute_result"
    }
   ],
   "source": [
    "acc_passes_teams_names[:10], acc_passes_teams_names[-10:]"
   ]
  },
  {
   "cell_type": "markdown",
   "metadata": {},
   "source": [
    "#### Relacion entre las cuotas y el resultado"
   ]
  },
  {
   "cell_type": "code",
   "execution_count": 181,
   "metadata": {},
   "outputs": [
    {
     "data": {
      "image/png": "[encoded data removed]",
      "text/plain": [
       "<Figure size 576x360 with 1 Axes>"
      ]
     },
     "metadata": {
      "needs_background": "light"
     },
     "output_type": "display_data"
    }
   ],
   "source": [
    "dataplot = data.sample(frac=0.2,random_state=0)\n",
    "plt.figure(figsize=(8,5))\n",
    "plt.title('Relationship between betting odds and match results')\n",
    "colors = ListedColormap(['#FA0F52','#69E330','#40F8F9'])\n",
    "scatter = plt.scatter(x=1/dataplot.B365H,y=1/dataplot.B365A,c=dataplot.res,cmap=colors,alpha=0.4)\n",
    "plt.legend(handles=scatter.legend_elements()[0],labels=['Draw','Home Win','Away Win'],title='Result:',)\n",
    "plt.xticks(np.linspace(0,1,11)); plt.yticks(np.linspace(0,1,11))\n",
    "plt.xlabel('Home win odds Bet365'); plt.ylabel('Away win odds Bet365')\n",
    "plt.grid(alpha=0.3)\n",
    "plt.plot(1-np.linspace(0,1,2))\n",
    "plt.savefig(path_graphs + 'b365odds.jpg', format='jpg', dpi=200)"
   ]
  },
  {
   "cell_type": "code",
   "execution_count": 196,
   "metadata": {},
   "outputs": [
    {
     "data": {
      "text/plain": [
       "array([[0.30769231, 0.37037037, 0.38461538, 1.        ],\n",
       "       [0.19047619, 0.73529412, 0.1       , 1.        ],\n",
       "       [0.27777778, 0.26385224, 0.49019608, 2.        ],\n",
       "       ...,\n",
       "       [0.26315789, 0.25      , 0.54054054, 2.        ],\n",
       "       [0.25      , 0.62111801, 0.18181818, 1.        ],\n",
       "       [0.28571429, 0.38167939, 0.38167939, 2.        ]])"
      ]
     },
     "execution_count": 196,
     "metadata": {},
     "output_type": "execute_result"
    }
   ],
   "source": [
    "cuotasyres = data[['B365D','B365H','B365A','res']].to_numpy().T\n",
    "for i,cuota in enumerate(cuotasyres[:-1]):\n",
    "    cuotasyres[i] = 1/cuota\n",
    "\n",
    "cuotasyres.T"
   ]
  },
  {
   "cell_type": "code",
   "execution_count": 202,
   "metadata": {},
   "outputs": [
    {
     "data": {
      "text/plain": [
       "0.5487977369165488"
      ]
     },
     "execution_count": 202,
     "metadata": {},
     "output_type": "execute_result"
    }
   ],
   "source": [
    "predB365 = np.argmax(cuotasyres.T[:,:-1],axis=1)\n",
    "np.mean(predB365 == cuotasyres.T[:,-1])"
   ]
  },
  {
   "cell_type": "markdown",
   "metadata": {},
   "source": [
    "#### Relacion entre la media de goles encajados y marcados por un equipo\n",
    "\n",
    "Vamos a plotear el indicador ataque-defensa de ambos equipos respecto al resultado final del partido."
   ]
  },
  {
   "cell_type": "code",
   "execution_count": 215,
   "metadata": {},
   "outputs": [
    {
     "data": {
      "text/html": [
       "<div>\n",
       "<style scoped>\n",
       "    .dataframe tbody tr th:only-of-type {\n",
       "        vertical-align: middle;\n",
       "    }\n",
       "\n",
       "    .dataframe tbody tr th {\n",
       "        vertical-align: top;\n",
       "    }\n",
       "\n",
       "    .dataframe thead th {\n",
       "        text-align: right;\n",
       "    }\n",
       "</style>\n",
       "<table border=\"1\" class=\"dataframe\">\n",
       "  <thead>\n",
       "    <tr style=\"text-align: right;\">\n",
       "      <th></th>\n",
       "      <th>name</th>\n",
       "      <th>indicador</th>\n",
       "    </tr>\n",
       "    <tr>\n",
       "      <th>Unnamed: 0</th>\n",
       "      <th></th>\n",
       "      <th></th>\n",
       "    </tr>\n",
       "  </thead>\n",
       "  <tbody>\n",
       "    <tr>\n",
       "      <th>3767</th>\n",
       "      <td>PSG</td>\n",
       "      <td>2.016667</td>\n",
       "    </tr>\n",
       "    <tr>\n",
       "      <th>3159</th>\n",
       "      <td>Juventus</td>\n",
       "      <td>1.994841</td>\n",
       "    </tr>\n",
       "    <tr>\n",
       "      <th>2444</th>\n",
       "      <td>Bayern M\\u00fcnchen</td>\n",
       "      <td>1.984432</td>\n",
       "    </tr>\n",
       "    <tr>\n",
       "      <th>1625</th>\n",
       "      <td>Manchester City</td>\n",
       "      <td>1.935507</td>\n",
       "    </tr>\n",
       "    <tr>\n",
       "      <th>676</th>\n",
       "      <td>Barcelona</td>\n",
       "      <td>1.826923</td>\n",
       "    </tr>\n",
       "    <tr>\n",
       "      <th>...</th>\n",
       "      <td>...</td>\n",
       "      <td>...</td>\n",
       "    </tr>\n",
       "    <tr>\n",
       "      <th>1673</th>\n",
       "      <td>Huddersfield Town</td>\n",
       "      <td>0.689456</td>\n",
       "    </tr>\n",
       "    <tr>\n",
       "      <th>683</th>\n",
       "      <td>M\\u00e1laga</td>\n",
       "      <td>0.682171</td>\n",
       "    </tr>\n",
       "    <tr>\n",
       "      <th>3194</th>\n",
       "      <td>Hellas Verona</td>\n",
       "      <td>0.661345</td>\n",
       "    </tr>\n",
       "    <tr>\n",
       "      <th>3783</th>\n",
       "      <td>Caen</td>\n",
       "      <td>0.645833</td>\n",
       "    </tr>\n",
       "    <tr>\n",
       "      <th>714</th>\n",
       "      <td>Las Palmas</td>\n",
       "      <td>0.568991</td>\n",
       "    </tr>\n",
       "  </tbody>\n",
       "</table>\n",
       "<p>98 rows × 2 columns</p>\n",
       "</div>"
      ],
      "text/plain": [
       "                           name  indicador\n",
       "Unnamed: 0                                \n",
       "3767                        PSG   2.016667\n",
       "3159                   Juventus   1.994841\n",
       "2444        Bayern M\\u00fcnchen   1.984432\n",
       "1625            Manchester City   1.935507\n",
       "676                   Barcelona   1.826923\n",
       "...                         ...        ...\n",
       "1673          Huddersfield Town   0.689456\n",
       "683                 M\\u00e1laga   0.682171\n",
       "3194              Hellas Verona   0.661345\n",
       "3783                       Caen   0.645833\n",
       "714                  Las Palmas   0.568991\n",
       "\n",
       "[98 rows x 2 columns]"
      ]
     },
     "execution_count": 215,
     "metadata": {},
     "output_type": "execute_result"
    }
   ],
   "source": [
    "ataque_defensa_teams = ataque_defensa.set_index('Unnamed: 0').join(teams)[['name','indicador']]\n",
    "ataque_defensa_teams.sort_values('indicador',ascending=False)"
   ]
  },
  {
   "cell_type": "markdown",
   "metadata": {},
   "source": [
    "#### shots_11 distribution\n"
   ]
  },
  {
   "cell_type": "code",
   "execution_count": 232,
   "metadata": {},
   "outputs": [
    {
     "name": "stdout",
     "output_type": "stream",
     "text": [
      "shots_11H [ 0.03947726 30.07789736  9.70153652]\n",
      "shots_11A [ 0.04309245 23.26528429  9.21521137]\n"
     ]
    },
    {
     "data": {
      "image/png": "[encoded data removed]",
      "text/plain": [
       "<Figure size 648x432 with 2 Axes>"
      ]
     },
     "metadata": {
      "needs_background": "light"
     },
     "output_type": "display_data"
    }
   ],
   "source": [
    "\n",
    "\n",
    "fig, axs = plt.subplots(2,1,figsize=(9,6))\n",
    "\n",
    "# fig.suptitle('Distribución de los disparos', fontsize=20)\n",
    "\n",
    "axs[0].set_title('Home team shots distribution (last 4 matches)')\n",
    "axs[1].set_title('Away team shots distribution (last 4 matches)')\n",
    "\n",
    "max_value = max(np.concatenate([data.shots_11H, data.shots_11A]))\n",
    "\n",
    "idxs = ['shots_11H','shots_11A']\n",
    "for i,ax in zip(idxs,axs):\n",
    "    x = data[i]\n",
    "    en, be, _ = ax.hist(x,bins=np.arange(max_value+1)-0.5,align='mid',density=True,color='red',alpha=0)\n",
    "    ax.hist(x,bins=np.arange(max_value+1)-0.5,rwidth=0.8,align='mid',label='Data')\n",
    "    ax.set_ylim(0,75)\n",
    "    ax.set_xlim([-1,max_value+1])\n",
    "    ax.set_xticks(range(0,max_value+1,5))\n",
    "    ax.set_xlabel('# shots')\n",
    "    ax.set_ylabel('# matches')\n",
    "    # ax.grid()\n",
    "\n",
    "    bm = 0.5 * (be[1:] + be[:-1])\n",
    "    params, cov_matrix = curve_fit(gauss_function, bm, en, p0=[1,np.mean(x),np.std(x)])\n",
    "    print(i,params)\n",
    "    x_plot = np.arange(0, max_value+1)\n",
    "    ax.plot(\n",
    "        x_plot,\n",
    "        1414*gauss_function(x_plot, *params),\n",
    "        marker='o', linestyle='',\n",
    "        label='Gaussian fit result',\n",
    "    )\n",
    "plt.legend()\n",
    "\n",
    "fig.tight_layout()\n",
    "\n",
    "plt.savefig(path_graphs + 'shots_dist_4matches.jpg', format='jpg', dpi=200)"
   ]
  },
  {
   "cell_type": "markdown",
   "metadata": {},
   "source": [
    "## Estadisticas del 11 titular"
   ]
  },
  {
   "cell_type": "markdown",
   "metadata": {},
   "source": [
    "**Enlaces interesantes:**\n",
    "\n",
    "How to Choose a Feature Selection Method For Machine Learning\n",
    "https://machinelearningmastery.com/feature-selection-with-real-and-categorical-data/\n",
    "\n",
    "Feature Selection Sklearn\n",
    "https://scikit-learn.org/stable/modules/feature_selection.html#univariate-feature-selection\n",
    "\n",
    "Chi-Square Test for Feature Selection in Machine learning\n",
    "https://towardsdatascience.com/chi-square-test-for-feature-selection-in-machine-learning-206b1f0b8223"
   ]
  },
  {
   "cell_type": "markdown",
   "metadata": {},
   "source": [
    "### Normalization\n",
    "\n"
   ]
  },
  {
   "cell_type": "markdown",
   "metadata": {},
   "source": [
    "Although standardization and normalization have the same basic function, they utilize different approaches. As a result, their use cases differ as well.\n",
    "\n",
    "Standardization is ideal for data that fits a normal/gaussian distribution.\n",
    "\n",
    "It is also superior when handling data with outliers as it is more resistant to extreme values. Standardization is often used in PCA, where the aim is to maximize variance while reducing dimensionality.\n",
    "\n",
    "Normalization, on the other hand, is the safer alternative when you are unsure of the distribution of your data.\n",
    "\n",
    "All in all, determining the best feature scaling method in a machine learning task requires a strong understanding of the data being used."
   ]
  },
  {
   "cell_type": "code",
   "execution_count": 5,
   "metadata": {},
   "outputs": [
    {
     "data": {
      "text/plain": [
       "Index(['dateutc', 'competitionId', 'seasonId', 'roundId', 'winner',\n",
       "       'teamId_home', 'score_home', 'scoreHT_home', 'teamId_away',\n",
       "       'score_away', 'scoreHT_away', 'HS', 'AS', 'HST', 'AST', 'HC', 'AC',\n",
       "       'HF', 'AF', 'B365H', 'B365D', 'B365A', 'y0_sh_H', 'x0_sh_H',\n",
       "       'acc_avg_sh_H', 'goal_avg_sh_H', 'y0_sh_A', 'x0_sh_A', 'acc_avg_sh_A',\n",
       "       'goal_avg_sh_A', 'mins4_H', 'mins4_A', 'shots_11H', 'shots_11A',\n",
       "       'shots_acc_11H', 'shots_acc_11A', 'goals_H', 'goals_A', 'goals_ratio_H',\n",
       "       'goals_ratio_A', 'passes_11H', 'passes_11A', 'passes_acc_11H',\n",
       "       'passes_acc_11A', 'keyPasses_H', 'keyPasses_A', 'ataque_h', 'defensa_h',\n",
       "       'ataque_a', 'defensa_a', 'ataquedefensa_H', 'ataquedefensa_A', 'res',\n",
       "       'matchId'],\n",
       "      dtype='object')"
      ]
     },
     "execution_count": 5,
     "metadata": {},
     "output_type": "execute_result"
    }
   ],
   "source": [
    "data.columns"
   ]
  },
  {
   "cell_type": "code",
   "execution_count": 6,
   "metadata": {},
   "outputs": [
    {
     "data": {
      "text/html": [
       "<div>\n",
       "<style scoped>\n",
       "    .dataframe tbody tr th:only-of-type {\n",
       "        vertical-align: middle;\n",
       "    }\n",
       "\n",
       "    .dataframe tbody tr th {\n",
       "        vertical-align: top;\n",
       "    }\n",
       "\n",
       "    .dataframe thead th {\n",
       "        text-align: right;\n",
       "    }\n",
       "</style>\n",
       "<table border=\"1\" class=\"dataframe\">\n",
       "  <thead>\n",
       "    <tr style=\"text-align: right;\">\n",
       "      <th></th>\n",
       "      <th>mins4_H</th>\n",
       "      <th>mins4_A</th>\n",
       "      <th>shots_11H</th>\n",
       "      <th>shots_11A</th>\n",
       "      <th>shots_acc_11H</th>\n",
       "      <th>shots_acc_11A</th>\n",
       "      <th>goals_H</th>\n",
       "      <th>goals_A</th>\n",
       "      <th>goals_ratio_H</th>\n",
       "      <th>goals_ratio_A</th>\n",
       "      <th>passes_11H</th>\n",
       "      <th>passes_11A</th>\n",
       "      <th>passes_acc_11H</th>\n",
       "      <th>passes_acc_11A</th>\n",
       "      <th>keyPasses_H</th>\n",
       "      <th>keyPasses_A</th>\n",
       "      <th>ataque_h</th>\n",
       "      <th>defensa_h</th>\n",
       "      <th>ataque_a</th>\n",
       "      <th>defensa_a</th>\n",
       "    </tr>\n",
       "    <tr>\n",
       "      <th>wyId</th>\n",
       "      <th></th>\n",
       "      <th></th>\n",
       "      <th></th>\n",
       "      <th></th>\n",
       "      <th></th>\n",
       "      <th></th>\n",
       "      <th></th>\n",
       "      <th></th>\n",
       "      <th></th>\n",
       "      <th></th>\n",
       "      <th></th>\n",
       "      <th></th>\n",
       "      <th></th>\n",
       "      <th></th>\n",
       "      <th></th>\n",
       "      <th></th>\n",
       "      <th></th>\n",
       "      <th></th>\n",
       "      <th></th>\n",
       "      <th></th>\n",
       "    </tr>\n",
       "  </thead>\n",
       "  <tbody>\n",
       "    <tr>\n",
       "      <th>2499738</th>\n",
       "      <td>60.818182</td>\n",
       "      <td>56.840909</td>\n",
       "      <td>28</td>\n",
       "      <td>18</td>\n",
       "      <td>0.321429</td>\n",
       "      <td>0.444444</td>\n",
       "      <td>1</td>\n",
       "      <td>3</td>\n",
       "      <td>0.250000</td>\n",
       "      <td>0.500000</td>\n",
       "      <td>900</td>\n",
       "      <td>1198</td>\n",
       "      <td>0.757778</td>\n",
       "      <td>0.782137</td>\n",
       "      <td>5</td>\n",
       "      <td>6</td>\n",
       "      <td>0.76</td>\n",
       "      <td>1.72</td>\n",
       "      <td>0.96</td>\n",
       "      <td>2.24</td>\n",
       "    </tr>\n",
       "    <tr>\n",
       "      <th>2499799</th>\n",
       "      <td>54.500000</td>\n",
       "      <td>72.454545</td>\n",
       "      <td>35</td>\n",
       "      <td>28</td>\n",
       "      <td>0.400000</td>\n",
       "      <td>0.321429</td>\n",
       "      <td>4</td>\n",
       "      <td>5</td>\n",
       "      <td>1.000000</td>\n",
       "      <td>0.625000</td>\n",
       "      <td>1443</td>\n",
       "      <td>1201</td>\n",
       "      <td>0.851005</td>\n",
       "      <td>0.843464</td>\n",
       "      <td>4</td>\n",
       "      <td>8</td>\n",
       "      <td>0.56</td>\n",
       "      <td>0.84</td>\n",
       "      <td>2.00</td>\n",
       "      <td>1.20</td>\n",
       "    </tr>\n",
       "    <tr>\n",
       "      <th>2499800</th>\n",
       "      <td>63.295455</td>\n",
       "      <td>72.000000</td>\n",
       "      <td>37</td>\n",
       "      <td>29</td>\n",
       "      <td>0.162162</td>\n",
       "      <td>0.344828</td>\n",
       "      <td>1</td>\n",
       "      <td>1</td>\n",
       "      <td>0.333333</td>\n",
       "      <td>1.000000</td>\n",
       "      <td>1235</td>\n",
       "      <td>1642</td>\n",
       "      <td>0.836437</td>\n",
       "      <td>0.858100</td>\n",
       "      <td>16</td>\n",
       "      <td>7</td>\n",
       "      <td>0.60</td>\n",
       "      <td>1.20</td>\n",
       "      <td>0.48</td>\n",
       "      <td>1.72</td>\n",
       "    </tr>\n",
       "    <tr>\n",
       "      <th>2499801</th>\n",
       "      <td>42.000000</td>\n",
       "      <td>54.272727</td>\n",
       "      <td>28</td>\n",
       "      <td>22</td>\n",
       "      <td>0.392857</td>\n",
       "      <td>0.409091</td>\n",
       "      <td>2</td>\n",
       "      <td>4</td>\n",
       "      <td>1.000000</td>\n",
       "      <td>0.571429</td>\n",
       "      <td>1365</td>\n",
       "      <td>1115</td>\n",
       "      <td>0.785348</td>\n",
       "      <td>0.842152</td>\n",
       "      <td>8</td>\n",
       "      <td>3</td>\n",
       "      <td>0.36</td>\n",
       "      <td>2.16</td>\n",
       "      <td>1.04</td>\n",
       "      <td>0.32</td>\n",
       "    </tr>\n",
       "    <tr>\n",
       "      <th>2499802</th>\n",
       "      <td>63.659091</td>\n",
       "      <td>51.477273</td>\n",
       "      <td>47</td>\n",
       "      <td>25</td>\n",
       "      <td>0.510638</td>\n",
       "      <td>0.480000</td>\n",
       "      <td>10</td>\n",
       "      <td>4</td>\n",
       "      <td>0.555556</td>\n",
       "      <td>0.666667</td>\n",
       "      <td>2178</td>\n",
       "      <td>999</td>\n",
       "      <td>0.904959</td>\n",
       "      <td>0.763764</td>\n",
       "      <td>15</td>\n",
       "      <td>2</td>\n",
       "      <td>5.48</td>\n",
       "      <td>1.08</td>\n",
       "      <td>1.24</td>\n",
       "      <td>0.64</td>\n",
       "    </tr>\n",
       "  </tbody>\n",
       "</table>\n",
       "</div>"
      ],
      "text/plain": [
       "           mins4_H    mins4_A  shots_11H  shots_11A  shots_acc_11H  \\\n",
       "wyId                                                                 \n",
       "2499738  60.818182  56.840909         28         18       0.321429   \n",
       "2499799  54.500000  72.454545         35         28       0.400000   \n",
       "2499800  63.295455  72.000000         37         29       0.162162   \n",
       "2499801  42.000000  54.272727         28         22       0.392857   \n",
       "2499802  63.659091  51.477273         47         25       0.510638   \n",
       "\n",
       "         shots_acc_11A  goals_H  goals_A  goals_ratio_H  goals_ratio_A  \\\n",
       "wyId                                                                     \n",
       "2499738       0.444444        1        3       0.250000       0.500000   \n",
       "2499799       0.321429        4        5       1.000000       0.625000   \n",
       "2499800       0.344828        1        1       0.333333       1.000000   \n",
       "2499801       0.409091        2        4       1.000000       0.571429   \n",
       "2499802       0.480000       10        4       0.555556       0.666667   \n",
       "\n",
       "         passes_11H  passes_11A  passes_acc_11H  passes_acc_11A  keyPasses_H  \\\n",
       "wyId                                                                           \n",
       "2499738         900        1198        0.757778        0.782137            5   \n",
       "2499799        1443        1201        0.851005        0.843464            4   \n",
       "2499800        1235        1642        0.836437        0.858100           16   \n",
       "2499801        1365        1115        0.785348        0.842152            8   \n",
       "2499802        2178         999        0.904959        0.763764           15   \n",
       "\n",
       "         keyPasses_A  ataque_h  defensa_h  ataque_a  defensa_a  \n",
       "wyId                                                            \n",
       "2499738            6      0.76       1.72      0.96       2.24  \n",
       "2499799            8      0.56       0.84      2.00       1.20  \n",
       "2499800            7      0.60       1.20      0.48       1.72  \n",
       "2499801            3      0.36       2.16      1.04       0.32  \n",
       "2499802            2      5.48       1.08      1.24       0.64  "
      ]
     },
     "execution_count": 6,
     "metadata": {},
     "output_type": "execute_result"
    }
   ],
   "source": [
    "features = np.array(['mins4_H', 'mins4_A', 'shots_11H', 'shots_11A',\n",
    "       'shots_acc_11H', 'shots_acc_11A', 'goals_H', 'goals_A', 'goals_ratio_H',\n",
    "       'goals_ratio_A', 'passes_11H', 'passes_11A', 'passes_acc_11H',\n",
    "       'passes_acc_11A', 'keyPasses_H', 'keyPasses_A', 'ataque_h', 'defensa_h',\n",
    "       'ataque_a', 'defensa_a', 'ataquedefensa_H', 'ataquedefensa_A'])\n",
    "\n",
    "features = features[:-2] # de momento descartamos ataque_defensa\n",
    "\n",
    "X = data[features] # descartamos de momento las de ataque_defensa\n",
    "\n",
    "X.head(5)"
   ]
  },
  {
   "cell_type": "markdown",
   "metadata": {},
   "source": [
    "Seria interesante analizar las características de cada partido (para el partido X, los corners, faltas, goles, disparos en X). Y más tarde en la selección de características usar solo la información de partidos anteriores, que realmente será la que se use en el modelo predictivo."
   ]
  },
  {
   "cell_type": "code",
   "execution_count": 89,
   "metadata": {},
   "outputs": [],
   "source": [
    "# eliminamos las filas con valores nulos\n",
    "\n",
    "X.dropna().shape # no hay ninguna fila que eliminar\n",
    "\n",
    "labels = data.res"
   ]
  },
  {
   "cell_type": "code",
   "execution_count": 90,
   "metadata": {},
   "outputs": [],
   "source": [
    "# necesario NORMALIZAR ???\n",
    "# normalization / minmax scale / other ???\n",
    "# normalizamos dividiendo cada feature por su media\n",
    "\n",
    "# # Normalizamos dividiendo entre la media.\n",
    "X_mean = X.mean(axis=0).to_numpy()\n",
    "X_norm = X / X_mean\n",
    "\n",
    "# scaler = preprocessing.Normalizer()\n",
    "# X_norm = scaler.fit_transform(X)\n",
    "# X_norm = pd.DataFrame(X_norm,columns=X.columns)\n",
    "\n",
    "# # Normalizamos con MinMaxScale\n",
    "# scaler = preprocessing.MinMaxScaler()\n",
    "# X_norm = scaler.fit_transform(X)\n",
    "# # ¿ este normaliza todas las varianzas ? Si, es así, para la selección\n",
    "# # de características a partir de la varianza no sirve.\n"
   ]
  },
  {
   "cell_type": "code",
   "execution_count": 21,
   "metadata": {},
   "outputs": [
    {
     "data": {
      "text/plain": [
       "((1414, 20), (1414,))"
      ]
     },
     "execution_count": 21,
     "metadata": {},
     "output_type": "execute_result"
    }
   ],
   "source": [
    "X_norm.shape, labels.shape"
   ]
  },
  {
   "cell_type": "markdown",
   "metadata": {},
   "source": [
    "### Visualization"
   ]
  },
  {
   "cell_type": "markdown",
   "metadata": {},
   "source": [
    "#### Distribucion de los minutos jugados por el 11 titular en los ultimos 4 partidos"
   ]
  },
  {
   "cell_type": "code",
   "execution_count": 65,
   "metadata": {},
   "outputs": [
    {
     "data": {
      "text/html": [
       "<div>\n",
       "<style scoped>\n",
       "    .dataframe tbody tr th:only-of-type {\n",
       "        vertical-align: middle;\n",
       "    }\n",
       "\n",
       "    .dataframe tbody tr th {\n",
       "        vertical-align: top;\n",
       "    }\n",
       "\n",
       "    .dataframe thead th {\n",
       "        text-align: right;\n",
       "    }\n",
       "</style>\n",
       "<table border=\"1\" class=\"dataframe\">\n",
       "  <thead>\n",
       "    <tr style=\"text-align: right;\">\n",
       "      <th></th>\n",
       "      <th>mins4_H</th>\n",
       "      <th>mins4_A</th>\n",
       "      <th>shots_11H</th>\n",
       "      <th>shots_11A</th>\n",
       "      <th>shots_acc_11H</th>\n",
       "      <th>shots_acc_11A</th>\n",
       "      <th>goals_H</th>\n",
       "      <th>goals_A</th>\n",
       "      <th>goals_ratio_H</th>\n",
       "      <th>goals_ratio_A</th>\n",
       "      <th>...</th>\n",
       "      <th>passes_acc_11H</th>\n",
       "      <th>passes_acc_11A</th>\n",
       "      <th>keyPasses_H</th>\n",
       "      <th>keyPasses_A</th>\n",
       "      <th>ataque_h</th>\n",
       "      <th>defensa_h</th>\n",
       "      <th>ataque_a</th>\n",
       "      <th>defensa_a</th>\n",
       "      <th>ataquedefensa_H</th>\n",
       "      <th>ataquedefensa_A</th>\n",
       "    </tr>\n",
       "    <tr>\n",
       "      <th>wyId</th>\n",
       "      <th></th>\n",
       "      <th></th>\n",
       "      <th></th>\n",
       "      <th></th>\n",
       "      <th></th>\n",
       "      <th></th>\n",
       "      <th></th>\n",
       "      <th></th>\n",
       "      <th></th>\n",
       "      <th></th>\n",
       "      <th></th>\n",
       "      <th></th>\n",
       "      <th></th>\n",
       "      <th></th>\n",
       "      <th></th>\n",
       "      <th></th>\n",
       "      <th></th>\n",
       "      <th></th>\n",
       "      <th></th>\n",
       "      <th></th>\n",
       "      <th></th>\n",
       "    </tr>\n",
       "  </thead>\n",
       "  <tbody>\n",
       "    <tr>\n",
       "      <th>2499738</th>\n",
       "      <td>60.818182</td>\n",
       "      <td>56.840909</td>\n",
       "      <td>28</td>\n",
       "      <td>18</td>\n",
       "      <td>0.321429</td>\n",
       "      <td>0.444444</td>\n",
       "      <td>1</td>\n",
       "      <td>3</td>\n",
       "      <td>0.250000</td>\n",
       "      <td>0.500000</td>\n",
       "      <td>...</td>\n",
       "      <td>0.757778</td>\n",
       "      <td>0.782137</td>\n",
       "      <td>5</td>\n",
       "      <td>6</td>\n",
       "      <td>0.76</td>\n",
       "      <td>1.72</td>\n",
       "      <td>0.96</td>\n",
       "      <td>2.24</td>\n",
       "      <td>0.973546</td>\n",
       "      <td>0.817933</td>\n",
       "    </tr>\n",
       "    <tr>\n",
       "      <th>2499799</th>\n",
       "      <td>54.500000</td>\n",
       "      <td>72.454545</td>\n",
       "      <td>35</td>\n",
       "      <td>28</td>\n",
       "      <td>0.400000</td>\n",
       "      <td>0.321429</td>\n",
       "      <td>4</td>\n",
       "      <td>5</td>\n",
       "      <td>1.000000</td>\n",
       "      <td>0.625000</td>\n",
       "      <td>...</td>\n",
       "      <td>0.851005</td>\n",
       "      <td>0.843464</td>\n",
       "      <td>4</td>\n",
       "      <td>8</td>\n",
       "      <td>0.56</td>\n",
       "      <td>0.84</td>\n",
       "      <td>2.00</td>\n",
       "      <td>1.20</td>\n",
       "      <td>1.316667</td>\n",
       "      <td>0.810784</td>\n",
       "    </tr>\n",
       "    <tr>\n",
       "      <th>2499800</th>\n",
       "      <td>63.295455</td>\n",
       "      <td>72.000000</td>\n",
       "      <td>37</td>\n",
       "      <td>29</td>\n",
       "      <td>0.162162</td>\n",
       "      <td>0.344828</td>\n",
       "      <td>1</td>\n",
       "      <td>1</td>\n",
       "      <td>0.333333</td>\n",
       "      <td>1.000000</td>\n",
       "      <td>...</td>\n",
       "      <td>0.836437</td>\n",
       "      <td>0.858100</td>\n",
       "      <td>16</td>\n",
       "      <td>7</td>\n",
       "      <td>0.60</td>\n",
       "      <td>1.20</td>\n",
       "      <td>0.48</td>\n",
       "      <td>1.72</td>\n",
       "      <td>0.983333</td>\n",
       "      <td>1.399187</td>\n",
       "    </tr>\n",
       "    <tr>\n",
       "      <th>2499801</th>\n",
       "      <td>42.000000</td>\n",
       "      <td>54.272727</td>\n",
       "      <td>28</td>\n",
       "      <td>22</td>\n",
       "      <td>0.392857</td>\n",
       "      <td>0.409091</td>\n",
       "      <td>2</td>\n",
       "      <td>4</td>\n",
       "      <td>1.000000</td>\n",
       "      <td>0.571429</td>\n",
       "      <td>...</td>\n",
       "      <td>0.785348</td>\n",
       "      <td>0.842152</td>\n",
       "      <td>8</td>\n",
       "      <td>3</td>\n",
       "      <td>0.36</td>\n",
       "      <td>2.16</td>\n",
       "      <td>1.04</td>\n",
       "      <td>0.32</td>\n",
       "      <td>0.689456</td>\n",
       "      <td>1.360256</td>\n",
       "    </tr>\n",
       "  </tbody>\n",
       "</table>\n",
       "<p>4 rows × 22 columns</p>\n",
       "</div>"
      ],
      "text/plain": [
       "           mins4_H    mins4_A  shots_11H  shots_11A  shots_acc_11H  \\\n",
       "wyId                                                                 \n",
       "2499738  60.818182  56.840909         28         18       0.321429   \n",
       "2499799  54.500000  72.454545         35         28       0.400000   \n",
       "2499800  63.295455  72.000000         37         29       0.162162   \n",
       "2499801  42.000000  54.272727         28         22       0.392857   \n",
       "\n",
       "         shots_acc_11A  goals_H  goals_A  goals_ratio_H  goals_ratio_A  ...  \\\n",
       "wyId                                                                    ...   \n",
       "2499738       0.444444        1        3       0.250000       0.500000  ...   \n",
       "2499799       0.321429        4        5       1.000000       0.625000  ...   \n",
       "2499800       0.344828        1        1       0.333333       1.000000  ...   \n",
       "2499801       0.409091        2        4       1.000000       0.571429  ...   \n",
       "\n",
       "         passes_acc_11H  passes_acc_11A  keyPasses_H  keyPasses_A  ataque_h  \\\n",
       "wyId                                                                          \n",
       "2499738        0.757778        0.782137            5            6      0.76   \n",
       "2499799        0.851005        0.843464            4            8      0.56   \n",
       "2499800        0.836437        0.858100           16            7      0.60   \n",
       "2499801        0.785348        0.842152            8            3      0.36   \n",
       "\n",
       "         defensa_h  ataque_a  defensa_a  ataquedefensa_H  ataquedefensa_A  \n",
       "wyId                                                                       \n",
       "2499738       1.72      0.96       2.24         0.973546         0.817933  \n",
       "2499799       0.84      2.00       1.20         1.316667         0.810784  \n",
       "2499800       1.20      0.48       1.72         0.983333         1.399187  \n",
       "2499801       2.16      1.04       0.32         0.689456         1.360256  \n",
       "\n",
       "[4 rows x 22 columns]"
      ]
     },
     "execution_count": 65,
     "metadata": {},
     "output_type": "execute_result"
    }
   ],
   "source": [
    "X.head(4)"
   ]
  },
  {
   "cell_type": "markdown",
   "metadata": {},
   "source": [
    "##### Distribution of minutes in previous matches of the line-up."
   ]
  },
  {
   "cell_type": "code",
   "execution_count": 253,
   "metadata": {},
   "outputs": [
    {
     "name": "stdout",
     "output_type": "stream",
     "text": [
      "mins4_H [4.60049441e-02 5.86882177e+01 8.64318139e+00]\n",
      "mins4_A [4.47754169e-02 5.69152567e+01 8.91319609e+00]\n"
     ]
    },
    {
     "data": {
      "image/png": "[encoded data removed]",
      "text/plain": [
       "<Figure size 864x288 with 2 Axes>"
      ]
     },
     "metadata": {
      "needs_background": "light"
     },
     "output_type": "display_data"
    }
   ],
   "source": [
    "fig, axs = plt.subplots(1,2,figsize=(12,4))\n",
    "\n",
    "# fig.suptitle('Distribución los minutos jugados por el Line-up.', fontsize=20)\n",
    "\n",
    "axs[0].set_title('Home team minutes distribution.')\n",
    "axs[1].set_title('Away team minutes distribution.')\n",
    "\n",
    "max_value = max(np.concatenate([data.mins4_H, data.mins4_A]))\n",
    "\n",
    "idxs = ['mins4_H','mins4_A']\n",
    "for i,ax in zip(idxs,axs):\n",
    "    x = data[i][data[i] != 0]\n",
    "    en,be,_ = ax.hist(x,bins=np.arange(0,max_value+1,2)-0.5,density=True,color='red',alpha=0,align='mid')\n",
    "    ax.hist(x,bins=np.arange(0,max_value+1,2)-0.5,rwidth=0.8,align='mid',label='Data')\n",
    "    ax.set_ylim(0,120)\n",
    "    ax.set_xlim([-1,max_value+1])\n",
    "    ax.set_xticks(range(0,91,10))\n",
    "    ax.set_xlabel('# mins')\n",
    "    ax.set_ylabel('# matches')\n",
    "\n",
    "    bm = 0.5 * (be[1:] + be[:-1])\n",
    "    params, cov_matrix = curve_fit(gauss_function, bm, en, p0=[1,np.mean(x),np.std(x)])\n",
    "    print(i,params)\n",
    "    x_plot = np.arange(0, 91)\n",
    "    ax.plot(\n",
    "        x_plot,\n",
    "        1826*gauss_function(x_plot, *params),\n",
    "        marker='o', linestyle='',\n",
    "        label='Gaussian fit result',\n",
    "    )\n",
    "plt.legend()\n",
    "\n",
    "# plt.savefig(path_graphs + 'goals_distribution.pdf', format='pdf')\n",
    "plt.savefig(path_graphs + 'mins_lineup_distribution.jpg', format='jpg', dpi=200)"
   ]
  },
  {
   "cell_type": "code",
   "execution_count": 12,
   "metadata": {},
   "outputs": [
    {
     "data": {
      "image/png": "[encoded data removed]",
      "text/plain": [
       "<Figure size 576x360 with 1 Axes>"
      ]
     },
     "metadata": {
      "needs_background": "light"
     },
     "output_type": "display_data"
    }
   ],
   "source": [
    "dataplot = data.sample(frac=0.4,random_state=0)\n",
    "plt.figure(figsize=(8,5))\n",
    "plt.title('Relationship between mins played by lineup players and match result')\n",
    "colors = ListedColormap(['#FA0F52','#69E330','#40F8F9'])\n",
    "scatter = plt.scatter(x=dataplot.mins4_H,y=dataplot.mins4_A,c=dataplot.res,cmap=colors,alpha=0.4)\n",
    "plt.legend(handles=scatter.legend_elements()[0],labels=['Draw','Home Win','Away Win'],title='Result:',)\n",
    "plt.xlabel('Home team minutes'); plt.ylabel('Away team minutes')\n",
    "plt.xlim([15,90]); plt.ylim([15,90])\n",
    "plt.grid(alpha=0.3)\n",
    "plt.savefig(path_graphs + 'relation_mins_res.jpg', format='jpg', dpi=200)"
   ]
  },
  {
   "cell_type": "code",
   "execution_count": 67,
   "metadata": {},
   "outputs": [],
   "source": [
    "mins_norm = preprocessing.normalize(data[idxs])"
   ]
  },
  {
   "cell_type": "code",
   "execution_count": 68,
   "metadata": {},
   "outputs": [
    {
     "data": {
      "text/plain": [
       "(array([0.56404685, 0.54614018]), array([0.29885287, 0.29021816]))"
      ]
     },
     "execution_count": 68,
     "metadata": {},
     "output_type": "execute_result"
    }
   ],
   "source": [
    "np.mean(mins_norm,axis=0), np.std(mins_norm,axis=0)"
   ]
  },
  {
   "cell_type": "code",
   "execution_count": 69,
   "metadata": {},
   "outputs": [
    {
     "data": {
      "image/png": "[encoded data removed]",
      "text/plain": [
       "<Figure size 1296x432 with 2 Axes>"
      ]
     },
     "metadata": {
      "needs_background": "light"
     },
     "output_type": "display_data"
    }
   ],
   "source": [
    "fig, axs = plt.subplots(1,2,figsize=(18,6))\n",
    "\n",
    "fig.suptitle('Distribución los minutos jugados por el Line-up.', fontsize=20)\n",
    "\n",
    "axs[0].set_title('Distribucion de minutos del local normalizados.')\n",
    "axs[1].set_title('Distribucion de minutos del visitante normalizados.')\n",
    "\n",
    "max_value = np.max(mins_norm)\n",
    "\n",
    "# idxs = ['mins4_H','mins4_A']\n",
    "for i,ax in enumerate(axs):\n",
    "    x = mins_norm[:,i][mins_norm[:,i] > 0]\n",
    "    ax.hist(x,bins=20,rwidth=0.8)\n",
    "    # ax.set_ylim(0,120)\n",
    "    ax.set_xlim([0,1])\n",
    "    # ax.set_xticks(range(0,91,10))\n",
    "    ax.set_xlabel('# mins')\n",
    "    ax.set_ylabel('# partidos')\n",
    "\n",
    "plt.savefig(path_graphs + 'mins_lineup_norm_distribution.jpg', format='jpg', dpi=200)"
   ]
  },
  {
   "cell_type": "code",
   "execution_count": 70,
   "metadata": {},
   "outputs": [],
   "source": [
    "Scaler = preprocessing.StandardScaler()\n",
    "mins_stand = Scaler.fit_transform(data[idxs])"
   ]
  },
  {
   "cell_type": "code",
   "execution_count": 71,
   "metadata": {},
   "outputs": [
    {
     "data": {
      "text/plain": [
       "(array([-8.04008753e-17,  4.02004377e-17]), array([1., 1.]))"
      ]
     },
     "execution_count": 71,
     "metadata": {},
     "output_type": "execute_result"
    }
   ],
   "source": [
    "np.mean(mins_stand,axis=0), np.std(mins_stand,axis=0)"
   ]
  },
  {
   "cell_type": "code",
   "execution_count": 72,
   "metadata": {},
   "outputs": [
    {
     "data": {
      "image/png": "[encoded data removed]",
      "text/plain": [
       "<Figure size 1296x432 with 2 Axes>"
      ]
     },
     "metadata": {
      "needs_background": "light"
     },
     "output_type": "display_data"
    }
   ],
   "source": [
    "fig, axs = plt.subplots(1,2,figsize=(18,6))\n",
    "\n",
    "fig.suptitle('Distribución los minutos jugados por el Line-up.', fontsize=20)\n",
    "\n",
    "axs[0].set_title('Distribucion de minutos del local estandarizados.')\n",
    "axs[1].set_title('Distribucion de minutos del visitante estandarizados.')\n",
    "\n",
    "max_value = np.max(mins_stand)\n",
    "min_value = np.min(mins_stand)\n",
    "\n",
    "# idxs = ['mins4_H','mins4_A']\n",
    "for i,ax in enumerate(axs):\n",
    "    x = mins_stand[:,i]#[mins_stand[:,i] > -1.0]\n",
    "    ax.hist(x,bins=30,rwidth=0.8)\n",
    "    # ax.set_ylim(0,120)\n",
    "    ax.set_xlim([min_value,max_value+0.1])\n",
    "    # ax.set_xticks(range(0,91,10))\n",
    "    ax.set_xlabel('# mins')\n",
    "    ax.set_ylabel('# partidos')\n",
    "\n",
    "plt.savefig(path_graphs + 'mins_lineup_stand_distribution.jpg', format='jpg', dpi=200)"
   ]
  },
  {
   "cell_type": "markdown",
   "metadata": {},
   "source": [
    "### Analisi Univariado"
   ]
  },
  {
   "cell_type": "markdown",
   "metadata": {},
   "source": [
    "\n",
    "Descartamos el uso de ${\\chi}^2$ por ser un test usado para inputs (variables) y outputs categóricas.\n",
    "\n",
    "Puede ser interesante el uso de métodos de Sklearn como *SelectKBest* o *SelectPercentile*, que dados una función que puntua cada variable, selecciona las mejores variables."
   ]
  },
  {
   "cell_type": "markdown",
   "metadata": {},
   "source": [
    "#### 1. Variance Threshold"
   ]
  },
  {
   "cell_type": "markdown",
   "metadata": {},
   "source": [
    "Variance is the measurement of the spread between numbers in a variable. It measures how far a number is from the mean and every number in a variable.\n",
    "\n",
    "The variance of a feature determines how much it is impacting the response variable. If the variance is low, it implies there is no impact of this feature on response and vice-versa.\n",
    "\n",
    "VarianceThreshold is a simple baseline approach to feature selection. It removes all features whose variance doesn’t meet some threshold. By default, it removes all zero-variance features, i.e. features that have the same value in all samples."
   ]
  },
  {
   "cell_type": "code",
   "execution_count": 78,
   "metadata": {},
   "outputs": [],
   "source": [
    "# que valor asignar al Threshold ? Hay alguna manera de testear ? \n",
    "# Despues de normalizar las características pierden muucha varianza\n",
    "\n",
    "filter = feature_selection.VarianceThreshold(0.25)"
   ]
  },
  {
   "cell_type": "code",
   "execution_count": 79,
   "metadata": {},
   "outputs": [
    {
     "data": {
      "text/plain": [
       "VarianceThreshold(threshold=0.25)"
      ]
     },
     "execution_count": 79,
     "metadata": {},
     "output_type": "execute_result"
    }
   ],
   "source": [
    "filter.fit(X_norm)"
   ]
  },
  {
   "cell_type": "code",
   "execution_count": 80,
   "metadata": {},
   "outputs": [
    {
     "data": {
      "text/html": [
       "<div>\n",
       "<style scoped>\n",
       "    .dataframe tbody tr th:only-of-type {\n",
       "        vertical-align: middle;\n",
       "    }\n",
       "\n",
       "    .dataframe tbody tr th {\n",
       "        vertical-align: top;\n",
       "    }\n",
       "\n",
       "    .dataframe thead th {\n",
       "        text-align: right;\n",
       "    }\n",
       "</style>\n",
       "<table border=\"1\" class=\"dataframe\">\n",
       "  <thead>\n",
       "    <tr style=\"text-align: right;\">\n",
       "      <th></th>\n",
       "      <th>mins4_H</th>\n",
       "      <th>mins4_A</th>\n",
       "      <th>goals_H</th>\n",
       "      <th>goals_A</th>\n",
       "      <th>goals_ratio_A</th>\n",
       "      <th>keyPasses_H</th>\n",
       "      <th>keyPasses_A</th>\n",
       "      <th>ataque_h</th>\n",
       "      <th>defensa_h</th>\n",
       "      <th>ataque_a</th>\n",
       "      <th>defensa_a</th>\n",
       "    </tr>\n",
       "  </thead>\n",
       "  <tbody>\n",
       "    <tr>\n",
       "      <th>0</th>\n",
       "      <td>1.319597</td>\n",
       "      <td>1.273570</td>\n",
       "      <td>0.273290</td>\n",
       "      <td>1.099533</td>\n",
       "      <td>0.901326</td>\n",
       "      <td>0.719154</td>\n",
       "      <td>1.126544</td>\n",
       "      <td>0.499953</td>\n",
       "      <td>1.458641</td>\n",
       "      <td>0.816987</td>\n",
       "      <td>1.472040</td>\n",
       "    </tr>\n",
       "    <tr>\n",
       "      <th>1</th>\n",
       "      <td>1.182508</td>\n",
       "      <td>1.623407</td>\n",
       "      <td>1.093158</td>\n",
       "      <td>1.832556</td>\n",
       "      <td>1.126658</td>\n",
       "      <td>0.575323</td>\n",
       "      <td>1.502058</td>\n",
       "      <td>0.368387</td>\n",
       "      <td>0.712360</td>\n",
       "      <td>1.702056</td>\n",
       "      <td>0.788593</td>\n",
       "    </tr>\n",
       "    <tr>\n",
       "      <th>2</th>\n",
       "      <td>1.373347</td>\n",
       "      <td>1.613223</td>\n",
       "      <td>0.273290</td>\n",
       "      <td>0.366511</td>\n",
       "      <td>1.802652</td>\n",
       "      <td>2.301292</td>\n",
       "      <td>1.314301</td>\n",
       "      <td>0.394700</td>\n",
       "      <td>1.017657</td>\n",
       "      <td>0.408493</td>\n",
       "      <td>1.130317</td>\n",
       "    </tr>\n",
       "    <tr>\n",
       "      <th>3</th>\n",
       "      <td>0.911291</td>\n",
       "      <td>1.216028</td>\n",
       "      <td>0.546579</td>\n",
       "      <td>1.466045</td>\n",
       "      <td>1.030087</td>\n",
       "      <td>1.150646</td>\n",
       "      <td>0.563272</td>\n",
       "      <td>0.236820</td>\n",
       "      <td>1.831782</td>\n",
       "      <td>0.885069</td>\n",
       "      <td>0.210291</td>\n",
       "    </tr>\n",
       "    <tr>\n",
       "      <th>4</th>\n",
       "      <td>1.381237</td>\n",
       "      <td>1.153393</td>\n",
       "      <td>2.732895</td>\n",
       "      <td>1.466045</td>\n",
       "      <td>1.201768</td>\n",
       "      <td>2.157461</td>\n",
       "      <td>0.375515</td>\n",
       "      <td>3.604928</td>\n",
       "      <td>0.915891</td>\n",
       "      <td>1.055275</td>\n",
       "      <td>0.420583</td>\n",
       "    </tr>\n",
       "    <tr>\n",
       "      <th>...</th>\n",
       "      <td>...</td>\n",
       "      <td>...</td>\n",
       "      <td>...</td>\n",
       "      <td>...</td>\n",
       "      <td>...</td>\n",
       "      <td>...</td>\n",
       "      <td>...</td>\n",
       "      <td>...</td>\n",
       "      <td>...</td>\n",
       "      <td>...</td>\n",
       "      <td>...</td>\n",
       "    </tr>\n",
       "    <tr>\n",
       "      <th>1409</th>\n",
       "      <td>0.820556</td>\n",
       "      <td>1.099415</td>\n",
       "      <td>0.819869</td>\n",
       "      <td>0.000000</td>\n",
       "      <td>0.000000</td>\n",
       "      <td>0.287661</td>\n",
       "      <td>1.126544</td>\n",
       "      <td>1.499860</td>\n",
       "      <td>0.712360</td>\n",
       "      <td>0.612740</td>\n",
       "      <td>2.181774</td>\n",
       "    </tr>\n",
       "    <tr>\n",
       "      <th>1410</th>\n",
       "      <td>1.410331</td>\n",
       "      <td>1.509850</td>\n",
       "      <td>2.186316</td>\n",
       "      <td>1.466045</td>\n",
       "      <td>1.201768</td>\n",
       "      <td>1.150646</td>\n",
       "      <td>2.253087</td>\n",
       "      <td>1.420920</td>\n",
       "      <td>0.610594</td>\n",
       "      <td>2.042467</td>\n",
       "      <td>0.236578</td>\n",
       "    </tr>\n",
       "    <tr>\n",
       "      <th>1411</th>\n",
       "      <td>1.305789</td>\n",
       "      <td>0.998589</td>\n",
       "      <td>1.366448</td>\n",
       "      <td>0.733022</td>\n",
       "      <td>0.721061</td>\n",
       "      <td>1.294477</td>\n",
       "      <td>0.751029</td>\n",
       "      <td>0.763087</td>\n",
       "      <td>0.373141</td>\n",
       "      <td>1.123357</td>\n",
       "      <td>0.078859</td>\n",
       "    </tr>\n",
       "    <tr>\n",
       "      <th>1412</th>\n",
       "      <td>1.312693</td>\n",
       "      <td>0.930353</td>\n",
       "      <td>0.273290</td>\n",
       "      <td>0.366511</td>\n",
       "      <td>0.901326</td>\n",
       "      <td>0.143831</td>\n",
       "      <td>0.563272</td>\n",
       "      <td>0.710460</td>\n",
       "      <td>0.712360</td>\n",
       "      <td>0.204247</td>\n",
       "      <td>1.340608</td>\n",
       "    </tr>\n",
       "    <tr>\n",
       "      <th>1413</th>\n",
       "      <td>0.988218</td>\n",
       "      <td>1.194640</td>\n",
       "      <td>1.639737</td>\n",
       "      <td>1.466045</td>\n",
       "      <td>1.030087</td>\n",
       "      <td>0.287661</td>\n",
       "      <td>0.751029</td>\n",
       "      <td>1.368294</td>\n",
       "      <td>1.526485</td>\n",
       "      <td>1.429727</td>\n",
       "      <td>0.946312</td>\n",
       "    </tr>\n",
       "  </tbody>\n",
       "</table>\n",
       "<p>1414 rows × 11 columns</p>\n",
       "</div>"
      ],
      "text/plain": [
       "       mins4_H   mins4_A   goals_H   goals_A  goals_ratio_A  keyPasses_H  \\\n",
       "0     1.319597  1.273570  0.273290  1.099533       0.901326     0.719154   \n",
       "1     1.182508  1.623407  1.093158  1.832556       1.126658     0.575323   \n",
       "2     1.373347  1.613223  0.273290  0.366511       1.802652     2.301292   \n",
       "3     0.911291  1.216028  0.546579  1.466045       1.030087     1.150646   \n",
       "4     1.381237  1.153393  2.732895  1.466045       1.201768     2.157461   \n",
       "...        ...       ...       ...       ...            ...          ...   \n",
       "1409  0.820556  1.099415  0.819869  0.000000       0.000000     0.287661   \n",
       "1410  1.410331  1.509850  2.186316  1.466045       1.201768     1.150646   \n",
       "1411  1.305789  0.998589  1.366448  0.733022       0.721061     1.294477   \n",
       "1412  1.312693  0.930353  0.273290  0.366511       0.901326     0.143831   \n",
       "1413  0.988218  1.194640  1.639737  1.466045       1.030087     0.287661   \n",
       "\n",
       "      keyPasses_A  ataque_h  defensa_h  ataque_a  defensa_a  \n",
       "0        1.126544  0.499953   1.458641  0.816987   1.472040  \n",
       "1        1.502058  0.368387   0.712360  1.702056   0.788593  \n",
       "2        1.314301  0.394700   1.017657  0.408493   1.130317  \n",
       "3        0.563272  0.236820   1.831782  0.885069   0.210291  \n",
       "4        0.375515  3.604928   0.915891  1.055275   0.420583  \n",
       "...           ...       ...        ...       ...        ...  \n",
       "1409     1.126544  1.499860   0.712360  0.612740   2.181774  \n",
       "1410     2.253087  1.420920   0.610594  2.042467   0.236578  \n",
       "1411     0.751029  0.763087   0.373141  1.123357   0.078859  \n",
       "1412     0.563272  0.710460   0.712360  0.204247   1.340608  \n",
       "1413     0.751029  1.368294   1.526485  1.429727   0.946312  \n",
       "\n",
       "[1414 rows x 11 columns]"
      ]
     },
     "execution_count": 80,
     "metadata": {},
     "output_type": "execute_result"
    }
   ],
   "source": [
    "new_X = filter.transform(X_norm)\n",
    "mask_new_feat = filter.get_support()\n",
    "pd.DataFrame(new_X,columns=features[mask_new_feat])"
   ]
  },
  {
   "cell_type": "code",
   "execution_count": 81,
   "metadata": {},
   "outputs": [
    {
     "name": "stderr",
     "output_type": "stream",
     "text": [
      "<ipython-input-81-9ccfb3b21025>:5: DeprecationWarning: In future, it will be an error for 'np.bool_' scalars to be interpreted as an index\n",
      "  bar = plt.bar(features, X_norm.var(), width=0.75,color=[colors[b] for b in mask_new_feat])\n"
     ]
    },
    {
     "data": {
      "image/png": "[encoded data removed]",
      "text/plain": [
       "<Figure size 648x360 with 1 Axes>"
      ]
     },
     "metadata": {
      "needs_background": "light"
     },
     "output_type": "display_data"
    }
   ],
   "source": [
    "plt.figure(figsize=(9,5))\n",
    "plt.clf()\n",
    "colors = ['#FA0F52','#69E330']\n",
    "labels=['<0.25','>0.25']\n",
    "bar = plt.bar(features, X_norm.var(), width=0.75,color=[colors[b] for b in mask_new_feat])\n",
    "# plt.title(\"Normalized feature variances\")\n",
    "# plt.suptitle(\"Normalized feature variances\",fontsize=15)\n",
    "artists  = [mpatches.Patch(color=c,label=l) for c,l in zip(colors,labels)]\n",
    "plt.legend(handles=artists,title='Variance:',)\n",
    "plt.xlabel(\"Feature name\")\n",
    "plt.ylabel(\"Variance\")\n",
    "plt.xticks(rotation=90)\n",
    "plt.savefig(path_graphs + 'divmean_feature_variances.jpg', format='jpg', dpi=200,bbox_inches='tight')\n",
    "plt.show()"
   ]
  },
  {
   "cell_type": "code",
   "execution_count": 44,
   "metadata": {},
   "outputs": [
    {
     "data": {
      "text/plain": [
       "array([ True,  True, False, False, False, False,  True,  True, False,\n",
       "        True, False, False, False, False,  True,  True,  True,  True,\n",
       "        True,  True])"
      ]
     },
     "execution_count": 44,
     "metadata": {},
     "output_type": "execute_result"
    }
   ],
   "source": [
    "mask_new_feat"
   ]
  },
  {
   "cell_type": "code",
   "execution_count": 45,
   "metadata": {},
   "outputs": [
    {
     "data": {
      "text/plain": [
       "array(['mins4_H', 'mins4_A', 'goals_H', 'goals_A', 'goals_ratio_A',\n",
       "       'keyPasses_H', 'keyPasses_A', 'ataque_h', 'defensa_h', 'ataque_a',\n",
       "       'defensa_a'], dtype='<U15')"
      ]
     },
     "execution_count": 45,
     "metadata": {},
     "output_type": "execute_result"
    }
   ],
   "source": [
    "features[mask_new_feat]"
   ]
  },
  {
   "cell_type": "markdown",
   "metadata": {},
   "source": [
    "Estas son las características que tienen más de 0.5 de Variancia."
   ]
  },
  {
   "cell_type": "markdown",
   "metadata": {},
   "source": [
    "##### Vamos a probar con otro metodo de normalizacion."
   ]
  },
  {
   "cell_type": "code",
   "execution_count": null,
   "metadata": {},
   "outputs": [],
   "source": []
  },
  {
   "cell_type": "code",
   "execution_count": null,
   "metadata": {},
   "outputs": [],
   "source": []
  },
  {
   "cell_type": "code",
   "execution_count": null,
   "metadata": {},
   "outputs": [],
   "source": []
  },
  {
   "cell_type": "markdown",
   "metadata": {},
   "source": [
    "#### 2. Ratio Dispersión (RMD)"
   ]
  },
  {
   "cell_type": "markdown",
   "metadata": {},
   "source": [
    "https://en.wikipedia.org/wiki/Mean_absolute_difference#Relative_mean_absolute_difference"
   ]
  },
  {
   "cell_type": "code",
   "execution_count": null,
   "metadata": {},
   "outputs": [],
   "source": [
    "from scipy.stats.mstats import gmean"
   ]
  },
  {
   "cell_type": "code",
   "execution_count": null,
   "metadata": {},
   "outputs": [],
   "source": [
    "X_norm.head(3)"
   ]
  },
  {
   "cell_type": "code",
   "execution_count": null,
   "metadata": {},
   "outputs": [],
   "source": [
    "X.goals_H.min()"
   ]
  },
  {
   "cell_type": "code",
   "execution_count": null,
   "metadata": {},
   "outputs": [],
   "source": [
    "pd.DataFrame(gmean(X_norm).reshape(1,-1), columns=features)"
   ]
  },
  {
   "cell_type": "markdown",
   "metadata": {},
   "source": [
    "#### 3. ANOVA f-test Feature Selection"
   ]
  },
  {
   "cell_type": "markdown",
   "metadata": {},
   "source": [
    "\n",
    "https://towardsdatascience.com/anova-for-feature-selection-in-machine-learning-d9305e228476\n",
    "\n",
    "**F-Distribution?**\n",
    "A probability distribution generally used for the analysis of variance. It assumes Hypothesis as\n",
    "\n",
    "- H0: two variances are equal\n",
    "- H1: two variances are not equal\n",
    "\n",
    "**Degrees of Freedom**\n",
    "refers to the maximum number of logically independent values, which have the freedom to vary. In simple words, it can be defined as the total number of observations minus the number of independent constraints imposed on the observations.\n",
    "\n",
    "$D_f = N-1$ where $N$ is the sample size.  \n",
    "\n",
    "**F-value**\n",
    "\n",
    "$s$ = variance\n",
    "\n",
    "${\\chi}^2$  = $\\frac{(n-1) s^2}{\\sigma^2}$\n",
    "\n",
    "$F = \\frac{\\chi_1^2 / (n_1 - 1)}{\\chi_2^2 / (n_2 - 1)}$\n",
    "\n",
    "**ANOVA**\n",
    "\n",
    "**An**alysis **o**f **Va**riance is a statistical method, used to check the means of two or more groups that are significantly different from each other. It assumes Hypothesis as\n",
    "- H0: means of all groups are equal\n",
    "- H1: at least one mean of the groups are different\n",
    "\n",
    "ANOVA is a parametric statistical hypothesis test for determining whether the means from two or more samples of data (often three or more) come from the same distribution or not. \n",
    "\n",
    "An F-statistic, or F-test, is a class of statistical tests that calculate the ratio between variances values\n",
    "\n",
    "**The results of this test can be used for feature selection where those features that are independent of the target variable can be removed from the dataset.**\n",
    "\n",
    "**Calculation:**\n",
    "\n",
    "Total variance of the data.\n",
    "\n",
    "$SST = \\sum_{i}{ ( x^{(i)} - \\overline{x} )^2 }$\n",
    "\n",
    "Variance between different groups $g$.\n",
    "\n",
    "$SSB = \\sum_{g}{ ( \\overline{x_g} - \\overline{x} )^2 }$\n",
    "\n",
    "Variance within each group.\n",
    "\n",
    "$SSW = \\sum_{g}[\\sum_{i\\in{g}}{ ( x^{(i)} - \\overline{x_g} )^2 }]$\n",
    "\n",
    "Distance between each observed value $x_g^{(i)}$ within the group $g$, with the group-mean $\\overline{x_g}$\n",
    "\n",
    "$SST = SSB + SSE$\n",
    "\n",
    "So, the F value will be the comparison of the variance between the groups and the variance within the groups.\n",
    "\n",
    "$F = \\frac{SSB / df_b}{SSW / df_w}$"
   ]
  },
  {
   "cell_type": "markdown",
   "metadata": {},
   "source": [
    "##### Calculo manual"
   ]
  },
  {
   "cell_type": "code",
   "execution_count": null,
   "metadata": {},
   "outputs": [],
   "source": [
    "X_norm.head(3)"
   ]
  },
  {
   "cell_type": "code",
   "execution_count": null,
   "metadata": {},
   "outputs": [],
   "source": [
    "SSB = np.sum( (np.mean(X,axis=0) - np.mean(X.to_numpy().flatten()))**2 )"
   ]
  },
  {
   "cell_type": "code",
   "execution_count": null,
   "metadata": {},
   "outputs": [],
   "source": [
    "SSW = np.sum(np.sum( (X - np.mean(X,axis=0))**2 ))"
   ]
  },
  {
   "cell_type": "code",
   "execution_count": null,
   "metadata": {},
   "outputs": [],
   "source": [
    "dfb, dfw = X.shape[1]-1, X.shape[0]-1\n",
    "dfb,dfw"
   ]
  },
  {
   "cell_type": "code",
   "execution_count": null,
   "metadata": {},
   "outputs": [],
   "source": [
    "F = (SSB/dfb)/(SSW/dfw) \n",
    "F"
   ]
  },
  {
   "cell_type": "markdown",
   "metadata": {},
   "source": [
    "Con  95% confianza, $\\alpha$ = 0.05, $df_b$ = 33 y $df_w$ = 1430, y dados que nuestro F-value de nuestra F-table es **1.4445** y nuestro F-value es **0.3539**, entonces nuestra hipótesis nula es cierta."
   ]
  },
  {
   "cell_type": "markdown",
   "metadata": {},
   "source": [
    "##### SelectKBest  $F-classif$\n",
    "\n",
    "Habrá que entrenar con Cross Validation los hiperparámetros, en este caso para encontrar el mejor valor de $k$.\n",
    "\n",
    "Vamos a usar *f_classif* que calcula la ANOVA F-value."
   ]
  },
  {
   "cell_type": "code",
   "execution_count": 91,
   "metadata": {},
   "outputs": [],
   "source": [
    "kbest_fclass = feature_selection.SelectKBest(score_func=feature_selection.f_classif,k=10)"
   ]
  },
  {
   "cell_type": "code",
   "execution_count": 92,
   "metadata": {},
   "outputs": [
    {
     "data": {
      "text/plain": [
       "SelectKBest()"
      ]
     },
     "execution_count": 92,
     "metadata": {},
     "output_type": "execute_result"
    }
   ],
   "source": [
    "kbest_fclass.fit(X_norm, labels)"
   ]
  },
  {
   "cell_type": "code",
   "execution_count": 93,
   "metadata": {},
   "outputs": [
    {
     "data": {
      "text/html": [
       "<div>\n",
       "<style scoped>\n",
       "    .dataframe tbody tr th:only-of-type {\n",
       "        vertical-align: middle;\n",
       "    }\n",
       "\n",
       "    .dataframe tbody tr th {\n",
       "        vertical-align: top;\n",
       "    }\n",
       "\n",
       "    .dataframe thead th {\n",
       "        text-align: right;\n",
       "    }\n",
       "</style>\n",
       "<table border=\"1\" class=\"dataframe\">\n",
       "  <thead>\n",
       "    <tr style=\"text-align: right;\">\n",
       "      <th></th>\n",
       "      <th>shots_11A</th>\n",
       "      <th>goals_H</th>\n",
       "      <th>goals_A</th>\n",
       "      <th>passes_11H</th>\n",
       "      <th>passes_11A</th>\n",
       "      <th>passes_acc_11H</th>\n",
       "      <th>passes_acc_11A</th>\n",
       "      <th>keyPasses_A</th>\n",
       "      <th>ataque_h</th>\n",
       "      <th>ataque_a</th>\n",
       "    </tr>\n",
       "  </thead>\n",
       "  <tbody>\n",
       "    <tr>\n",
       "      <th>0</th>\n",
       "      <td>0.723212</td>\n",
       "      <td>0.273290</td>\n",
       "      <td>1.099533</td>\n",
       "      <td>0.752542</td>\n",
       "      <td>1.084730</td>\n",
       "      <td>0.919772</td>\n",
       "      <td>0.955916</td>\n",
       "      <td>1.126544</td>\n",
       "      <td>0.499953</td>\n",
       "      <td>0.816987</td>\n",
       "    </tr>\n",
       "    <tr>\n",
       "      <th>1</th>\n",
       "      <td>1.124996</td>\n",
       "      <td>1.093158</td>\n",
       "      <td>1.832556</td>\n",
       "      <td>1.206576</td>\n",
       "      <td>1.087446</td>\n",
       "      <td>1.032929</td>\n",
       "      <td>1.030869</td>\n",
       "      <td>1.502058</td>\n",
       "      <td>0.368387</td>\n",
       "      <td>1.702056</td>\n",
       "    </tr>\n",
       "    <tr>\n",
       "      <th>2</th>\n",
       "      <td>1.165175</td>\n",
       "      <td>0.273290</td>\n",
       "      <td>0.366511</td>\n",
       "      <td>1.032655</td>\n",
       "      <td>1.486750</td>\n",
       "      <td>1.015247</td>\n",
       "      <td>1.048757</td>\n",
       "      <td>1.314301</td>\n",
       "      <td>0.394700</td>\n",
       "      <td>0.408493</td>\n",
       "    </tr>\n",
       "    <tr>\n",
       "      <th>3</th>\n",
       "      <td>0.883926</td>\n",
       "      <td>0.546579</td>\n",
       "      <td>1.466045</td>\n",
       "      <td>1.141356</td>\n",
       "      <td>1.009578</td>\n",
       "      <td>0.953236</td>\n",
       "      <td>1.029266</td>\n",
       "      <td>0.563272</td>\n",
       "      <td>0.236820</td>\n",
       "      <td>0.885069</td>\n",
       "    </tr>\n",
       "    <tr>\n",
       "      <th>4</th>\n",
       "      <td>1.004461</td>\n",
       "      <td>2.732895</td>\n",
       "      <td>1.466045</td>\n",
       "      <td>1.821152</td>\n",
       "      <td>0.904545</td>\n",
       "      <td>1.098417</td>\n",
       "      <td>0.933461</td>\n",
       "      <td>0.375515</td>\n",
       "      <td>3.604928</td>\n",
       "      <td>1.055275</td>\n",
       "    </tr>\n",
       "    <tr>\n",
       "      <th>...</th>\n",
       "      <td>...</td>\n",
       "      <td>...</td>\n",
       "      <td>...</td>\n",
       "      <td>...</td>\n",
       "      <td>...</td>\n",
       "      <td>...</td>\n",
       "      <td>...</td>\n",
       "      <td>...</td>\n",
       "      <td>...</td>\n",
       "      <td>...</td>\n",
       "    </tr>\n",
       "    <tr>\n",
       "      <th>1409</th>\n",
       "      <td>0.803569</td>\n",
       "      <td>0.819869</td>\n",
       "      <td>0.000000</td>\n",
       "      <td>0.844520</td>\n",
       "      <td>0.799513</td>\n",
       "      <td>1.059951</td>\n",
       "      <td>1.006261</td>\n",
       "      <td>1.126544</td>\n",
       "      <td>1.499860</td>\n",
       "      <td>0.612740</td>\n",
       "    </tr>\n",
       "    <tr>\n",
       "      <th>1410</th>\n",
       "      <td>1.767852</td>\n",
       "      <td>2.186316</td>\n",
       "      <td>1.466045</td>\n",
       "      <td>1.009243</td>\n",
       "      <td>1.536550</td>\n",
       "      <td>0.990529</td>\n",
       "      <td>1.018367</td>\n",
       "      <td>2.253087</td>\n",
       "      <td>1.420920</td>\n",
       "      <td>2.042467</td>\n",
       "    </tr>\n",
       "    <tr>\n",
       "      <th>1411</th>\n",
       "      <td>1.165175</td>\n",
       "      <td>1.366448</td>\n",
       "      <td>0.733022</td>\n",
       "      <td>0.728294</td>\n",
       "      <td>1.024065</td>\n",
       "      <td>0.887687</td>\n",
       "      <td>1.023350</td>\n",
       "      <td>0.751029</td>\n",
       "      <td>0.763087</td>\n",
       "      <td>1.123357</td>\n",
       "    </tr>\n",
       "    <tr>\n",
       "      <th>1412</th>\n",
       "      <td>0.522320</td>\n",
       "      <td>0.273290</td>\n",
       "      <td>0.366511</td>\n",
       "      <td>0.699028</td>\n",
       "      <td>0.803135</td>\n",
       "      <td>0.936466</td>\n",
       "      <td>1.007235</td>\n",
       "      <td>0.563272</td>\n",
       "      <td>0.710460</td>\n",
       "      <td>0.204247</td>\n",
       "    </tr>\n",
       "    <tr>\n",
       "      <th>1413</th>\n",
       "      <td>0.883926</td>\n",
       "      <td>1.639737</td>\n",
       "      <td>1.466045</td>\n",
       "      <td>0.647186</td>\n",
       "      <td>1.025876</td>\n",
       "      <td>0.951889</td>\n",
       "      <td>1.002127</td>\n",
       "      <td>0.751029</td>\n",
       "      <td>1.368294</td>\n",
       "      <td>1.429727</td>\n",
       "    </tr>\n",
       "  </tbody>\n",
       "</table>\n",
       "<p>1414 rows × 10 columns</p>\n",
       "</div>"
      ],
      "text/plain": [
       "      shots_11A   goals_H   goals_A  passes_11H  passes_11A  passes_acc_11H  \\\n",
       "0      0.723212  0.273290  1.099533    0.752542    1.084730        0.919772   \n",
       "1      1.124996  1.093158  1.832556    1.206576    1.087446        1.032929   \n",
       "2      1.165175  0.273290  0.366511    1.032655    1.486750        1.015247   \n",
       "3      0.883926  0.546579  1.466045    1.141356    1.009578        0.953236   \n",
       "4      1.004461  2.732895  1.466045    1.821152    0.904545        1.098417   \n",
       "...         ...       ...       ...         ...         ...             ...   \n",
       "1409   0.803569  0.819869  0.000000    0.844520    0.799513        1.059951   \n",
       "1410   1.767852  2.186316  1.466045    1.009243    1.536550        0.990529   \n",
       "1411   1.165175  1.366448  0.733022    0.728294    1.024065        0.887687   \n",
       "1412   0.522320  0.273290  0.366511    0.699028    0.803135        0.936466   \n",
       "1413   0.883926  1.639737  1.466045    0.647186    1.025876        0.951889   \n",
       "\n",
       "      passes_acc_11A  keyPasses_A  ataque_h  ataque_a  \n",
       "0           0.955916     1.126544  0.499953  0.816987  \n",
       "1           1.030869     1.502058  0.368387  1.702056  \n",
       "2           1.048757     1.314301  0.394700  0.408493  \n",
       "3           1.029266     0.563272  0.236820  0.885069  \n",
       "4           0.933461     0.375515  3.604928  1.055275  \n",
       "...              ...          ...       ...       ...  \n",
       "1409        1.006261     1.126544  1.499860  0.612740  \n",
       "1410        1.018367     2.253087  1.420920  2.042467  \n",
       "1411        1.023350     0.751029  0.763087  1.123357  \n",
       "1412        1.007235     0.563272  0.710460  0.204247  \n",
       "1413        1.002127     0.751029  1.368294  1.429727  \n",
       "\n",
       "[1414 rows x 10 columns]"
      ]
     },
     "execution_count": 93,
     "metadata": {},
     "output_type": "execute_result"
    }
   ],
   "source": [
    "X_kbest = kbest_fclass.transform(X_norm)\n",
    "mask_new_feat = kbest_fclass.get_support()\n",
    "pd.DataFrame(X_kbest,columns=features[mask_new_feat])"
   ]
  },
  {
   "cell_type": "code",
   "execution_count": 94,
   "metadata": {},
   "outputs": [
    {
     "data": {
      "text/plain": [
       "array(['shots_11A', 'goals_H', 'goals_A', 'passes_11H', 'passes_11A',\n",
       "       'passes_acc_11H', 'passes_acc_11A', 'keyPasses_A', 'ataque_h',\n",
       "       'ataque_a'], dtype='<U15')"
      ]
     },
     "execution_count": 94,
     "metadata": {},
     "output_type": "execute_result"
    }
   ],
   "source": [
    "features[mask_new_feat]"
   ]
  },
  {
   "cell_type": "code",
   "execution_count": 95,
   "metadata": {},
   "outputs": [
    {
     "data": {
      "image/png": "[encoded data removed]",
      "text/plain": [
       "<Figure size 864x432 with 1 Axes>"
      ]
     },
     "metadata": {
      "needs_background": "light"
     },
     "output_type": "display_data"
    }
   ],
   "source": [
    "pvalues = -np.log10(kbest_fclass.pvalues_)\n",
    "pvalues /= pvalues.max()\n",
    "\n",
    "plt.figure(figsize=(12,6))\n",
    "plt.clf()\n",
    "plt.bar(features, pvalues, width=0.75)\n",
    "plt.title(\"ANOVA score\")\n",
    "plt.xlabel(\"Feature number\")\n",
    "plt.ylabel(\"P-values\")\n",
    "plt.xticks(rotation=90)\n",
    "# plt.savefig(path_graphs + 'feature_univariate_score_anova.jpg', format='jpg', dpi=200,bbox_inches='tight')\n",
    "plt.show()"
   ]
  },
  {
   "cell_type": "markdown",
   "metadata": {},
   "source": [
    "La gran diferencia respecto a Variance Threshold es que SelectKBest selecciona como característica a tener en cuenta al *accuracy* del 11 titular en los pases. Sin embargo no tiene en cuenta los pases clave locales, solo los visitantes.\n",
    "\n",
    "Pero repito, habria que entrenar los hiperparámetros (*k*) para obtener el numero óptimo de características."
   ]
  },
  {
   "cell_type": "markdown",
   "metadata": {},
   "source": [
    "##### SelectKBest - $\\chi^2$\n",
    "\n",
    "$\\chi^2 = \\sum_{i}{ \\mathcal{N_i}^2}$\n",
    "\n",
    "Una variable aleatoria $\\chi$ sigue una distribucion chi-square si puede ser escrita como la suma de unas variables Normales al cuadrado.\n",
    "\n",
    "Un test chi-square es usado en estadística para probar la independencia de dos eventos.\n",
    "\n",
    "$\\chi^2_c = \\sum_{i}{\\frac{(O_i - E_i)^2}{E_i}}$\n",
    "\n",
    "$c$ = grados de libertad <br>\n",
    "$O$ = valor(es) observados <br>\n",
    "$E$ = valor(es) esperados\n",
    "\n",
    "En selección de características nuestro objetivo es seleccionar las características (features) que son más dependientes en el valor de target.\n",
    "\n",
    "Cuando dos características son independientes, el valor observado está muy próximo al esperado, por lo tanto tendremos un pequeño valor Chi-Square ($\\chi^2\\approx0$). Un alto valor de Chi-Square indica que la hipótesis de que las variables son independientes es incorrecta.\n",
    "\n",
    "Las limitaciones de Chi-Square es que es muy sensible a valor pequeños."
   ]
  },
  {
   "cell_type": "code",
   "execution_count": 67,
   "metadata": {},
   "outputs": [],
   "source": [
    "kbest_chi2 = feature_selection.SelectKBest(score_func=feature_selection.chi2,k=10)"
   ]
  },
  {
   "cell_type": "code",
   "execution_count": 68,
   "metadata": {},
   "outputs": [
    {
     "data": {
      "text/plain": [
       "SelectKBest(score_func=<function chi2 at 0x0000022D5457C4C0>)"
      ]
     },
     "execution_count": 68,
     "metadata": {},
     "output_type": "execute_result"
    }
   ],
   "source": [
    "kbest_chi2.fit(X_norm, data.res)"
   ]
  },
  {
   "cell_type": "code",
   "execution_count": 69,
   "metadata": {},
   "outputs": [
    {
     "data": {
      "text/html": [
       "<div>\n",
       "<style scoped>\n",
       "    .dataframe tbody tr th:only-of-type {\n",
       "        vertical-align: middle;\n",
       "    }\n",
       "\n",
       "    .dataframe tbody tr th {\n",
       "        vertical-align: top;\n",
       "    }\n",
       "\n",
       "    .dataframe thead th {\n",
       "        text-align: right;\n",
       "    }\n",
       "</style>\n",
       "<table border=\"1\" class=\"dataframe\">\n",
       "  <thead>\n",
       "    <tr style=\"text-align: right;\">\n",
       "      <th></th>\n",
       "      <th>shots_11H</th>\n",
       "      <th>shots_11A</th>\n",
       "      <th>goals_H</th>\n",
       "      <th>goals_A</th>\n",
       "      <th>passes_11A</th>\n",
       "      <th>keyPasses_H</th>\n",
       "      <th>keyPasses_A</th>\n",
       "      <th>ataque_h</th>\n",
       "      <th>ataque_a</th>\n",
       "      <th>defensa_a</th>\n",
       "    </tr>\n",
       "  </thead>\n",
       "  <tbody>\n",
       "    <tr>\n",
       "      <th>0</th>\n",
       "      <td>0.860527</td>\n",
       "      <td>0.723212</td>\n",
       "      <td>0.273290</td>\n",
       "      <td>1.099533</td>\n",
       "      <td>1.084730</td>\n",
       "      <td>0.719154</td>\n",
       "      <td>1.126544</td>\n",
       "      <td>0.499953</td>\n",
       "      <td>0.816987</td>\n",
       "      <td>1.472040</td>\n",
       "    </tr>\n",
       "    <tr>\n",
       "      <th>1</th>\n",
       "      <td>1.075659</td>\n",
       "      <td>1.124996</td>\n",
       "      <td>1.093158</td>\n",
       "      <td>1.832556</td>\n",
       "      <td>1.087446</td>\n",
       "      <td>0.575323</td>\n",
       "      <td>1.502058</td>\n",
       "      <td>0.368387</td>\n",
       "      <td>1.702056</td>\n",
       "      <td>0.788593</td>\n",
       "    </tr>\n",
       "    <tr>\n",
       "      <th>2</th>\n",
       "      <td>1.137125</td>\n",
       "      <td>1.165175</td>\n",
       "      <td>0.273290</td>\n",
       "      <td>0.366511</td>\n",
       "      <td>1.486750</td>\n",
       "      <td>2.301292</td>\n",
       "      <td>1.314301</td>\n",
       "      <td>0.394700</td>\n",
       "      <td>0.408493</td>\n",
       "      <td>1.130317</td>\n",
       "    </tr>\n",
       "    <tr>\n",
       "      <th>3</th>\n",
       "      <td>0.860527</td>\n",
       "      <td>0.883926</td>\n",
       "      <td>0.546579</td>\n",
       "      <td>1.466045</td>\n",
       "      <td>1.009578</td>\n",
       "      <td>1.150646</td>\n",
       "      <td>0.563272</td>\n",
       "      <td>0.236820</td>\n",
       "      <td>0.885069</td>\n",
       "      <td>0.210291</td>\n",
       "    </tr>\n",
       "    <tr>\n",
       "      <th>4</th>\n",
       "      <td>1.444457</td>\n",
       "      <td>1.004461</td>\n",
       "      <td>2.732895</td>\n",
       "      <td>1.466045</td>\n",
       "      <td>0.904545</td>\n",
       "      <td>2.157461</td>\n",
       "      <td>0.375515</td>\n",
       "      <td>3.604928</td>\n",
       "      <td>1.055275</td>\n",
       "      <td>0.420583</td>\n",
       "    </tr>\n",
       "    <tr>\n",
       "      <th>...</th>\n",
       "      <td>...</td>\n",
       "      <td>...</td>\n",
       "      <td>...</td>\n",
       "      <td>...</td>\n",
       "      <td>...</td>\n",
       "      <td>...</td>\n",
       "      <td>...</td>\n",
       "      <td>...</td>\n",
       "      <td>...</td>\n",
       "      <td>...</td>\n",
       "    </tr>\n",
       "    <tr>\n",
       "      <th>1409</th>\n",
       "      <td>0.491730</td>\n",
       "      <td>0.803569</td>\n",
       "      <td>0.819869</td>\n",
       "      <td>0.000000</td>\n",
       "      <td>0.799513</td>\n",
       "      <td>0.287661</td>\n",
       "      <td>1.126544</td>\n",
       "      <td>1.499860</td>\n",
       "      <td>0.612740</td>\n",
       "      <td>2.181774</td>\n",
       "    </tr>\n",
       "    <tr>\n",
       "      <th>1410</th>\n",
       "      <td>1.229325</td>\n",
       "      <td>1.767852</td>\n",
       "      <td>2.186316</td>\n",
       "      <td>1.466045</td>\n",
       "      <td>1.536550</td>\n",
       "      <td>1.150646</td>\n",
       "      <td>2.253087</td>\n",
       "      <td>1.420920</td>\n",
       "      <td>2.042467</td>\n",
       "      <td>0.236578</td>\n",
       "    </tr>\n",
       "    <tr>\n",
       "      <th>1411</th>\n",
       "      <td>1.167858</td>\n",
       "      <td>1.165175</td>\n",
       "      <td>1.366448</td>\n",
       "      <td>0.733022</td>\n",
       "      <td>1.024065</td>\n",
       "      <td>1.294477</td>\n",
       "      <td>0.751029</td>\n",
       "      <td>0.763087</td>\n",
       "      <td>1.123357</td>\n",
       "      <td>0.078859</td>\n",
       "    </tr>\n",
       "    <tr>\n",
       "      <th>1412</th>\n",
       "      <td>0.676129</td>\n",
       "      <td>0.522320</td>\n",
       "      <td>0.273290</td>\n",
       "      <td>0.366511</td>\n",
       "      <td>0.803135</td>\n",
       "      <td>0.143831</td>\n",
       "      <td>0.563272</td>\n",
       "      <td>0.710460</td>\n",
       "      <td>0.204247</td>\n",
       "      <td>1.340608</td>\n",
       "    </tr>\n",
       "    <tr>\n",
       "      <th>1413</th>\n",
       "      <td>1.014193</td>\n",
       "      <td>0.883926</td>\n",
       "      <td>1.639737</td>\n",
       "      <td>1.466045</td>\n",
       "      <td>1.025876</td>\n",
       "      <td>0.287661</td>\n",
       "      <td>0.751029</td>\n",
       "      <td>1.368294</td>\n",
       "      <td>1.429727</td>\n",
       "      <td>0.946312</td>\n",
       "    </tr>\n",
       "  </tbody>\n",
       "</table>\n",
       "<p>1414 rows × 10 columns</p>\n",
       "</div>"
      ],
      "text/plain": [
       "      shots_11H  shots_11A   goals_H   goals_A  passes_11A  keyPasses_H  \\\n",
       "0      0.860527   0.723212  0.273290  1.099533    1.084730     0.719154   \n",
       "1      1.075659   1.124996  1.093158  1.832556    1.087446     0.575323   \n",
       "2      1.137125   1.165175  0.273290  0.366511    1.486750     2.301292   \n",
       "3      0.860527   0.883926  0.546579  1.466045    1.009578     1.150646   \n",
       "4      1.444457   1.004461  2.732895  1.466045    0.904545     2.157461   \n",
       "...         ...        ...       ...       ...         ...          ...   \n",
       "1409   0.491730   0.803569  0.819869  0.000000    0.799513     0.287661   \n",
       "1410   1.229325   1.767852  2.186316  1.466045    1.536550     1.150646   \n",
       "1411   1.167858   1.165175  1.366448  0.733022    1.024065     1.294477   \n",
       "1412   0.676129   0.522320  0.273290  0.366511    0.803135     0.143831   \n",
       "1413   1.014193   0.883926  1.639737  1.466045    1.025876     0.287661   \n",
       "\n",
       "      keyPasses_A  ataque_h  ataque_a  defensa_a  \n",
       "0        1.126544  0.499953  0.816987   1.472040  \n",
       "1        1.502058  0.368387  1.702056   0.788593  \n",
       "2        1.314301  0.394700  0.408493   1.130317  \n",
       "3        0.563272  0.236820  0.885069   0.210291  \n",
       "4        0.375515  3.604928  1.055275   0.420583  \n",
       "...           ...       ...       ...        ...  \n",
       "1409     1.126544  1.499860  0.612740   2.181774  \n",
       "1410     2.253087  1.420920  2.042467   0.236578  \n",
       "1411     0.751029  0.763087  1.123357   0.078859  \n",
       "1412     0.563272  0.710460  0.204247   1.340608  \n",
       "1413     0.751029  1.368294  1.429727   0.946312  \n",
       "\n",
       "[1414 rows x 10 columns]"
      ]
     },
     "execution_count": 69,
     "metadata": {},
     "output_type": "execute_result"
    }
   ],
   "source": [
    "X_kbest = kbest_chi2.transform(X_norm)\n",
    "mask_new_feat = kbest_chi2.get_support()\n",
    "pd.DataFrame(X_kbest,columns=features[mask_new_feat])"
   ]
  },
  {
   "cell_type": "code",
   "execution_count": 70,
   "metadata": {},
   "outputs": [
    {
     "data": {
      "text/plain": [
       "array(['shots_11H', 'shots_11A', 'goals_H', 'goals_A', 'passes_11A',\n",
       "       'keyPasses_H', 'keyPasses_A', 'ataque_h', 'ataque_a', 'defensa_a'],\n",
       "      dtype='<U15')"
      ]
     },
     "execution_count": 70,
     "metadata": {},
     "output_type": "execute_result"
    }
   ],
   "source": [
    "features[mask_new_feat]"
   ]
  },
  {
   "cell_type": "code",
   "execution_count": 71,
   "metadata": {},
   "outputs": [
    {
     "data": {
      "image/png": "[encoded data removed]",
      "text/plain": [
       "<Figure size 864x432 with 1 Axes>"
      ]
     },
     "metadata": {
      "needs_background": "light"
     },
     "output_type": "display_data"
    }
   ],
   "source": [
    "pvalues = -np.log10(kbest_chi2.pvalues_)\n",
    "pvalues /= pvalues.max()\n",
    "\n",
    "plt.figure(figsize=(12,6))\n",
    "plt.clf()\n",
    "plt.bar(features, pvalues, width=0.75)\n",
    "plt.title(\"$\\chi^2$ score\")\n",
    "plt.xlabel(\"Feature number\")\n",
    "plt.ylabel(\"P-values\")\n",
    "plt.xticks(rotation=90)\n",
    "plt.savefig(path_graphs + 'feature_univariate_score_chi2.jpg', format='jpg', dpi=200,bbox_inches='tight')\n",
    "plt.show()"
   ]
  },
  {
   "cell_type": "markdown",
   "metadata": {},
   "source": [
    "INTERESTING: compare with weights of our model (e.g. SVM)\n",
    "\n",
    "https://scikit-learn.org/stable/auto_examples/feature_selection/plot_feature_selection.html#sphx-glr-auto-examples-feature-selection-plot-feature-selection-py"
   ]
  },
  {
   "cell_type": "markdown",
   "metadata": {},
   "source": [
    "##### Mutual Information"
   ]
  },
  {
   "cell_type": "markdown",
   "metadata": {},
   "source": [
    "Estimate mutual information for a discrete target variable.\n",
    "\n",
    "Mutual information between two random variables is a non-negative value, which measures the dependency between the variables. It is equal to zero if and only if two random variables are independent, and higher values mean higher dependency.\n",
    "\n",
    "The function relies on nonparametric methods based on entropy estimation from k-nearest neighbors distances.\n",
    "\n",
    "Comparison of F-test and mutual information¶\n",
    "\n",
    "https://scikit-learn.org/stable/auto_examples/feature_selection/plot_f_test_vs_mi.html#sphx-glr-auto-examples-feature-selection-plot-f-test-vs-mi-py"
   ]
  },
  {
   "cell_type": "code",
   "execution_count": 25,
   "metadata": {},
   "outputs": [],
   "source": [
    "n_neighbors = 10\n",
    "mutualinfo = feature_selection.mutual_info_classif(X=X_norm, y=data.res, n_neighbors=n_neighbors, random_state=0)"
   ]
  },
  {
   "cell_type": "code",
   "execution_count": 26,
   "metadata": {},
   "outputs": [
    {
     "data": {
      "image/png": "[encoded data removed]",
      "text/plain": [
       "<Figure size 864x432 with 1 Axes>"
      ]
     },
     "metadata": {
      "needs_background": "light"
     },
     "output_type": "display_data"
    }
   ],
   "source": [
    "plt.figure(figsize=(12,6))\n",
    "plt.clf()\n",
    "plt.bar(features, mutualinfo, width=0.75)\n",
    "plt.title(f\"Mutual information ({n_neighbors}) score with target value\")\n",
    "plt.xlabel(\"Feature number\")\n",
    "plt.ylabel(\"mutual information value\")\n",
    "plt.xticks(rotation=90)\n",
    "# plt.savefig(path_graphs + f'feature_univariate_score_mutualinfo_{n_neighbors}.jpg', format='jpg', dpi=200,bbox_inches='tight')\n",
    "plt.show()"
   ]
  },
  {
   "cell_type": "markdown",
   "metadata": {},
   "source": [
    "#### Pesos del modelo\n",
    "\n",
    "Visualizar los pesos del modelo entrenado para ver a que características les ha dado más importancia.\n",
    "\n",
    "<hr>"
   ]
  },
  {
   "cell_type": "markdown",
   "metadata": {},
   "source": [
    "### Analisi Multivariado"
   ]
  },
  {
   "cell_type": "markdown",
   "metadata": {},
   "source": [
    "#### Pearson Correlation"
   ]
  },
  {
   "cell_type": "markdown",
   "metadata": {},
   "source": [
    "Pearson correlation coefficient and p-value for testing non-correlation.\n",
    "\n",
    "The Pearson correlation coefficient measures the linear relationship between two datasets. Like other correlation coefficients, this one varies between -1 and +1 with 0 implying no correlation. Correlations of -1 or +1 imply an exact linear relationship. Positive correlations imply that as x increases, so does y. Negative correlations imply that as x increases, y decreases.\n",
    "\n"
   ]
  },
  {
   "cell_type": "code",
   "execution_count": 97,
   "metadata": {},
   "outputs": [],
   "source": [
    "from scipy.stats import pearsonr, spearmanr"
   ]
  },
  {
   "cell_type": "code",
   "execution_count": 98,
   "metadata": {},
   "outputs": [
    {
     "data": {
      "text/plain": [
       "Index(['mins4_H', 'mins4_A', 'shots_11H', 'shots_11A', 'shots_acc_11H',\n",
       "       'shots_acc_11A', 'goals_H', 'goals_A', 'goals_ratio_H', 'goals_ratio_A',\n",
       "       'passes_11H', 'passes_11A', 'passes_acc_11H', 'passes_acc_11A',\n",
       "       'keyPasses_H', 'keyPasses_A', 'ataque_h', 'defensa_h', 'ataque_a',\n",
       "       'defensa_a'],\n",
       "      dtype='object')"
      ]
     },
     "execution_count": 98,
     "metadata": {},
     "output_type": "execute_result"
    }
   ],
   "source": [
    "X_norm.columns"
   ]
  },
  {
   "cell_type": "code",
   "execution_count": 99,
   "metadata": {},
   "outputs": [
    {
     "data": {
      "text/plain": [
       "(190, 2)"
      ]
     },
     "execution_count": 99,
     "metadata": {},
     "output_type": "execute_result"
    }
   ],
   "source": [
    "pearson_comp = (np.array(np.meshgrid(np.arange(len(X_norm.columns)),np.arange(len(X_norm.columns))))\n",
    "                    .T.reshape((-1,2)))\n",
    "pearson_comp = pearson_comp[ [(pc[0]!=pc[1]) for pc in pearson_comp] ]\n",
    "\n",
    "pearson_comp.sort(axis=1)\n",
    "pearson_comp = np.unique(pearson_comp,axis=0)\n",
    "pearson_comp.shape\n"
   ]
  },
  {
   "cell_type": "code",
   "execution_count": 100,
   "metadata": {},
   "outputs": [],
   "source": [
    "pearson, col1, col2 = [],[],[]\n",
    "\n",
    "for pc in pearson_comp:\n",
    "    c1,c2 = X_norm.columns[pc[0]], X_norm.columns[pc[1]]\n",
    "    pc,_ = pearsonr(data[c1],data[c2])\n",
    "    pearson.append(pc), col1.append(c1), col2.append(c2)\n",
    "\n",
    "pearson = np.array(pearson)\n",
    "col1    = np.array(col1)\n",
    "col2    = np.array(col2)"
   ]
  },
  {
   "cell_type": "code",
   "execution_count": 101,
   "metadata": {},
   "outputs": [
    {
     "data": {
      "text/plain": [
       "Index(['mins4_H', 'mins4_A', 'shots_11H', 'shots_11A', 'shots_acc_11H',\n",
       "       'shots_acc_11A', 'goals_H', 'goals_A', 'goals_ratio_H', 'goals_ratio_A',\n",
       "       'passes_11H', 'passes_11A', 'passes_acc_11H', 'passes_acc_11A',\n",
       "       'keyPasses_H', 'keyPasses_A', 'ataque_h', 'defensa_h', 'ataque_a',\n",
       "       'defensa_a'],\n",
       "      dtype='object')"
      ]
     },
     "execution_count": 101,
     "metadata": {},
     "output_type": "execute_result"
    }
   ],
   "source": [
    "X_norm.columns"
   ]
  },
  {
   "cell_type": "code",
   "execution_count": 124,
   "metadata": {},
   "outputs": [
    {
     "name": "stdout",
     "output_type": "stream",
     "text": [
      "13 13\n"
     ]
    },
    {
     "data": {
      "image/png": "[encoded data removed]",
      "text/plain": [
       "<Figure size 720x288 with 1 Axes>"
      ]
     },
     "metadata": {
      "needs_background": "light"
     },
     "output_type": "display_data"
    }
   ],
   "source": [
    "# PLOT OF MAIN FEATURES\n",
    "\n",
    "v1 = ['goals_H','shots_11H','shots_11H','shots_acc_11H','mins4_H',\n",
    "        'shots_11H','keyPasses_H','goals_H','keyPasses_H','keyPasses_H','passes_11H','ataque_h','ataque_h']\n",
    "v2 = ['passes_11H','passes_11H','shots_acc_11H','goals_H','goals_ratio_H',\n",
    "        'goals_H','goals_H','ataque_h','ataque_h','passes_11H','defensa_h','defensa_h','goals_ratio_H']\n",
    "v,pson = [],[]\n",
    "\n",
    "for v1,v2 in zip(v1,v2):\n",
    "        p,_ = pearsonr(X_norm[v1],X_norm[v2])\n",
    "        pson.append(p), v.append(f'{v1}\\n{v2}')\n",
    "\n",
    "print(len(v),len(pson))\n",
    "\n",
    "plt.figure(figsize=(10,4))\n",
    "plt.bar(v, pson, width=0.75)\n",
    "plt.title(f\"Peason Correlation (home features)\")\n",
    "plt.ylim([-0.25,0.8])\n",
    "plt.xlabel(\"Feature correlation\")\n",
    "plt.ylabel(\"Pearson value\")\n",
    "# plt.xticks(rotation=90)\n",
    "plt.xticks(fontsize=8,rotation=40)\n",
    "# plt.savefig(path_graphs + f'feature_multivariate_pearson.jpg', format='jpg', dpi=200,bbox_inches='tight')\n",
    "plt.show()"
   ]
  },
  {
   "cell_type": "markdown",
   "metadata": {},
   "source": [
    "#### Spearman Correlation"
   ]
  },
  {
   "cell_type": "markdown",
   "metadata": {},
   "source": [
    "Calculate a Spearman correlation coefficient with associated p-value.\n",
    "\n",
    "The Spearman rank-order correlation coefficient is a nonparametric measure of the monotonicity of the relationship between two datasets. Unlike the Pearson correlation, the Spearman correlation does not assume that both datasets are normally distributed. Like other correlation coefficients, this one varies between -1 and +1 with 0 implying no correlation. Correlations of -1 or +1 imply an exact monotonic relationship. Positive correlations imply that as x increases, so does y. Negative correlations imply that as x increases, y decreases.\n",
    "\n",
    "The p-value roughly indicates the probability of an uncorrelated system producing datasets that have a Spearman correlation at least as extreme as the one computed from these datasets. The p-values are not entirely reliable but are probably reasonable for datasets larger than 500 or so.\n",
    "\n"
   ]
  },
  {
   "cell_type": "code",
   "execution_count": 103,
   "metadata": {},
   "outputs": [],
   "source": [
    "spearman=[]\n",
    "\n",
    "for pc in pearson_comp:\n",
    "    c1,c2 = X_norm.columns[pc[0]], X_norm.columns[pc[1]]\n",
    "    pc,_ = spearmanr(X_norm[c1],X_norm[c2])\n",
    "    spearman.append(pc)\n",
    "\n",
    "spearman = np.array(pearson)"
   ]
  },
  {
   "cell_type": "code",
   "execution_count": 104,
   "metadata": {},
   "outputs": [],
   "source": [
    "correlationDF = pd.DataFrame({'Var.1':col1, 'Var.2':col2, 'Pearson Corr.':pearson, 'Spearman Corr.':spearman})\n",
    "correlationDF.to_csv(path_graphs+'pearson_spearman_correlation.csv',sep=';')"
   ]
  },
  {
   "cell_type": "code",
   "execution_count": 111,
   "metadata": {},
   "outputs": [],
   "source": [
    "correlationDF['pearson_sort'] = correlationDF['Pearson Corr.'].abs()"
   ]
  },
  {
   "cell_type": "code",
   "execution_count": 117,
   "metadata": {},
   "outputs": [
    {
     "data": {
      "text/plain": [
       "True"
      ]
     },
     "execution_count": 117,
     "metadata": {},
     "output_type": "execute_result"
    }
   ],
   "source": [
    "1e-5==0.00001"
   ]
  },
  {
   "cell_type": "code",
   "execution_count": 119,
   "metadata": {},
   "outputs": [
    {
     "data": {
      "text/html": [
       "<div>\n",
       "<style scoped>\n",
       "    .dataframe tbody tr th:only-of-type {\n",
       "        vertical-align: middle;\n",
       "    }\n",
       "\n",
       "    .dataframe tbody tr th {\n",
       "        vertical-align: top;\n",
       "    }\n",
       "\n",
       "    .dataframe thead th {\n",
       "        text-align: right;\n",
       "    }\n",
       "</style>\n",
       "<table border=\"1\" class=\"dataframe\">\n",
       "  <thead>\n",
       "    <tr style=\"text-align: right;\">\n",
       "      <th></th>\n",
       "      <th>Var.1</th>\n",
       "      <th>Var.2</th>\n",
       "      <th>Pearson Corr.</th>\n",
       "      <th>Spearman Corr.</th>\n",
       "      <th>pearson_sort</th>\n",
       "    </tr>\n",
       "  </thead>\n",
       "  <tbody>\n",
       "    <tr>\n",
       "      <th>0</th>\n",
       "      <td>mins4_H</td>\n",
       "      <td>mins4_A</td>\n",
       "      <td>0.899488</td>\n",
       "      <td>0.899488</td>\n",
       "      <td>0.899488</td>\n",
       "    </tr>\n",
       "    <tr>\n",
       "      <th>122</th>\n",
       "      <td>goals_A</td>\n",
       "      <td>ataque_a</td>\n",
       "      <td>0.769980</td>\n",
       "      <td>0.769980</td>\n",
       "      <td>0.769980</td>\n",
       "    </tr>\n",
       "    <tr>\n",
       "      <th>108</th>\n",
       "      <td>goals_H</td>\n",
       "      <td>ataque_h</td>\n",
       "      <td>0.752754</td>\n",
       "      <td>0.752754</td>\n",
       "      <td>0.752754</td>\n",
       "    </tr>\n",
       "    <tr>\n",
       "      <th>155</th>\n",
       "      <td>passes_11A</td>\n",
       "      <td>passes_acc_11A</td>\n",
       "      <td>0.683718</td>\n",
       "      <td>0.683718</td>\n",
       "      <td>0.683718</td>\n",
       "    </tr>\n",
       "    <tr>\n",
       "      <th>146</th>\n",
       "      <td>passes_11H</td>\n",
       "      <td>passes_acc_11H</td>\n",
       "      <td>0.649781</td>\n",
       "      <td>0.649781</td>\n",
       "      <td>0.649781</td>\n",
       "    </tr>\n",
       "    <tr>\n",
       "      <th>44</th>\n",
       "      <td>shots_11H</td>\n",
       "      <td>passes_11H</td>\n",
       "      <td>0.642704</td>\n",
       "      <td>0.642704</td>\n",
       "      <td>0.642704</td>\n",
       "    </tr>\n",
       "    <tr>\n",
       "      <th>61</th>\n",
       "      <td>shots_11A</td>\n",
       "      <td>passes_11A</td>\n",
       "      <td>0.637439</td>\n",
       "      <td>0.637439</td>\n",
       "      <td>0.637439</td>\n",
       "    </tr>\n",
       "    <tr>\n",
       "      <th>48</th>\n",
       "      <td>shots_11H</td>\n",
       "      <td>keyPasses_H</td>\n",
       "      <td>0.598941</td>\n",
       "      <td>0.598941</td>\n",
       "      <td>0.598941</td>\n",
       "    </tr>\n",
       "    <tr>\n",
       "      <th>65</th>\n",
       "      <td>shots_11A</td>\n",
       "      <td>keyPasses_A</td>\n",
       "      <td>0.575370</td>\n",
       "      <td>0.575370</td>\n",
       "      <td>0.575370</td>\n",
       "    </tr>\n",
       "    <tr>\n",
       "      <th>113</th>\n",
       "      <td>goals_A</td>\n",
       "      <td>goals_ratio_A</td>\n",
       "      <td>0.565364</td>\n",
       "      <td>0.565364</td>\n",
       "      <td>0.565364</td>\n",
       "    </tr>\n",
       "  </tbody>\n",
       "</table>\n",
       "</div>"
      ],
      "text/plain": [
       "          Var.1           Var.2  Pearson Corr.  Spearman Corr.  pearson_sort\n",
       "0       mins4_H         mins4_A       0.899488        0.899488      0.899488\n",
       "122     goals_A        ataque_a       0.769980        0.769980      0.769980\n",
       "108     goals_H        ataque_h       0.752754        0.752754      0.752754\n",
       "155  passes_11A  passes_acc_11A       0.683718        0.683718      0.683718\n",
       "146  passes_11H  passes_acc_11H       0.649781        0.649781      0.649781\n",
       "44    shots_11H      passes_11H       0.642704        0.642704      0.642704\n",
       "61    shots_11A      passes_11A       0.637439        0.637439      0.637439\n",
       "48    shots_11H     keyPasses_H       0.598941        0.598941      0.598941\n",
       "65    shots_11A     keyPasses_A       0.575370        0.575370      0.575370\n",
       "113     goals_A   goals_ratio_A       0.565364        0.565364      0.565364"
      ]
     },
     "execution_count": 119,
     "metadata": {},
     "output_type": "execute_result"
    }
   ],
   "source": [
    "correlationDF.sort_values('pearson_sort',ascending=False)[:10]"
   ]
  },
  {
   "cell_type": "markdown",
   "metadata": {},
   "source": [
    "#### Linear Discriminant Analysis (LDA)\n",
    "\n",
    "<b>En LDA se asume que las caract. o muestras son independientes?</b>"
   ]
  },
  {
   "cell_type": "markdown",
   "metadata": {},
   "source": [
    "https://towardsdatascience.com/linear-discriminant-analysis-explained-f88be6c1e00b\n",
    "\n",
    "LinearDiscriminantAnalysis can be used to perform supervised dimensionality reduction, by projecting the input data to a linear subspace consisting of the directions which maximize the separation between classes.\n",
    "\n",
    "with $x\\in\\R^d$\n",
    "\n",
    "$P(y=k | x) = \\frac{P(x | y=k) P(y=k)}{P(x)} = \\frac{P(x | y=k) P(y = k)}{ \\sum_{l} P(x | y=l) \\cdot P(y=l)}$\n",
    "\n",
    "for linear and quadratic discriminant analysis,  is modeled as a multivariate Gaussian distribution with density:\n",
    "\n",
    "$P(x | y=k) = \\frac{1}{(2\\pi)^{d/2} |\\Sigma_k|^{1/2}}\\exp\\left(-\\frac{1}{2} (x-\\mu_k)^t \\Sigma_k^{-1} (x-\\mu_k)\\right)$\n",
    "\n",
    "In LDA is a special case in which we assume to share the same covariance matrix: $\\Sigma_k = \\Sigma$ for all $k$.\n",
    "\n",
    "$\\log P(y=k | x) = -\\frac{1}{2} (x-\\mu_k)^t \\Sigma^{-1} (x-\\mu_k) + \\log P(y = k) + Cst.$\n",
    "\n",
    "The term $(x-\\mu_k)^t \\Sigma^{-1} (x-\\mu_k)$ corresponds to the Mahalanobis Distance between the sample $x$ and the mean $\\mu_k$. The Mahalanobis distance tells how close $x$ is from $\\mu_k$, while also accounting for the variance of each feature. We can thus interpret LDA as assigning $x$ to the class whose mean is the closest in terms of Mahalanobis distance, while also accounting for the class prior probabilities.\n",
    "\n",
    "The log-posterior of LDA can be also written as:\n",
    "\n",
    "$\\log P(y=k | x) = \\omega_k^t x + \\omega_{k0} + Cst.$\n",
    "\n",
    "where $\\omega_k = \\Sigma^{-1} \\mu_k$ and $\\omega_{k0} = -\\frac{1}{2} \\mu_k^t\\Sigma^{-1}\\mu_k + \\log P (y = k)$\n",
    "\n",
    "It is clear, from the above formula, that LDA has linear decision surface."
   ]
  },
  {
   "cell_type": "code",
   "execution_count": null,
   "metadata": {},
   "outputs": [],
   "source": [
    "lda = discriminant_analysis.LinearDiscriminantAnalysis(solver='eigen')"
   ]
  },
  {
   "cell_type": "markdown",
   "metadata": {},
   "source": [
    "No podemos proyectar los datos a más de $k-1$ dimensiones, ya que la matrix $S_b$ (between-class matrix) tiene rango $k$."
   ]
  },
  {
   "cell_type": "code",
   "execution_count": null,
   "metadata": {},
   "outputs": [],
   "source": [
    "y = data.dropna().res"
   ]
  },
  {
   "cell_type": "code",
   "execution_count": null,
   "metadata": {},
   "outputs": [],
   "source": [
    "lda.fit(X_norm,y)"
   ]
  },
  {
   "cell_type": "code",
   "execution_count": null,
   "metadata": {},
   "outputs": [],
   "source": [
    "X_lda = lda.transform(X_norm)\n",
    "X_lda.shape"
   ]
  },
  {
   "cell_type": "code",
   "execution_count": null,
   "metadata": {},
   "outputs": [],
   "source": [
    "# plot LDA transformation\n",
    "\n",
    "plt.figure(figsize=(15,10))\n",
    "plt.title('LDA projection')\n",
    "plt.xlabel('x projection')\n",
    "plt.ylabel('y projection')\n",
    "plt.legend(y)\n",
    "plt.scatter(X_lda[:,0],X_lda[:,1],c=y,cmap='Dark2_r',alpha=0.4)\n",
    "\n",
    "plt.savefig(path_graphs + 'lda_projection.jpg', format='jpg', dpi=200)"
   ]
  },
  {
   "cell_type": "markdown",
   "metadata": {},
   "source": [
    "#### Feature Selection in Time Series"
   ]
  },
  {
   "cell_type": "markdown",
   "metadata": {},
   "source": [
    "About Time Series: https://towardsdatascience.com/12-things-you-should-know-about-time-series-975a185f4eb2"
   ]
  },
  {
   "cell_type": "markdown",
   "metadata": {},
   "source": [
    "##### I. Pearson's Correlation Coef VS Kolmogorov-Smirnov Test\n",
    "\n",
    "https://towardsdatascience.com/time-series-clustering-and-dimensionality-reduction-5b3b4e84f6a3\n",
    "\n",
    "Kolmogorov-Smirnov Test: https://en.wikipedia.org/wiki/Kolmogorov%E2%80%93Smirnov_test"
   ]
  },
  {
   "cell_type": "markdown",
   "metadata": {},
   "source": [
    "##### II. Vector Autoregression (VAR)\n",
    "\n",
    "https://towardsdatascience.com/multiple-series-forecast-them-together-with-any-sklearn-model-96319d46269\n",
    "\n",
    "¿How many lags to use? https://www.econometrics-with-r.org/14-6-llsuic.html"
   ]
  },
  {
   "cell_type": "markdown",
   "metadata": {},
   "source": [
    "##### III. ForeCA\n",
    "\n",
    "https://stats.stackexchange.com/questions/82291/time-series-dimensionality-reduction"
   ]
  },
  {
   "cell_type": "markdown",
   "metadata": {},
   "source": [
    "#### Principal Component Analysis (PCA)\n",
    "\n",
    "Sklearn does not implement PCA with eigen-decomposition of the Covariance matrix. However it is performed via SVD of the data matrix X.\n",
    "\n",
    "https://stats.stackexchange.com/questions/134282/relationship-between-svd-and-pca-how-to-use-svd-to-perform-pca\n",
    "\n",
    "<a href='https://stats.stackexchange.com/questions/2691/making-sense-of-principal-component-analysis-eigenvectors-eigenvalues/140579#140579'>Intuitive explanation</a>"
   ]
  },
  {
   "cell_type": "markdown",
   "metadata": {},
   "source": [
    "The number of Principal Components (n_comps) will be also trained as hyperparameter during Cross-Validation."
   ]
  }
 ],
 "metadata": {
  "interpreter": {
   "hash": "288ff6fe8157f43ba3e1fb4cfa0011490e9beb907b54ad0d71ae70a61946bdb3"
  },
  "kernelspec": {
   "display_name": "Python 3.8.8 ('tfg')",
   "language": "python",
   "name": "python3"
  },
  "language_info": {
   "codemirror_mode": {
    "name": "ipython",
    "version": 3
   },
   "file_extension": ".py",
   "mimetype": "text/x-python",
   "name": "python",
   "nbconvert_exporter": "python",
   "pygments_lexer": "ipython3",
   "version": "3.8.8"
  },
  "orig_nbformat": 4
 },
 "nbformat": 4,
 "nbformat_minor": 2
}
