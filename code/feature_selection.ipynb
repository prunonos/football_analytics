{
 "cells": [
  {
   "cell_type": "markdown",
   "metadata": {},
   "source": [
    "# FEATURE SELECTION"
   ]
  },
  {
   "cell_type": "code",
   "execution_count": 1,
   "metadata": {},
   "outputs": [],
   "source": [
    "import os\n",
    "import pandas as pd\n",
    "import numpy as np\n",
    "import seaborn as sns\n",
    "from sklearn import feature_selection, preprocessing, discriminant_analysis\n",
    "import matplotlib.pyplot as plt\n",
    "%matplotlib inline "
   ]
  },
  {
   "cell_type": "code",
   "execution_count": 2,
   "metadata": {},
   "outputs": [],
   "source": [
    "path_rawdata    = 'F://TFG//datasets/raw_datasets//'\n",
    "path_train      = 'F://TFG//datasets//data_train//'\n",
    "path_graphs     = 'F://TFG//graphs//'\n",
    "path            = 'F:/TFG/datasets/nature-dataset/'"
   ]
  },
  {
   "cell_type": "code",
   "execution_count": 3,
   "metadata": {},
   "outputs": [
    {
     "data": {
      "text/html": [
       "<div>\n",
       "<style scoped>\n",
       "    .dataframe tbody tr th:only-of-type {\n",
       "        vertical-align: middle;\n",
       "    }\n",
       "\n",
       "    .dataframe tbody tr th {\n",
       "        vertical-align: top;\n",
       "    }\n",
       "\n",
       "    .dataframe thead th {\n",
       "        text-align: right;\n",
       "    }\n",
       "</style>\n",
       "<table border=\"1\" class=\"dataframe\">\n",
       "  <thead>\n",
       "    <tr style=\"text-align: right;\">\n",
       "      <th></th>\n",
       "      <th>dateutc</th>\n",
       "      <th>competitionId</th>\n",
       "      <th>seasonId</th>\n",
       "      <th>roundId</th>\n",
       "      <th>winner</th>\n",
       "      <th>teamId_home</th>\n",
       "      <th>score_home</th>\n",
       "      <th>scoreHT_home</th>\n",
       "      <th>teamId_away</th>\n",
       "      <th>score_away</th>\n",
       "      <th>...</th>\n",
       "      <th>passes_acc_11H</th>\n",
       "      <th>passes_acc_11A</th>\n",
       "      <th>keyPasses_H</th>\n",
       "      <th>keyPasses_A</th>\n",
       "      <th>ataque_h</th>\n",
       "      <th>defensa_h</th>\n",
       "      <th>ataque_a</th>\n",
       "      <th>defensa_a</th>\n",
       "      <th>ataquedefensa_H</th>\n",
       "      <th>ataquedefensa_A</th>\n",
       "    </tr>\n",
       "    <tr>\n",
       "      <th>wyId</th>\n",
       "      <th></th>\n",
       "      <th></th>\n",
       "      <th></th>\n",
       "      <th></th>\n",
       "      <th></th>\n",
       "      <th></th>\n",
       "      <th></th>\n",
       "      <th></th>\n",
       "      <th></th>\n",
       "      <th></th>\n",
       "      <th></th>\n",
       "      <th></th>\n",
       "      <th></th>\n",
       "      <th></th>\n",
       "      <th></th>\n",
       "      <th></th>\n",
       "      <th></th>\n",
       "      <th></th>\n",
       "      <th></th>\n",
       "      <th></th>\n",
       "      <th></th>\n",
       "    </tr>\n",
       "  </thead>\n",
       "  <tbody>\n",
       "    <tr>\n",
       "      <th>2499738</th>\n",
       "      <td>2018-03-31 14:00:00</td>\n",
       "      <td>364</td>\n",
       "      <td>181150</td>\n",
       "      <td>4405654</td>\n",
       "      <td>1633</td>\n",
       "      <td>1633</td>\n",
       "      <td>3</td>\n",
       "      <td>3</td>\n",
       "      <td>1619</td>\n",
       "      <td>0</td>\n",
       "      <td>...</td>\n",
       "      <td>0.757778</td>\n",
       "      <td>0.782137</td>\n",
       "      <td>5</td>\n",
       "      <td>6</td>\n",
       "      <td>0.76</td>\n",
       "      <td>1.72</td>\n",
       "      <td>0.96</td>\n",
       "      <td>2.24</td>\n",
       "      <td>0.973546</td>\n",
       "      <td>0.817933</td>\n",
       "    </tr>\n",
       "    <tr>\n",
       "      <th>2499799</th>\n",
       "      <td>2017-10-21 11:30:00</td>\n",
       "      <td>364</td>\n",
       "      <td>181150</td>\n",
       "      <td>4405654</td>\n",
       "      <td>1610</td>\n",
       "      <td>1610</td>\n",
       "      <td>4</td>\n",
       "      <td>1</td>\n",
       "      <td>1644</td>\n",
       "      <td>2</td>\n",
       "      <td>...</td>\n",
       "      <td>0.851005</td>\n",
       "      <td>0.843464</td>\n",
       "      <td>4</td>\n",
       "      <td>8</td>\n",
       "      <td>0.56</td>\n",
       "      <td>0.84</td>\n",
       "      <td>2.00</td>\n",
       "      <td>1.20</td>\n",
       "      <td>1.316667</td>\n",
       "      <td>0.810784</td>\n",
       "    </tr>\n",
       "    <tr>\n",
       "      <th>2499800</th>\n",
       "      <td>2017-10-22 12:30:00</td>\n",
       "      <td>364</td>\n",
       "      <td>181150</td>\n",
       "      <td>4405654</td>\n",
       "      <td>1609</td>\n",
       "      <td>1623</td>\n",
       "      <td>2</td>\n",
       "      <td>1</td>\n",
       "      <td>1609</td>\n",
       "      <td>5</td>\n",
       "      <td>...</td>\n",
       "      <td>0.836437</td>\n",
       "      <td>0.858100</td>\n",
       "      <td>16</td>\n",
       "      <td>7</td>\n",
       "      <td>0.60</td>\n",
       "      <td>1.20</td>\n",
       "      <td>0.48</td>\n",
       "      <td>1.72</td>\n",
       "      <td>0.983333</td>\n",
       "      <td>1.399187</td>\n",
       "    </tr>\n",
       "  </tbody>\n",
       "</table>\n",
       "<p>3 rows × 52 columns</p>\n",
       "</div>"
      ],
      "text/plain": [
       "                     dateutc  competitionId  seasonId  roundId  winner  \\\n",
       "wyId                                                                     \n",
       "2499738  2018-03-31 14:00:00            364    181150  4405654    1633   \n",
       "2499799  2017-10-21 11:30:00            364    181150  4405654    1610   \n",
       "2499800  2017-10-22 12:30:00            364    181150  4405654    1609   \n",
       "\n",
       "         teamId_home  score_home  scoreHT_home  teamId_away  score_away  ...  \\\n",
       "wyId                                                                     ...   \n",
       "2499738         1633           3             3         1619           0  ...   \n",
       "2499799         1610           4             1         1644           2  ...   \n",
       "2499800         1623           2             1         1609           5  ...   \n",
       "\n",
       "         passes_acc_11H  passes_acc_11A  keyPasses_H  keyPasses_A  ataque_h  \\\n",
       "wyId                                                                          \n",
       "2499738        0.757778        0.782137            5            6      0.76   \n",
       "2499799        0.851005        0.843464            4            8      0.56   \n",
       "2499800        0.836437        0.858100           16            7      0.60   \n",
       "\n",
       "         defensa_h  ataque_a  defensa_a  ataquedefensa_H  ataquedefensa_A  \n",
       "wyId                                                                       \n",
       "2499738       1.72      0.96       2.24         0.973546         0.817933  \n",
       "2499799       0.84      2.00       1.20         1.316667         0.810784  \n",
       "2499800       1.20      0.48       1.72         0.983333         1.399187  \n",
       "\n",
       "[3 rows x 52 columns]"
      ]
     },
     "execution_count": 3,
     "metadata": {},
     "output_type": "execute_result"
    }
   ],
   "source": [
    "ataque_defensa   = pd.read_csv(path_rawdata+'indicador_ataquedefensa_teams.csv',sep=';')\n",
    "data             = pd.read_csv(path_rawdata+'matches_wUltPartidos.csv',sep=';',index_col='wyId')\n",
    "shots            = pd.read_json(path_rawdata + 'shots.json')\n",
    "passes           = pd.read_json(path_rawdata + 'passes.json')\n",
    "data.head(3)"
   ]
  },
  {
   "cell_type": "markdown",
   "metadata": {},
   "source": [
    "Este es el dataset base sobre el cual haremos un analisis de características. Las características se dividen en diferentes tipos:\n",
    "- **Características propias del partido (lo identifican)**<br>\n",
    "       ['matchId', 'dateutc', 'competitionId', 'seasonId', 'roundId', 'winner',\n",
    "       'teamId_home', 'score_home', 'scoreHT_home', 'teamId_away',\n",
    "       'score_away', 'scoreHT_away']\n",
    "\n",
    "\n",
    "- **Estadísticas del partido**: p.e. goles, faltas, corners... Las usaremos para visualizar y ver si hay dependencia con el resultado<br>\n",
    "       ['HS', 'AS', 'HST', 'AST', 'HC', 'AC',\n",
    "       'HF', 'AF']\n",
    "\n",
    "\n",
    "- **Cuotas de Cassas de Apuestas**: usadas en el Baseline<br> ['B365H', 'B365D', 'B365A']\n",
    "\n",
    "\n",
    "- **Más estadísticas**: Las usaremos para visualizar y ver si hay dependencia con el resultado <br>\n",
    "       ['y0_sh_H', 'x0_sh_H',\n",
    "       'acc_avg_sh_H', 'goal_avg_sh_H', 'y0_sh_A', 'x0_sh_A', 'acc_avg_sh_A',\n",
    "       'goal_avg_sh_A', 'y0_ps_H', 'x0_ps_H', 'y1_ps_H',\n",
    "       'x1_ps_H', 'acc_avg_ps_H', 'keypass_ps_H', 'y0_ps_A', 'x0_ps_A',\n",
    "       'y1_ps_A', 'x1_ps_A', 'acc_avg_ps_A', 'keypass_ps_A']\n",
    "\n",
    "       \n",
    "- **Estadísticas del 11 titular los ultimos N partidos**: usadas para el modelo de predicción<br>\n",
    "       ['mins4_H', 'mins4_A', 'shots_11H',\n",
    "       'shots_11A', 'shots_acc_11H', 'shots_acc_11A', 'goals_H', 'goals_A',\n",
    "       'passes_11H', 'passes_11A', 'passes_acc_11H', 'passes_acc_11A',\n",
    "       'keyPasses_H', 'keyPasses_A']\n",
    "\n",
    "- **Rating del equipo**: define la forma y rating del equipo. Los 4 primeros definen el estado de forma en ataque y defensa del equipo en los ultimos 4 partidos, y los ultimos dos indicadores definen el rating del equipo durante la temporada.<br>\n",
    "       ['ataque_h, 'defensa_h', 'ataque_a', 'defensa_a', 'ataquedefensa_H, 'ataquedefensa_A']"
   ]
  },
  {
   "cell_type": "markdown",
   "metadata": {},
   "source": [
    "### PREPROCESAMIENTO DEL DATASET\n",
    "\n",
    "Ligeros cambios para visualizar y analizar los datos de los que disponemos."
   ]
  },
  {
   "cell_type": "code",
   "execution_count": 4,
   "metadata": {},
   "outputs": [],
   "source": [
    "target = []\n",
    "\n",
    "for match in data.itertuples():\n",
    "    if match.winner == 0: target.append(0)\n",
    "    elif match.winner == match.teamId_home: target.append(1)\n",
    "    else: target.append(2)\n",
    "\n",
    "data['res'] = target"
   ]
  },
  {
   "cell_type": "markdown",
   "metadata": {},
   "source": [
    "## ANALISIS Y VISUALIZACIÓN"
   ]
  },
  {
   "cell_type": "markdown",
   "metadata": {},
   "source": [
    "## Estadísticas del partido"
   ]
  },
  {
   "cell_type": "markdown",
   "metadata": {},
   "source": [
    "#### Distribución de los resultados"
   ]
  },
  {
   "cell_type": "markdown",
   "metadata": {},
   "source": [
    "Importante también visualizar separando las diferentes competiciones, para ver si siguen las mismas distribuciones o no.\n",
    "\n",
    "También buena idea visualizar dependiendo el nivel de los clubes. Para ello podemos hacer clusters de los equipos según las características (goles marcados y encajados por ejemplo)"
   ]
  },
  {
   "cell_type": "code",
   "execution_count": 38,
   "metadata": {},
   "outputs": [
    {
     "name": "stdout",
     "output_type": "stream",
     "text": [
      "La distribución de victorias locales, empates y victores visitantes es la siguiente:\n",
      "Empate: 357\n",
      "Victorias locales: 652\n",
      "Victorias visitantes: 425\n"
     ]
    }
   ],
   "source": [
    "print('La distribución de victorias locales, empates y victores visitantes es la siguiente:')\n",
    "clases = ['Empate','Victorias locales','Victorias visitantes']\n",
    "for clase,count in zip(clases,np.bincount(data.res)):\n",
    "    print(f'{clase}: {count}')"
   ]
  },
  {
   "cell_type": "markdown",
   "metadata": {},
   "source": [
    "#### Distribución de los goles"
   ]
  },
  {
   "cell_type": "code",
   "execution_count": 252,
   "metadata": {},
   "outputs": [
    {
     "data": {
      "image/png": "[encoded data removed]",
      "text/plain": [
       "<Figure size 1296x432 with 2 Axes>"
      ]
     },
     "metadata": {
      "needs_background": "light"
     },
     "output_type": "display_data"
    }
   ],
   "source": [
    "fig, axs = plt.subplots(1,2,figsize=(18,6))\n",
    "\n",
    "fig.suptitle('Distribución de los goles', fontsize=20)\n",
    "\n",
    "axs[0].set_title('Distribucion de goles locales')\n",
    "axs[1].set_title('Distribucion de goles visitantes')\n",
    "\n",
    "max_value = max(np.concatenate([data.score_home, data.score_away]))\n",
    "\n",
    "idxs = ['score_home','score_away']\n",
    "for i,ax in zip(idxs,axs):\n",
    "    x = data[i]\n",
    "    ax.hist(x,bins=np.arange(max_value+1)-0.5,rwidth=0.8,align='mid')\n",
    "    ax.set_ylim(0,550)\n",
    "    ax.set_xlim([-1,max_value+1])\n",
    "    ax.set_xticks(range(max_value+1))\n",
    "    ax.set_xlabel('# goles')\n",
    "    ax.set_ylabel('# partidos')\n",
    "\n",
    "# plt.savefig(path_graphs + 'goals_distribution.pdf', format='pdf')\n",
    "plt.savefig(path_graphs + 'goals_distribution.jpg', format='jpg', dpi=200)"
   ]
  },
  {
   "cell_type": "code",
   "execution_count": 40,
   "metadata": {},
   "outputs": [
    {
     "data": {
      "image/png": "[encoded data removed]",
      "text/plain": [
       "<Figure size 864x648 with 2 Axes>"
      ]
     },
     "metadata": {
      "needs_background": "light"
     },
     "output_type": "display_data"
    }
   ],
   "source": [
    "fig, axs = plt.subplots(2,1,figsize=(12,9))\n",
    "\n",
    "fig.suptitle('Distribución de los disparos', fontsize=20)\n",
    "\n",
    "axs[0].set_title('Distribucion de disparos locales')\n",
    "axs[1].set_title('Distribucion de disparos visitantes')\n",
    "\n",
    "max_value = max(np.concatenate([data.HS, data.AS]))\n",
    "\n",
    "idxs = ['HS','AS']\n",
    "for i,ax in zip(idxs,axs):\n",
    "    x = data[i]\n",
    "    ax.hist(x,bins=np.arange(max_value+1)-0.5,rwidth=0.8,align='mid')\n",
    "    ax.set_ylim(0,150)\n",
    "    ax.set_xlim([-1,max_value+1])\n",
    "    ax.set_xticks(range(max_value+1))\n",
    "    ax.set_xlabel('# disparos')\n",
    "    ax.set_ylabel('# partidos')\n",
    "    # ax.grid()\n",
    "\n",
    "fig.tight_layout()\n",
    "\n",
    "# plt.savefig(path_graphs + 'goals_distribution.pdf', format='pdf')\n",
    "plt.savefig(path_graphs + 'shots_distribution.jpg', format='jpg', dpi=200)"
   ]
  },
  {
   "cell_type": "code",
   "execution_count": 41,
   "metadata": {},
   "outputs": [
    {
     "name": "stdout",
     "output_type": "stream",
     "text": [
      "Los disparos locales siguen una distribución Normal con μ=13.705020920502092 y σ=5.257539173941706.\n",
      "Los disparos visitantes siguen una distribución Normal con μ=10.864016736401673 y σ=10.864016736401673.\n"
     ]
    }
   ],
   "source": [
    "mean_HS = np.mean(data.HS)\n",
    "std_HS  = np.std(data.HS)\n",
    "mean_AS = np.mean(data.AS)\n",
    "std_AS  = np.std(data.AS)\n",
    "\n",
    "print(f\"Los disparos locales siguen una distribución Normal con \\u03BC={mean_HS} y \\u03C3={std_HS}.\")\n",
    "print(f\"Los disparos visitantes siguen una distribución Normal con \\u03BC={mean_AS} y \\u03C3={mean_AS}.\")"
   ]
  },
  {
   "cell_type": "markdown",
   "metadata": {},
   "source": [
    "QQ-plot"
   ]
  },
  {
   "cell_type": "markdown",
   "metadata": {},
   "source": [
    "Visualizar:\n",
    "- distribución de disparos del equipo que gana\n",
    "- distribucion de disparos del equipo que pierde\n",
    "- distribucion de la zona del campo de los disparos (total, local y visitante)\n",
    "- distribucion de la zona del campo de los pases (total, local y visitante)\n",
    "- Zona del campo en la que hace los pases el equipo ganador y perdedor (heatmap) [necesario el dataset de pases]\n",
    "- Zona del campo en la que dispara el equipo ganador y perdedor (heatmap) [necesario el dataset de disparos]\n",
    "- Probabilidad de que el equipo más acertado cara a puerta gana el partido\n",
    "- Probabilidad de que el equipo más acertado en pases gana el partido"
   ]
  },
  {
   "cell_type": "markdown",
   "metadata": {},
   "source": [
    "#### Distribucion de disparos del equipo que gana y del que pierde\n"
   ]
  },
  {
   "cell_type": "code",
   "execution_count": 42,
   "metadata": {},
   "outputs": [
    {
     "data": {
      "text/plain": [
       "Index(['teamId', 'matchId', 'shots'], dtype='object')"
      ]
     },
     "execution_count": 42,
     "metadata": {},
     "output_type": "execute_result"
    }
   ],
   "source": [
    "# distribucion de disparos del equipo que gana y del que pierde\n",
    "\n",
    "num_shots = shots.set_index(['teamId','matchId']).groupby(['teamId','matchId']).agg(shots=('id','count')).reset_index()\n",
    "num_shots.columns"
   ]
  },
  {
   "cell_type": "code",
   "execution_count": 43,
   "metadata": {},
   "outputs": [],
   "source": [
    "winner_ids, match_ids = (list(data[data.winner!=0].winner), list(data[data.winner!=0].matchId))"
   ]
  },
  {
   "cell_type": "code",
   "execution_count": 44,
   "metadata": {},
   "outputs": [
    {
     "data": {
      "text/plain": [
       "Index(['teamId', 'matchId'], dtype='object')"
      ]
     },
     "execution_count": 44,
     "metadata": {},
     "output_type": "execute_result"
    }
   ],
   "source": [
    "winners_match = pd.DataFrame({'teamId':winner_ids, 'matchId':match_ids})\n",
    "winners_match.columns"
   ]
  },
  {
   "cell_type": "code",
   "execution_count": 45,
   "metadata": {},
   "outputs": [
    {
     "data": {
      "text/html": [
       "<div>\n",
       "<style scoped>\n",
       "    .dataframe tbody tr th:only-of-type {\n",
       "        vertical-align: middle;\n",
       "    }\n",
       "\n",
       "    .dataframe tbody tr th {\n",
       "        vertical-align: top;\n",
       "    }\n",
       "\n",
       "    .dataframe thead th {\n",
       "        text-align: right;\n",
       "    }\n",
       "</style>\n",
       "<table border=\"1\" class=\"dataframe\">\n",
       "  <thead>\n",
       "    <tr style=\"text-align: right;\">\n",
       "      <th></th>\n",
       "      <th>teamId</th>\n",
       "      <th>matchId</th>\n",
       "      <th>shots</th>\n",
       "    </tr>\n",
       "  </thead>\n",
       "  <tbody>\n",
       "    <tr>\n",
       "      <th>0</th>\n",
       "      <td>3161</td>\n",
       "      <td>2576335</td>\n",
       "      <td>14</td>\n",
       "    </tr>\n",
       "    <tr>\n",
       "      <th>1</th>\n",
       "      <td>3158</td>\n",
       "      <td>2576336</td>\n",
       "      <td>15</td>\n",
       "    </tr>\n",
       "    <tr>\n",
       "      <th>2</th>\n",
       "      <td>3173</td>\n",
       "      <td>2576329</td>\n",
       "      <td>6</td>\n",
       "    </tr>\n",
       "    <tr>\n",
       "      <th>3</th>\n",
       "      <td>3165</td>\n",
       "      <td>2576330</td>\n",
       "      <td>6</td>\n",
       "    </tr>\n",
       "    <tr>\n",
       "      <th>4</th>\n",
       "      <td>3163</td>\n",
       "      <td>2576331</td>\n",
       "      <td>17</td>\n",
       "    </tr>\n",
       "    <tr>\n",
       "      <th>...</th>\n",
       "      <td>...</td>\n",
       "      <td>...</td>\n",
       "      <td>...</td>\n",
       "    </tr>\n",
       "    <tr>\n",
       "      <th>1072</th>\n",
       "      <td>676</td>\n",
       "      <td>2565629</td>\n",
       "      <td>11</td>\n",
       "    </tr>\n",
       "    <tr>\n",
       "      <th>1073</th>\n",
       "      <td>674</td>\n",
       "      <td>2565632</td>\n",
       "      <td>16</td>\n",
       "    </tr>\n",
       "    <tr>\n",
       "      <th>1074</th>\n",
       "      <td>684</td>\n",
       "      <td>2565634</td>\n",
       "      <td>10</td>\n",
       "    </tr>\n",
       "    <tr>\n",
       "      <th>1075</th>\n",
       "      <td>682</td>\n",
       "      <td>2565618</td>\n",
       "      <td>10</td>\n",
       "    </tr>\n",
       "    <tr>\n",
       "      <th>1076</th>\n",
       "      <td>696</td>\n",
       "      <td>2565614</td>\n",
       "      <td>7</td>\n",
       "    </tr>\n",
       "  </tbody>\n",
       "</table>\n",
       "<p>1077 rows × 3 columns</p>\n",
       "</div>"
      ],
      "text/plain": [
       "      teamId  matchId  shots\n",
       "0       3161  2576335     14\n",
       "1       3158  2576336     15\n",
       "2       3173  2576329      6\n",
       "3       3165  2576330      6\n",
       "4       3163  2576331     17\n",
       "...      ...      ...    ...\n",
       "1072     676  2565629     11\n",
       "1073     674  2565632     16\n",
       "1074     684  2565634     10\n",
       "1075     682  2565618     10\n",
       "1076     696  2565614      7\n",
       "\n",
       "[1077 rows x 3 columns]"
      ]
     },
     "execution_count": 45,
     "metadata": {},
     "output_type": "execute_result"
    }
   ],
   "source": [
    "winner_shots = pd.merge(winners_match,num_shots, on=['teamId','matchId'], how='inner')\n",
    "winner_shots"
   ]
  },
  {
   "cell_type": "code",
   "execution_count": 46,
   "metadata": {},
   "outputs": [],
   "source": [
    "assert np.unique(winner_shots.matchId).shape[0] == len(match_ids)"
   ]
  },
  {
   "cell_type": "code",
   "execution_count": 47,
   "metadata": {},
   "outputs": [],
   "source": [
    "pierde_h, matches_pierde_h = data[data.res == 2].teamId_home, data[data.res == 2].matchId         # cogemos el contrario -> si gana visitante (2) cogemos el local\n",
    "pierde_a, matches_pierde_a = data[data.res == 1].teamId_away, data[data.res == 1].matchId\n",
    "\n",
    "pierde = np.concatenate([pierde_h,pierde_a])\n",
    "matches_pierde = np.concatenate([matches_pierde_h, matches_pierde_a])"
   ]
  },
  {
   "cell_type": "code",
   "execution_count": 48,
   "metadata": {},
   "outputs": [
    {
     "data": {
      "text/plain": [
       "Index(['teamId', 'matchId'], dtype='object')"
      ]
     },
     "execution_count": 48,
     "metadata": {},
     "output_type": "execute_result"
    }
   ],
   "source": [
    "losers_match = pd.DataFrame({'teamId':pierde, 'matchId':matches_pierde})\n",
    "losers_match.columns"
   ]
  },
  {
   "cell_type": "code",
   "execution_count": 49,
   "metadata": {},
   "outputs": [
    {
     "data": {
      "text/html": [
       "<div>\n",
       "<style scoped>\n",
       "    .dataframe tbody tr th:only-of-type {\n",
       "        vertical-align: middle;\n",
       "    }\n",
       "\n",
       "    .dataframe tbody tr th {\n",
       "        vertical-align: top;\n",
       "    }\n",
       "\n",
       "    .dataframe thead th {\n",
       "        text-align: right;\n",
       "    }\n",
       "</style>\n",
       "<table border=\"1\" class=\"dataframe\">\n",
       "  <thead>\n",
       "    <tr style=\"text-align: right;\">\n",
       "      <th></th>\n",
       "      <th>teamId</th>\n",
       "      <th>matchId</th>\n",
       "      <th>shots</th>\n",
       "    </tr>\n",
       "  </thead>\n",
       "  <tbody>\n",
       "    <tr>\n",
       "      <th>0</th>\n",
       "      <td>3162</td>\n",
       "      <td>2576335</td>\n",
       "      <td>14</td>\n",
       "    </tr>\n",
       "    <tr>\n",
       "      <th>1</th>\n",
       "      <td>3315</td>\n",
       "      <td>2576336</td>\n",
       "      <td>14</td>\n",
       "    </tr>\n",
       "    <tr>\n",
       "      <th>2</th>\n",
       "      <td>3193</td>\n",
       "      <td>2576338</td>\n",
       "      <td>11</td>\n",
       "    </tr>\n",
       "    <tr>\n",
       "      <th>3</th>\n",
       "      <td>3164</td>\n",
       "      <td>2576325</td>\n",
       "      <td>8</td>\n",
       "    </tr>\n",
       "    <tr>\n",
       "      <th>4</th>\n",
       "      <td>3176</td>\n",
       "      <td>2576319</td>\n",
       "      <td>13</td>\n",
       "    </tr>\n",
       "    <tr>\n",
       "      <th>...</th>\n",
       "      <td>...</td>\n",
       "      <td>...</td>\n",
       "      <td>...</td>\n",
       "    </tr>\n",
       "    <tr>\n",
       "      <th>1070</th>\n",
       "      <td>701</td>\n",
       "      <td>2565633</td>\n",
       "      <td>10</td>\n",
       "    </tr>\n",
       "    <tr>\n",
       "      <th>1071</th>\n",
       "      <td>678</td>\n",
       "      <td>2565635</td>\n",
       "      <td>7</td>\n",
       "    </tr>\n",
       "    <tr>\n",
       "      <th>1072</th>\n",
       "      <td>683</td>\n",
       "      <td>2565629</td>\n",
       "      <td>12</td>\n",
       "    </tr>\n",
       "    <tr>\n",
       "      <th>1073</th>\n",
       "      <td>680</td>\n",
       "      <td>2565632</td>\n",
       "      <td>15</td>\n",
       "    </tr>\n",
       "    <tr>\n",
       "      <th>1074</th>\n",
       "      <td>696</td>\n",
       "      <td>2565634</td>\n",
       "      <td>5</td>\n",
       "    </tr>\n",
       "  </tbody>\n",
       "</table>\n",
       "<p>1075 rows × 3 columns</p>\n",
       "</div>"
      ],
      "text/plain": [
       "      teamId  matchId  shots\n",
       "0       3162  2576335     14\n",
       "1       3315  2576336     14\n",
       "2       3193  2576338     11\n",
       "3       3164  2576325      8\n",
       "4       3176  2576319     13\n",
       "...      ...      ...    ...\n",
       "1070     701  2565633     10\n",
       "1071     678  2565635      7\n",
       "1072     683  2565629     12\n",
       "1073     680  2565632     15\n",
       "1074     696  2565634      5\n",
       "\n",
       "[1075 rows x 3 columns]"
      ]
     },
     "execution_count": 49,
     "metadata": {},
     "output_type": "execute_result"
    }
   ],
   "source": [
    "loser_shots = pd.merge(losers_match,num_shots, on=['teamId','matchId'], how='inner')\n",
    "loser_shots"
   ]
  },
  {
   "cell_type": "code",
   "execution_count": 251,
   "metadata": {},
   "outputs": [
    {
     "data": {
      "image/png": "[encoded data removed]",
      "text/plain": [
       "<Figure size 864x648 with 2 Axes>"
      ]
     },
     "metadata": {
      "needs_background": "light"
     },
     "output_type": "display_data"
    }
   ],
   "source": [
    "fig, axs = plt.subplots(2,1,figsize=(12,9))\n",
    "\n",
    "fig.suptitle('Distribución de los disparos', fontsize=20)\n",
    "\n",
    "axs[0].set_title('Distribucion de disparos del equipo ganador')\n",
    "axs[1].set_title('Distribucion de disparos del equipo perdedor')\n",
    "\n",
    "max_value = max(np.concatenate([winner_shots.shots, loser_shots.shots]))\n",
    "\n",
    "# idxs = ['HS','AS']\n",
    "x = [winner_shots.shots,loser_shots.shots]\n",
    "\n",
    "for i,ax in enumerate(axs):\n",
    "    ax.hist(x[i],bins=np.arange(max_value+1)-0.5,rwidth=0.8,align='mid')\n",
    "    ax.set_ylim(0,130)\n",
    "    ax.set_xlim([-1,max_value+1])\n",
    "    ax.set_xticks(range(max_value+1))\n",
    "    ax.set_xlabel('# disparos')\n",
    "    ax.set_ylabel('# partidos')\n",
    "    # ax.grid()\n",
    "\n",
    "fig.tight_layout()\n",
    "\n",
    "# plt.savefig(path_graphs + 'goals_distribution.pdf', format='pdf')\n",
    "plt.savefig(path_graphs + 'shots_distribution_winner_losers.jpg', format='jpg', dpi=200)"
   ]
  },
  {
   "cell_type": "markdown",
   "metadata": {},
   "source": [
    "#### Relacion de los disparos del equipo ganador y perdedor con el resultado del partido"
   ]
  },
  {
   "cell_type": "code",
   "execution_count": 64,
   "metadata": {},
   "outputs": [
    {
     "data": {
      "text/html": [
       "<div>\n",
       "<style scoped>\n",
       "    .dataframe tbody tr th:only-of-type {\n",
       "        vertical-align: middle;\n",
       "    }\n",
       "\n",
       "    .dataframe tbody tr th {\n",
       "        vertical-align: top;\n",
       "    }\n",
       "\n",
       "    .dataframe thead th {\n",
       "        text-align: right;\n",
       "    }\n",
       "</style>\n",
       "<table border=\"1\" class=\"dataframe\">\n",
       "  <thead>\n",
       "    <tr style=\"text-align: right;\">\n",
       "      <th></th>\n",
       "      <th>res</th>\n",
       "      <th>matchId</th>\n",
       "    </tr>\n",
       "    <tr>\n",
       "      <th>wyId</th>\n",
       "      <th></th>\n",
       "      <th></th>\n",
       "    </tr>\n",
       "  </thead>\n",
       "  <tbody>\n",
       "    <tr>\n",
       "      <th>2576335</th>\n",
       "      <td>2</td>\n",
       "      <td>2576335</td>\n",
       "    </tr>\n",
       "    <tr>\n",
       "      <th>2576336</th>\n",
       "      <td>2</td>\n",
       "      <td>2576336</td>\n",
       "    </tr>\n",
       "    <tr>\n",
       "      <th>2576329</th>\n",
       "      <td>1</td>\n",
       "      <td>2576329</td>\n",
       "    </tr>\n",
       "    <tr>\n",
       "      <th>2576330</th>\n",
       "      <td>1</td>\n",
       "      <td>2576330</td>\n",
       "    </tr>\n",
       "    <tr>\n",
       "      <th>2576331</th>\n",
       "      <td>1</td>\n",
       "      <td>2576331</td>\n",
       "    </tr>\n",
       "    <tr>\n",
       "      <th>...</th>\n",
       "      <td>...</td>\n",
       "      <td>...</td>\n",
       "    </tr>\n",
       "    <tr>\n",
       "      <th>2565632</th>\n",
       "      <td>1</td>\n",
       "      <td>2565632</td>\n",
       "    </tr>\n",
       "    <tr>\n",
       "      <th>2565634</th>\n",
       "      <td>1</td>\n",
       "      <td>2565634</td>\n",
       "    </tr>\n",
       "    <tr>\n",
       "      <th>2565628</th>\n",
       "      <td>0</td>\n",
       "      <td>2565628</td>\n",
       "    </tr>\n",
       "    <tr>\n",
       "      <th>2565618</th>\n",
       "      <td>2</td>\n",
       "      <td>2565618</td>\n",
       "    </tr>\n",
       "    <tr>\n",
       "      <th>2565614</th>\n",
       "      <td>2</td>\n",
       "      <td>2565614</td>\n",
       "    </tr>\n",
       "  </tbody>\n",
       "</table>\n",
       "<p>1434 rows × 2 columns</p>\n",
       "</div>"
      ],
      "text/plain": [
       "         res  matchId\n",
       "wyId                 \n",
       "2576335    2  2576335\n",
       "2576336    2  2576336\n",
       "2576329    1  2576329\n",
       "2576330    1  2576330\n",
       "2576331    1  2576331\n",
       "...      ...      ...\n",
       "2565632    1  2565632\n",
       "2565634    1  2565634\n",
       "2565628    0  2565628\n",
       "2565618    2  2565618\n",
       "2565614    2  2565614\n",
       "\n",
       "[1434 rows x 2 columns]"
      ]
     },
     "execution_count": 64,
     "metadata": {},
     "output_type": "execute_result"
    }
   ],
   "source": [
    "res = data[['res','matchId']]\n",
    "res"
   ]
  },
  {
   "cell_type": "code",
   "execution_count": 65,
   "metadata": {},
   "outputs": [
    {
     "data": {
      "text/html": [
       "<div>\n",
       "<style scoped>\n",
       "    .dataframe tbody tr th:only-of-type {\n",
       "        vertical-align: middle;\n",
       "    }\n",
       "\n",
       "    .dataframe tbody tr th {\n",
       "        vertical-align: top;\n",
       "    }\n",
       "\n",
       "    .dataframe thead th {\n",
       "        text-align: right;\n",
       "    }\n",
       "</style>\n",
       "<table border=\"1\" class=\"dataframe\">\n",
       "  <thead>\n",
       "    <tr style=\"text-align: right;\">\n",
       "      <th></th>\n",
       "      <th>teamId_win</th>\n",
       "      <th>matchId</th>\n",
       "      <th>shots_win</th>\n",
       "      <th>teamId_los</th>\n",
       "      <th>shots_los</th>\n",
       "      <th>res</th>\n",
       "    </tr>\n",
       "  </thead>\n",
       "  <tbody>\n",
       "    <tr>\n",
       "      <th>0</th>\n",
       "      <td>3161</td>\n",
       "      <td>2576335</td>\n",
       "      <td>14</td>\n",
       "      <td>3162</td>\n",
       "      <td>14</td>\n",
       "      <td>2</td>\n",
       "    </tr>\n",
       "    <tr>\n",
       "      <th>1</th>\n",
       "      <td>3158</td>\n",
       "      <td>2576336</td>\n",
       "      <td>15</td>\n",
       "      <td>3315</td>\n",
       "      <td>14</td>\n",
       "      <td>2</td>\n",
       "    </tr>\n",
       "    <tr>\n",
       "      <th>2</th>\n",
       "      <td>3173</td>\n",
       "      <td>2576329</td>\n",
       "      <td>6</td>\n",
       "      <td>3172</td>\n",
       "      <td>11</td>\n",
       "      <td>1</td>\n",
       "    </tr>\n",
       "    <tr>\n",
       "      <th>3</th>\n",
       "      <td>3165</td>\n",
       "      <td>2576330</td>\n",
       "      <td>6</td>\n",
       "      <td>3219</td>\n",
       "      <td>10</td>\n",
       "      <td>1</td>\n",
       "    </tr>\n",
       "    <tr>\n",
       "      <th>4</th>\n",
       "      <td>3163</td>\n",
       "      <td>2576331</td>\n",
       "      <td>17</td>\n",
       "      <td>3166</td>\n",
       "      <td>8</td>\n",
       "      <td>1</td>\n",
       "    </tr>\n",
       "    <tr>\n",
       "      <th>...</th>\n",
       "      <td>...</td>\n",
       "      <td>...</td>\n",
       "      <td>...</td>\n",
       "      <td>...</td>\n",
       "      <td>...</td>\n",
       "      <td>...</td>\n",
       "    </tr>\n",
       "    <tr>\n",
       "      <th>1070</th>\n",
       "      <td>676</td>\n",
       "      <td>2565629</td>\n",
       "      <td>11</td>\n",
       "      <td>683</td>\n",
       "      <td>12</td>\n",
       "      <td>1</td>\n",
       "    </tr>\n",
       "    <tr>\n",
       "      <th>1071</th>\n",
       "      <td>674</td>\n",
       "      <td>2565632</td>\n",
       "      <td>16</td>\n",
       "      <td>680</td>\n",
       "      <td>15</td>\n",
       "      <td>1</td>\n",
       "    </tr>\n",
       "    <tr>\n",
       "      <th>1072</th>\n",
       "      <td>684</td>\n",
       "      <td>2565634</td>\n",
       "      <td>10</td>\n",
       "      <td>696</td>\n",
       "      <td>5</td>\n",
       "      <td>1</td>\n",
       "    </tr>\n",
       "    <tr>\n",
       "      <th>1073</th>\n",
       "      <td>682</td>\n",
       "      <td>2565618</td>\n",
       "      <td>10</td>\n",
       "      <td>756</td>\n",
       "      <td>23</td>\n",
       "      <td>2</td>\n",
       "    </tr>\n",
       "    <tr>\n",
       "      <th>1074</th>\n",
       "      <td>696</td>\n",
       "      <td>2565614</td>\n",
       "      <td>7</td>\n",
       "      <td>695</td>\n",
       "      <td>10</td>\n",
       "      <td>2</td>\n",
       "    </tr>\n",
       "  </tbody>\n",
       "</table>\n",
       "<p>1075 rows × 6 columns</p>\n",
       "</div>"
      ],
      "text/plain": [
       "      teamId_win  matchId  shots_win  teamId_los  shots_los  res\n",
       "0           3161  2576335         14        3162         14    2\n",
       "1           3158  2576336         15        3315         14    2\n",
       "2           3173  2576329          6        3172         11    1\n",
       "3           3165  2576330          6        3219         10    1\n",
       "4           3163  2576331         17        3166          8    1\n",
       "...          ...      ...        ...         ...        ...  ...\n",
       "1070         676  2565629         11         683         12    1\n",
       "1071         674  2565632         16         680         15    1\n",
       "1072         684  2565634         10         696          5    1\n",
       "1073         682  2565618         10         756         23    2\n",
       "1074         696  2565614          7         695         10    2\n",
       "\n",
       "[1075 rows x 6 columns]"
      ]
     },
     "execution_count": 65,
     "metadata": {},
     "output_type": "execute_result"
    }
   ],
   "source": [
    "x = pd.merge(winner_shots,loser_shots,on='matchId', suffixes=['_win','_los'])\n",
    "x = pd.merge(x,res,on='matchId')\n",
    "x\n"
   ]
  },
  {
   "cell_type": "code",
   "execution_count": 66,
   "metadata": {},
   "outputs": [
    {
     "data": {
      "image/png": "[encoded data removed]",
      "text/plain": [
       "<Figure size 720x504 with 1 Axes>"
      ]
     },
     "metadata": {
      "needs_background": "light"
     },
     "output_type": "display_data"
    }
   ],
   "source": [
    "plt.figure(figsize=(10,7))\n",
    "plt.grid()\n",
    "plt.title('Distribucion de disparos en relación con \\nlos disparos del equipo ganador y perdedor', fontsize=15)\n",
    "plt.xlabel('# disparos eq. ganador')\n",
    "plt.ylabel('# disparos eq. perdedor')\n",
    "plt.scatter(x=x.shots_win, y=x.shots_los,c=(x.shots_win > x.shots_los),cmap='RdYlBu',alpha=0.3)\n",
    "# plt.xlim, plt.ylim = (0,40), (0,40)\n",
    "\n",
    "plt.savefig(path_graphs + 'shots_winloss_dist.jpg', format='jpg', dpi=200)"
   ]
  },
  {
   "cell_type": "markdown",
   "metadata": {},
   "source": [
    "Cual es la probabilidad de que un equipo que ha realizado más disparos pierda un partido?"
   ]
  },
  {
   "cell_type": "code",
   "execution_count": 67,
   "metadata": {},
   "outputs": [
    {
     "data": {
      "text/plain": [
       "0.3227906976744186"
      ]
     },
     "execution_count": 67,
     "metadata": {},
     "output_type": "execute_result"
    }
   ],
   "source": [
    "np.mean(x.shots_win < x.shots_los)"
   ]
  },
  {
   "cell_type": "markdown",
   "metadata": {},
   "source": [
    "El **32%** de los partidos los gana el equipo que menos disparos ha realizado."
   ]
  },
  {
   "cell_type": "code",
   "execution_count": 68,
   "metadata": {},
   "outputs": [
    {
     "data": {
      "image/png": "[encoded data removed]",
      "text/plain": [
       "<Figure size 864x432 with 1 Axes>"
      ]
     },
     "metadata": {
      "needs_background": "light"
     },
     "output_type": "display_data"
    }
   ],
   "source": [
    "max_value = max(x.shots_win-x.shots_los)\n",
    "plt.figure(figsize=(12,6))\n",
    "plt.xticks(range(max_value+1))\n",
    "plt.hist(x.shots_win-x.shots_los, bins=np.arange(max_value+1)-0.5, rwidth=0.8, align='mid')\n",
    "plt.ylim = (0,80)\n",
    "plt.xlim = ([-1,max_value+1])\n",
    "\n",
    "plt.title('Distribucion de la diferencia de disparos\\n entre el ganador y el perdedor.')\n",
    "plt.xlabel('# diferencia de disparos')\n",
    "plt.ylabel('# partidos')\n",
    "# plt.grid()\n",
    "\n",
    "plt.savefig(path_graphs + 'dif_shots_winlos.jpg', format='jpg', dpi=200)"
   ]
  },
  {
   "cell_type": "code",
   "execution_count": 69,
   "metadata": {},
   "outputs": [
    {
     "data": {
      "image/png": "[encoded data removed]",
      "text/plain": [
       "<Figure size 864x432 with 1 Axes>"
      ]
     },
     "metadata": {
      "needs_background": "light"
     },
     "output_type": "display_data"
    }
   ],
   "source": [
    "max_value = max(x[x.res==1].shots_win-x[x.res==1].shots_los)\n",
    "mask = x.shots_win < x.shots_los\n",
    "plt.figure(figsize=(12,6))\n",
    "plt.xticks(range(max_value+1))\n",
    "plt.hist(x[mask].shots_los-x[mask].shots_win, bins=np.arange(max_value+1)-0.5, rwidth=0.8, align='mid')\n",
    "plt.ylim = (0,80)\n",
    "plt.xlim = ([-1,max_value+1])\n",
    "\n",
    "plt.title('Distribucion de la diferencia de disparos\\n cuando el ganador ha realizado menos disparos.')\n",
    "plt.xlabel('# diferencia de disparos')\n",
    "plt.ylabel('# partidos')\n",
    "# plt.grid()\n",
    "\n",
    "plt.savefig(path_graphs + 'dif_shots_los_mas_disparos.jpg', format='jpg', dpi=200)"
   ]
  },
  {
   "cell_type": "markdown",
   "metadata": {},
   "source": [
    "#### Acierto en el disparo y en el pase en relación con el numero de partidos ganados."
   ]
  },
  {
   "cell_type": "code",
   "execution_count": 13,
   "metadata": {},
   "outputs": [],
   "source": [
    "teams = pd.read_csv(path_rawdata+'teams.csv',index_col='wyId',delimiter=';')"
   ]
  },
  {
   "cell_type": "code",
   "execution_count": 14,
   "metadata": {},
   "outputs": [],
   "source": [
    "acc_shots_teams = shots.groupby('teamId').agg(accuracy=('accuracy','mean')).sort_values('accuracy',ascending=False)\n",
    "acc_passes_teams = passes.groupby('teamId').agg(accuracy=('accuracy','mean')).sort_values('accuracy',ascending=False)"
   ]
  },
  {
   "cell_type": "code",
   "execution_count": 15,
   "metadata": {},
   "outputs": [],
   "source": [
    "acc_shots_teams_names = acc_shots_teams.join(teams)[['name','accuracy']]\n",
    "acc_shots_teams_names['index'] = range(1,len(acc_shots_teams_names)+1)\n",
    "acc_shots_teams_names.set_index('index',inplace=True)\n",
    "\n",
    "acc_passes_teams_names = acc_passes_teams.join(teams)[['name','accuracy']]\n",
    "acc_passes_teams_names['index'] = range(1,len(acc_passes_teams_names)+1)\n",
    "acc_passes_teams_names.set_index('index',inplace=True)"
   ]
  },
  {
   "cell_type": "code",
   "execution_count": 71,
   "metadata": {},
   "outputs": [
    {
     "data": {
      "text/plain": [
       "(                       name  accuracy\n",
       " index                                \n",
       " 1                 Barcelona  0.476096\n",
       " 2                Hertha BSC  0.437931\n",
       " 3                       PSG  0.417563\n",
       " 4                Real Betis  0.415042\n",
       " 5           Manchester City  0.414594\n",
       " 6               Real Madrid  0.412044\n",
       " 7                Schalke 04  0.410765\n",
       " 8        Olympique Lyonnais  0.406746\n",
       " 9                   Arsenal  0.403346\n",
       " 10     Atl\\u00e9tico Madrid  0.401130,\n",
       "                        name  accuracy\n",
       " index                                \n",
       " 89                  Watford  0.307882\n",
       " 90     West Bromwich Albion  0.304843\n",
       " 91                  Levante  0.303977\n",
       " 92                     SPAL  0.302395\n",
       " 93               Strasbourg  0.300248\n",
       " 94                 Sassuolo  0.296729\n",
       " 95                Amiens SC  0.292308\n",
       " 96                   Nantes  0.281755\n",
       " 97            Hellas Verona  0.281150\n",
       " 98                     Caen  0.276699)"
      ]
     },
     "execution_count": 71,
     "metadata": {},
     "output_type": "execute_result"
    }
   ],
   "source": [
    "acc_shots_teams_names[:10], acc_shots_teams_names[-10:]"
   ]
  },
  {
   "cell_type": "code",
   "execution_count": 70,
   "metadata": {},
   "outputs": [
    {
     "data": {
      "text/plain": [
       "(                      name  accuracy\n",
       " index                               \n",
       " 1          Manchester City  0.899866\n",
       " 2                      PSG  0.892463\n",
       " 3                     Nice  0.886754\n",
       " 4                Barcelona  0.885168\n",
       " 5                 Juventus  0.884102\n",
       " 6      Bayern M\\u00fcnchen  0.881899\n",
       " 7                   Napoli  0.881782\n",
       " 8              Real Madrid  0.881437\n",
       " 9               Real Betis  0.866870\n",
       " 10      Olympique Lyonnais  0.866804,\n",
       "                         name  accuracy\n",
       " index                                 \n",
       " 89                  Sassuolo  0.780407\n",
       " 90              Hamburger SV  0.779338\n",
       " 91                   Burnley  0.777125\n",
       " 92     Deportivo Alav\\u00e9s  0.776339\n",
       " 93      West Bromwich Albion  0.776100\n",
       " 94              Legan\\u00e9s  0.775907\n",
       " 95                Stoke City  0.772087\n",
       " 96                  Augsburg  0.771405\n",
       " 97                   Crotone  0.758714\n",
       " 98                    Getafe  0.729798)"
      ]
     },
     "execution_count": 70,
     "metadata": {},
     "output_type": "execute_result"
    }
   ],
   "source": [
    "acc_passes_teams_names[:10], acc_passes_teams_names[-10:]"
   ]
  },
  {
   "cell_type": "markdown",
   "metadata": {},
   "source": [
    "#### Relacion entre la media de goles encajados y marcados por un equipo\n",
    "\n",
    "Vamos a plotear el indicador ataque-defensa de ambos equipos respecto al resultado final del partido."
   ]
  },
  {
   "cell_type": "code",
   "execution_count": 124,
   "metadata": {},
   "outputs": [
    {
     "data": {
      "image/png": "[encoded data removed]",
      "text/plain": [
       "<Figure size 864x432 with 1 Axes>"
      ]
     },
     "metadata": {
      "needs_background": "light"
     },
     "output_type": "display_data"
    }
   ],
   "source": [
    "x = ataque_defensa.indicador\n",
    "\n",
    "max_value = int(max(x))+1\n",
    "min_value = int(min(x))\n",
    "plt.figure(figsize=(12,6))\n",
    "plt.xticks(range(min_value,max_value+1))\n",
    "plt.hist(x, bins=np.arange(min_value,max_value+1)-0.5, rwidth=0.8, align='mid')\n",
    "plt.ylim = (0,20)\n",
    "plt.xlim = ([min_value,max_value+1])\n",
    "\n",
    "plt.title('Distribucion del indicador Ataque-Defensa.')\n",
    "plt.xlabel('valor indicador')\n",
    "plt.ylabel('# equipos')\n",
    "# plt.grid()\n",
    "\n",
    "plt.savefig(path_graphs + 'dist_ataquedefensa.jpg', format='jpg', dpi=200)"
   ]
  },
  {
   "cell_type": "code",
   "execution_count": 90,
   "metadata": {},
   "outputs": [
    {
     "ename": "AttributeError",
     "evalue": "'Series' object has no attribute 'ataque_defensa_h'",
     "output_type": "error",
     "traceback": [
      "\u001b[1;31m---------------------------------------------------------------------------\u001b[0m",
      "\u001b[1;31mAttributeError\u001b[0m                            Traceback (most recent call last)",
      "\u001b[1;32m<ipython-input-90-1479fee106b8>\u001b[0m in \u001b[0;36m<module>\u001b[1;34m\u001b[0m\n\u001b[1;32m----> 1\u001b[1;33m \u001b[0mx\u001b[0m \u001b[1;33m=\u001b[0m \u001b[0mx\u001b[0m\u001b[1;33m.\u001b[0m\u001b[0mataque_defensa_h\u001b[0m\u001b[1;33m\u001b[0m\u001b[1;33m\u001b[0m\u001b[0m\n\u001b[0m\u001b[0;32m      2\u001b[0m \u001b[1;33m\u001b[0m\u001b[0m\n\u001b[0;32m      3\u001b[0m \u001b[0mmax_value\u001b[0m \u001b[1;33m=\u001b[0m \u001b[0mmax\u001b[0m\u001b[1;33m(\u001b[0m\u001b[0mx\u001b[0m\u001b[1;33m)\u001b[0m\u001b[1;33m\u001b[0m\u001b[1;33m\u001b[0m\u001b[0m\n\u001b[0;32m      4\u001b[0m \u001b[0mmin_value\u001b[0m \u001b[1;33m=\u001b[0m \u001b[0mmin\u001b[0m\u001b[1;33m(\u001b[0m\u001b[0mx\u001b[0m\u001b[1;33m)\u001b[0m\u001b[1;33m\u001b[0m\u001b[1;33m\u001b[0m\u001b[0m\n\u001b[0;32m      5\u001b[0m \u001b[0mplt\u001b[0m\u001b[1;33m.\u001b[0m\u001b[0mfigure\u001b[0m\u001b[1;33m(\u001b[0m\u001b[0mfigsize\u001b[0m\u001b[1;33m=\u001b[0m\u001b[1;33m(\u001b[0m\u001b[1;36m12\u001b[0m\u001b[1;33m,\u001b[0m\u001b[1;36m6\u001b[0m\u001b[1;33m)\u001b[0m\u001b[1;33m)\u001b[0m\u001b[1;33m\u001b[0m\u001b[1;33m\u001b[0m\u001b[0m\n",
      "\u001b[1;32mc:\\Users\\GuillemUPV\\Anaconda3\\envs\\tfg\\lib\\site-packages\\pandas\\core\\generic.py\u001b[0m in \u001b[0;36m__getattr__\u001b[1;34m(self, name)\u001b[0m\n\u001b[0;32m   5463\u001b[0m             \u001b[1;32mif\u001b[0m \u001b[0mself\u001b[0m\u001b[1;33m.\u001b[0m\u001b[0m_info_axis\u001b[0m\u001b[1;33m.\u001b[0m\u001b[0m_can_hold_identifiers_and_holds_name\u001b[0m\u001b[1;33m(\u001b[0m\u001b[0mname\u001b[0m\u001b[1;33m)\u001b[0m\u001b[1;33m:\u001b[0m\u001b[1;33m\u001b[0m\u001b[1;33m\u001b[0m\u001b[0m\n\u001b[0;32m   5464\u001b[0m                 \u001b[1;32mreturn\u001b[0m \u001b[0mself\u001b[0m\u001b[1;33m[\u001b[0m\u001b[0mname\u001b[0m\u001b[1;33m]\u001b[0m\u001b[1;33m\u001b[0m\u001b[1;33m\u001b[0m\u001b[0m\n\u001b[1;32m-> 5465\u001b[1;33m             \u001b[1;32mreturn\u001b[0m \u001b[0mobject\u001b[0m\u001b[1;33m.\u001b[0m\u001b[0m__getattribute__\u001b[0m\u001b[1;33m(\u001b[0m\u001b[0mself\u001b[0m\u001b[1;33m,\u001b[0m \u001b[0mname\u001b[0m\u001b[1;33m)\u001b[0m\u001b[1;33m\u001b[0m\u001b[1;33m\u001b[0m\u001b[0m\n\u001b[0m\u001b[0;32m   5466\u001b[0m \u001b[1;33m\u001b[0m\u001b[0m\n\u001b[0;32m   5467\u001b[0m     \u001b[1;32mdef\u001b[0m \u001b[0m__setattr__\u001b[0m\u001b[1;33m(\u001b[0m\u001b[0mself\u001b[0m\u001b[1;33m,\u001b[0m \u001b[0mname\u001b[0m\u001b[1;33m:\u001b[0m \u001b[0mstr\u001b[0m\u001b[1;33m,\u001b[0m \u001b[0mvalue\u001b[0m\u001b[1;33m)\u001b[0m \u001b[1;33m->\u001b[0m \u001b[1;32mNone\u001b[0m\u001b[1;33m:\u001b[0m\u001b[1;33m\u001b[0m\u001b[1;33m\u001b[0m\u001b[0m\n",
      "\u001b[1;31mAttributeError\u001b[0m: 'Series' object has no attribute 'ataque_defensa_h'"
     ]
    }
   ],
   "source": [
    "x = x.ataque_defensa_h\n",
    "\n",
    "max_value = max(x)\n",
    "min_value = min(x)\n",
    "plt.figure(figsize=(12,6))\n",
    "plt.xticks(np.arange(int(min_value),int(max_value)+2,step=0.5))\n",
    "plt.hist(x, bins=np.arange(int(min_value),int(max_value)+2,step=0.25)-0.25, rwidth=0.8, align='mid')\n",
    "plt.ylim = (0,250)\n",
    "plt.xlim = ([int(min_value),int(max_value)+2])\n",
    "\n",
    "plt.title('Distribucion del indicador Ataque-Defensa.')\n",
    "plt.xlabel('valor indicador')\n",
    "plt.ylabel('# equipos')\n",
    "# plt.grid()\n",
    "\n",
    "plt.savefig(path_graphs + 'dist_ataquedefensa.jpg', format='jpg', dpi=200)"
   ]
  },
  {
   "cell_type": "code",
   "execution_count": null,
   "metadata": {},
   "outputs": [],
   "source": [
    "x = data[['res','ataque_defensa_season_h','ataque_defensa_season_a']]"
   ]
  },
  {
   "cell_type": "code",
   "execution_count": null,
   "metadata": {},
   "outputs": [],
   "source": [
    "plt.figure(figsize=(15,10))\n",
    "# plt.grid()\n",
    "plt.title('Relacion entre el resultado y el indicador Ataque-Defensa de la temporada', fontsize=15)\n",
    "plt.xlabel('Ataque-Defensa local')\n",
    "plt.ylabel('Ataque-Defensa visitante')\n",
    "plt.scatter(x=x.ataque_defensa_season_h, y=x.ataque_defensa_season_a,c=x.res,cmap='Dark2_r',alpha=0.4)\n",
    "# plt.xlim, plt.ylim = (0,40), (0,40)\n",
    "\n",
    "plt.savefig(path_graphs + 'dist_res_ataquedefensa.jpg', format='jpg', dpi=200)"
   ]
  },
  {
   "cell_type": "code",
   "execution_count": null,
   "metadata": {},
   "outputs": [],
   "source": [
    "x = data[['res','ataque_defensa_h','ataque_defensa_a']]\n",
    "\n",
    "plt.figure(figsize=(15,10))\n",
    "# plt.grid()\n",
    "plt.title('Relacion entre el resultado y el indicador Ataque-Defensa de los ultimos 4 partidos', fontsize=15)\n",
    "plt.xlabel('Ataque-Defensa local')\n",
    "plt.ylabel('Ataque-Defensa visitante')\n",
    "plt.scatter(x=x.ataque_defensa_h, y=x.ataque_defensa_a,c=x.res,cmap='Dark2_r',alpha=0.4)\n",
    "# plt.xlim, plt.ylim = (0,40), (0,40)\n",
    "\n",
    "plt.savefig(path_graphs + 'dist_res_ataquedefensa.jpg', format='jpg', dpi=200)"
   ]
  },
  {
   "cell_type": "markdown",
   "metadata": {},
   "source": [
    "¿ CAMBIAR NORMALIZACIÓN ?"
   ]
  },
  {
   "cell_type": "markdown",
   "metadata": {},
   "source": [
    "## Estadisticas del 11 titular"
   ]
  },
  {
   "cell_type": "markdown",
   "metadata": {},
   "source": [
    "**Enlaces interesantes:**\n",
    "\n",
    "How to Choose a Feature Selection Method For Machine Learning\n",
    "https://machinelearningmastery.com/feature-selection-with-real-and-categorical-data/\n",
    "\n",
    "Feature Selection Sklearn\n",
    "https://scikit-learn.org/stable/modules/feature_selection.html#univariate-feature-selection\n",
    "\n",
    "Chi-Square Test for Feature Selection in Machine learning\n",
    "https://towardsdatascience.com/chi-square-test-for-feature-selection-in-machine-learning-206b1f0b8223"
   ]
  },
  {
   "cell_type": "markdown",
   "metadata": {},
   "source": [
    "### Normalization\n",
    "\n"
   ]
  },
  {
   "cell_type": "markdown",
   "metadata": {},
   "source": [
    "Although standardization and normalization have the same basic function, they utilize different approaches. As a result, their use cases differ as well.\n",
    "\n",
    "Standardization is ideal for data that fits a normal/gaussian distribution.\n",
    "\n",
    "It is also superior when handling data with outliers as it is more resistant to extreme values. Standardization is often used in PCA, where the aim is to maximize variance while reducing dimensionality.\n",
    "\n",
    "Normalization, on the other hand, is the safer alternative when you are unsure of the distribution of your data.\n",
    "\n",
    "All in all, determining the best feature scaling method in a machine learning task requires a strong understanding of the data being used."
   ]
  },
  {
   "cell_type": "code",
   "execution_count": 6,
   "metadata": {},
   "outputs": [
    {
     "data": {
      "text/plain": [
       "Index(['dateutc', 'competitionId', 'seasonId', 'roundId', 'winner',\n",
       "       'teamId_home', 'score_home', 'scoreHT_home', 'teamId_away',\n",
       "       'score_away', 'scoreHT_away', 'HS', 'AS', 'HST', 'AST', 'HC', 'AC',\n",
       "       'HF', 'AF', 'B365H', 'B365D', 'B365A', 'y0_sh_H', 'x0_sh_H',\n",
       "       'acc_avg_sh_H', 'goal_avg_sh_H', 'y0_sh_A', 'x0_sh_A', 'acc_avg_sh_A',\n",
       "       'goal_avg_sh_A', 'mins4_H', 'mins4_A', 'shots_11H', 'shots_11A',\n",
       "       'shots_acc_11H', 'shots_acc_11A', 'goals_H', 'goals_A', 'goals_ratio_H',\n",
       "       'goals_ratio_A', 'passes_11H', 'passes_11A', 'passes_acc_11H',\n",
       "       'passes_acc_11A', 'keyPasses_H', 'keyPasses_A', 'ataque_h', 'defensa_h',\n",
       "       'ataque_a', 'defensa_a', 'ataquedefensa_H', 'ataquedefensa_A', 'res'],\n",
       "      dtype='object')"
      ]
     },
     "execution_count": 6,
     "metadata": {},
     "output_type": "execute_result"
    }
   ],
   "source": [
    "data.columns"
   ]
  },
  {
   "cell_type": "code",
   "execution_count": 7,
   "metadata": {},
   "outputs": [
    {
     "data": {
      "text/html": [
       "<div>\n",
       "<style scoped>\n",
       "    .dataframe tbody tr th:only-of-type {\n",
       "        vertical-align: middle;\n",
       "    }\n",
       "\n",
       "    .dataframe tbody tr th {\n",
       "        vertical-align: top;\n",
       "    }\n",
       "\n",
       "    .dataframe thead th {\n",
       "        text-align: right;\n",
       "    }\n",
       "</style>\n",
       "<table border=\"1\" class=\"dataframe\">\n",
       "  <thead>\n",
       "    <tr style=\"text-align: right;\">\n",
       "      <th></th>\n",
       "      <th>mins4_H</th>\n",
       "      <th>mins4_A</th>\n",
       "      <th>shots_11H</th>\n",
       "      <th>shots_11A</th>\n",
       "      <th>shots_acc_11H</th>\n",
       "      <th>shots_acc_11A</th>\n",
       "      <th>goals_H</th>\n",
       "      <th>goals_A</th>\n",
       "      <th>goals_ratio_H</th>\n",
       "      <th>goals_ratio_A</th>\n",
       "      <th>...</th>\n",
       "      <th>passes_acc_11H</th>\n",
       "      <th>passes_acc_11A</th>\n",
       "      <th>keyPasses_H</th>\n",
       "      <th>keyPasses_A</th>\n",
       "      <th>ataque_h</th>\n",
       "      <th>defensa_h</th>\n",
       "      <th>ataque_a</th>\n",
       "      <th>defensa_a</th>\n",
       "      <th>ataquedefensa_H</th>\n",
       "      <th>ataquedefensa_A</th>\n",
       "    </tr>\n",
       "    <tr>\n",
       "      <th>wyId</th>\n",
       "      <th></th>\n",
       "      <th></th>\n",
       "      <th></th>\n",
       "      <th></th>\n",
       "      <th></th>\n",
       "      <th></th>\n",
       "      <th></th>\n",
       "      <th></th>\n",
       "      <th></th>\n",
       "      <th></th>\n",
       "      <th></th>\n",
       "      <th></th>\n",
       "      <th></th>\n",
       "      <th></th>\n",
       "      <th></th>\n",
       "      <th></th>\n",
       "      <th></th>\n",
       "      <th></th>\n",
       "      <th></th>\n",
       "      <th></th>\n",
       "      <th></th>\n",
       "    </tr>\n",
       "  </thead>\n",
       "  <tbody>\n",
       "    <tr>\n",
       "      <th>2499738</th>\n",
       "      <td>60.818182</td>\n",
       "      <td>56.840909</td>\n",
       "      <td>28</td>\n",
       "      <td>18</td>\n",
       "      <td>0.321429</td>\n",
       "      <td>0.444444</td>\n",
       "      <td>1</td>\n",
       "      <td>3</td>\n",
       "      <td>0.250000</td>\n",
       "      <td>0.500000</td>\n",
       "      <td>...</td>\n",
       "      <td>0.757778</td>\n",
       "      <td>0.782137</td>\n",
       "      <td>5</td>\n",
       "      <td>6</td>\n",
       "      <td>0.76</td>\n",
       "      <td>1.72</td>\n",
       "      <td>0.96</td>\n",
       "      <td>2.24</td>\n",
       "      <td>0.973546</td>\n",
       "      <td>0.817933</td>\n",
       "    </tr>\n",
       "    <tr>\n",
       "      <th>2499799</th>\n",
       "      <td>54.500000</td>\n",
       "      <td>72.454545</td>\n",
       "      <td>35</td>\n",
       "      <td>28</td>\n",
       "      <td>0.400000</td>\n",
       "      <td>0.321429</td>\n",
       "      <td>4</td>\n",
       "      <td>5</td>\n",
       "      <td>1.000000</td>\n",
       "      <td>0.625000</td>\n",
       "      <td>...</td>\n",
       "      <td>0.851005</td>\n",
       "      <td>0.843464</td>\n",
       "      <td>4</td>\n",
       "      <td>8</td>\n",
       "      <td>0.56</td>\n",
       "      <td>0.84</td>\n",
       "      <td>2.00</td>\n",
       "      <td>1.20</td>\n",
       "      <td>1.316667</td>\n",
       "      <td>0.810784</td>\n",
       "    </tr>\n",
       "    <tr>\n",
       "      <th>2499800</th>\n",
       "      <td>63.295455</td>\n",
       "      <td>72.000000</td>\n",
       "      <td>37</td>\n",
       "      <td>29</td>\n",
       "      <td>0.162162</td>\n",
       "      <td>0.344828</td>\n",
       "      <td>1</td>\n",
       "      <td>1</td>\n",
       "      <td>0.333333</td>\n",
       "      <td>1.000000</td>\n",
       "      <td>...</td>\n",
       "      <td>0.836437</td>\n",
       "      <td>0.858100</td>\n",
       "      <td>16</td>\n",
       "      <td>7</td>\n",
       "      <td>0.60</td>\n",
       "      <td>1.20</td>\n",
       "      <td>0.48</td>\n",
       "      <td>1.72</td>\n",
       "      <td>0.983333</td>\n",
       "      <td>1.399187</td>\n",
       "    </tr>\n",
       "    <tr>\n",
       "      <th>2499801</th>\n",
       "      <td>42.000000</td>\n",
       "      <td>54.272727</td>\n",
       "      <td>28</td>\n",
       "      <td>22</td>\n",
       "      <td>0.392857</td>\n",
       "      <td>0.409091</td>\n",
       "      <td>2</td>\n",
       "      <td>4</td>\n",
       "      <td>1.000000</td>\n",
       "      <td>0.571429</td>\n",
       "      <td>...</td>\n",
       "      <td>0.785348</td>\n",
       "      <td>0.842152</td>\n",
       "      <td>8</td>\n",
       "      <td>3</td>\n",
       "      <td>0.36</td>\n",
       "      <td>2.16</td>\n",
       "      <td>1.04</td>\n",
       "      <td>0.32</td>\n",
       "      <td>0.689456</td>\n",
       "      <td>1.360256</td>\n",
       "    </tr>\n",
       "    <tr>\n",
       "      <th>2499802</th>\n",
       "      <td>63.659091</td>\n",
       "      <td>51.477273</td>\n",
       "      <td>47</td>\n",
       "      <td>25</td>\n",
       "      <td>0.510638</td>\n",
       "      <td>0.480000</td>\n",
       "      <td>10</td>\n",
       "      <td>4</td>\n",
       "      <td>0.555556</td>\n",
       "      <td>0.666667</td>\n",
       "      <td>...</td>\n",
       "      <td>0.904959</td>\n",
       "      <td>0.763764</td>\n",
       "      <td>15</td>\n",
       "      <td>2</td>\n",
       "      <td>5.48</td>\n",
       "      <td>1.08</td>\n",
       "      <td>1.24</td>\n",
       "      <td>0.64</td>\n",
       "      <td>1.935507</td>\n",
       "      <td>0.921212</td>\n",
       "    </tr>\n",
       "  </tbody>\n",
       "</table>\n",
       "<p>5 rows × 22 columns</p>\n",
       "</div>"
      ],
      "text/plain": [
       "           mins4_H    mins4_A  shots_11H  shots_11A  shots_acc_11H  \\\n",
       "wyId                                                                 \n",
       "2499738  60.818182  56.840909         28         18       0.321429   \n",
       "2499799  54.500000  72.454545         35         28       0.400000   \n",
       "2499800  63.295455  72.000000         37         29       0.162162   \n",
       "2499801  42.000000  54.272727         28         22       0.392857   \n",
       "2499802  63.659091  51.477273         47         25       0.510638   \n",
       "\n",
       "         shots_acc_11A  goals_H  goals_A  goals_ratio_H  goals_ratio_A  ...  \\\n",
       "wyId                                                                    ...   \n",
       "2499738       0.444444        1        3       0.250000       0.500000  ...   \n",
       "2499799       0.321429        4        5       1.000000       0.625000  ...   \n",
       "2499800       0.344828        1        1       0.333333       1.000000  ...   \n",
       "2499801       0.409091        2        4       1.000000       0.571429  ...   \n",
       "2499802       0.480000       10        4       0.555556       0.666667  ...   \n",
       "\n",
       "         passes_acc_11H  passes_acc_11A  keyPasses_H  keyPasses_A  ataque_h  \\\n",
       "wyId                                                                          \n",
       "2499738        0.757778        0.782137            5            6      0.76   \n",
       "2499799        0.851005        0.843464            4            8      0.56   \n",
       "2499800        0.836437        0.858100           16            7      0.60   \n",
       "2499801        0.785348        0.842152            8            3      0.36   \n",
       "2499802        0.904959        0.763764           15            2      5.48   \n",
       "\n",
       "         defensa_h  ataque_a  defensa_a  ataquedefensa_H  ataquedefensa_A  \n",
       "wyId                                                                       \n",
       "2499738       1.72      0.96       2.24         0.973546         0.817933  \n",
       "2499799       0.84      2.00       1.20         1.316667         0.810784  \n",
       "2499800       1.20      0.48       1.72         0.983333         1.399187  \n",
       "2499801       2.16      1.04       0.32         0.689456         1.360256  \n",
       "2499802       1.08      1.24       0.64         1.935507         0.921212  \n",
       "\n",
       "[5 rows x 22 columns]"
      ]
     },
     "execution_count": 7,
     "metadata": {},
     "output_type": "execute_result"
    }
   ],
   "source": [
    "features = np.array(['mins4_H', 'mins4_A', 'shots_11H', 'shots_11A',\n",
    "       'shots_acc_11H', 'shots_acc_11A', 'goals_H', 'goals_A', 'goals_ratio_H',\n",
    "       'goals_ratio_A', 'passes_11H', 'passes_11A', 'passes_acc_11H',\n",
    "       'passes_acc_11A', 'keyPasses_H', 'keyPasses_A', 'ataque_h', 'defensa_h',\n",
    "       'ataque_a', 'defensa_a', 'ataquedefensa_H', 'ataquedefensa_A'])\n",
    "\n",
    "# features = features[:-4] # de momento descartamos ataque_defensa\n",
    "\n",
    "X = data[features] # descartamos de momento las de ataque_defensa\n",
    "\n",
    "X.head(5)"
   ]
  },
  {
   "cell_type": "markdown",
   "metadata": {},
   "source": [
    "Seria interesante analizar las características de cada partido (para el partido X, los corners, faltas, goles, disparos en X). Y más tarde en la selección de características usar solo la información de partidos anteriores, que realmente será la que se use en el modelo predictivo."
   ]
  },
  {
   "cell_type": "code",
   "execution_count": 8,
   "metadata": {},
   "outputs": [],
   "source": [
    "# eliminamos las filas con valores nulos\n",
    "\n",
    "X.dropna().shape # no hay ninguna fila que eliminar\n",
    "\n",
    "labels = data.res"
   ]
  },
  {
   "cell_type": "code",
   "execution_count": 9,
   "metadata": {},
   "outputs": [],
   "source": [
    "# necesario NORMALIZAR ???\n",
    "# normalization / minmax scale / other ???\n",
    "# normalizamos dividiendo cada feature por su media\n",
    "\n",
    "# # Normalizamos dividiendo entre la media.\n",
    "X_mean = X.mean(axis=0).to_numpy()\n",
    "X_norm = X / X_mean\n",
    "\n",
    "# # Normalizamos con MinMaxScale\n",
    "# scaler = preprocessing.MinMaxScaler()\n",
    "# X_norm = scaler.fit_transform(X)\n",
    "# # ¿ este normaliza todas las varianzas ? Si, es así, para la selección\n",
    "# # de características a partir de la varianza no sirve.\n"
   ]
  },
  {
   "cell_type": "code",
   "execution_count": 10,
   "metadata": {},
   "outputs": [
    {
     "data": {
      "text/plain": [
       "((1414, 22), (1414,))"
      ]
     },
     "execution_count": 10,
     "metadata": {},
     "output_type": "execute_result"
    }
   ],
   "source": [
    "X_norm.shape, labels.shape"
   ]
  },
  {
   "cell_type": "markdown",
   "metadata": {},
   "source": [
    "### Visualization"
   ]
  },
  {
   "cell_type": "markdown",
   "metadata": {},
   "source": [
    "#### Distribucion de los minutos jugados por el 11 titular en los ultimos 4 partidos"
   ]
  },
  {
   "cell_type": "code",
   "execution_count": 11,
   "metadata": {},
   "outputs": [
    {
     "data": {
      "text/html": [
       "<div>\n",
       "<style scoped>\n",
       "    .dataframe tbody tr th:only-of-type {\n",
       "        vertical-align: middle;\n",
       "    }\n",
       "\n",
       "    .dataframe tbody tr th {\n",
       "        vertical-align: top;\n",
       "    }\n",
       "\n",
       "    .dataframe thead th {\n",
       "        text-align: right;\n",
       "    }\n",
       "</style>\n",
       "<table border=\"1\" class=\"dataframe\">\n",
       "  <thead>\n",
       "    <tr style=\"text-align: right;\">\n",
       "      <th></th>\n",
       "      <th>mins4_H</th>\n",
       "      <th>mins4_A</th>\n",
       "      <th>shots_11H</th>\n",
       "      <th>shots_11A</th>\n",
       "      <th>shots_acc_11H</th>\n",
       "      <th>shots_acc_11A</th>\n",
       "      <th>goals_H</th>\n",
       "      <th>goals_A</th>\n",
       "      <th>goals_ratio_H</th>\n",
       "      <th>goals_ratio_A</th>\n",
       "      <th>...</th>\n",
       "      <th>passes_acc_11H</th>\n",
       "      <th>passes_acc_11A</th>\n",
       "      <th>keyPasses_H</th>\n",
       "      <th>keyPasses_A</th>\n",
       "      <th>ataque_h</th>\n",
       "      <th>defensa_h</th>\n",
       "      <th>ataque_a</th>\n",
       "      <th>defensa_a</th>\n",
       "      <th>ataquedefensa_H</th>\n",
       "      <th>ataquedefensa_A</th>\n",
       "    </tr>\n",
       "    <tr>\n",
       "      <th>wyId</th>\n",
       "      <th></th>\n",
       "      <th></th>\n",
       "      <th></th>\n",
       "      <th></th>\n",
       "      <th></th>\n",
       "      <th></th>\n",
       "      <th></th>\n",
       "      <th></th>\n",
       "      <th></th>\n",
       "      <th></th>\n",
       "      <th></th>\n",
       "      <th></th>\n",
       "      <th></th>\n",
       "      <th></th>\n",
       "      <th></th>\n",
       "      <th></th>\n",
       "      <th></th>\n",
       "      <th></th>\n",
       "      <th></th>\n",
       "      <th></th>\n",
       "      <th></th>\n",
       "    </tr>\n",
       "  </thead>\n",
       "  <tbody>\n",
       "    <tr>\n",
       "      <th>2499738</th>\n",
       "      <td>60.818182</td>\n",
       "      <td>56.840909</td>\n",
       "      <td>28</td>\n",
       "      <td>18</td>\n",
       "      <td>0.321429</td>\n",
       "      <td>0.444444</td>\n",
       "      <td>1</td>\n",
       "      <td>3</td>\n",
       "      <td>0.250000</td>\n",
       "      <td>0.500000</td>\n",
       "      <td>...</td>\n",
       "      <td>0.757778</td>\n",
       "      <td>0.782137</td>\n",
       "      <td>5</td>\n",
       "      <td>6</td>\n",
       "      <td>0.76</td>\n",
       "      <td>1.72</td>\n",
       "      <td>0.96</td>\n",
       "      <td>2.24</td>\n",
       "      <td>0.973546</td>\n",
       "      <td>0.817933</td>\n",
       "    </tr>\n",
       "    <tr>\n",
       "      <th>2499799</th>\n",
       "      <td>54.500000</td>\n",
       "      <td>72.454545</td>\n",
       "      <td>35</td>\n",
       "      <td>28</td>\n",
       "      <td>0.400000</td>\n",
       "      <td>0.321429</td>\n",
       "      <td>4</td>\n",
       "      <td>5</td>\n",
       "      <td>1.000000</td>\n",
       "      <td>0.625000</td>\n",
       "      <td>...</td>\n",
       "      <td>0.851005</td>\n",
       "      <td>0.843464</td>\n",
       "      <td>4</td>\n",
       "      <td>8</td>\n",
       "      <td>0.56</td>\n",
       "      <td>0.84</td>\n",
       "      <td>2.00</td>\n",
       "      <td>1.20</td>\n",
       "      <td>1.316667</td>\n",
       "      <td>0.810784</td>\n",
       "    </tr>\n",
       "    <tr>\n",
       "      <th>2499800</th>\n",
       "      <td>63.295455</td>\n",
       "      <td>72.000000</td>\n",
       "      <td>37</td>\n",
       "      <td>29</td>\n",
       "      <td>0.162162</td>\n",
       "      <td>0.344828</td>\n",
       "      <td>1</td>\n",
       "      <td>1</td>\n",
       "      <td>0.333333</td>\n",
       "      <td>1.000000</td>\n",
       "      <td>...</td>\n",
       "      <td>0.836437</td>\n",
       "      <td>0.858100</td>\n",
       "      <td>16</td>\n",
       "      <td>7</td>\n",
       "      <td>0.60</td>\n",
       "      <td>1.20</td>\n",
       "      <td>0.48</td>\n",
       "      <td>1.72</td>\n",
       "      <td>0.983333</td>\n",
       "      <td>1.399187</td>\n",
       "    </tr>\n",
       "    <tr>\n",
       "      <th>2499801</th>\n",
       "      <td>42.000000</td>\n",
       "      <td>54.272727</td>\n",
       "      <td>28</td>\n",
       "      <td>22</td>\n",
       "      <td>0.392857</td>\n",
       "      <td>0.409091</td>\n",
       "      <td>2</td>\n",
       "      <td>4</td>\n",
       "      <td>1.000000</td>\n",
       "      <td>0.571429</td>\n",
       "      <td>...</td>\n",
       "      <td>0.785348</td>\n",
       "      <td>0.842152</td>\n",
       "      <td>8</td>\n",
       "      <td>3</td>\n",
       "      <td>0.36</td>\n",
       "      <td>2.16</td>\n",
       "      <td>1.04</td>\n",
       "      <td>0.32</td>\n",
       "      <td>0.689456</td>\n",
       "      <td>1.360256</td>\n",
       "    </tr>\n",
       "    <tr>\n",
       "      <th>2499802</th>\n",
       "      <td>63.659091</td>\n",
       "      <td>51.477273</td>\n",
       "      <td>47</td>\n",
       "      <td>25</td>\n",
       "      <td>0.510638</td>\n",
       "      <td>0.480000</td>\n",
       "      <td>10</td>\n",
       "      <td>4</td>\n",
       "      <td>0.555556</td>\n",
       "      <td>0.666667</td>\n",
       "      <td>...</td>\n",
       "      <td>0.904959</td>\n",
       "      <td>0.763764</td>\n",
       "      <td>15</td>\n",
       "      <td>2</td>\n",
       "      <td>5.48</td>\n",
       "      <td>1.08</td>\n",
       "      <td>1.24</td>\n",
       "      <td>0.64</td>\n",
       "      <td>1.935507</td>\n",
       "      <td>0.921212</td>\n",
       "    </tr>\n",
       "    <tr>\n",
       "      <th>...</th>\n",
       "      <td>...</td>\n",
       "      <td>...</td>\n",
       "      <td>...</td>\n",
       "      <td>...</td>\n",
       "      <td>...</td>\n",
       "      <td>...</td>\n",
       "      <td>...</td>\n",
       "      <td>...</td>\n",
       "      <td>...</td>\n",
       "      <td>...</td>\n",
       "      <td>...</td>\n",
       "      <td>...</td>\n",
       "      <td>...</td>\n",
       "      <td>...</td>\n",
       "      <td>...</td>\n",
       "      <td>...</td>\n",
       "      <td>...</td>\n",
       "      <td>...</td>\n",
       "      <td>...</td>\n",
       "      <td>...</td>\n",
       "      <td>...</td>\n",
       "    </tr>\n",
       "    <tr>\n",
       "      <th>2576334</th>\n",
       "      <td>37.818182</td>\n",
       "      <td>49.068182</td>\n",
       "      <td>16</td>\n",
       "      <td>20</td>\n",
       "      <td>0.312500</td>\n",
       "      <td>0.100000</td>\n",
       "      <td>3</td>\n",
       "      <td>0</td>\n",
       "      <td>0.333333</td>\n",
       "      <td>0.000000</td>\n",
       "      <td>...</td>\n",
       "      <td>0.873267</td>\n",
       "      <td>0.823330</td>\n",
       "      <td>2</td>\n",
       "      <td>6</td>\n",
       "      <td>2.28</td>\n",
       "      <td>0.84</td>\n",
       "      <td>0.72</td>\n",
       "      <td>3.32</td>\n",
       "      <td>1.994841</td>\n",
       "      <td>0.661345</td>\n",
       "    </tr>\n",
       "    <tr>\n",
       "      <th>2576335</th>\n",
       "      <td>65.000000</td>\n",
       "      <td>67.386364</td>\n",
       "      <td>40</td>\n",
       "      <td>44</td>\n",
       "      <td>0.475000</td>\n",
       "      <td>0.454545</td>\n",
       "      <td>8</td>\n",
       "      <td>4</td>\n",
       "      <td>0.727273</td>\n",
       "      <td>0.666667</td>\n",
       "      <td>...</td>\n",
       "      <td>0.816073</td>\n",
       "      <td>0.833235</td>\n",
       "      <td>8</td>\n",
       "      <td>12</td>\n",
       "      <td>2.16</td>\n",
       "      <td>0.72</td>\n",
       "      <td>2.40</td>\n",
       "      <td>0.36</td>\n",
       "      <td>1.517949</td>\n",
       "      <td>1.423384</td>\n",
       "    </tr>\n",
       "    <tr>\n",
       "      <th>2576336</th>\n",
       "      <td>60.181818</td>\n",
       "      <td>44.568182</td>\n",
       "      <td>38</td>\n",
       "      <td>29</td>\n",
       "      <td>0.473684</td>\n",
       "      <td>0.241379</td>\n",
       "      <td>5</td>\n",
       "      <td>2</td>\n",
       "      <td>1.000000</td>\n",
       "      <td>0.400000</td>\n",
       "      <td>...</td>\n",
       "      <td>0.731343</td>\n",
       "      <td>0.837312</td>\n",
       "      <td>9</td>\n",
       "      <td>4</td>\n",
       "      <td>1.16</td>\n",
       "      <td>0.44</td>\n",
       "      <td>1.32</td>\n",
       "      <td>0.12</td>\n",
       "      <td>0.757576</td>\n",
       "      <td>1.418841</td>\n",
       "    </tr>\n",
       "    <tr>\n",
       "      <th>2576337</th>\n",
       "      <td>60.500000</td>\n",
       "      <td>41.522727</td>\n",
       "      <td>22</td>\n",
       "      <td>13</td>\n",
       "      <td>0.318182</td>\n",
       "      <td>0.230769</td>\n",
       "      <td>1</td>\n",
       "      <td>1</td>\n",
       "      <td>0.333333</td>\n",
       "      <td>0.500000</td>\n",
       "      <td>...</td>\n",
       "      <td>0.771531</td>\n",
       "      <td>0.824126</td>\n",
       "      <td>1</td>\n",
       "      <td>3</td>\n",
       "      <td>1.08</td>\n",
       "      <td>0.84</td>\n",
       "      <td>0.24</td>\n",
       "      <td>2.04</td>\n",
       "      <td>0.866667</td>\n",
       "      <td>0.960784</td>\n",
       "    </tr>\n",
       "    <tr>\n",
       "      <th>2576338</th>\n",
       "      <td>45.545455</td>\n",
       "      <td>53.318182</td>\n",
       "      <td>33</td>\n",
       "      <td>22</td>\n",
       "      <td>0.424242</td>\n",
       "      <td>0.272727</td>\n",
       "      <td>6</td>\n",
       "      <td>4</td>\n",
       "      <td>0.750000</td>\n",
       "      <td>0.571429</td>\n",
       "      <td>...</td>\n",
       "      <td>0.784238</td>\n",
       "      <td>0.819947</td>\n",
       "      <td>2</td>\n",
       "      <td>4</td>\n",
       "      <td>2.08</td>\n",
       "      <td>1.80</td>\n",
       "      <td>1.68</td>\n",
       "      <td>1.44</td>\n",
       "      <td>0.916667</td>\n",
       "      <td>1.141176</td>\n",
       "    </tr>\n",
       "  </tbody>\n",
       "</table>\n",
       "<p>1414 rows × 22 columns</p>\n",
       "</div>"
      ],
      "text/plain": [
       "           mins4_H    mins4_A  shots_11H  shots_11A  shots_acc_11H  \\\n",
       "wyId                                                                 \n",
       "2499738  60.818182  56.840909         28         18       0.321429   \n",
       "2499799  54.500000  72.454545         35         28       0.400000   \n",
       "2499800  63.295455  72.000000         37         29       0.162162   \n",
       "2499801  42.000000  54.272727         28         22       0.392857   \n",
       "2499802  63.659091  51.477273         47         25       0.510638   \n",
       "...            ...        ...        ...        ...            ...   \n",
       "2576334  37.818182  49.068182         16         20       0.312500   \n",
       "2576335  65.000000  67.386364         40         44       0.475000   \n",
       "2576336  60.181818  44.568182         38         29       0.473684   \n",
       "2576337  60.500000  41.522727         22         13       0.318182   \n",
       "2576338  45.545455  53.318182         33         22       0.424242   \n",
       "\n",
       "         shots_acc_11A  goals_H  goals_A  goals_ratio_H  goals_ratio_A  ...  \\\n",
       "wyId                                                                    ...   \n",
       "2499738       0.444444        1        3       0.250000       0.500000  ...   \n",
       "2499799       0.321429        4        5       1.000000       0.625000  ...   \n",
       "2499800       0.344828        1        1       0.333333       1.000000  ...   \n",
       "2499801       0.409091        2        4       1.000000       0.571429  ...   \n",
       "2499802       0.480000       10        4       0.555556       0.666667  ...   \n",
       "...                ...      ...      ...            ...            ...  ...   \n",
       "2576334       0.100000        3        0       0.333333       0.000000  ...   \n",
       "2576335       0.454545        8        4       0.727273       0.666667  ...   \n",
       "2576336       0.241379        5        2       1.000000       0.400000  ...   \n",
       "2576337       0.230769        1        1       0.333333       0.500000  ...   \n",
       "2576338       0.272727        6        4       0.750000       0.571429  ...   \n",
       "\n",
       "         passes_acc_11H  passes_acc_11A  keyPasses_H  keyPasses_A  ataque_h  \\\n",
       "wyId                                                                          \n",
       "2499738        0.757778        0.782137            5            6      0.76   \n",
       "2499799        0.851005        0.843464            4            8      0.56   \n",
       "2499800        0.836437        0.858100           16            7      0.60   \n",
       "2499801        0.785348        0.842152            8            3      0.36   \n",
       "2499802        0.904959        0.763764           15            2      5.48   \n",
       "...                 ...             ...          ...          ...       ...   \n",
       "2576334        0.873267        0.823330            2            6      2.28   \n",
       "2576335        0.816073        0.833235            8           12      2.16   \n",
       "2576336        0.731343        0.837312            9            4      1.16   \n",
       "2576337        0.771531        0.824126            1            3      1.08   \n",
       "2576338        0.784238        0.819947            2            4      2.08   \n",
       "\n",
       "         defensa_h  ataque_a  defensa_a  ataquedefensa_H  ataquedefensa_A  \n",
       "wyId                                                                       \n",
       "2499738       1.72      0.96       2.24         0.973546         0.817933  \n",
       "2499799       0.84      2.00       1.20         1.316667         0.810784  \n",
       "2499800       1.20      0.48       1.72         0.983333         1.399187  \n",
       "2499801       2.16      1.04       0.32         0.689456         1.360256  \n",
       "2499802       1.08      1.24       0.64         1.935507         0.921212  \n",
       "...            ...       ...        ...              ...              ...  \n",
       "2576334       0.84      0.72       3.32         1.994841         0.661345  \n",
       "2576335       0.72      2.40       0.36         1.517949         1.423384  \n",
       "2576336       0.44      1.32       0.12         0.757576         1.418841  \n",
       "2576337       0.84      0.24       2.04         0.866667         0.960784  \n",
       "2576338       1.80      1.68       1.44         0.916667         1.141176  \n",
       "\n",
       "[1414 rows x 22 columns]"
      ]
     },
     "execution_count": 11,
     "metadata": {},
     "output_type": "execute_result"
    }
   ],
   "source": [
    "X"
   ]
  },
  {
   "cell_type": "markdown",
   "metadata": {},
   "source": [
    "##### Distribution of minutes in previous matches of the line-up."
   ]
  },
  {
   "cell_type": "code",
   "execution_count": 12,
   "metadata": {},
   "outputs": [
    {
     "data": {
      "image/png": "[encoded data removed]",
      "text/plain": [
       "<Figure size 1296x432 with 2 Axes>"
      ]
     },
     "metadata": {
      "needs_background": "light"
     },
     "output_type": "display_data"
    }
   ],
   "source": [
    "fig, axs = plt.subplots(1,2,figsize=(18,6))\n",
    "\n",
    "fig.suptitle('Distribución los minutos jugados por el Line-up.', fontsize=20)\n",
    "\n",
    "axs[0].set_title('Distribucion de minutos del local.')\n",
    "axs[1].set_title('Distribucion de minutos del visitante.')\n",
    "\n",
    "max_value = max(np.concatenate([X.mins4_H, X.mins4_A]))\n",
    "\n",
    "idxs = ['mins4_H','mins4_A']\n",
    "for i,ax in zip(idxs,axs):\n",
    "    x = data[i][data[i] != 0]\n",
    "    ax.hist(x,bins=np.arange(0,max_value+1,2)-0.5,rwidth=0.8,align='mid')\n",
    "    ax.set_ylim(0,120)\n",
    "    ax.set_xlim([-1,max_value+1])\n",
    "    ax.set_xticks(range(0,91,10))\n",
    "    ax.set_xlabel('# mins')\n",
    "    ax.set_ylabel('# partidos')\n",
    "\n",
    "# plt.savefig(path_graphs + 'goals_distribution.pdf', format='pdf')\n",
    "plt.savefig(path_graphs + 'mins_lineup_distribution.jpg', format='jpg', dpi=200)"
   ]
  },
  {
   "cell_type": "code",
   "execution_count": 16,
   "metadata": {},
   "outputs": [],
   "source": [
    "mins_norm = preprocessing.normalize(data[idxs])"
   ]
  },
  {
   "cell_type": "code",
   "execution_count": 50,
   "metadata": {},
   "outputs": [
    {
     "data": {
      "text/plain": [
       "(array([0.56404685, 0.54614018]), array([0.29885287, 0.29021816]))"
      ]
     },
     "execution_count": 50,
     "metadata": {},
     "output_type": "execute_result"
    }
   ],
   "source": [
    "np.mean(mins_norm,axis=0), np.std(mins_norm,axis=0)"
   ]
  },
  {
   "cell_type": "code",
   "execution_count": 57,
   "metadata": {},
   "outputs": [
    {
     "data": {
      "image/png": "[encoded data removed]",
      "text/plain": [
       "<Figure size 1296x432 with 2 Axes>"
      ]
     },
     "metadata": {
      "needs_background": "light"
     },
     "output_type": "display_data"
    }
   ],
   "source": [
    "fig, axs = plt.subplots(1,2,figsize=(18,6))\n",
    "\n",
    "fig.suptitle('Distribución los minutos jugados por el Line-up.', fontsize=20)\n",
    "\n",
    "axs[0].set_title('Distribucion de minutos del local normalizados.')\n",
    "axs[1].set_title('Distribucion de minutos del visitante normalizados.')\n",
    "\n",
    "max_value = np.max(mins_norm)\n",
    "\n",
    "# idxs = ['mins4_H','mins4_A']\n",
    "for i,ax in enumerate(axs):\n",
    "    x = mins_norm[:,i][mins_norm[:,i] > 0]\n",
    "    ax.hist(x,bins=20,rwidth=0.8)\n",
    "    # ax.set_ylim(0,120)\n",
    "    ax.set_xlim([0,1])\n",
    "    # ax.set_xticks(range(0,91,10))\n",
    "    ax.set_xlabel('# mins')\n",
    "    ax.set_ylabel('# partidos')\n",
    "\n",
    "plt.savefig(path_graphs + 'mins_lineup_norm_distribution.jpg', format='jpg', dpi=200)"
   ]
  },
  {
   "cell_type": "code",
   "execution_count": 43,
   "metadata": {},
   "outputs": [],
   "source": [
    "Scaler = preprocessing.StandardScaler()\n",
    "mins_stand = Scaler.fit_transform(data[idxs])"
   ]
  },
  {
   "cell_type": "code",
   "execution_count": 52,
   "metadata": {},
   "outputs": [
    {
     "data": {
      "text/plain": [
       "(array([-8.04008753e-17,  4.02004377e-17]), array([1., 1.]))"
      ]
     },
     "execution_count": 52,
     "metadata": {},
     "output_type": "execute_result"
    }
   ],
   "source": [
    "np.mean(mins_stand,axis=0), np.std(mins_stand,axis=0)"
   ]
  },
  {
   "cell_type": "code",
   "execution_count": 56,
   "metadata": {},
   "outputs": [
    {
     "data": {
      "image/png": "[encoded data removed]",
      "text/plain": [
       "<Figure size 1296x432 with 2 Axes>"
      ]
     },
     "metadata": {
      "needs_background": "light"
     },
     "output_type": "display_data"
    }
   ],
   "source": [
    "fig, axs = plt.subplots(1,2,figsize=(18,6))\n",
    "\n",
    "fig.suptitle('Distribución los minutos jugados por el Line-up.', fontsize=20)\n",
    "\n",
    "axs[0].set_title('Distribucion de minutos del local estandarizados.')\n",
    "axs[1].set_title('Distribucion de minutos del visitante estandarizados.')\n",
    "\n",
    "max_value = np.max(mins_stand)\n",
    "min_value = np.min(mins_stand)\n",
    "\n",
    "# idxs = ['mins4_H','mins4_A']\n",
    "for i,ax in enumerate(axs):\n",
    "    x = mins_stand[:,i]#[mins_stand[:,i] > -1.0]\n",
    "    ax.hist(x,bins=30,rwidth=0.8)\n",
    "    # ax.set_ylim(0,120)\n",
    "    ax.set_xlim([min_value,max_value+0.1])\n",
    "    # ax.set_xticks(range(0,91,10))\n",
    "    ax.set_xlabel('# mins')\n",
    "    ax.set_ylabel('# partidos')\n",
    "\n",
    "plt.savefig(path_graphs + 'mins_lineup_stand_distribution.jpg', format='jpg', dpi=200)"
   ]
  },
  {
   "cell_type": "markdown",
   "metadata": {},
   "source": [
    "### Analisi Univariado"
   ]
  },
  {
   "cell_type": "markdown",
   "metadata": {},
   "source": [
    "\n",
    "Descartamos el uso de ${\\chi}^2$ por ser un test usado para inputs (variables) y outputs categóricas.\n",
    "\n",
    "Puede ser interesante el uso de métodos de Sklearn como *SelectKBest* o *SelectPercentile*, que dados una función que puntua cada variable, selecciona las mejores variables."
   ]
  },
  {
   "cell_type": "markdown",
   "metadata": {},
   "source": [
    "#### 1. Variance Threshold"
   ]
  },
  {
   "cell_type": "markdown",
   "metadata": {},
   "source": [
    "Variance is the measurement of the spread between numbers in a variable. It measures how far a number is from the mean and every number in a variable.\n",
    "\n",
    "The variance of a feature determines how much it is impacting the response variable. If the variance is low, it implies there is no impact of this feature on response and vice-versa.\n",
    "\n",
    "VarianceThreshold is a simple baseline approach to feature selection. It removes all features whose variance doesn’t meet some threshold. By default, it removes all zero-variance features, i.e. features that have the same value in all samples."
   ]
  },
  {
   "cell_type": "code",
   "execution_count": 242,
   "metadata": {},
   "outputs": [],
   "source": [
    "# que valor asignar al Threshold ? Hay alguna manera de testear ? \n",
    "# Despues de normalizar las características pierden muucha varianza\n",
    "\n",
    "filter = feature_selection.VarianceThreshold(0.25)"
   ]
  },
  {
   "cell_type": "code",
   "execution_count": 243,
   "metadata": {},
   "outputs": [
    {
     "data": {
      "text/plain": [
       "VarianceThreshold(threshold=0.25)"
      ]
     },
     "execution_count": 243,
     "metadata": {},
     "output_type": "execute_result"
    }
   ],
   "source": [
    "filter.fit(X_norm)"
   ]
  },
  {
   "cell_type": "code",
   "execution_count": 244,
   "metadata": {},
   "outputs": [
    {
     "data": {
      "text/html": [
       "<div>\n",
       "<style scoped>\n",
       "    .dataframe tbody tr th:only-of-type {\n",
       "        vertical-align: middle;\n",
       "    }\n",
       "\n",
       "    .dataframe tbody tr th {\n",
       "        vertical-align: top;\n",
       "    }\n",
       "\n",
       "    .dataframe thead th {\n",
       "        text-align: right;\n",
       "    }\n",
       "</style>\n",
       "<table border=\"1\" class=\"dataframe\">\n",
       "  <thead>\n",
       "    <tr style=\"text-align: right;\">\n",
       "      <th></th>\n",
       "      <th>mins4_H</th>\n",
       "      <th>mins4_A</th>\n",
       "      <th>goals_H</th>\n",
       "      <th>goals_A</th>\n",
       "      <th>goals_ratio_A</th>\n",
       "      <th>keyPasses_H</th>\n",
       "      <th>keyPasses_A</th>\n",
       "      <th>ataque_h</th>\n",
       "      <th>defensa_h</th>\n",
       "      <th>ataque_a</th>\n",
       "      <th>defensa_a</th>\n",
       "    </tr>\n",
       "  </thead>\n",
       "  <tbody>\n",
       "    <tr>\n",
       "      <th>0</th>\n",
       "      <td>1.319597</td>\n",
       "      <td>1.273570</td>\n",
       "      <td>0.273290</td>\n",
       "      <td>1.099533</td>\n",
       "      <td>0.901326</td>\n",
       "      <td>0.719154</td>\n",
       "      <td>1.126544</td>\n",
       "      <td>0.499953</td>\n",
       "      <td>1.458641</td>\n",
       "      <td>0.816987</td>\n",
       "      <td>1.472040</td>\n",
       "    </tr>\n",
       "    <tr>\n",
       "      <th>1</th>\n",
       "      <td>1.182508</td>\n",
       "      <td>1.623407</td>\n",
       "      <td>1.093158</td>\n",
       "      <td>1.832556</td>\n",
       "      <td>1.126658</td>\n",
       "      <td>0.575323</td>\n",
       "      <td>1.502058</td>\n",
       "      <td>0.368387</td>\n",
       "      <td>0.712360</td>\n",
       "      <td>1.702056</td>\n",
       "      <td>0.788593</td>\n",
       "    </tr>\n",
       "    <tr>\n",
       "      <th>2</th>\n",
       "      <td>1.373347</td>\n",
       "      <td>1.613223</td>\n",
       "      <td>0.273290</td>\n",
       "      <td>0.366511</td>\n",
       "      <td>1.802652</td>\n",
       "      <td>2.301292</td>\n",
       "      <td>1.314301</td>\n",
       "      <td>0.394700</td>\n",
       "      <td>1.017657</td>\n",
       "      <td>0.408493</td>\n",
       "      <td>1.130317</td>\n",
       "    </tr>\n",
       "    <tr>\n",
       "      <th>3</th>\n",
       "      <td>0.911291</td>\n",
       "      <td>1.216028</td>\n",
       "      <td>0.546579</td>\n",
       "      <td>1.466045</td>\n",
       "      <td>1.030087</td>\n",
       "      <td>1.150646</td>\n",
       "      <td>0.563272</td>\n",
       "      <td>0.236820</td>\n",
       "      <td>1.831782</td>\n",
       "      <td>0.885069</td>\n",
       "      <td>0.210291</td>\n",
       "    </tr>\n",
       "    <tr>\n",
       "      <th>4</th>\n",
       "      <td>1.381237</td>\n",
       "      <td>1.153393</td>\n",
       "      <td>2.732895</td>\n",
       "      <td>1.466045</td>\n",
       "      <td>1.201768</td>\n",
       "      <td>2.157461</td>\n",
       "      <td>0.375515</td>\n",
       "      <td>3.604928</td>\n",
       "      <td>0.915891</td>\n",
       "      <td>1.055275</td>\n",
       "      <td>0.420583</td>\n",
       "    </tr>\n",
       "    <tr>\n",
       "      <th>...</th>\n",
       "      <td>...</td>\n",
       "      <td>...</td>\n",
       "      <td>...</td>\n",
       "      <td>...</td>\n",
       "      <td>...</td>\n",
       "      <td>...</td>\n",
       "      <td>...</td>\n",
       "      <td>...</td>\n",
       "      <td>...</td>\n",
       "      <td>...</td>\n",
       "      <td>...</td>\n",
       "    </tr>\n",
       "    <tr>\n",
       "      <th>1409</th>\n",
       "      <td>0.820556</td>\n",
       "      <td>1.099415</td>\n",
       "      <td>0.819869</td>\n",
       "      <td>0.000000</td>\n",
       "      <td>0.000000</td>\n",
       "      <td>0.287661</td>\n",
       "      <td>1.126544</td>\n",
       "      <td>1.499860</td>\n",
       "      <td>0.712360</td>\n",
       "      <td>0.612740</td>\n",
       "      <td>2.181774</td>\n",
       "    </tr>\n",
       "    <tr>\n",
       "      <th>1410</th>\n",
       "      <td>1.410331</td>\n",
       "      <td>1.509850</td>\n",
       "      <td>2.186316</td>\n",
       "      <td>1.466045</td>\n",
       "      <td>1.201768</td>\n",
       "      <td>1.150646</td>\n",
       "      <td>2.253087</td>\n",
       "      <td>1.420920</td>\n",
       "      <td>0.610594</td>\n",
       "      <td>2.042467</td>\n",
       "      <td>0.236578</td>\n",
       "    </tr>\n",
       "    <tr>\n",
       "      <th>1411</th>\n",
       "      <td>1.305789</td>\n",
       "      <td>0.998589</td>\n",
       "      <td>1.366448</td>\n",
       "      <td>0.733022</td>\n",
       "      <td>0.721061</td>\n",
       "      <td>1.294477</td>\n",
       "      <td>0.751029</td>\n",
       "      <td>0.763087</td>\n",
       "      <td>0.373141</td>\n",
       "      <td>1.123357</td>\n",
       "      <td>0.078859</td>\n",
       "    </tr>\n",
       "    <tr>\n",
       "      <th>1412</th>\n",
       "      <td>1.312693</td>\n",
       "      <td>0.930353</td>\n",
       "      <td>0.273290</td>\n",
       "      <td>0.366511</td>\n",
       "      <td>0.901326</td>\n",
       "      <td>0.143831</td>\n",
       "      <td>0.563272</td>\n",
       "      <td>0.710460</td>\n",
       "      <td>0.712360</td>\n",
       "      <td>0.204247</td>\n",
       "      <td>1.340608</td>\n",
       "    </tr>\n",
       "    <tr>\n",
       "      <th>1413</th>\n",
       "      <td>0.988218</td>\n",
       "      <td>1.194640</td>\n",
       "      <td>1.639737</td>\n",
       "      <td>1.466045</td>\n",
       "      <td>1.030087</td>\n",
       "      <td>0.287661</td>\n",
       "      <td>0.751029</td>\n",
       "      <td>1.368294</td>\n",
       "      <td>1.526485</td>\n",
       "      <td>1.429727</td>\n",
       "      <td>0.946312</td>\n",
       "    </tr>\n",
       "  </tbody>\n",
       "</table>\n",
       "<p>1414 rows × 11 columns</p>\n",
       "</div>"
      ],
      "text/plain": [
       "       mins4_H   mins4_A   goals_H   goals_A  goals_ratio_A  keyPasses_H  \\\n",
       "0     1.319597  1.273570  0.273290  1.099533       0.901326     0.719154   \n",
       "1     1.182508  1.623407  1.093158  1.832556       1.126658     0.575323   \n",
       "2     1.373347  1.613223  0.273290  0.366511       1.802652     2.301292   \n",
       "3     0.911291  1.216028  0.546579  1.466045       1.030087     1.150646   \n",
       "4     1.381237  1.153393  2.732895  1.466045       1.201768     2.157461   \n",
       "...        ...       ...       ...       ...            ...          ...   \n",
       "1409  0.820556  1.099415  0.819869  0.000000       0.000000     0.287661   \n",
       "1410  1.410331  1.509850  2.186316  1.466045       1.201768     1.150646   \n",
       "1411  1.305789  0.998589  1.366448  0.733022       0.721061     1.294477   \n",
       "1412  1.312693  0.930353  0.273290  0.366511       0.901326     0.143831   \n",
       "1413  0.988218  1.194640  1.639737  1.466045       1.030087     0.287661   \n",
       "\n",
       "      keyPasses_A  ataque_h  defensa_h  ataque_a  defensa_a  \n",
       "0        1.126544  0.499953   1.458641  0.816987   1.472040  \n",
       "1        1.502058  0.368387   0.712360  1.702056   0.788593  \n",
       "2        1.314301  0.394700   1.017657  0.408493   1.130317  \n",
       "3        0.563272  0.236820   1.831782  0.885069   0.210291  \n",
       "4        0.375515  3.604928   0.915891  1.055275   0.420583  \n",
       "...           ...       ...        ...       ...        ...  \n",
       "1409     1.126544  1.499860   0.712360  0.612740   2.181774  \n",
       "1410     2.253087  1.420920   0.610594  2.042467   0.236578  \n",
       "1411     0.751029  0.763087   0.373141  1.123357   0.078859  \n",
       "1412     0.563272  0.710460   0.712360  0.204247   1.340608  \n",
       "1413     0.751029  1.368294   1.526485  1.429727   0.946312  \n",
       "\n",
       "[1414 rows x 11 columns]"
      ]
     },
     "execution_count": 244,
     "metadata": {},
     "output_type": "execute_result"
    }
   ],
   "source": [
    "new_X = filter.transform(X_norm)\n",
    "mask_new_feat = filter.get_support()\n",
    "pd.DataFrame(new_X,columns=features[mask_new_feat])"
   ]
  },
  {
   "cell_type": "code",
   "execution_count": 245,
   "metadata": {},
   "outputs": [
    {
     "data": {
      "image/png": "[encoded data removed]",
      "text/plain": [
       "<Figure size 864x432 with 1 Axes>"
      ]
     },
     "metadata": {
      "needs_background": "light"
     },
     "output_type": "display_data"
    },
    {
     "data": {
      "text/plain": [
       "<Figure size 432x288 with 0 Axes>"
      ]
     },
     "metadata": {},
     "output_type": "display_data"
    }
   ],
   "source": [
    "plt.figure(figsize=(12,6))\n",
    "plt.clf()\n",
    "plt.bar(features, X_norm.var(), width=0.75)\n",
    "plt.title(\"Normalized dividing by the mean\")\n",
    "plt.suptitle(\"Normalized feature variances\",fontsize=15)\n",
    "plt.xlabel(\"Feature name\")\n",
    "plt.ylabel(\"Variance\")\n",
    "plt.xticks(rotation=90)\n",
    "plt.show()\n",
    "\n",
    "plt.savefig(path_graphs + 'divmean_feature_variances.jpg', format='jpg', dpi=200)"
   ]
  },
  {
   "cell_type": "code",
   "execution_count": 246,
   "metadata": {},
   "outputs": [
    {
     "data": {
      "text/plain": [
       "array(['mins4_H', 'mins4_A', 'goals_H', 'goals_A', 'goals_ratio_A',\n",
       "       'keyPasses_H', 'keyPasses_A', 'ataque_h', 'defensa_h', 'ataque_a',\n",
       "       'defensa_a'], dtype='<U15')"
      ]
     },
     "execution_count": 246,
     "metadata": {},
     "output_type": "execute_result"
    }
   ],
   "source": [
    "features[mask_new_feat]"
   ]
  },
  {
   "cell_type": "markdown",
   "metadata": {},
   "source": [
    "Estas son las características que tienen más de 0.5 de Variancia."
   ]
  },
  {
   "cell_type": "markdown",
   "metadata": {},
   "source": [
    "##### Vamos a probar con otro metodo de normalizacion."
   ]
  },
  {
   "cell_type": "code",
   "execution_count": null,
   "metadata": {},
   "outputs": [],
   "source": []
  },
  {
   "cell_type": "code",
   "execution_count": null,
   "metadata": {},
   "outputs": [],
   "source": []
  },
  {
   "cell_type": "code",
   "execution_count": null,
   "metadata": {},
   "outputs": [],
   "source": []
  },
  {
   "cell_type": "markdown",
   "metadata": {},
   "source": [
    "#### 2. Ratio Dispersión (RMD)"
   ]
  },
  {
   "cell_type": "markdown",
   "metadata": {},
   "source": [
    "https://en.wikipedia.org/wiki/Mean_absolute_difference#Relative_mean_absolute_difference"
   ]
  },
  {
   "cell_type": "code",
   "execution_count": null,
   "metadata": {},
   "outputs": [],
   "source": [
    "from scipy.stats.mstats import gmean"
   ]
  },
  {
   "cell_type": "code",
   "execution_count": null,
   "metadata": {},
   "outputs": [],
   "source": [
    "X_norm.head(3)"
   ]
  },
  {
   "cell_type": "code",
   "execution_count": null,
   "metadata": {},
   "outputs": [],
   "source": [
    "X.goals_H.min()"
   ]
  },
  {
   "cell_type": "code",
   "execution_count": null,
   "metadata": {},
   "outputs": [],
   "source": [
    "pd.DataFrame(gmean(X_norm).reshape(1,-1), columns=features)"
   ]
  },
  {
   "cell_type": "markdown",
   "metadata": {},
   "source": [
    "#### 3. ANOVA f-test Feature Selection"
   ]
  },
  {
   "cell_type": "markdown",
   "metadata": {},
   "source": [
    "\n",
    "https://towardsdatascience.com/anova-for-feature-selection-in-machine-learning-d9305e228476\n",
    "\n",
    "**F-Distribution?**\n",
    "A probability distribution generally used for the analysis of variance. It assumes Hypothesis as\n",
    "\n",
    "- H0: two variances are equal\n",
    "- H1: two variances are not equal\n",
    "\n",
    "**Degrees of Freedom**\n",
    "refers to the maximum number of logically independent values, which have the freedom to vary. In simple words, it can be defined as the total number of observations minus the number of independent constraints imposed on the observations.\n",
    "\n",
    "$D_f = N-1$ where $N$ is the sample size.  \n",
    "\n",
    "**F-value**\n",
    "\n",
    "$s$ = variance\n",
    "\n",
    "${\\chi}^2$  = $\\frac{(n-1) s^2}{\\sigma^2}$\n",
    "\n",
    "$F = \\frac{\\chi_1^2 / (n_1 - 1)}{\\chi_2^2 / (n_2 - 1)}$\n",
    "\n",
    "**ANOVA**\n",
    "\n",
    "**An**alysis **o**f **Va**riance is a statistical method, used to check the means of two or more groups that are significantly different from each other. It assumes Hypothesis as\n",
    "- H0: means of all groups are equal\n",
    "- H1: at least one mean of the groups are different\n",
    "\n",
    "ANOVA is a parametric statistical hypothesis test for determining whether the means from two or more samples of data (often three or more) come from the same distribution or not. \n",
    "\n",
    "An F-statistic, or F-test, is a class of statistical tests that calculate the ratio between variances values\n",
    "\n",
    "**The results of this test can be used for feature selection where those features that are independent of the target variable can be removed from the dataset.**\n",
    "\n",
    "**Calculation:**\n",
    "\n",
    "Total variance of the data.\n",
    "\n",
    "$SST = \\sum_{i}{ ( x^{(i)} - \\overline{x} )^2 }$\n",
    "\n",
    "Variance between different groups $g$.\n",
    "\n",
    "$SSB = \\sum_{g}{ ( \\overline{x_g} - \\overline{x} )^2 }$\n",
    "\n",
    "Variance within each group.\n",
    "\n",
    "$SSW = \\sum_{g}[\\sum_{i\\in{g}}{ ( x^{(i)} - \\overline{x_g} )^2 }]$\n",
    "\n",
    "Distance between each observed value $x_g^{(i)}$ within the group $g$, with the group-mean $\\overline{x_g}$\n",
    "\n",
    "$SST = SSB + SSE$\n",
    "\n",
    "So, the F value will be the comparison of the variance between the groups and the variance within the groups.\n",
    "\n",
    "$F = \\frac{SSB / df_b}{SSW / df_w}$"
   ]
  },
  {
   "cell_type": "markdown",
   "metadata": {},
   "source": [
    "##### Calculo manual"
   ]
  },
  {
   "cell_type": "code",
   "execution_count": null,
   "metadata": {},
   "outputs": [],
   "source": [
    "X_norm.head(3)"
   ]
  },
  {
   "cell_type": "code",
   "execution_count": null,
   "metadata": {},
   "outputs": [],
   "source": [
    "SSB = np.sum( (np.mean(X,axis=0) - np.mean(X.to_numpy().flatten()))**2 )"
   ]
  },
  {
   "cell_type": "code",
   "execution_count": null,
   "metadata": {},
   "outputs": [],
   "source": [
    "SSW = np.sum(np.sum( (X - np.mean(X,axis=0))**2 ))"
   ]
  },
  {
   "cell_type": "code",
   "execution_count": null,
   "metadata": {},
   "outputs": [],
   "source": [
    "dfb, dfw = X.shape[1]-1, X.shape[0]-1\n",
    "dfb,dfw"
   ]
  },
  {
   "cell_type": "code",
   "execution_count": null,
   "metadata": {},
   "outputs": [],
   "source": [
    "F = (SSB/dfb)/(SSW/dfw) \n",
    "F"
   ]
  },
  {
   "cell_type": "markdown",
   "metadata": {},
   "source": [
    "Con  95% confianza, $\\alpha$ = 0.05, $df_b$ = 33 y $df_w$ = 1430, y dados que nuestro F-value de nuestra F-table es **1.4445** y nuestro F-value es **0.3539**, entonces nuestra hipótesis nula es cierta."
   ]
  },
  {
   "cell_type": "markdown",
   "metadata": {},
   "source": [
    "##### SelectKBest  $F-classif$\n",
    "\n",
    "Habrá que entrenar con Cross Validation los hiperparámetros, en este caso para encontrar el mejor valor de $k$.\n",
    "\n",
    "Vamos a usar *f_classif* que calcula la ANOVA F-value."
   ]
  },
  {
   "cell_type": "code",
   "execution_count": 138,
   "metadata": {},
   "outputs": [],
   "source": [
    "kbest_fclass = feature_selection.SelectKBest(score_func=feature_selection.f_classif,k=10)"
   ]
  },
  {
   "cell_type": "code",
   "execution_count": 139,
   "metadata": {},
   "outputs": [
    {
     "ename": "ValueError",
     "evalue": "Found input variables with inconsistent numbers of samples: [1414, 1411]",
     "output_type": "error",
     "traceback": [
      "\u001b[1;31m---------------------------------------------------------------------------\u001b[0m",
      "\u001b[1;31mValueError\u001b[0m                                Traceback (most recent call last)",
      "\u001b[1;32m<ipython-input-139-459e2ceaff02>\u001b[0m in \u001b[0;36m<module>\u001b[1;34m\u001b[0m\n\u001b[1;32m----> 1\u001b[1;33m \u001b[0mkbest_fclass\u001b[0m\u001b[1;33m.\u001b[0m\u001b[0mfit\u001b[0m\u001b[1;33m(\u001b[0m\u001b[0mX_norm\u001b[0m\u001b[1;33m,\u001b[0m \u001b[0mdata\u001b[0m\u001b[1;33m.\u001b[0m\u001b[0mdropna\u001b[0m\u001b[1;33m(\u001b[0m\u001b[1;33m)\u001b[0m\u001b[1;33m.\u001b[0m\u001b[0mres\u001b[0m\u001b[1;33m)\u001b[0m\u001b[1;33m\u001b[0m\u001b[1;33m\u001b[0m\u001b[0m\n\u001b[0m",
      "\u001b[1;32mc:\\Users\\GuillemUPV\\Anaconda3\\envs\\tfg\\lib\\site-packages\\sklearn\\feature_selection\\_univariate_selection.py\u001b[0m in \u001b[0;36mfit\u001b[1;34m(self, X, y)\u001b[0m\n\u001b[0;32m    341\u001b[0m         \u001b[0mself\u001b[0m \u001b[1;33m:\u001b[0m \u001b[0mobject\u001b[0m\u001b[1;33m\u001b[0m\u001b[1;33m\u001b[0m\u001b[0m\n\u001b[0;32m    342\u001b[0m         \"\"\"\n\u001b[1;32m--> 343\u001b[1;33m         X, y = self._validate_data(X, y, accept_sparse=['csr', 'csc'],\n\u001b[0m\u001b[0;32m    344\u001b[0m                                    multi_output=True)\n\u001b[0;32m    345\u001b[0m \u001b[1;33m\u001b[0m\u001b[0m\n",
      "\u001b[1;32mc:\\Users\\GuillemUPV\\Anaconda3\\envs\\tfg\\lib\\site-packages\\sklearn\\base.py\u001b[0m in \u001b[0;36m_validate_data\u001b[1;34m(self, X, y, reset, validate_separately, **check_params)\u001b[0m\n\u001b[0;32m    431\u001b[0m                 \u001b[0my\u001b[0m \u001b[1;33m=\u001b[0m \u001b[0mcheck_array\u001b[0m\u001b[1;33m(\u001b[0m\u001b[0my\u001b[0m\u001b[1;33m,\u001b[0m \u001b[1;33m**\u001b[0m\u001b[0mcheck_y_params\u001b[0m\u001b[1;33m)\u001b[0m\u001b[1;33m\u001b[0m\u001b[1;33m\u001b[0m\u001b[0m\n\u001b[0;32m    432\u001b[0m             \u001b[1;32melse\u001b[0m\u001b[1;33m:\u001b[0m\u001b[1;33m\u001b[0m\u001b[1;33m\u001b[0m\u001b[0m\n\u001b[1;32m--> 433\u001b[1;33m                 \u001b[0mX\u001b[0m\u001b[1;33m,\u001b[0m \u001b[0my\u001b[0m \u001b[1;33m=\u001b[0m \u001b[0mcheck_X_y\u001b[0m\u001b[1;33m(\u001b[0m\u001b[0mX\u001b[0m\u001b[1;33m,\u001b[0m \u001b[0my\u001b[0m\u001b[1;33m,\u001b[0m \u001b[1;33m**\u001b[0m\u001b[0mcheck_params\u001b[0m\u001b[1;33m)\u001b[0m\u001b[1;33m\u001b[0m\u001b[1;33m\u001b[0m\u001b[0m\n\u001b[0m\u001b[0;32m    434\u001b[0m             \u001b[0mout\u001b[0m \u001b[1;33m=\u001b[0m \u001b[0mX\u001b[0m\u001b[1;33m,\u001b[0m \u001b[0my\u001b[0m\u001b[1;33m\u001b[0m\u001b[1;33m\u001b[0m\u001b[0m\n\u001b[0;32m    435\u001b[0m \u001b[1;33m\u001b[0m\u001b[0m\n",
      "\u001b[1;32mc:\\Users\\GuillemUPV\\Anaconda3\\envs\\tfg\\lib\\site-packages\\sklearn\\utils\\validation.py\u001b[0m in \u001b[0;36minner_f\u001b[1;34m(*args, **kwargs)\u001b[0m\n\u001b[0;32m     61\u001b[0m             \u001b[0mextra_args\u001b[0m \u001b[1;33m=\u001b[0m \u001b[0mlen\u001b[0m\u001b[1;33m(\u001b[0m\u001b[0margs\u001b[0m\u001b[1;33m)\u001b[0m \u001b[1;33m-\u001b[0m \u001b[0mlen\u001b[0m\u001b[1;33m(\u001b[0m\u001b[0mall_args\u001b[0m\u001b[1;33m)\u001b[0m\u001b[1;33m\u001b[0m\u001b[1;33m\u001b[0m\u001b[0m\n\u001b[0;32m     62\u001b[0m             \u001b[1;32mif\u001b[0m \u001b[0mextra_args\u001b[0m \u001b[1;33m<=\u001b[0m \u001b[1;36m0\u001b[0m\u001b[1;33m:\u001b[0m\u001b[1;33m\u001b[0m\u001b[1;33m\u001b[0m\u001b[0m\n\u001b[1;32m---> 63\u001b[1;33m                 \u001b[1;32mreturn\u001b[0m \u001b[0mf\u001b[0m\u001b[1;33m(\u001b[0m\u001b[1;33m*\u001b[0m\u001b[0margs\u001b[0m\u001b[1;33m,\u001b[0m \u001b[1;33m**\u001b[0m\u001b[0mkwargs\u001b[0m\u001b[1;33m)\u001b[0m\u001b[1;33m\u001b[0m\u001b[1;33m\u001b[0m\u001b[0m\n\u001b[0m\u001b[0;32m     64\u001b[0m \u001b[1;33m\u001b[0m\u001b[0m\n\u001b[0;32m     65\u001b[0m             \u001b[1;31m# extra_args > 0\u001b[0m\u001b[1;33m\u001b[0m\u001b[1;33m\u001b[0m\u001b[1;33m\u001b[0m\u001b[0m\n",
      "\u001b[1;32mc:\\Users\\GuillemUPV\\Anaconda3\\envs\\tfg\\lib\\site-packages\\sklearn\\utils\\validation.py\u001b[0m in \u001b[0;36mcheck_X_y\u001b[1;34m(X, y, accept_sparse, accept_large_sparse, dtype, order, copy, force_all_finite, ensure_2d, allow_nd, multi_output, ensure_min_samples, ensure_min_features, y_numeric, estimator)\u001b[0m\n\u001b[0;32m    829\u001b[0m         \u001b[0my\u001b[0m \u001b[1;33m=\u001b[0m \u001b[0my\u001b[0m\u001b[1;33m.\u001b[0m\u001b[0mastype\u001b[0m\u001b[1;33m(\u001b[0m\u001b[0mnp\u001b[0m\u001b[1;33m.\u001b[0m\u001b[0mfloat64\u001b[0m\u001b[1;33m)\u001b[0m\u001b[1;33m\u001b[0m\u001b[1;33m\u001b[0m\u001b[0m\n\u001b[0;32m    830\u001b[0m \u001b[1;33m\u001b[0m\u001b[0m\n\u001b[1;32m--> 831\u001b[1;33m     \u001b[0mcheck_consistent_length\u001b[0m\u001b[1;33m(\u001b[0m\u001b[0mX\u001b[0m\u001b[1;33m,\u001b[0m \u001b[0my\u001b[0m\u001b[1;33m)\u001b[0m\u001b[1;33m\u001b[0m\u001b[1;33m\u001b[0m\u001b[0m\n\u001b[0m\u001b[0;32m    832\u001b[0m \u001b[1;33m\u001b[0m\u001b[0m\n\u001b[0;32m    833\u001b[0m     \u001b[1;32mreturn\u001b[0m \u001b[0mX\u001b[0m\u001b[1;33m,\u001b[0m \u001b[0my\u001b[0m\u001b[1;33m\u001b[0m\u001b[1;33m\u001b[0m\u001b[0m\n",
      "\u001b[1;32mc:\\Users\\GuillemUPV\\Anaconda3\\envs\\tfg\\lib\\site-packages\\sklearn\\utils\\validation.py\u001b[0m in \u001b[0;36mcheck_consistent_length\u001b[1;34m(*arrays)\u001b[0m\n\u001b[0;32m    260\u001b[0m     \u001b[0muniques\u001b[0m \u001b[1;33m=\u001b[0m \u001b[0mnp\u001b[0m\u001b[1;33m.\u001b[0m\u001b[0munique\u001b[0m\u001b[1;33m(\u001b[0m\u001b[0mlengths\u001b[0m\u001b[1;33m)\u001b[0m\u001b[1;33m\u001b[0m\u001b[1;33m\u001b[0m\u001b[0m\n\u001b[0;32m    261\u001b[0m     \u001b[1;32mif\u001b[0m \u001b[0mlen\u001b[0m\u001b[1;33m(\u001b[0m\u001b[0muniques\u001b[0m\u001b[1;33m)\u001b[0m \u001b[1;33m>\u001b[0m \u001b[1;36m1\u001b[0m\u001b[1;33m:\u001b[0m\u001b[1;33m\u001b[0m\u001b[1;33m\u001b[0m\u001b[0m\n\u001b[1;32m--> 262\u001b[1;33m         raise ValueError(\"Found input variables with inconsistent numbers of\"\n\u001b[0m\u001b[0;32m    263\u001b[0m                          \" samples: %r\" % [int(l) for l in lengths])\n\u001b[0;32m    264\u001b[0m \u001b[1;33m\u001b[0m\u001b[0m\n",
      "\u001b[1;31mValueError\u001b[0m: Found input variables with inconsistent numbers of samples: [1414, 1411]"
     ]
    }
   ],
   "source": [
    "kbest_fclass.fit(X_norm, )"
   ]
  },
  {
   "cell_type": "code",
   "execution_count": null,
   "metadata": {},
   "outputs": [],
   "source": [
    "X_kbest = kbest_fclass.transform(X_norm)\n",
    "mask_new_feat = kbest_fclass.get_support()\n",
    "pd.DataFrame(X_kbest,columns=features[mask_new_feat])"
   ]
  },
  {
   "cell_type": "code",
   "execution_count": null,
   "metadata": {},
   "outputs": [],
   "source": [
    "features[mask_new_feat]"
   ]
  },
  {
   "cell_type": "markdown",
   "metadata": {},
   "source": [
    "La gran diferencia respecto a Variance Threshold es que SelectKBest selecciona como característica a tener en cuenta al *accuracy* del 11 titular en los pases. Sin embargo no tiene en cuenta los pases clave locales, solo los visitantes.\n",
    "\n",
    "Pero repito, habria que entrenar los hiperparámetros (*k*) para obtener el numero óptimo de características."
   ]
  },
  {
   "cell_type": "markdown",
   "metadata": {},
   "source": [
    "##### SelectKBest - $\\chi^2$\n",
    "\n",
    "$\\chi^2 = \\sum_{i}{ \\mathcal{N_i}^2}$\n",
    "\n",
    "Una variable aleatoria $\\chi$ sigue una distribucion chi-square si puede ser escrita como la suma de unas variables Normales al cuadrado.\n",
    "\n",
    "Un test chi-square es usado en estadística para probar la independencia de dos eventos.\n",
    "\n",
    "$\\chi^2_c = \\sum_{i}{\\frac{(O_i - E_i)^2}{E_i}}$\n",
    "\n",
    "$c$ = grados de libertad <br>\n",
    "$O$ = valor(es) observados <br>\n",
    "$E$ = valor(es) esperados\n",
    "\n",
    "En selección de características nuestro objetivo es seleccionar las características (features) que son más dependientes en el valor de target.\n",
    "\n",
    "Cuando dos características son independientes, el valor observado está muy próximo al esperado, por lo tanto tendremos un pequeño valor Chi-Square ($\\chi^2\\approx0$). Un alto valor de Chi-Square indica que la hipótesis de que las variables son independientes es incorrecta.\n",
    "\n",
    "Las limitaciones de Chi-Square es que es muy sensible a valor pequeños."
   ]
  },
  {
   "cell_type": "code",
   "execution_count": null,
   "metadata": {},
   "outputs": [],
   "source": [
    "kbest_chi2 = feature_selection.SelectKBest(score_func=feature_selection.chi2,k=10)"
   ]
  },
  {
   "cell_type": "code",
   "execution_count": null,
   "metadata": {},
   "outputs": [],
   "source": [
    "kbest_chi2.fit(X_norm, data.dropna().res)"
   ]
  },
  {
   "cell_type": "code",
   "execution_count": null,
   "metadata": {},
   "outputs": [],
   "source": [
    "X_kbest = kbest_chi2.transform(X_norm)\n",
    "mask_new_feat = kbest_chi2.get_support()\n",
    "pd.DataFrame(X_kbest,columns=features[mask_new_feat])"
   ]
  },
  {
   "cell_type": "code",
   "execution_count": null,
   "metadata": {},
   "outputs": [],
   "source": [
    "features[mask_new_feat]"
   ]
  },
  {
   "cell_type": "code",
   "execution_count": null,
   "metadata": {},
   "outputs": [],
   "source": [
    "pvalues = -np.log10(kbest_chi2.pvalues_)\n",
    "pvalues /= pvalues.max()\n",
    "\n",
    "plt.figure(figsize=(12,6))\n",
    "plt.clf()\n",
    "plt.bar(features, pvalues, width=0.75)\n",
    "plt.title(\"Feature univariate score\")\n",
    "plt.xlabel(\"Feature number\")\n",
    "plt.ylabel(\"P-values\")\n",
    "plt.xticks(rotation=90)\n",
    "plt.show()\n",
    "\n",
    "plt.savefig(path_graphs + 'feature_univariate_score_chi2.jpg', format='jpg', dpi=200)"
   ]
  },
  {
   "cell_type": "markdown",
   "metadata": {},
   "source": [
    "INTERESTING: compare with weights of our model (e.g. SVM)\n",
    "\n",
    "https://scikit-learn.org/stable/auto_examples/feature_selection/plot_feature_selection.html#sphx-glr-auto-examples-feature-selection-plot-feature-selection-py"
   ]
  },
  {
   "cell_type": "markdown",
   "metadata": {},
   "source": [
    "##### Mutual Information"
   ]
  },
  {
   "cell_type": "markdown",
   "metadata": {},
   "source": [
    "Mutual information between two random variables is a non-negative value, which measures the dependency between the variables. It is equal to zero if and only if two random variables are independent, and higher values mean higher dependency.\n",
    "\n",
    "The function relies on nonparametric methods based on entropy estimation from k-nearest neighbors distances.\n",
    "\n",
    "Comparison of F-test and mutual information¶\n",
    "\n",
    "https://scikit-learn.org/stable/auto_examples/feature_selection/plot_f_test_vs_mi.html#sphx-glr-auto-examples-feature-selection-plot-f-test-vs-mi-py"
   ]
  },
  {
   "cell_type": "code",
   "execution_count": null,
   "metadata": {},
   "outputs": [],
   "source": []
  },
  {
   "cell_type": "markdown",
   "metadata": {},
   "source": [
    "### Analisi Multivariado"
   ]
  },
  {
   "cell_type": "markdown",
   "metadata": {},
   "source": [
    "#### Linear Discriminant Analysis (LDA)\n",
    "\n",
    "<b>En LDA se asume que las caract. o muestras son independientes?</b>"
   ]
  },
  {
   "cell_type": "markdown",
   "metadata": {},
   "source": [
    "https://towardsdatascience.com/linear-discriminant-analysis-explained-f88be6c1e00b\n",
    "\n",
    "LinearDiscriminantAnalysis can be used to perform supervised dimensionality reduction, by projecting the input data to a linear subspace consisting of the directions which maximize the separation between classes.\n",
    "\n",
    "with $x\\in\\R^d$\n",
    "\n",
    "$P(y=k | x) = \\frac{P(x | y=k) P(y=k)}{P(x)} = \\frac{P(x | y=k) P(y = k)}{ \\sum_{l} P(x | y=l) \\cdot P(y=l)}$\n",
    "\n",
    "for linear and quadratic discriminant analysis,  is modeled as a multivariate Gaussian distribution with density:\n",
    "\n",
    "$P(x | y=k) = \\frac{1}{(2\\pi)^{d/2} |\\Sigma_k|^{1/2}}\\exp\\left(-\\frac{1}{2} (x-\\mu_k)^t \\Sigma_k^{-1} (x-\\mu_k)\\right)$\n",
    "\n",
    "In LDA is a special case in which we assume to share the same covariance matrix: $\\Sigma_k = \\Sigma$ for all $k$.\n",
    "\n",
    "$\\log P(y=k | x) = -\\frac{1}{2} (x-\\mu_k)^t \\Sigma^{-1} (x-\\mu_k) + \\log P(y = k) + Cst.$\n",
    "\n",
    "The term $(x-\\mu_k)^t \\Sigma^{-1} (x-\\mu_k)$ corresponds to the Mahalanobis Distance between the sample $x$ and the mean $\\mu_k$. The Mahalanobis distance tells how close $x$ is from $\\mu_k$, while also accounting for the variance of each feature. We can thus interpret LDA as assigning $x$ to the class whose mean is the closest in terms of Mahalanobis distance, while also accounting for the class prior probabilities.\n",
    "\n",
    "The log-posterior of LDA can be also written as:\n",
    "\n",
    "$\\log P(y=k | x) = \\omega_k^t x + \\omega_{k0} + Cst.$\n",
    "\n",
    "where $\\omega_k = \\Sigma^{-1} \\mu_k$ and $\\omega_{k0} = -\\frac{1}{2} \\mu_k^t\\Sigma^{-1}\\mu_k + \\log P (y = k)$\n",
    "\n",
    "It is clear, from the above formula, that LDA has linear decision surface."
   ]
  },
  {
   "cell_type": "code",
   "execution_count": null,
   "metadata": {},
   "outputs": [],
   "source": [
    "lda = discriminant_analysis.LinearDiscriminantAnalysis(solver='eigen')"
   ]
  },
  {
   "cell_type": "markdown",
   "metadata": {},
   "source": [
    "No podemos proyectar los datos a más de $k-1$ dimensiones, ya que la matrix $S_b$ (between-class matrix) tiene rango $k$."
   ]
  },
  {
   "cell_type": "code",
   "execution_count": null,
   "metadata": {},
   "outputs": [],
   "source": [
    "y = data.dropna().res"
   ]
  },
  {
   "cell_type": "code",
   "execution_count": null,
   "metadata": {},
   "outputs": [],
   "source": [
    "lda.fit(X_norm,y)"
   ]
  },
  {
   "cell_type": "code",
   "execution_count": null,
   "metadata": {},
   "outputs": [],
   "source": [
    "X_lda = lda.transform(X_norm)\n",
    "X_lda.shape"
   ]
  },
  {
   "cell_type": "code",
   "execution_count": null,
   "metadata": {},
   "outputs": [],
   "source": [
    "# plot LDA transformation\n",
    "\n",
    "plt.figure(figsize=(15,10))\n",
    "plt.title('LDA projection')\n",
    "plt.xlabel('x projection')\n",
    "plt.ylabel('y projection')\n",
    "plt.legend(y)\n",
    "plt.scatter(X_lda[:,0],X_lda[:,1],c=y,cmap='Dark2_r',alpha=0.4)\n",
    "\n",
    "plt.savefig(path_graphs + 'lda_projection.jpg', format='jpg', dpi=200)"
   ]
  },
  {
   "cell_type": "markdown",
   "metadata": {},
   "source": [
    "#### Feature Selection in Time Series"
   ]
  },
  {
   "cell_type": "markdown",
   "metadata": {},
   "source": [
    "About Time Series: https://towardsdatascience.com/12-things-you-should-know-about-time-series-975a185f4eb2"
   ]
  },
  {
   "cell_type": "markdown",
   "metadata": {},
   "source": [
    "##### I. Pearson's Correlation Coef VS Kolmogorov-Smirnov Test\n",
    "\n",
    "https://towardsdatascience.com/time-series-clustering-and-dimensionality-reduction-5b3b4e84f6a3\n",
    "\n",
    "Kolmogorov-Smirnov Test: https://en.wikipedia.org/wiki/Kolmogorov%E2%80%93Smirnov_test"
   ]
  },
  {
   "cell_type": "markdown",
   "metadata": {},
   "source": [
    "##### II. Vector Autoregression (VAR)\n",
    "\n",
    "https://towardsdatascience.com/multiple-series-forecast-them-together-with-any-sklearn-model-96319d46269\n",
    "\n",
    "¿How many lags to use? https://www.econometrics-with-r.org/14-6-llsuic.html"
   ]
  },
  {
   "cell_type": "markdown",
   "metadata": {},
   "source": [
    "##### III. ForeCA\n",
    "\n",
    "https://stats.stackexchange.com/questions/82291/time-series-dimensionality-reduction"
   ]
  },
  {
   "cell_type": "markdown",
   "metadata": {},
   "source": [
    "#### Principal Component Analysis (PCA)\n",
    "\n",
    "Sklearn does not implement PCA with eigen-decomposition of the Covariance matrix. However it is performed via SVD of the data matrix X.\n",
    "\n",
    "https://stats.stackexchange.com/questions/134282/relationship-between-svd-and-pca-how-to-use-svd-to-perform-pca"
   ]
  },
  {
   "cell_type": "markdown",
   "metadata": {},
   "source": [
    "The number of Principal Components (n_comps) will be also trained as hyperparameter during Cross-Validation."
   ]
  }
 ],
 "metadata": {
  "interpreter": {
   "hash": "288ff6fe8157f43ba3e1fb4cfa0011490e9beb907b54ad0d71ae70a61946bdb3"
  },
  "kernelspec": {
   "display_name": "Python 3.8.8 ('tfg')",
   "language": "python",
   "name": "python3"
  },
  "language_info": {
   "codemirror_mode": {
    "name": "ipython",
    "version": 3
   },
   "file_extension": ".py",
   "mimetype": "text/x-python",
   "name": "python",
   "nbconvert_exporter": "python",
   "pygments_lexer": "ipython3",
   "version": "3.8.8"
  },
  "orig_nbformat": 4
 },
 "nbformat": 4,
 "nbformat_minor": 2
}
