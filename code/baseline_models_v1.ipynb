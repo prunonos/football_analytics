{
 "cells": [
  {
   "cell_type": "code",
   "execution_count": 14,
   "id": "4551a311",
   "metadata": {},
   "outputs": [],
   "source": [
    "import os\n",
    "import pandas as pd\n",
    "import numpy as np\n",
    "import seaborn as sns\n",
    "import funcTest as ft\n",
    "import importlib\n",
    "\n",
    "from sklearn.preprocessing import Normalizer\n",
    "from sklearn.pipeline import make_pipeline\n",
    "\n",
    "from sklearn import tree,naive_bayes,svm,ensemble,neighbors\n",
    "from sklearn.metrics import confusion_matrix, ConfusionMatrixDisplay\n",
    "from sklearn.model_selection import cross_val_score, cross_val_predict, cross_validate\n",
    "from sklearn.model_selection import GridSearchCV\n",
    "from sklearn.preprocessing import MinMaxScaler\n",
    "\n",
    "%matplotlib inline"
   ]
  },
  {
   "cell_type": "code",
   "execution_count": 2,
   "id": "4dbbeb22",
   "metadata": {},
   "outputs": [],
   "source": [
    "def matrix_conf(test_Y,test_pred,labels=[-1,0,1]):\n",
    "    cm = confusion_matrix(test_Y,test_pred,labels)\n",
    "    disp = ConfusionMatrixDisplay(confusion_matrix=cm,display_labels=labels)\n",
    "    disp.plot()\n",
    "    return cm\n",
    "\n",
    "def info_test(estim,score_test_array=False):\n",
    "    test_res = [100*e.score(test_X,test_Y) for e in estim]\n",
    "    test_pred = [e.predict(test_X) for e in estim]\n",
    "    \n",
    "    max_est = test_res.index(max(test_res)) # cogemos el estimador con maximo score para calcular confusion matrix\n",
    "\n",
    "    cm = matrix_conf(test_Y,test_pred[max_est])\n",
    "    \n",
    "    if score_test_array==True:\n",
    "        return max(test_res),max_est,cm,test_res\n",
    "    else:\n",
    "        return max(test_res),max_est,cm\n",
    "    \n",
    "def acc_HDA(cm):\n",
    "    H = cm[0][0]/sum(cm[0])\n",
    "    D = cm[1][1]/sum(cm[1])\n",
    "    A = cm[2][2]/sum(cm[2])\n",
    "    return H,D,A"
   ]
  },
  {
   "cell_type": "markdown",
   "id": "d608a7e2",
   "metadata": {},
   "source": [
    "## BASELINE DATASET 1 - CUOTAS"
   ]
  },
  {
   "cell_type": "code",
   "execution_count": 3,
   "id": "0de14757",
   "metadata": {},
   "outputs": [],
   "source": [
    "path = os.getcwd() + '\\\\data_train\\\\'\n",
    "\n",
    "cuotas = pd.read_csv(path+'DATA1_ProbCuotas.csv');"
   ]
  },
  {
   "cell_type": "code",
   "execution_count": 4,
   "id": "dec695fd",
   "metadata": {},
   "outputs": [
    {
     "data": {
      "text/plain": [
       "0.8849557522123894"
      ]
     },
     "execution_count": 4,
     "metadata": {},
     "output_type": "execute_result"
    }
   ],
   "source": [
    "max(cuotas['B365A'])"
   ]
  },
  {
   "cell_type": "markdown",
   "id": "876ad36d",
   "metadata": {},
   "source": [
    "#### DUDA\n",
    "Si por ejemplo escalamos unos datos X entre 0 y 1. Y luego cuando ya tenemos el modelo entrenado y le pasamos unos datos X' para que los prediga, si por ejemplo max(X') >>>> max(X) no se estaria escalando diferente los datos al haber una anomalía?"
   ]
  },
  {
   "cell_type": "code",
   "execution_count": 5,
   "id": "0e44b70a",
   "metadata": {},
   "outputs": [
    {
     "data": {
      "text/html": [
       "<div>\n",
       "<style scoped>\n",
       "    .dataframe tbody tr th:only-of-type {\n",
       "        vertical-align: middle;\n",
       "    }\n",
       "\n",
       "    .dataframe tbody tr th {\n",
       "        vertical-align: top;\n",
       "    }\n",
       "\n",
       "    .dataframe thead th {\n",
       "        text-align: right;\n",
       "    }\n",
       "</style>\n",
       "<table border=\"1\" class=\"dataframe\">\n",
       "  <thead>\n",
       "    <tr style=\"text-align: right;\">\n",
       "      <th></th>\n",
       "      <th>B365H</th>\n",
       "      <th>B365D</th>\n",
       "      <th>B365A</th>\n",
       "      <th>res</th>\n",
       "    </tr>\n",
       "  </thead>\n",
       "  <tbody>\n",
       "    <tr>\n",
       "      <th>0</th>\n",
       "      <td>0.681186</td>\n",
       "      <td>0.467099</td>\n",
       "      <td>0.563740</td>\n",
       "      <td>1</td>\n",
       "    </tr>\n",
       "    <tr>\n",
       "      <th>1</th>\n",
       "      <td>0.383963</td>\n",
       "      <td>0.404172</td>\n",
       "      <td>0.830191</td>\n",
       "      <td>1</td>\n",
       "    </tr>\n",
       "    <tr>\n",
       "      <th>2</th>\n",
       "      <td>0.524158</td>\n",
       "      <td>0.451358</td>\n",
       "      <td>0.722173</td>\n",
       "      <td>-1</td>\n",
       "    </tr>\n",
       "    <tr>\n",
       "      <th>3</th>\n",
       "      <td>0.918087</td>\n",
       "      <td>0.312150</td>\n",
       "      <td>0.244291</td>\n",
       "      <td>-1</td>\n",
       "    </tr>\n",
       "    <tr>\n",
       "      <th>4</th>\n",
       "      <td>0.916745</td>\n",
       "      <td>0.323931</td>\n",
       "      <td>0.233770</td>\n",
       "      <td>-1</td>\n",
       "    </tr>\n",
       "    <tr>\n",
       "      <th>...</th>\n",
       "      <td>...</td>\n",
       "      <td>...</td>\n",
       "      <td>...</td>\n",
       "      <td>...</td>\n",
       "    </tr>\n",
       "    <tr>\n",
       "      <th>1821</th>\n",
       "      <td>0.894148</td>\n",
       "      <td>0.362130</td>\n",
       "      <td>0.263367</td>\n",
       "      <td>0</td>\n",
       "    </tr>\n",
       "    <tr>\n",
       "      <th>1822</th>\n",
       "      <td>0.169386</td>\n",
       "      <td>0.312953</td>\n",
       "      <td>0.934542</td>\n",
       "      <td>0</td>\n",
       "    </tr>\n",
       "    <tr>\n",
       "      <th>1823</th>\n",
       "      <td>0.691807</td>\n",
       "      <td>0.506616</td>\n",
       "      <td>0.514532</td>\n",
       "      <td>1</td>\n",
       "    </tr>\n",
       "    <tr>\n",
       "      <th>1824</th>\n",
       "      <td>0.856448</td>\n",
       "      <td>0.394417</td>\n",
       "      <td>0.333063</td>\n",
       "      <td>-1</td>\n",
       "    </tr>\n",
       "    <tr>\n",
       "      <th>1825</th>\n",
       "      <td>0.776057</td>\n",
       "      <td>0.497161</td>\n",
       "      <td>0.388028</td>\n",
       "      <td>-1</td>\n",
       "    </tr>\n",
       "  </tbody>\n",
       "</table>\n",
       "<p>1826 rows × 4 columns</p>\n",
       "</div>"
      ],
      "text/plain": [
       "         B365H     B365D     B365A  res\n",
       "0     0.681186  0.467099  0.563740    1\n",
       "1     0.383963  0.404172  0.830191    1\n",
       "2     0.524158  0.451358  0.722173   -1\n",
       "3     0.918087  0.312150  0.244291   -1\n",
       "4     0.916745  0.323931  0.233770   -1\n",
       "...        ...       ...       ...  ...\n",
       "1821  0.894148  0.362130  0.263367    0\n",
       "1822  0.169386  0.312953  0.934542    0\n",
       "1823  0.691807  0.506616  0.514532    1\n",
       "1824  0.856448  0.394417  0.333063   -1\n",
       "1825  0.776057  0.497161  0.388028   -1\n",
       "\n",
       "[1826 rows x 4 columns]"
      ]
     },
     "execution_count": 5,
     "metadata": {},
     "output_type": "execute_result"
    }
   ],
   "source": [
    "data = ft.normalDB(cuotas,scaler=Normalizer(norm='l2'))\n",
    "data"
   ]
  },
  {
   "cell_type": "code",
   "execution_count": 6,
   "id": "f1b79e61",
   "metadata": {},
   "outputs": [],
   "source": [
    "(train_DB,train_X,train_Y,test_X,test_Y) = ft.preprocessDB(data)"
   ]
  },
  {
   "cell_type": "markdown",
   "id": "0491dafa",
   "metadata": {},
   "source": [
    "### BASELINE 0: ONE CLASS CLASSIFIER"
   ]
  },
  {
   "cell_type": "code",
   "execution_count": 7,
   "id": "b8a508a8",
   "metadata": {},
   "outputs": [
    {
     "name": "stdout",
     "output_type": "stream",
     "text": [
      "De un total de 274 muestras: \n",
      "\n",
      "22.99270072992701\n",
      "46.35036496350365\n",
      "30.656934306569344\n"
     ]
    }
   ],
   "source": [
    "list_tY = list(test_Y)\n",
    "print(f'De un total de {len(list_tY)} muestras: \\n')\n",
    "print(list_tY.count(0)/len(list_tY)*100)\n",
    "print(list_tY.count(-1)/len(list_tY)*100)\n",
    "print(list_tY.count(1)/len(list_tY)*100)"
   ]
  },
  {
   "cell_type": "markdown",
   "id": "fe54e2ca",
   "metadata": {},
   "source": [
    "### BASELINE 1: ARBOL DE DECISIÓN"
   ]
  },
  {
   "cell_type": "code",
   "execution_count": 25,
   "id": "6b87055b",
   "metadata": {},
   "outputs": [],
   "source": [
    "clf = tree.DecisionTreeClassifier();"
   ]
  },
  {
   "cell_type": "code",
   "execution_count": 26,
   "id": "e510735b",
   "metadata": {},
   "outputs": [],
   "source": [
    "param_tree = {\n",
    "    'splitter' : ['best', 'random'],\n",
    "#     'max_depth' : [None,5,10],\n",
    "    'min_samples_split' : [5,50,250],\n",
    "    'min_samples_leaf' : [2,5,10],\n",
    "    'random_state' : [None],\n",
    "    'max_leaf_nodes' : [None,5,10,50,100]\n",
    "}"
   ]
  },
  {
   "cell_type": "code",
   "execution_count": 27,
   "id": "f07e3963",
   "metadata": {},
   "outputs": [
    {
     "name": "stdout",
     "output_type": "stream",
     "text": [
      "7.143\n"
     ]
    }
   ],
   "source": [
    "resultado = ft.train_wGridSearch(clf,train_X,train_Y,param_tree)"
   ]
  },
  {
   "cell_type": "code",
   "execution_count": 28,
   "id": "2960e4bb",
   "metadata": {},
   "outputs": [
    {
     "data": {
      "text/plain": [
       "array([56.91318328, 51.76848875, 53.22580645, 53.22580645, 55.80645161])"
      ]
     },
     "execution_count": 28,
     "metadata": {},
     "output_type": "execute_result"
    }
   ],
   "source": [
    "resultado['test_score']*100"
   ]
  },
  {
   "cell_type": "code",
   "execution_count": 29,
   "id": "eeb10b0b",
   "metadata": {},
   "outputs": [
    {
     "name": "stderr",
     "output_type": "stream",
     "text": [
      "C:\\Users\\GuillemUPV\\Anaconda3\\envs\\tfg\\lib\\site-packages\\sklearn\\utils\\validation.py:70: FutureWarning: Pass labels=[-1, 0, 1] as keyword args. From version 1.0 (renaming of 0.25) passing these as positional arguments will result in an error\n",
      "  warnings.warn(f\"Pass {args_msg} as keyword args. From version \"\n"
     ]
    },
    {
     "data": {
      "text/plain": [
       "[56.20437956204379,\n",
       " 55.1094890510949,\n",
       " 56.56934306569343,\n",
       " 56.56934306569343,\n",
       " 57.299270072992705]"
      ]
     },
     "execution_count": 29,
     "metadata": {},
     "output_type": "execute_result"
    },
    {
     "data": {
      "image/png": "[encoded data removed]",
      "text/plain": [
       "<Figure size 432x288 with 2 Axes>"
      ]
     },
     "metadata": {
      "needs_background": "light"
     },
     "output_type": "display_data"
    }
   ],
   "source": [
    "# matriz de confusión del mejor clasificador\n",
    "\n",
    "(acc,max_ind,matrix,score_test_array) = info_test(resultado['estimator'],score_test_array=True)\n",
    "score_test_array"
   ]
  },
  {
   "cell_type": "code",
   "execution_count": 30,
   "id": "d192d3f8",
   "metadata": {},
   "outputs": [
    {
     "data": {
      "text/plain": [
       "(0.8582677165354331, 0.0, 0.5714285714285714)"
      ]
     },
     "execution_count": 30,
     "metadata": {},
     "output_type": "execute_result"
    }
   ],
   "source": [
    "acc_HDA(matrix)"
   ]
  },
  {
   "cell_type": "code",
   "execution_count": 31,
   "id": "0e2fd3e1",
   "metadata": {},
   "outputs": [
    {
     "data": {
      "text/plain": [
       "DecisionTreeClassifier(max_leaf_nodes=100, min_samples_leaf=5,\n",
       "                       min_samples_split=250, splitter='random')"
      ]
     },
     "execution_count": 31,
     "metadata": {},
     "output_type": "execute_result"
    }
   ],
   "source": [
    "mejor_clasificador = resultado['estimator'][max_ind].best_estimator_\n",
    "mejor_clasificador"
   ]
  },
  {
   "cell_type": "code",
   "execution_count": null,
   "id": "87fd6537",
   "metadata": {},
   "outputs": [],
   "source": [
    "ft.tree_png(mejor_clasificador,['-1','0','1'],train_X.columns)"
   ]
  },
  {
   "cell_type": "markdown",
   "id": "c451ffec",
   "metadata": {},
   "source": [
    "### BASELINE 2: NAIVE-BAYES"
   ]
  },
  {
   "cell_type": "code",
   "execution_count": 66,
   "id": "7ff4a0ab",
   "metadata": {},
   "outputs": [
    {
     "name": "stdout",
     "output_type": "stream",
     "text": [
      "0.021\n"
     ]
    }
   ],
   "source": [
    "res = ft.train_wCrossVal(naive_bayes.GaussianNB(),train_X,train_Y)"
   ]
  },
  {
   "cell_type": "code",
   "execution_count": 68,
   "id": "3028fd52",
   "metadata": {},
   "outputs": [
    {
     "data": {
      "text/plain": [
       "array([58.19935691, 50.80385852, 54.19354839, 53.5483871 , 54.51612903])"
      ]
     },
     "execution_count": 68,
     "metadata": {},
     "output_type": "execute_result"
    }
   ],
   "source": [
    "res['test_score']*100"
   ]
  },
  {
   "cell_type": "code",
   "execution_count": 70,
   "id": "c17f4135",
   "metadata": {
    "scrolled": true
   },
   "outputs": [
    {
     "name": "stderr",
     "output_type": "stream",
     "text": [
      "C:\\Users\\GuillemUPV\\Anaconda3\\envs\\tfg\\lib\\site-packages\\sklearn\\utils\\validation.py:70: FutureWarning: Pass labels=[-1, 0, 1] as keyword args. From version 1.0 (renaming of 0.25) passing these as positional arguments will result in an error\n",
      "  warnings.warn(f\"Pass {args_msg} as keyword args. From version \"\n"
     ]
    },
    {
     "data": {
      "text/plain": [
       "([55.1094890510949,\n",
       "  55.47445255474452,\n",
       "  55.1094890510949,\n",
       "  55.1094890510949,\n",
       "  54.379562043795616],\n",
       " 1)"
      ]
     },
     "execution_count": 70,
     "metadata": {},
     "output_type": "execute_result"
    },
    {
     "data": {
      "image/png": "[encoded data removed]",
      "text/plain": [
       "<Figure size 432x288 with 2 Axes>"
      ]
     },
     "metadata": {
      "needs_background": "light"
     },
     "output_type": "display_data"
    }
   ],
   "source": [
    "(acc,max_ind,cm,score_test_array) = info_test(res['estimator'],score_test_array=True)\n",
    "score_test_array,max_ind  # representa array con los test para cada estimador, y el indice del mejor estimador"
   ]
  },
  {
   "cell_type": "code",
   "execution_count": 71,
   "id": "9abdf59e",
   "metadata": {},
   "outputs": [
    {
     "data": {
      "text/plain": [
       "(0.7244094488188977, 0.19047619047619047, 0.5714285714285714)"
      ]
     },
     "execution_count": 71,
     "metadata": {},
     "output_type": "execute_result"
    }
   ],
   "source": [
    "acc_HDA(cm)"
   ]
  },
  {
   "cell_type": "markdown",
   "id": "0b10fa54",
   "metadata": {},
   "source": [
    "### BASELINE 3: SVM"
   ]
  },
  {
   "cell_type": "code",
   "execution_count": 82,
   "id": "33393add",
   "metadata": {},
   "outputs": [],
   "source": [
    "clf = svm.SVC()"
   ]
  },
  {
   "cell_type": "code",
   "execution_count": 99,
   "id": "d6376398",
   "metadata": {},
   "outputs": [],
   "source": [
    "param_svm = {\n",
    "    'C' : [10,1000],\n",
    "    'kernel' : ['linear','poly'],\n",
    "    'degree' : [2,4],\n",
    "    'gamma' : ['scale','auto'],\n",
    "    'coef0' : [0.0,5.0]\n",
    "}"
   ]
  },
  {
   "cell_type": "code",
   "execution_count": 93,
   "id": "840dab72",
   "metadata": {},
   "outputs": [],
   "source": [
    "param_svm = {\n",
    "    'C' : [1,10],\n",
    "    'kernel' : ['rbf'],\n",
    "    'gamma' : ['scale','auto'],\n",
    "}"
   ]
  },
  {
   "cell_type": "code",
   "execution_count": 100,
   "id": "f9a83cc2",
   "metadata": {},
   "outputs": [
    {
     "name": "stdout",
     "output_type": "stream",
     "text": [
      "2756.124\n"
     ]
    }
   ],
   "source": [
    "res = ft.train_wGridSearch(clf,train_X,train_Y,param_svm)"
   ]
  },
  {
   "cell_type": "code",
   "execution_count": 101,
   "id": "6c40b68a",
   "metadata": {},
   "outputs": [
    {
     "data": {
      "text/plain": [
       "array([0.55948553, 0.54019293, 0.54193548, 0.53548387, 0.5483871 ])"
      ]
     },
     "execution_count": 101,
     "metadata": {},
     "output_type": "execute_result"
    }
   ],
   "source": [
    "res['test_score']"
   ]
  },
  {
   "cell_type": "code",
   "execution_count": 102,
   "id": "9f8074cd",
   "metadata": {},
   "outputs": [
    {
     "name": "stderr",
     "output_type": "stream",
     "text": [
      "C:\\Users\\GuillemUPV\\Anaconda3\\envs\\tfg\\lib\\site-packages\\sklearn\\utils\\validation.py:70: FutureWarning: Pass labels=[-1, 0, 1] as keyword args. From version 1.0 (renaming of 0.25) passing these as positional arguments will result in an error\n",
      "  warnings.warn(f\"Pass {args_msg} as keyword args. From version \"\n"
     ]
    },
    {
     "data": {
      "text/plain": [
       "(58.3941605839416,\n",
       " 2,\n",
       " [57.66423357664233,\n",
       "  58.02919708029197,\n",
       "  58.3941605839416,\n",
       "  57.66423357664233,\n",
       "  57.66423357664233])"
      ]
     },
     "execution_count": 102,
     "metadata": {},
     "output_type": "execute_result"
    },
    {
     "data": {
      "image/png": "[encoded data removed]",
      "text/plain": [
       "<Figure size 432x288 with 2 Axes>"
      ]
     },
     "metadata": {
      "needs_background": "light"
     },
     "output_type": "display_data"
    }
   ],
   "source": [
    "(acc,max_ind,cm,score_test_array) = info_test(res['estimator'],score_test_array=True)\n",
    "acc,max_ind,score_test_array"
   ]
  },
  {
   "cell_type": "code",
   "execution_count": 103,
   "id": "4d4f847a",
   "metadata": {},
   "outputs": [
    {
     "data": {
      "text/plain": [
       "(0.8818897637795275, 0.0, 0.5714285714285714)"
      ]
     },
     "execution_count": 103,
     "metadata": {},
     "output_type": "execute_result"
    }
   ],
   "source": [
    "acc_HDA(cm)"
   ]
  },
  {
   "cell_type": "code",
   "execution_count": 105,
   "id": "13cc4619",
   "metadata": {},
   "outputs": [
    {
     "data": {
      "text/plain": [
       "0.0"
      ]
     },
     "execution_count": 105,
     "metadata": {},
     "output_type": "execute_result"
    }
   ],
   "source": [
    "res['estimator'][2].best_estimator_.coef0"
   ]
  },
  {
   "cell_type": "markdown",
   "id": "05014b0e",
   "metadata": {},
   "source": [
    "### BASELINE 4: BAGGING"
   ]
  },
  {
   "cell_type": "markdown",
   "id": "8bc33b4a",
   "metadata": {},
   "source": [
    "#### BAGGING CON K-VECINOS"
   ]
  },
  {
   "cell_type": "code",
   "execution_count": 169,
   "id": "de90641d",
   "metadata": {},
   "outputs": [],
   "source": [
    "clf = ensemble.BaggingClassifier(neighbors.KNeighborsClassifier(),\n",
    "                                 n_estimators=3,max_samples=0.75,n_jobs=-1)"
   ]
  },
  {
   "cell_type": "code",
   "execution_count": 170,
   "id": "32c42f1f",
   "metadata": {},
   "outputs": [],
   "source": [
    "params_bag = {\n",
    "    'base_estimator__n_neighbors' : [5,10,50,100],\n",
    "    'base_estimator__weights' : ['uniform','distance'],\n",
    "}"
   ]
  },
  {
   "cell_type": "code",
   "execution_count": 171,
   "id": "638b51a4",
   "metadata": {},
   "outputs": [
    {
     "data": {
      "text/plain": [
       "dict_keys(['base_estimator__algorithm', 'base_estimator__leaf_size', 'base_estimator__metric', 'base_estimator__metric_params', 'base_estimator__n_jobs', 'base_estimator__n_neighbors', 'base_estimator__p', 'base_estimator__weights', 'base_estimator', 'bootstrap', 'bootstrap_features', 'max_features', 'max_samples', 'n_estimators', 'n_jobs', 'oob_score', 'random_state', 'verbose', 'warm_start'])"
      ]
     },
     "execution_count": 171,
     "metadata": {},
     "output_type": "execute_result"
    }
   ],
   "source": [
    "clf.get_params().keys()"
   ]
  },
  {
   "cell_type": "code",
   "execution_count": 172,
   "id": "f47a89f4",
   "metadata": {
    "scrolled": false
   },
   "outputs": [
    {
     "name": "stdout",
     "output_type": "stream",
     "text": [
      "5.667\n"
     ]
    }
   ],
   "source": [
    "res = ft.train_wGridSearch(clf,train_X,train_Y,param=params_bag,return_train_score=True)"
   ]
  },
  {
   "cell_type": "code",
   "execution_count": 173,
   "id": "c2203c32",
   "metadata": {},
   "outputs": [
    {
     "data": {
      "text/plain": [
       "array([0.54983923, 0.52411576, 0.52903226, 0.5516129 , 0.52258065])"
      ]
     },
     "execution_count": 173,
     "metadata": {},
     "output_type": "execute_result"
    }
   ],
   "source": [
    "res['test_score']"
   ]
  },
  {
   "cell_type": "code",
   "execution_count": 174,
   "id": "014b2982",
   "metadata": {},
   "outputs": [
    {
     "name": "stderr",
     "output_type": "stream",
     "text": [
      "C:\\Users\\GuillemUPV\\Anaconda3\\envs\\tfg\\lib\\site-packages\\sklearn\\utils\\validation.py:70: FutureWarning: Pass labels=[-1, 0, 1] as keyword args. From version 1.0 (renaming of 0.25) passing these as positional arguments will result in an error\n",
      "  warnings.warn(f\"Pass {args_msg} as keyword args. From version \"\n"
     ]
    },
    {
     "data": {
      "text/plain": [
       "(56.20437956204379,\n",
       " 4,\n",
       " [55.47445255474452,\n",
       "  55.839416058394164,\n",
       "  55.839416058394164,\n",
       "  55.1094890510949,\n",
       "  56.20437956204379])"
      ]
     },
     "execution_count": 174,
     "metadata": {},
     "output_type": "execute_result"
    },
    {
     "data": {
      "image/png": "[encoded data removed]",
      "text/plain": [
       "<Figure size 432x288 with 2 Axes>"
      ]
     },
     "metadata": {
      "needs_background": "light"
     },
     "output_type": "display_data"
    }
   ],
   "source": [
    "(acc,max_ind,cm,score_test_array) = info_test(res['estimator'],score_test_array=True)\n",
    "acc,max_ind,score_test_array"
   ]
  },
  {
   "cell_type": "code",
   "execution_count": 175,
   "id": "694bb95d",
   "metadata": {},
   "outputs": [
    {
     "data": {
      "text/plain": [
       "(0.8188976377952756, 0.07936507936507936, 0.5357142857142857)"
      ]
     },
     "execution_count": 175,
     "metadata": {},
     "output_type": "execute_result"
    }
   ],
   "source": [
    "acc_HDA(cm)"
   ]
  },
  {
   "cell_type": "code",
   "execution_count": null,
   "id": "b09b6497",
   "metadata": {},
   "outputs": [],
   "source": [
    "res['estimator'][max_ind].best_estimator_.base_estimator.get_params()"
   ]
  },
  {
   "cell_type": "markdown",
   "id": "ed0a8485",
   "metadata": {},
   "source": [
    "#### BAGGING con Árbol de decisión"
   ]
  },
  {
   "cell_type": "code",
   "execution_count": 178,
   "id": "9d55dd04",
   "metadata": {},
   "outputs": [],
   "source": [
    "clf = ensemble.BaggingClassifier(tree.DecisionTreeClassifier(),\n",
    "                                 n_estimators=3,max_samples=0.75,n_jobs=-1)"
   ]
  },
  {
   "cell_type": "code",
   "execution_count": 179,
   "id": "525372c1",
   "metadata": {},
   "outputs": [
    {
     "data": {
      "text/plain": [
       "dict_keys(['base_estimator__ccp_alpha', 'base_estimator__class_weight', 'base_estimator__criterion', 'base_estimator__max_depth', 'base_estimator__max_features', 'base_estimator__max_leaf_nodes', 'base_estimator__min_impurity_decrease', 'base_estimator__min_impurity_split', 'base_estimator__min_samples_leaf', 'base_estimator__min_samples_split', 'base_estimator__min_weight_fraction_leaf', 'base_estimator__random_state', 'base_estimator__splitter', 'base_estimator', 'bootstrap', 'bootstrap_features', 'max_features', 'max_samples', 'n_estimators', 'n_jobs', 'oob_score', 'random_state', 'verbose', 'warm_start'])"
      ]
     },
     "execution_count": 179,
     "metadata": {},
     "output_type": "execute_result"
    }
   ],
   "source": [
    "clf.get_params().keys()"
   ]
  },
  {
   "cell_type": "code",
   "execution_count": 180,
   "id": "6dec3d8a",
   "metadata": {},
   "outputs": [],
   "source": [
    "param_tree = {\n",
    "    'n_estimators' : [3,5,10],\n",
    "    'base_estimator__splitter' : ['best', 'random'],\n",
    "    'base_estimator__min_samples_split' : [5,50,250],\n",
    "    'base_estimator__min_samples_leaf' : [2,5,10],\n",
    "    'base_estimator__random_state' : [None],\n",
    "    'base_estimator__max_leaf_nodes' : [None,5,10,50,100]\n",
    "}"
   ]
  },
  {
   "cell_type": "code",
   "execution_count": 181,
   "id": "71cd6656",
   "metadata": {},
   "outputs": [
    {
     "name": "stdout",
     "output_type": "stream",
     "text": [
      "4788.163\n"
     ]
    }
   ],
   "source": [
    "res = ft.train_wGridSearch(clf,train_X,train_Y,param_tree,cv=5,return_train_score=True)"
   ]
  },
  {
   "cell_type": "code",
   "execution_count": 182,
   "id": "3a277cc9",
   "metadata": {},
   "outputs": [
    {
     "data": {
      "text/plain": [
       "array([0.55948553, 0.54662379, 0.53225806, 0.53548387, 0.55806452])"
      ]
     },
     "execution_count": 182,
     "metadata": {},
     "output_type": "execute_result"
    }
   ],
   "source": [
    "res['test_score']"
   ]
  },
  {
   "cell_type": "code",
   "execution_count": 183,
   "id": "ee740933",
   "metadata": {},
   "outputs": [
    {
     "name": "stderr",
     "output_type": "stream",
     "text": [
      "C:\\Users\\GuillemUPV\\Anaconda3\\envs\\tfg\\lib\\site-packages\\sklearn\\utils\\validation.py:70: FutureWarning: Pass labels=[-1, 0, 1] as keyword args. From version 1.0 (renaming of 0.25) passing these as positional arguments will result in an error\n",
      "  warnings.warn(f\"Pass {args_msg} as keyword args. From version \"\n"
     ]
    },
    {
     "data": {
      "text/plain": [
       "(57.299270072992705,\n",
       " 2,\n",
       " [56.934306569343065,\n",
       "  56.934306569343065,\n",
       "  57.299270072992705,\n",
       "  56.934306569343065,\n",
       "  56.56934306569343])"
      ]
     },
     "execution_count": 183,
     "metadata": {},
     "output_type": "execute_result"
    },
    {
     "data": {
      "image/png": "[encoded data removed]",
      "text/plain": [
       "<Figure size 432x288 with 2 Axes>"
      ]
     },
     "metadata": {
      "needs_background": "light"
     },
     "output_type": "display_data"
    }
   ],
   "source": [
    "(acc,max_ind,cm,score_test_array) = info_test(res['estimator'],score_test_array=True)\n",
    "acc,max_ind,score_test_array"
   ]
  },
  {
   "cell_type": "code",
   "execution_count": 184,
   "id": "0fe2ac86",
   "metadata": {},
   "outputs": [
    {
     "data": {
      "text/plain": [
       "(0.8582677165354331, 0.0, 0.5714285714285714)"
      ]
     },
     "execution_count": 184,
     "metadata": {},
     "output_type": "execute_result"
    }
   ],
   "source": [
    "acc_HDA(cm)"
   ]
  },
  {
   "cell_type": "markdown",
   "id": "74f7947c",
   "metadata": {},
   "source": [
    "### BASELINE 5: RANDOM FOREST"
   ]
  },
  {
   "cell_type": "code",
   "execution_count": 52,
   "id": "8715043f",
   "metadata": {},
   "outputs": [],
   "source": [
    "clf = ensemble.RandomForestClassifier(n_jobs=-1)"
   ]
  },
  {
   "cell_type": "code",
   "execution_count": 63,
   "id": "1ae93304",
   "metadata": {},
   "outputs": [],
   "source": [
    "params_randfor = {\n",
    "    'n_estimators' : [200,1000],\n",
    "    'max_depth' : [5,10],\n",
    "    'min_samples_split' : [5,50,250],\n",
    "    'min_samples_leaf' : [2,5,50],\n",
    "    'max_leaf_nodes' : [None,3,10]\n",
    "}"
   ]
  },
  {
   "cell_type": "code",
   "execution_count": 64,
   "id": "bd8ba1e9",
   "metadata": {},
   "outputs": [
    {
     "name": "stdout",
     "output_type": "stream",
     "text": [
      "1382.837\n"
     ]
    }
   ],
   "source": [
    "res = ft.train_wGridSearch(clf,train_X,train_Y,params_randfor)"
   ]
  },
  {
   "cell_type": "code",
   "execution_count": 65,
   "id": "cf263dbc",
   "metadata": {
    "scrolled": true
   },
   "outputs": [
    {
     "data": {
      "text/plain": [
       "array([0.54983923, 0.54983923, 0.53548387, 0.54516129, 0.56451613])"
      ]
     },
     "execution_count": 65,
     "metadata": {},
     "output_type": "execute_result"
    }
   ],
   "source": [
    "res['test_score']"
   ]
  },
  {
   "cell_type": "code",
   "execution_count": 66,
   "id": "78edbeec",
   "metadata": {},
   "outputs": [
    {
     "name": "stderr",
     "output_type": "stream",
     "text": [
      "C:\\Users\\GuillemUPV\\Anaconda3\\envs\\tfg\\lib\\site-packages\\sklearn\\utils\\validation.py:70: FutureWarning: Pass labels=[-1, 0, 1] as keyword args. From version 1.0 (renaming of 0.25) passing these as positional arguments will result in an error\n",
      "  warnings.warn(f\"Pass {args_msg} as keyword args. From version \"\n"
     ]
    },
    {
     "data": {
      "text/plain": [
       "(56.934306569343065,\n",
       " 3,\n",
       " [55.47445255474452,\n",
       "  55.47445255474452,\n",
       "  56.20437956204379,\n",
       "  56.934306569343065,\n",
       "  56.934306569343065])"
      ]
     },
     "execution_count": 66,
     "metadata": {},
     "output_type": "execute_result"
    },
    {
     "data": {
      "image/png": "[encoded data removed]",
      "text/plain": [
       "<Figure size 432x288 with 2 Axes>"
      ]
     },
     "metadata": {
      "needs_background": "light"
     },
     "output_type": "display_data"
    }
   ],
   "source": [
    "(acc,max_ind,cm,score_test_array) = info_test(res['estimator'],score_test_array=True)\n",
    "acc,max_ind,score_test_array"
   ]
  },
  {
   "cell_type": "code",
   "execution_count": 67,
   "id": "53c17a77",
   "metadata": {},
   "outputs": [
    {
     "data": {
      "text/plain": [
       "(0.8503937007874016, 0.0, 0.5714285714285714)"
      ]
     },
     "execution_count": 67,
     "metadata": {},
     "output_type": "execute_result"
    }
   ],
   "source": [
    "acc_HDA(cm)"
   ]
  },
  {
   "cell_type": "code",
   "execution_count": 68,
   "id": "845297ec",
   "metadata": {
    "scrolled": true
   },
   "outputs": [
    {
     "data": {
      "text/plain": [
       "RandomForestClassifier(max_depth=10, max_leaf_nodes=3, min_samples_leaf=2,\n",
       "                       min_samples_split=5, n_estimators=200, n_jobs=-1)"
      ]
     },
     "execution_count": 68,
     "metadata": {},
     "output_type": "execute_result"
    }
   ],
   "source": [
    "res['estimator'][max_ind].best_estimator_"
   ]
  },
  {
   "cell_type": "markdown",
   "id": "960ab175",
   "metadata": {},
   "source": [
    "### BASELINE 6: ADA BOOST"
   ]
  },
  {
   "cell_type": "code",
   "execution_count": 185,
   "id": "28320bb0",
   "metadata": {},
   "outputs": [],
   "source": [
    "clf = ensemble.AdaBoostClassifier(base_estimator=tree.DecisionTreeClassifier())"
   ]
  },
  {
   "cell_type": "code",
   "execution_count": 186,
   "id": "92552341",
   "metadata": {},
   "outputs": [
    {
     "data": {
      "text/plain": [
       "DecisionTreeClassifier()"
      ]
     },
     "execution_count": 186,
     "metadata": {},
     "output_type": "execute_result"
    }
   ],
   "source": [
    "clf.base_estimator"
   ]
  },
  {
   "cell_type": "code",
   "execution_count": 187,
   "id": "e66e06ab",
   "metadata": {},
   "outputs": [],
   "source": [
    "params_ada = {\n",
    "    'n_estimators' : [10,50,200],\n",
    "    'learning_rate' : [0.2,1.0,5.0],\n",
    "    'base_estimator__max_depth' : [1,5,10],\n",
    "    'base_estimator__min_samples_split' : [5,50,250],\n",
    "    'base_estimator__min_samples_leaf' : [2,5,50],\n",
    "    'base_estimator__max_leaf_nodes' : [None,3,10]\n",
    "}"
   ]
  },
  {
   "cell_type": "code",
   "execution_count": 188,
   "id": "74513346",
   "metadata": {},
   "outputs": [
    {
     "name": "stdout",
     "output_type": "stream",
     "text": [
      "1608.094\n"
     ]
    }
   ],
   "source": [
    "res = ft.train_wGridSearch(clf,train_X,train_Y,params_ada,cv=3)"
   ]
  },
  {
   "cell_type": "code",
   "execution_count": 189,
   "id": "fa991c19",
   "metadata": {},
   "outputs": [
    {
     "data": {
      "text/plain": [
       "array([0.55305466, 0.53376206, 0.52903226, 0.53548387, 0.55483871])"
      ]
     },
     "execution_count": 189,
     "metadata": {},
     "output_type": "execute_result"
    }
   ],
   "source": [
    "res['test_score']"
   ]
  },
  {
   "cell_type": "code",
   "execution_count": 190,
   "id": "382b574c",
   "metadata": {},
   "outputs": [
    {
     "name": "stderr",
     "output_type": "stream",
     "text": [
      "C:\\Users\\GuillemUPV\\Anaconda3\\envs\\tfg\\lib\\site-packages\\sklearn\\utils\\validation.py:70: FutureWarning: Pass labels=[-1, 0, 1] as keyword args. From version 1.0 (renaming of 0.25) passing these as positional arguments will result in an error\n",
      "  warnings.warn(f\"Pass {args_msg} as keyword args. From version \"\n"
     ]
    },
    {
     "data": {
      "text/plain": [
       "(56.934306569343065,\n",
       " 2,\n",
       " [53.64963503649635,\n",
       "  56.20437956204379,\n",
       "  56.934306569343065,\n",
       "  54.01459854014598,\n",
       "  56.934306569343065])"
      ]
     },
     "execution_count": 190,
     "metadata": {},
     "output_type": "execute_result"
    },
    {
     "data": {
      "image/png": "[encoded data removed]",
      "text/plain": [
       "<Figure size 432x288 with 2 Axes>"
      ]
     },
     "metadata": {
      "needs_background": "light"
     },
     "output_type": "display_data"
    }
   ],
   "source": [
    "(acc,max_ind,cm,score_test_array) = info_test(res['estimator'],score_test_array=True)\n",
    "acc,max_ind,score_test_array"
   ]
  },
  {
   "cell_type": "code",
   "execution_count": 191,
   "id": "9e1eed72",
   "metadata": {},
   "outputs": [
    {
     "data": {
      "text/plain": [
       "(0.84251968503937, 0.0, 0.5833333333333334)"
      ]
     },
     "execution_count": 191,
     "metadata": {},
     "output_type": "execute_result"
    }
   ],
   "source": [
    "acc_HDA(cm)"
   ]
  },
  {
   "cell_type": "code",
   "execution_count": 192,
   "id": "69d6f2b2",
   "metadata": {},
   "outputs": [
    {
     "data": {
      "text/plain": [
       "AdaBoostClassifier(base_estimator=DecisionTreeClassifier(max_depth=5,\n",
       "                                                         max_leaf_nodes=3,\n",
       "                                                         min_samples_leaf=2,\n",
       "                                                         min_samples_split=5),\n",
       "                   learning_rate=0.2, n_estimators=10)"
      ]
     },
     "execution_count": 192,
     "metadata": {},
     "output_type": "execute_result"
    }
   ],
   "source": [
    "mejor_clasificador = res['estimator'][max_ind].best_estimator_\n",
    "mejor_clasificador"
   ]
  },
  {
   "cell_type": "code",
   "execution_count": 193,
   "id": "2402c4e1",
   "metadata": {},
   "outputs": [
    {
     "data": {
      "text/plain": [
       "{'ccp_alpha': 0.0,\n",
       " 'class_weight': None,\n",
       " 'criterion': 'gini',\n",
       " 'max_depth': 5,\n",
       " 'max_features': None,\n",
       " 'max_leaf_nodes': 3,\n",
       " 'min_impurity_decrease': 0.0,\n",
       " 'min_impurity_split': None,\n",
       " 'min_samples_leaf': 2,\n",
       " 'min_samples_split': 5,\n",
       " 'min_weight_fraction_leaf': 0.0,\n",
       " 'random_state': None,\n",
       " 'splitter': 'best'}"
      ]
     },
     "execution_count": 193,
     "metadata": {},
     "output_type": "execute_result"
    }
   ],
   "source": [
    "mejor_clasificador.base_estimator.get_params()"
   ]
  },
  {
   "cell_type": "markdown",
   "id": "ebee80e5",
   "metadata": {},
   "source": [
    "### BASELINE 7: GRADIANT BOOSTING DECISION TREE"
   ]
  },
  {
   "cell_type": "code",
   "execution_count": 131,
   "id": "638dd3cf",
   "metadata": {},
   "outputs": [],
   "source": [
    "clf = ensemble.GradientBoostingClassifier()"
   ]
  },
  {
   "cell_type": "code",
   "execution_count": 151,
   "id": "54cf1233",
   "metadata": {},
   "outputs": [],
   "source": [
    "params_gb = {\n",
    "#     'loss' : ['deviance','exponential'],\n",
    "    'learning_rate' : [0.02,0.1,0.5,2],\n",
    "    'n_estimators' : [100,500],\n",
    "    'min_samples_split' : [0.05,0.1],\n",
    "    'min_samples_leaf' : [10,50],\n",
    "    'max_depth' : [1,3],\n",
    "    'max_leaf_nodes' : [3,10],\n",
    "    'tol':[0.001]\n",
    "}"
   ]
  },
  {
   "cell_type": "code",
   "execution_count": 152,
   "id": "c96fc033",
   "metadata": {},
   "outputs": [
    {
     "name": "stdout",
     "output_type": "stream",
     "text": [
      "2297.948\n"
     ]
    }
   ],
   "source": [
    "res = ft.train_wGridSearch(clf,train_X,train_Y,params_gb)"
   ]
  },
  {
   "cell_type": "code",
   "execution_count": 153,
   "id": "94b5bbfc",
   "metadata": {},
   "outputs": [
    {
     "data": {
      "text/plain": [
       "array([0.55305466, 0.53054662, 0.53548387, 0.53870968, 0.55483871])"
      ]
     },
     "execution_count": 153,
     "metadata": {},
     "output_type": "execute_result"
    }
   ],
   "source": [
    "res['test_score']"
   ]
  },
  {
   "cell_type": "code",
   "execution_count": 154,
   "id": "c11b40b3",
   "metadata": {},
   "outputs": [
    {
     "name": "stderr",
     "output_type": "stream",
     "text": [
      "C:\\Users\\GuillemUPV\\Anaconda3\\envs\\tfg\\lib\\site-packages\\sklearn\\utils\\validation.py:70: FutureWarning: Pass labels=[-1, 0, 1] as keyword args. From version 1.0 (renaming of 0.25) passing these as positional arguments will result in an error\n",
      "  warnings.warn(f\"Pass {args_msg} as keyword args. From version \"\n"
     ]
    },
    {
     "data": {
      "text/plain": [
       "(57.66423357664233,\n",
       " 3,\n",
       " [55.47445255474452,\n",
       "  55.839416058394164,\n",
       "  56.934306569343065,\n",
       "  57.66423357664233,\n",
       "  56.934306569343065])"
      ]
     },
     "execution_count": 154,
     "metadata": {},
     "output_type": "execute_result"
    },
    {
     "data": {
      "image/png": "[encoded data removed]",
      "text/plain": [
       "<Figure size 432x288 with 2 Axes>"
      ]
     },
     "metadata": {
      "needs_background": "light"
     },
     "output_type": "display_data"
    }
   ],
   "source": [
    "(acc,max_ind,cm,score_test_array) = info_test(res['estimator'],score_test_array=True)\n",
    "acc,max_ind,score_test_array"
   ]
  },
  {
   "cell_type": "code",
   "execution_count": 155,
   "id": "628de718",
   "metadata": {},
   "outputs": [
    {
     "data": {
      "text/plain": [
       "(0.8503937007874016, 0.047619047619047616, 0.5595238095238095)"
      ]
     },
     "execution_count": 155,
     "metadata": {},
     "output_type": "execute_result"
    }
   ],
   "source": [
    "acc_HDA(cm)"
   ]
  },
  {
   "cell_type": "code",
   "execution_count": 158,
   "id": "f4f92a25",
   "metadata": {},
   "outputs": [
    {
     "data": {
      "text/plain": [
       "GradientBoostingClassifier(learning_rate=0.02, max_leaf_nodes=10,\n",
       "                           min_samples_leaf=10, min_samples_split=0.05,\n",
       "                           tol=0.001)"
      ]
     },
     "execution_count": 158,
     "metadata": {},
     "output_type": "execute_result"
    }
   ],
   "source": [
    "mejor_clasificador = res['estimator'][max_ind].best_estimator_\n",
    "mejor_clasificador"
   ]
  },
  {
   "cell_type": "code",
   "execution_count": 157,
   "id": "241eda67",
   "metadata": {},
   "outputs": [
    {
     "data": {
      "text/plain": [
       "{'ccp_alpha': 0.0,\n",
       " 'criterion': 'friedman_mse',\n",
       " 'init': None,\n",
       " 'learning_rate': 0.02,\n",
       " 'loss': 'deviance',\n",
       " 'max_depth': 1,\n",
       " 'max_features': None,\n",
       " 'max_leaf_nodes': 3,\n",
       " 'min_impurity_decrease': 0.0,\n",
       " 'min_impurity_split': None,\n",
       " 'min_samples_leaf': 50,\n",
       " 'min_samples_split': 0.05,\n",
       " 'min_weight_fraction_leaf': 0.0,\n",
       " 'n_estimators': 100,\n",
       " 'n_iter_no_change': None,\n",
       " 'random_state': None,\n",
       " 'subsample': 1.0,\n",
       " 'tol': 0.001,\n",
       " 'validation_fraction': 0.1,\n",
       " 'verbose': 0,\n",
       " 'warm_start': False}"
      ]
     },
     "execution_count": 157,
     "metadata": {},
     "output_type": "execute_result"
    }
   ],
   "source": [
    "mejor_clasificador.get_params()"
   ]
  },
  {
   "cell_type": "code",
   "execution_count": null,
   "id": "242f67ff",
   "metadata": {},
   "outputs": [],
   "source": []
  }
 ],
 "metadata": {
  "kernelspec": {
   "display_name": "Python 3",
   "language": "python",
   "name": "python3"
  },
  "language_info": {
   "codemirror_mode": {
    "name": "ipython",
    "version": 3
   },
   "file_extension": ".py",
   "mimetype": "text/x-python",
   "name": "python",
   "nbconvert_exporter": "python",
   "pygments_lexer": "ipython3",
   "version": "3.8.8"
  }
 },
 "nbformat": 4,
 "nbformat_minor": 5
}
