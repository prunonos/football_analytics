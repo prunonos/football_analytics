{
 "cells": [
  {
   "cell_type": "code",
   "execution_count": null,
   "id": "cfbb1860",
   "metadata": {},
   "outputs": [],
   "source": [
    "import os\n",
    "import pandas as pd\n",
    "import numpy as np\n",
    "import seaborn as sns\n",
    "import funcTest as ft\n",
    "import funcData as fd"
   ]
  },
  {
   "cell_type": "code",
   "execution_count": null,
   "id": "3f79f669",
   "metadata": {},
   "outputs": [],
   "source": [
    "path = os.getcwd() + '\\\\data_train\\\\'\n",
    "\n",
    "data1 = pd.read_csv(path+'Nature_wStatsDB_v1.csv');\n",
    "data2 = pd.read_csv(path+'statsDB_tend3.csv')"
   ]
  },
  {
   "cell_type": "markdown",
   "id": "7db95135",
   "metadata": {},
   "source": [
    "## DATASET 1 - cuotas HDA"
   ]
  },
  {
   "cell_type": "code",
   "execution_count": null,
   "id": "b442fc8d",
   "metadata": {},
   "outputs": [],
   "source": [
    "cuotas = data1[['B365H','B365D','B365A']]\n",
    "prob_cuotas=1/cuotas\n",
    "prob_cuotas['res'] = ft.calcRES(data1)\n",
    "# prob_cuotas.to_csv('F:\\\\TFG\\\\datasets\\\\data_train\\\\DATA1_ProbCuotas.csv',index=False)"
   ]
  },
  {
   "cell_type": "code",
   "execution_count": null,
   "id": "4bd99efa",
   "metadata": {},
   "outputs": [],
   "source": [
    "DATA1_ProbCuotas = pd.read_csv('F:\\\\TFG\\\\datasets\\\\data_train\\\\DATA1_ProbCuotas.csv')"
   ]
  },
  {
   "cell_type": "code",
   "execution_count": null,
   "id": "da8694d9",
   "metadata": {},
   "outputs": [],
   "source": [
    "(train_DB,train_X,train_Y,test_X,test_Y) = ft.preprocessDB(DATA1_ProbCuotas)"
   ]
  },
  {
   "cell_type": "markdown",
   "id": "5fe853c5",
   "metadata": {},
   "source": [
    "## DATASET 2 - tendencias 3 pj"
   ]
  },
  {
   "cell_type": "code",
   "execution_count": null,
   "id": "978efc07",
   "metadata": {},
   "outputs": [],
   "source": [
    "def new_db_tendencias(data,res,ns=[5],diferDB=True,localyvisitante=False):\n",
    "    listaDB = []\n",
    "    for n in ns:\n",
    "        newDB = ct.crear_tendencias(data,n=n,localyvisitante=localyvisitante)\n",
    "        newDB['res'] = res\n",
    "        if diferDB==True:\n",
    "            newDB = ct.crear_dif_tend(newDB)\n",
    "            listaDB.append(newDB)\n",
    "            newDB.to_csv(f'F:\\\\TFG\\\\datasets\\\\data_train\\\\DATA3_Dif_Tend{n}.csv',index=False)\n",
    "        else:\n",
    "            listaDB.append(newDB)\n",
    "            newDB.to_csv(f'F:\\\\TFG\\\\datasets\\\\data_train\\\\DATA2_Tendencias{n}.csv',index=False)\n",
    "    return listaDB"
   ]
  },
  {
   "cell_type": "code",
   "execution_count": null,
   "id": "f6079405",
   "metadata": {
    "scrolled": true
   },
   "outputs": [],
   "source": [
    "res = ft.calcRES(data1)"
   ]
  },
  {
   "cell_type": "code",
   "execution_count": null,
   "id": "e2130fbe",
   "metadata": {
    "scrolled": false
   },
   "outputs": [],
   "source": [
    "dbs = new_db_tendencias(data1,res,ns=[3,5,10],diferDB=True)\n",
    "dbs[0]"
   ]
  },
  {
   "cell_type": "code",
   "execution_count": null,
   "id": "97d1574d",
   "metadata": {
    "scrolled": true
   },
   "outputs": [],
   "source": [
    "import importlib\n",
    "importlib.reload(ct)"
   ]
  },
  {
   "cell_type": "markdown",
   "id": "0bc7182e",
   "metadata": {},
   "source": [
    "## DATASET 3 - Eventos"
   ]
  },
  {
   "cell_type": "code",
   "execution_count": null,
   "id": "7844de1f",
   "metadata": {},
   "outputs": [],
   "source": [
    "data1"
   ]
  }
 ],
 "metadata": {
  "kernelspec": {
   "display_name": "Python 3.8.8 ('tfg')",
   "language": "python",
   "name": "python3"
  },
  "language_info": {
   "codemirror_mode": {
    "name": "ipython",
    "version": 3
   },
   "file_extension": ".py",
   "mimetype": "text/x-python",
   "name": "python",
   "nbconvert_exporter": "python",
   "pygments_lexer": "ipython3",
   "version": "3.8.8"
  },
  "vscode": {
   "interpreter": {
    "hash": "288ff6fe8157f43ba3e1fb4cfa0011490e9beb907b54ad0d71ae70a61946bdb3"
   }
  }
 },
 "nbformat": 4,
 "nbformat_minor": 5
}
