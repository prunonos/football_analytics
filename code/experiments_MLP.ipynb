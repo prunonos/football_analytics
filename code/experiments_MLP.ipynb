{
 "cells": [
  {
   "cell_type": "code",
   "execution_count": 1,
   "metadata": {},
   "outputs": [],
   "source": [
    "import torch\n",
    "import torch.nn as nn\n",
    "import torch.nn.functional as F\n",
    "from torch.utils.data import DataLoader\n",
    "import numpy as np\n",
    "import pandas as pd\n",
    "from datetime import datetime\n",
    "from sklearn import preprocessing, model_selection\n",
    "from sklearn.decomposition import PCA\n",
    "import matplotlib.pyplot as plt\n",
    "import seaborn as sn\n",
    "%matplotlib inline\n",
    "\n",
    "import mytrain_lib as ml\n",
    "\n",
    "import importlib\n",
    "\n",
    "torch.manual_seed(0)\n",
    "import random\n",
    "random.seed(0)"
   ]
  },
  {
   "cell_type": "code",
   "execution_count": 2,
   "metadata": {},
   "outputs": [
    {
     "name": "stdout",
     "output_type": "stream",
     "text": [
      "Using cuda device\n"
     ]
    }
   ],
   "source": [
    "device = \"cuda\" if torch.cuda.is_available() else \"cpu\"\n",
    "print(f\"Using {device} device\")"
   ]
  },
  {
   "cell_type": "code",
   "execution_count": 3,
   "metadata": {},
   "outputs": [],
   "source": [
    "path_train      = 'F://TFG//datasets//data_train//'\n",
    "path_graphs     = 'F://TFG//graphs//plot_results//'\n",
    "path_results    = 'F://TFG//results//'"
   ]
  },
  {
   "cell_type": "code",
   "execution_count": 4,
   "metadata": {},
   "outputs": [],
   "source": [
    "data = pd.read_csv(path_train+'training_features_DF.csv',sep=';',index_col='wyId')\n",
    "raw_Data = pd.read_json('F://TFG//datasets/raw_datasets//RAW_partidos.json').set_index('wyId')"
   ]
  },
  {
   "cell_type": "code",
   "execution_count": 5,
   "metadata": {},
   "outputs": [
    {
     "data": {
      "text/html": [
       "<div>\n",
       "<style scoped>\n",
       "    .dataframe tbody tr th:only-of-type {\n",
       "        vertical-align: middle;\n",
       "    }\n",
       "\n",
       "    .dataframe tbody tr th {\n",
       "        vertical-align: top;\n",
       "    }\n",
       "\n",
       "    .dataframe thead th {\n",
       "        text-align: right;\n",
       "    }\n",
       "</style>\n",
       "<table border=\"1\" class=\"dataframe\">\n",
       "  <thead>\n",
       "    <tr style=\"text-align: right;\">\n",
       "      <th></th>\n",
       "      <th>mins4_H</th>\n",
       "      <th>mins4_A</th>\n",
       "      <th>shots_11H</th>\n",
       "      <th>shots_11A</th>\n",
       "      <th>shots_acc_11H</th>\n",
       "      <th>shots_acc_11A</th>\n",
       "      <th>goals_H</th>\n",
       "      <th>goals_A</th>\n",
       "      <th>goals_ratio_H</th>\n",
       "      <th>goals_ratio_A</th>\n",
       "      <th>...</th>\n",
       "      <th>passes_acc_11H</th>\n",
       "      <th>passes_acc_11A</th>\n",
       "      <th>keyPasses_H</th>\n",
       "      <th>keyPasses_A</th>\n",
       "      <th>ataque_h</th>\n",
       "      <th>defensa_h</th>\n",
       "      <th>ataque_a</th>\n",
       "      <th>defensa_a</th>\n",
       "      <th>ataquedefensa_H</th>\n",
       "      <th>ataquedefensa_A</th>\n",
       "    </tr>\n",
       "    <tr>\n",
       "      <th>wyId</th>\n",
       "      <th></th>\n",
       "      <th></th>\n",
       "      <th></th>\n",
       "      <th></th>\n",
       "      <th></th>\n",
       "      <th></th>\n",
       "      <th></th>\n",
       "      <th></th>\n",
       "      <th></th>\n",
       "      <th></th>\n",
       "      <th></th>\n",
       "      <th></th>\n",
       "      <th></th>\n",
       "      <th></th>\n",
       "      <th></th>\n",
       "      <th></th>\n",
       "      <th></th>\n",
       "      <th></th>\n",
       "      <th></th>\n",
       "      <th></th>\n",
       "      <th></th>\n",
       "    </tr>\n",
       "  </thead>\n",
       "  <tbody>\n",
       "    <tr>\n",
       "      <th>2499738</th>\n",
       "      <td>60.818182</td>\n",
       "      <td>56.840909</td>\n",
       "      <td>28</td>\n",
       "      <td>18</td>\n",
       "      <td>0.321429</td>\n",
       "      <td>0.444444</td>\n",
       "      <td>1</td>\n",
       "      <td>3</td>\n",
       "      <td>0.250000</td>\n",
       "      <td>0.500000</td>\n",
       "      <td>...</td>\n",
       "      <td>0.757778</td>\n",
       "      <td>0.782137</td>\n",
       "      <td>5</td>\n",
       "      <td>6</td>\n",
       "      <td>0.76</td>\n",
       "      <td>1.72</td>\n",
       "      <td>0.96</td>\n",
       "      <td>2.24</td>\n",
       "      <td>0.973546</td>\n",
       "      <td>0.817933</td>\n",
       "    </tr>\n",
       "    <tr>\n",
       "      <th>2499799</th>\n",
       "      <td>54.500000</td>\n",
       "      <td>72.454545</td>\n",
       "      <td>35</td>\n",
       "      <td>28</td>\n",
       "      <td>0.400000</td>\n",
       "      <td>0.321429</td>\n",
       "      <td>4</td>\n",
       "      <td>5</td>\n",
       "      <td>1.000000</td>\n",
       "      <td>0.625000</td>\n",
       "      <td>...</td>\n",
       "      <td>0.851005</td>\n",
       "      <td>0.843464</td>\n",
       "      <td>4</td>\n",
       "      <td>8</td>\n",
       "      <td>0.56</td>\n",
       "      <td>0.84</td>\n",
       "      <td>2.00</td>\n",
       "      <td>1.20</td>\n",
       "      <td>1.316667</td>\n",
       "      <td>0.810784</td>\n",
       "    </tr>\n",
       "    <tr>\n",
       "      <th>2499800</th>\n",
       "      <td>63.295455</td>\n",
       "      <td>72.000000</td>\n",
       "      <td>37</td>\n",
       "      <td>29</td>\n",
       "      <td>0.162162</td>\n",
       "      <td>0.344828</td>\n",
       "      <td>1</td>\n",
       "      <td>1</td>\n",
       "      <td>0.333333</td>\n",
       "      <td>1.000000</td>\n",
       "      <td>...</td>\n",
       "      <td>0.836437</td>\n",
       "      <td>0.858100</td>\n",
       "      <td>16</td>\n",
       "      <td>7</td>\n",
       "      <td>0.60</td>\n",
       "      <td>1.20</td>\n",
       "      <td>0.48</td>\n",
       "      <td>1.72</td>\n",
       "      <td>0.983333</td>\n",
       "      <td>1.399187</td>\n",
       "    </tr>\n",
       "    <tr>\n",
       "      <th>2499801</th>\n",
       "      <td>42.000000</td>\n",
       "      <td>54.272727</td>\n",
       "      <td>28</td>\n",
       "      <td>22</td>\n",
       "      <td>0.392857</td>\n",
       "      <td>0.409091</td>\n",
       "      <td>2</td>\n",
       "      <td>4</td>\n",
       "      <td>1.000000</td>\n",
       "      <td>0.571429</td>\n",
       "      <td>...</td>\n",
       "      <td>0.785348</td>\n",
       "      <td>0.842152</td>\n",
       "      <td>8</td>\n",
       "      <td>3</td>\n",
       "      <td>0.36</td>\n",
       "      <td>2.16</td>\n",
       "      <td>1.04</td>\n",
       "      <td>0.32</td>\n",
       "      <td>0.689456</td>\n",
       "      <td>1.360256</td>\n",
       "    </tr>\n",
       "    <tr>\n",
       "      <th>2499802</th>\n",
       "      <td>63.659091</td>\n",
       "      <td>51.477273</td>\n",
       "      <td>47</td>\n",
       "      <td>25</td>\n",
       "      <td>0.510638</td>\n",
       "      <td>0.480000</td>\n",
       "      <td>10</td>\n",
       "      <td>4</td>\n",
       "      <td>0.555556</td>\n",
       "      <td>0.666667</td>\n",
       "      <td>...</td>\n",
       "      <td>0.904959</td>\n",
       "      <td>0.763764</td>\n",
       "      <td>15</td>\n",
       "      <td>2</td>\n",
       "      <td>5.48</td>\n",
       "      <td>1.08</td>\n",
       "      <td>1.24</td>\n",
       "      <td>0.64</td>\n",
       "      <td>1.935507</td>\n",
       "      <td>0.921212</td>\n",
       "    </tr>\n",
       "  </tbody>\n",
       "</table>\n",
       "<p>5 rows × 22 columns</p>\n",
       "</div>"
      ],
      "text/plain": [
       "           mins4_H    mins4_A  shots_11H  shots_11A  shots_acc_11H  \\\n",
       "wyId                                                                 \n",
       "2499738  60.818182  56.840909         28         18       0.321429   \n",
       "2499799  54.500000  72.454545         35         28       0.400000   \n",
       "2499800  63.295455  72.000000         37         29       0.162162   \n",
       "2499801  42.000000  54.272727         28         22       0.392857   \n",
       "2499802  63.659091  51.477273         47         25       0.510638   \n",
       "\n",
       "         shots_acc_11A  goals_H  goals_A  goals_ratio_H  goals_ratio_A  ...  \\\n",
       "wyId                                                                    ...   \n",
       "2499738       0.444444        1        3       0.250000       0.500000  ...   \n",
       "2499799       0.321429        4        5       1.000000       0.625000  ...   \n",
       "2499800       0.344828        1        1       0.333333       1.000000  ...   \n",
       "2499801       0.409091        2        4       1.000000       0.571429  ...   \n",
       "2499802       0.480000       10        4       0.555556       0.666667  ...   \n",
       "\n",
       "         passes_acc_11H  passes_acc_11A  keyPasses_H  keyPasses_A  ataque_h  \\\n",
       "wyId                                                                          \n",
       "2499738        0.757778        0.782137            5            6      0.76   \n",
       "2499799        0.851005        0.843464            4            8      0.56   \n",
       "2499800        0.836437        0.858100           16            7      0.60   \n",
       "2499801        0.785348        0.842152            8            3      0.36   \n",
       "2499802        0.904959        0.763764           15            2      5.48   \n",
       "\n",
       "         defensa_h  ataque_a  defensa_a  ataquedefensa_H  ataquedefensa_A  \n",
       "wyId                                                                       \n",
       "2499738       1.72      0.96       2.24         0.973546         0.817933  \n",
       "2499799       0.84      2.00       1.20         1.316667         0.810784  \n",
       "2499800       1.20      0.48       1.72         0.983333         1.399187  \n",
       "2499801       2.16      1.04       0.32         0.689456         1.360256  \n",
       "2499802       1.08      1.24       0.64         1.935507         0.921212  \n",
       "\n",
       "[5 rows x 22 columns]"
      ]
     },
     "execution_count": 5,
     "metadata": {},
     "output_type": "execute_result"
    }
   ],
   "source": [
    "data.head(5)"
   ]
  },
  {
   "cell_type": "code",
   "execution_count": 6,
   "metadata": {},
   "outputs": [
    {
     "data": {
      "text/plain": [
       "(1100, 314)"
      ]
     },
     "execution_count": 6,
     "metadata": {},
     "output_type": "execute_result"
    }
   ],
   "source": [
    "train_data  = ml.FootballMatchesDataset(file = 'train')\n",
    "test_data   = ml.FootballMatchesDataset(file = 'test')\n",
    "\n",
    "len(train_data), len(test_data)"
   ]
  },
  {
   "cell_type": "code",
   "execution_count": 7,
   "metadata": {},
   "outputs": [
    {
     "data": {
      "text/plain": [
       "(tensor([[0., 0., 1.],\n",
       "         [0., 1., 0.],\n",
       "         [0., 1., 0.],\n",
       "         [0., 1., 0.]]),\n",
       " tensor([2576098, 2516836, 2501053, 2576160]))"
      ]
     },
     "execution_count": 7,
     "metadata": {},
     "output_type": "execute_result"
    }
   ],
   "source": [
    "dataloader = DataLoader(train_data, batch_size=4, shuffle=True, num_workers=0)\n",
    "train_feat, train_lab, m = next(iter(dataloader))\n",
    "train_lab, m"
   ]
  },
  {
   "cell_type": "code",
   "execution_count": 8,
   "metadata": {},
   "outputs": [
    {
     "data": {
      "text/html": [
       "<div>\n",
       "<style scoped>\n",
       "    .dataframe tbody tr th:only-of-type {\n",
       "        vertical-align: middle;\n",
       "    }\n",
       "\n",
       "    .dataframe tbody tr th {\n",
       "        vertical-align: top;\n",
       "    }\n",
       "\n",
       "    .dataframe thead th {\n",
       "        text-align: right;\n",
       "    }\n",
       "</style>\n",
       "<table border=\"1\" class=\"dataframe\">\n",
       "  <thead>\n",
       "    <tr style=\"text-align: right;\">\n",
       "      <th></th>\n",
       "      <th>mins4_H</th>\n",
       "      <th>mins4_A</th>\n",
       "      <th>shots_11H</th>\n",
       "      <th>shots_11A</th>\n",
       "      <th>shots_acc_11H</th>\n",
       "      <th>shots_acc_11A</th>\n",
       "      <th>goals_H</th>\n",
       "      <th>goals_A</th>\n",
       "      <th>goals_ratio_H</th>\n",
       "      <th>goals_ratio_A</th>\n",
       "      <th>...</th>\n",
       "      <th>passes_acc_11H</th>\n",
       "      <th>passes_acc_11A</th>\n",
       "      <th>keyPasses_H</th>\n",
       "      <th>keyPasses_A</th>\n",
       "      <th>ataque_h</th>\n",
       "      <th>defensa_h</th>\n",
       "      <th>ataque_a</th>\n",
       "      <th>defensa_a</th>\n",
       "      <th>ataquedefensa_H</th>\n",
       "      <th>ataquedefensa_A</th>\n",
       "    </tr>\n",
       "    <tr>\n",
       "      <th>wyId</th>\n",
       "      <th></th>\n",
       "      <th></th>\n",
       "      <th></th>\n",
       "      <th></th>\n",
       "      <th></th>\n",
       "      <th></th>\n",
       "      <th></th>\n",
       "      <th></th>\n",
       "      <th></th>\n",
       "      <th></th>\n",
       "      <th></th>\n",
       "      <th></th>\n",
       "      <th></th>\n",
       "      <th></th>\n",
       "      <th></th>\n",
       "      <th></th>\n",
       "      <th></th>\n",
       "      <th></th>\n",
       "      <th></th>\n",
       "      <th></th>\n",
       "      <th></th>\n",
       "    </tr>\n",
       "  </thead>\n",
       "  <tbody>\n",
       "    <tr>\n",
       "      <th>2576098</th>\n",
       "      <td>42.000000</td>\n",
       "      <td>59.500000</td>\n",
       "      <td>27</td>\n",
       "      <td>54</td>\n",
       "      <td>0.333333</td>\n",
       "      <td>0.388889</td>\n",
       "      <td>3</td>\n",
       "      <td>4</td>\n",
       "      <td>0.375000</td>\n",
       "      <td>0.571429</td>\n",
       "      <td>...</td>\n",
       "      <td>0.825308</td>\n",
       "      <td>0.889425</td>\n",
       "      <td>5</td>\n",
       "      <td>10</td>\n",
       "      <td>1.28</td>\n",
       "      <td>1.68</td>\n",
       "      <td>1.24</td>\n",
       "      <td>0.72</td>\n",
       "      <td>0.912630</td>\n",
       "      <td>1.486054</td>\n",
       "    </tr>\n",
       "    <tr>\n",
       "      <th>2516836</th>\n",
       "      <td>36.659091</td>\n",
       "      <td>69.681818</td>\n",
       "      <td>12</td>\n",
       "      <td>18</td>\n",
       "      <td>0.166667</td>\n",
       "      <td>0.277778</td>\n",
       "      <td>0</td>\n",
       "      <td>1</td>\n",
       "      <td>0.000000</td>\n",
       "      <td>0.500000</td>\n",
       "      <td>...</td>\n",
       "      <td>0.721044</td>\n",
       "      <td>0.838248</td>\n",
       "      <td>1</td>\n",
       "      <td>5</td>\n",
       "      <td>0.00</td>\n",
       "      <td>1.20</td>\n",
       "      <td>0.36</td>\n",
       "      <td>1.64</td>\n",
       "      <td>0.775641</td>\n",
       "      <td>1.094678</td>\n",
       "    </tr>\n",
       "    <tr>\n",
       "      <th>2501053</th>\n",
       "      <td>38.500000</td>\n",
       "      <td>59.636364</td>\n",
       "      <td>51</td>\n",
       "      <td>22</td>\n",
       "      <td>0.333333</td>\n",
       "      <td>0.318182</td>\n",
       "      <td>4</td>\n",
       "      <td>1</td>\n",
       "      <td>0.800000</td>\n",
       "      <td>0.500000</td>\n",
       "      <td>...</td>\n",
       "      <td>0.879603</td>\n",
       "      <td>0.798144</td>\n",
       "      <td>11</td>\n",
       "      <td>5</td>\n",
       "      <td>1.12</td>\n",
       "      <td>0.68</td>\n",
       "      <td>0.72</td>\n",
       "      <td>2.52</td>\n",
       "      <td>1.088674</td>\n",
       "      <td>0.645833</td>\n",
       "    </tr>\n",
       "    <tr>\n",
       "      <th>2576160</th>\n",
       "      <td>68.681818</td>\n",
       "      <td>54.500000</td>\n",
       "      <td>51</td>\n",
       "      <td>21</td>\n",
       "      <td>0.352941</td>\n",
       "      <td>0.285714</td>\n",
       "      <td>6</td>\n",
       "      <td>1</td>\n",
       "      <td>0.666667</td>\n",
       "      <td>1.000000</td>\n",
       "      <td>...</td>\n",
       "      <td>0.823607</td>\n",
       "      <td>0.820858</td>\n",
       "      <td>11</td>\n",
       "      <td>3</td>\n",
       "      <td>2.68</td>\n",
       "      <td>0.88</td>\n",
       "      <td>0.12</td>\n",
       "      <td>1.64</td>\n",
       "      <td>1.517949</td>\n",
       "      <td>0.709860</td>\n",
       "    </tr>\n",
       "  </tbody>\n",
       "</table>\n",
       "<p>4 rows × 22 columns</p>\n",
       "</div>"
      ],
      "text/plain": [
       "           mins4_H    mins4_A  shots_11H  shots_11A  shots_acc_11H  \\\n",
       "wyId                                                                 \n",
       "2576098  42.000000  59.500000         27         54       0.333333   \n",
       "2516836  36.659091  69.681818         12         18       0.166667   \n",
       "2501053  38.500000  59.636364         51         22       0.333333   \n",
       "2576160  68.681818  54.500000         51         21       0.352941   \n",
       "\n",
       "         shots_acc_11A  goals_H  goals_A  goals_ratio_H  goals_ratio_A  ...  \\\n",
       "wyId                                                                    ...   \n",
       "2576098       0.388889        3        4       0.375000       0.571429  ...   \n",
       "2516836       0.277778        0        1       0.000000       0.500000  ...   \n",
       "2501053       0.318182        4        1       0.800000       0.500000  ...   \n",
       "2576160       0.285714        6        1       0.666667       1.000000  ...   \n",
       "\n",
       "         passes_acc_11H  passes_acc_11A  keyPasses_H  keyPasses_A  ataque_h  \\\n",
       "wyId                                                                          \n",
       "2576098        0.825308        0.889425            5           10      1.28   \n",
       "2516836        0.721044        0.838248            1            5      0.00   \n",
       "2501053        0.879603        0.798144           11            5      1.12   \n",
       "2576160        0.823607        0.820858           11            3      2.68   \n",
       "\n",
       "         defensa_h  ataque_a  defensa_a  ataquedefensa_H  ataquedefensa_A  \n",
       "wyId                                                                       \n",
       "2576098       1.68      1.24       0.72         0.912630         1.486054  \n",
       "2516836       1.20      0.36       1.64         0.775641         1.094678  \n",
       "2501053       0.68      0.72       2.52         1.088674         0.645833  \n",
       "2576160       0.88      0.12       1.64         1.517949         0.709860  \n",
       "\n",
       "[4 rows x 22 columns]"
      ]
     },
     "execution_count": 8,
     "metadata": {},
     "output_type": "execute_result"
    }
   ],
   "source": [
    "data.loc[m]"
   ]
  },
  {
   "cell_type": "code",
   "execution_count": 9,
   "metadata": {},
   "outputs": [],
   "source": [
    "scaler  = preprocessing.StandardScaler()\n",
    "train_data.data = scaler.fit_transform(train_data.data)"
   ]
  },
  {
   "cell_type": "markdown",
   "metadata": {},
   "source": [
    "# Neural Network Implementation\n",
    "\n",
    "Define the class:"
   ]
  },
  {
   "cell_type": "markdown",
   "metadata": {},
   "source": [
    "## I) Artificial Neural Network Approach to Football Score Prediction\n",
    "\n",
    "Multilayer Perceptron with 1 hidden layer with BacpPropagation.\n",
    "6 units input -> 5 hidden units -> 2 output units w/ sigmoid\n",
    "\n",
    "Data Normalized [0,1]"
   ]
  },
  {
   "cell_type": "code",
   "execution_count": 10,
   "metadata": {},
   "outputs": [],
   "source": [
    "train_data  = ml.FootballMatchesDataset(file = 'train')\n",
    "test_data   = ml.FootballMatchesDataset(file = 'test')"
   ]
  },
  {
   "cell_type": "code",
   "execution_count": 11,
   "metadata": {},
   "outputs": [],
   "source": [
    "normalizer = preprocessing.Normalizer()\n",
    "train_data.data = normalizer.fit_transform(train_data.data)"
   ]
  },
  {
   "cell_type": "code",
   "execution_count": 17,
   "metadata": {},
   "outputs": [
    {
     "name": "stdout",
     "output_type": "stream",
     "text": [
      "0.06813519 0.20202015\n",
      "0.96471554 0.0\n"
     ]
    }
   ],
   "source": [
    "print(train_data.data.mean(), train_data.data.std())\n",
    "print(train_data.data.max(),  train_data.data.min())"
   ]
  },
  {
   "cell_type": "code",
   "execution_count": 18,
   "metadata": {},
   "outputs": [
    {
     "data": {
      "text/plain": [
       "(tensor([[3.8423e-02, 2.9142e-02, 2.8814e-02, 1.1082e-02, 2.6640e-04, 2.2165e-04,\n",
       "          4.4330e-03, 1.6624e-03, 4.0300e-04, 5.5412e-04, 8.3949e-01, 5.4027e-01,\n",
       "          4.6926e-04, 4.7228e-04, 6.6494e-03, 3.3247e-03, 2.0835e-03, 8.8659e-04,\n",
       "          3.5464e-04, 1.1747e-03, 8.4113e-04, 4.2620e-04],\n",
       "         [3.8170e-02, 3.0055e-02, 3.4136e-02, 1.5703e-02, 3.5502e-04, 2.6715e-04,\n",
       "          8.1927e-03, 2.7309e-03, 6.8272e-04, 5.4618e-04, 9.1553e-01, 3.9734e-01,\n",
       "          5.5443e-04, 5.2788e-04, 7.5100e-03, 2.0482e-03, 2.2393e-03, 1.0650e-03,\n",
       "          1.0104e-03, 1.1470e-03, 1.2018e-03, 6.0395e-04],\n",
       "         [2.6653e-02, 3.1132e-02, 1.1824e-02, 1.6203e-02, 2.7573e-04, 1.7753e-04,\n",
       "          3.0654e-03, 1.7517e-03, 4.3792e-04, 2.9195e-04, 5.2900e-01, 8.4737e-01,\n",
       "          3.6505e-04, 3.7704e-04, 2.1896e-03, 3.9413e-03, 1.0510e-03, 4.9047e-04,\n",
       "          5.7805e-04, 1.9268e-04, 4.9974e-04, 6.2332e-04]]),\n",
       " tensor([[0., 1., 0.],\n",
       "         [0., 1., 0.],\n",
       "         [0., 1., 0.]]),\n",
       " tensor([2576042, 2500003, 2576265]))"
      ]
     },
     "execution_count": 18,
     "metadata": {},
     "output_type": "execute_result"
    }
   ],
   "source": [
    "dataloader_train    = DataLoader(train_data, batch_size=32, shuffle=True)\n",
    "dataloader_test     = DataLoader(test_data,  batch_size=32, shuffle=True)\n",
    "\n",
    "train_feat, train_lab, m = next(iter(dataloader_train))\n",
    "train_feat[:3],train_lab[:3] ,m[:3]"
   ]
  },
  {
   "cell_type": "code",
   "execution_count": 30,
   "metadata": {},
   "outputs": [
    {
     "data": {
      "text/plain": [
       "wyId\n",
       "2576042                Lazio - Cagliari, 3 - 0\n",
       "2500003    Liverpool - Newcastle United, 2 - 0\n",
       "2576265         Torino - Internazionale, 1 - 0\n",
       "Name: label, dtype: object"
      ]
     },
     "execution_count": 30,
     "metadata": {},
     "output_type": "execute_result"
    }
   ],
   "source": [
    "raw_Data.loc[[2576042, 2500003, 2576265]].label"
   ]
  },
  {
   "cell_type": "code",
   "execution_count": 107,
   "metadata": {},
   "outputs": [],
   "source": [
    "class NeuralNetwork(nn.Module):\n",
    "    def __init__(self, input_feature, ouput_classes):\n",
    "        super().__init__()\n",
    "        \n",
    "        self.h1 = nn.Linear(in_features=input_feature,out_features=5)\n",
    "        self.bn = nn.BatchNorm1d(5)\n",
    "        self.out = nn.Linear(5,ouput_classes)\n",
    "\n",
    "    def forward(self,x):\n",
    "        # x = F.relu(self.h1(x))\n",
    "        x = self.h1(x)\n",
    "        x = F.relu(self.bn(x))\n",
    "        # return self.out(x)    \n",
    "        return F.softmax(self.out(x),1)    \n",
    "\n",
    "    def reset_weights(self):\n",
    "        self.h1.reset_parameters()\n",
    "        self.bn.reset_parameters()\n",
    "        self.out.reset_parameters()    "
   ]
  },
  {
   "cell_type": "code",
   "execution_count": 74,
   "metadata": {},
   "outputs": [],
   "source": [
    "model = NeuralNetwork(22,3)"
   ]
  },
  {
   "cell_type": "code",
   "execution_count": 75,
   "metadata": {},
   "outputs": [
    {
     "name": "stdout",
     "output_type": "stream",
     "text": [
      "NeuralNetwork(\n",
      "  (h1): Linear(in_features=22, out_features=5, bias=True)\n",
      "  (bn): BatchNorm1d(5, eps=1e-05, momentum=0.1, affine=True, track_running_stats=True)\n",
      "  (out): Linear(in_features=5, out_features=3, bias=True)\n",
      ")\n",
      "The model has 143 parameters.\n"
     ]
    }
   ],
   "source": [
    "# Print out the architecture and number of parameters.\n",
    "print(model)\n",
    "print(f\"The model has {sum([x.nelement() for x in model.parameters()]):,} parameters.\")"
   ]
  },
  {
   "cell_type": "markdown",
   "metadata": {},
   "source": [
    "##### Loss Function: Cross-entropy Loss\n",
    "\n",
    "we can provide `weights`, as prior probability of each class $C$."
   ]
  },
  {
   "cell_type": "code",
   "execution_count": 93,
   "metadata": {},
   "outputs": [
    {
     "data": {
      "text/plain": [
       "tensor([[1., 0., 0.],\n",
       "        [0., 1., 0.],\n",
       "        [0., 1., 0.],\n",
       "        ...,\n",
       "        [1., 0., 0.],\n",
       "        [0., 1., 0.],\n",
       "        [0., 1., 0.]])"
      ]
     },
     "execution_count": 93,
     "metadata": {},
     "output_type": "execute_result"
    }
   ],
   "source": [
    "train_data.labels   # in 1-hot encoding"
   ]
  },
  {
   "cell_type": "code",
   "execution_count": 94,
   "metadata": {},
   "outputs": [],
   "source": [
    "# weights_class = np.mean(train_data.labels.numpy(),axis=0)\n",
    "\n",
    "criterion = nn.BCELoss()"
   ]
  },
  {
   "cell_type": "code",
   "execution_count": 95,
   "metadata": {},
   "outputs": [
    {
     "name": "stdout",
     "output_type": "stream",
     "text": [
      "tensor([[0.1500, 0.2400, 0.6100],\n",
      "        [0.1800, 0.5900, 0.2300],\n",
      "        [0.3500, 0.3400, 0.3100]]) tensor([[0., 1., 0.],\n",
      "        [0., 1., 0.],\n",
      "        [1., 0., 0.]])\n",
      "tensor(0.5950)\n"
     ]
    }
   ],
   "source": [
    "input = torch.tensor([[0.15,0.24,0.61],[0.18,0.59,0.23],[0.35,0.34,0.31]]).float()\n",
    "target = torch.tensor([[0,1,0],[0,1,0],[1,0,0]]).float()\n",
    "print(input,target)\n",
    "\n",
    "output = nn.BCELoss()(input, target)\n",
    "print(output)"
   ]
  },
  {
   "cell_type": "markdown",
   "metadata": {},
   "source": [
    "##### Optimizer"
   ]
  },
  {
   "cell_type": "code",
   "execution_count": 96,
   "metadata": {},
   "outputs": [],
   "source": [
    "learning_rate = 1e-1\n",
    "optimizer = torch.optim.SGD(model.parameters(), lr=learning_rate)\n",
    "# optimizar con momentum (nesterov), weight decay"
   ]
  },
  {
   "cell_type": "markdown",
   "metadata": {},
   "source": [
    "##### Train Loop"
   ]
  },
  {
   "cell_type": "code",
   "execution_count": 97,
   "metadata": {},
   "outputs": [
    {
     "name": "stdout",
     "output_type": "stream",
     "text": [
      "Ep 1/100, it 55/55: loss train: 0.60, accuracy train: 0.48, accuracy test: 0.32\n",
      "Ep 10/100, it 55/55: loss train: 0.65, accuracy train: 0.48, accuracy test: 0.32\n",
      "Ep 20/100, it 55/55: loss train: 0.59, accuracy train: 0.49, accuracy test: 0.32\n",
      "Ep 30/100, it 55/55: loss train: 0.59, accuracy train: 0.48, accuracy test: 0.32\n",
      "Ep 40/100, it 55/55: loss train: 0.59, accuracy train: 0.48, accuracy test: 0.32\n",
      "Ep 50/100, it 55/55: loss train: 0.55, accuracy train: 0.47, accuracy test: 0.32\n",
      "Ep 60/100, it 55/55: loss train: 0.66, accuracy train: 0.48, accuracy test: 0.32\n",
      "Ep 70/100, it 55/55: loss train: 0.59, accuracy train: 0.47, accuracy test: 0.32\n",
      "Ep 80/100, it 55/55: loss train: 0.62, accuracy train: 0.47, accuracy test: 0.32\n",
      "Ep 90/100, it 55/55: loss train: 0.61, accuracy train: 0.48, accuracy test: 0.32\n",
      "Ep 100/100, it 55/55: loss train: 0.63, accuracy train: 0.49, accuracy test: 0.32\n"
     ]
    }
   ],
   "source": [
    "# Train the model\n",
    "importlib.reload(ml)\n",
    "\n",
    "ml.log = {}\n",
    "\n",
    "model = NeuralNetwork(22,3)\n",
    "epochs = 100\n",
    "learning_rate = 1e-1\n",
    "optimizer_lenet = torch.optim.SGD(model.parameters(), lr=learning_rate)\n",
    "error,accuracy_train,accuracy_test,confusion_matrix = ml.train_model(model, criterion, \n",
    "                                            optimizer, dataloader_train, dataloader_test, epochs)\n",
    "\n",
    "ml.save_logging()"
   ]
  },
  {
   "cell_type": "code",
   "execution_count": null,
   "metadata": {},
   "outputs": [],
   "source": [
    "plt.figure(figsize=(10,6))\n",
    "\n",
    "for p in [accuracy_train,accuracy_test,error]:\n",
    "    sn.lineplot(x=range(1,6),y=p)\n",
    "\n",
    "plt.title('Accuracy: MLP 5 hidden units, batch_size=20')\n",
    "plt.xticks(np.arange(epochs)+1)\n",
    "plt.legend()\n",
    "plt.grid()\n",
    "plt.xlabel('epochs')\n",
    "plt.ylabel('accuracy')\n",
    "plt.ylim([0,1.5])\n",
    "plt.savefig(path_graphs + 'acc_mlp5_bn20_ej1.jpg', format='jpg', dpi=200)\n",
    "plt.show()"
   ]
  },
  {
   "cell_type": "markdown",
   "metadata": {},
   "source": [
    "##### Applying Cross Validation"
   ]
  },
  {
   "cell_type": "code",
   "execution_count": 98,
   "metadata": {},
   "outputs": [],
   "source": [
    "folds = 5\n",
    "kfold = model_selection.KFold(n_splits=folds,shuffle=True,random_state=0)"
   ]
  },
  {
   "cell_type": "code",
   "execution_count": 99,
   "metadata": {},
   "outputs": [
    {
     "data": {
      "text/plain": [
       "<module 'mytrain_lib' from 'f:\\\\TFG\\\\code\\\\mytrain_lib.py'>"
      ]
     },
     "execution_count": 99,
     "metadata": {},
     "output_type": "execute_result"
    }
   ],
   "source": [
    "importlib.reload(ml)"
   ]
  },
  {
   "cell_type": "code",
   "execution_count": 100,
   "metadata": {},
   "outputs": [
    {
     "name": "stdout",
     "output_type": "stream",
     "text": [
      "Fold 1/5: loss train: 0.70, accuracy train: 0.27, accuracy test: 0.24\n",
      "\n",
      "Fold 2/5: loss train: 0.64, accuracy train: 0.33, accuracy test: 0.34\n",
      "\n",
      "Fold 3/5: loss train: 0.62, accuracy train: 0.41, accuracy test: 0.41\n",
      "\n",
      "Fold 4/5: loss train: 0.65, accuracy train: 0.30, accuracy test: 0.28\n",
      "\n",
      "Fold 5/5: loss train: 0.63, accuracy train: 0.34, accuracy test: 0.37\n",
      "\n"
     ]
    }
   ],
   "source": [
    "ml.log = {}\n",
    "\n",
    "error, accuracy_train, accuracy_test, confusion_matrix = (ml.train_wCrossValidation(\n",
    "                                        NeuralNetwork(22,3),criterion, optimizer, \n",
    "                                        train_data, kfold, epochs=20))\n",
    "\n",
    "ml.save_logging()"
   ]
  },
  {
   "cell_type": "code",
   "execution_count": null,
   "metadata": {},
   "outputs": [],
   "source": [
    "f = 4\n",
    "(ml.dispConfusionMatrix(confusion_matrix[f],\n",
    "        'Confusion matrix: Normaliz. MLP 1x5, bn=20',\n",
    "        'confmat_norm_mlp5_bn20_ej2_' + str(f) ,\n",
    "        save=False))"
   ]
  },
  {
   "cell_type": "code",
   "execution_count": null,
   "metadata": {},
   "outputs": [],
   "source": [
    "plt.figure(figsize=(10,6))\n",
    "\n",
    "for p in error:\n",
    "    plt.plot(p)\n",
    "\n",
    "plt.title('Error Cross-Validation: MLP 5 hidden units, batch_size=20')\n",
    "plt.xticks(np.arange(20))\n",
    "plt.legend()\n",
    "plt.grid()\n",
    "plt.xlabel('epochs')\n",
    "plt.ylabel('error')\n",
    "plt.ylim([0.5,1.5])\n",
    "# plt.savefig(path_graphs + 'error_cv5_mlp5_bn20_ej2.jpg', format='jpg', dpi=200)\n",
    "plt.show()"
   ]
  },
  {
   "cell_type": "markdown",
   "metadata": {},
   "source": [
    "#### Grid Search"
   ]
  },
  {
   "cell_type": "code",
   "execution_count": null,
   "metadata": {},
   "outputs": [],
   "source": [
    "train_data = ml.FootballMatchesDataset(file = 'train')"
   ]
  },
  {
   "cell_type": "code",
   "execution_count": null,
   "metadata": {},
   "outputs": [],
   "source": [
    "# hiperparametros generales"
   ]
  },
  {
   "cell_type": "code",
   "execution_count": 110,
   "metadata": {},
   "outputs": [],
   "source": [
    "# model\n",
    "model       = NeuralNetwork(22,3)\n",
    "\n",
    "# scaling/normalization\n",
    "scalers = [None,preprocessing.MinMaxScaler(), preprocessing.Normalizer()]\n",
    "\n",
    "# loss function\n",
    "weights_class = torch.tensor(np.mean(train_data.labels.numpy(),axis=0))\n",
    "criterions = [nn.CrossEntropyLoss(), nn.CrossEntropyLoss(weight=weights_class)]\n",
    "\n",
    "# optimizer\n",
    "learning_rate = [0.5,0.1,1e-2]\n",
    "\n",
    "# cross-validation\n",
    "folds = 5\n",
    "kfold = model_selection.KFold(n_splits=folds,shuffle=True,random_state=0)\n",
    "\n",
    "# batch-size\n",
    "bs = [32,64,128]"
   ]
  },
  {
   "cell_type": "code",
   "execution_count": 111,
   "metadata": {},
   "outputs": [],
   "source": [
    "def plot_results(error,accuracy_train,accuracy_test,confusion_matrix, hyperparams):\n",
    "    confusion_matrix = np.array(confusion_matrix)\n",
    "    accuracy_test    = np.array(accuracy_test)\n",
    "    accuracy_train   = np.array(accuracy_train)\n",
    "    error            = np.array(error)\n",
    "\n",
    "    acc_test_lastepoch = accuracy_test[:,:,-1]  # only interested in last epoch\n",
    "\n",
    "    # best models of each configuration\n",
    "    best_cv          = acc_test_lastepoch.argmax(axis=1)\n",
    "    best_config_cv   = np.unique(acc_test_lastepoch.argmax(axis=0))\n",
    "\n",
    "    # best configurations are:\n",
    "    print('config','\\t', 'accuracy_test\\t', '\\taccuracy_train\\t', '\\terror')\n",
    "\n",
    "    for c in best_config_cv:\n",
    "        print(c,'\\t', accuracy_test[c,best_cv[c],-1]\n",
    "                    , accuracy_train[c,best_cv[c],-1]\n",
    "                    , error[c,best_cv[c],-1])\n",
    "\n",
    "    temp = datetime.now().strftime(\"_%m%d_%H%M%S\")\n",
    "\n",
    "    for i,c in enumerate(best_config_cv):\n",
    "        print(f'Config of {c} - Fold {best_cv[c]}: {hyperparams[c]}')\n",
    "        ml.dispConfusionMatrix(confusion_matrix[c,best_cv[c]],\n",
    "                        f'Confusion Matrix: MLP 1x5 SGD {hyperparams[c]}',\n",
    "                        f'confmat_mlp5_SGD_t{temp}_id{i}', save=True)\n",
    "\n",
    "        "
   ]
  },
  {
   "cell_type": "markdown",
   "metadata": {},
   "source": [
    "##### Stochastic Gradient Descend"
   ]
  },
  {
   "cell_type": "code",
   "execution_count": 122,
   "metadata": {},
   "outputs": [
    {
     "name": "stdout",
     "output_type": "stream",
     "text": [
      "Config: 16/108: loss train: 0.32, accuracy train: 0.47, accuracy test: 0.48"
     ]
    },
    {
     "ename": "KeyboardInterrupt",
     "evalue": "",
     "output_type": "error",
     "traceback": [
      "\u001b[1;31m---------------------------------------------------------------------------\u001b[0m",
      "\u001b[1;31mKeyboardInterrupt\u001b[0m                         Traceback (most recent call last)",
      "\u001b[1;32m<ipython-input-122-6dd25dfaaf6e>\u001b[0m in \u001b[0;36m<module>\u001b[1;34m\u001b[0m\n\u001b[0;32m      4\u001b[0m \u001b[1;31m# EXPERIMENTS with Stochastic Gradient Descend and 10 epochs.\u001b[0m\u001b[1;33m\u001b[0m\u001b[1;33m\u001b[0m\u001b[1;33m\u001b[0m\u001b[0m\n\u001b[0;32m      5\u001b[0m \u001b[0mimportlib\u001b[0m\u001b[1;33m.\u001b[0m\u001b[0mreload\u001b[0m\u001b[1;33m(\u001b[0m\u001b[0mml\u001b[0m\u001b[1;33m)\u001b[0m\u001b[1;33m\u001b[0m\u001b[1;33m\u001b[0m\u001b[0m\n\u001b[1;32m----> 6\u001b[1;33m error,accuracy_train,accuracy_test,confusion_matrix = ml.Grid_Search_SGD(train_data,scalers,\n\u001b[0m\u001b[0;32m      7\u001b[0m                                             \u001b[0mcriterions\u001b[0m\u001b[1;33m,\u001b[0m\u001b[0mlearning_rate\u001b[0m\u001b[1;33m,\u001b[0m\u001b[0mmomentum\u001b[0m\u001b[1;33m,\u001b[0m\u001b[0mmodel\u001b[0m\u001b[1;33m,\u001b[0m\u001b[1;33m\u001b[0m\u001b[1;33m\u001b[0m\u001b[0m\n\u001b[0;32m      8\u001b[0m                                             kfold,batch_size=bs,epochs=5)\n",
      "\u001b[1;32mf:\\TFG\\code\\mytrain_lib.py\u001b[0m in \u001b[0;36mGrid_Search_SGD\u001b[1;34m(train_data, scalers, criterion, learning_rate, momentum, model, kfold, nesterov, batch_size, epochs, root)\u001b[0m\n\u001b[0;32m    266\u001b[0m                     momentum=hyper[3],nesterov=hyper[4])\n\u001b[0;32m    267\u001b[0m \u001b[1;33m\u001b[0m\u001b[0m\n\u001b[1;32m--> 268\u001b[1;33m         er, ac_tr, ac_te, cm = train_wCrossValidation(model,hyper[1], opt, train_data, \n\u001b[0m\u001b[0;32m    269\u001b[0m                                     kfold, epochs, logs=False,bat_size=hyper[5],config=c)\n\u001b[0;32m    270\u001b[0m         \u001b[0merror\u001b[0m\u001b[1;33m.\u001b[0m\u001b[0mappend\u001b[0m\u001b[1;33m(\u001b[0m\u001b[0mer\u001b[0m\u001b[1;33m)\u001b[0m\u001b[1;33m,\u001b[0m \u001b[0maccuracy_train\u001b[0m\u001b[1;33m.\u001b[0m\u001b[0mappend\u001b[0m\u001b[1;33m(\u001b[0m\u001b[0mac_tr\u001b[0m\u001b[1;33m)\u001b[0m\u001b[1;33m\u001b[0m\u001b[1;33m\u001b[0m\u001b[0m\n",
      "\u001b[1;32mf:\\TFG\\code\\mytrain_lib.py\u001b[0m in \u001b[0;36mtrain_wCrossValidation\u001b[1;34m(model, criterion, optimizer, train_data, kfold, epochs, logs, bat_size, config)\u001b[0m\n\u001b[0;32m    211\u001b[0m         \u001b[0mmodel\u001b[0m\u001b[1;33m.\u001b[0m\u001b[0mreset_weights\u001b[0m\u001b[1;33m(\u001b[0m\u001b[1;33m)\u001b[0m\u001b[1;33m\u001b[0m\u001b[1;33m\u001b[0m\u001b[0m\n\u001b[0;32m    212\u001b[0m \u001b[1;33m\u001b[0m\u001b[0m\n\u001b[1;32m--> 213\u001b[1;33m         error_fold,acc_train_fold,acc_test_fold,conf_matrix = train_model(\n\u001b[0m\u001b[0;32m    214\u001b[0m                 \u001b[0mmodel\u001b[0m\u001b[1;33m,\u001b[0m \u001b[0mcriterion\u001b[0m\u001b[1;33m,\u001b[0m \u001b[0moptimizer\u001b[0m\u001b[1;33m,\u001b[0m\u001b[1;33m\u001b[0m\u001b[1;33m\u001b[0m\u001b[0m\n\u001b[0;32m    215\u001b[0m                 trainloader, testloader, epochs, logs=False, cv=fold, config=config)\n",
      "\u001b[1;32mf:\\TFG\\code\\mytrain_lib.py\u001b[0m in \u001b[0;36mtrain_model\u001b[1;34m(model, criterion, optimizer, dataloader_train, dataloader_test, epochs, logs, cv, config)\u001b[0m\n\u001b[0;32m    132\u001b[0m         \u001b[0mtotal_len\u001b[0m   \u001b[1;33m=\u001b[0m \u001b[1;36m0\u001b[0m\u001b[1;33m\u001b[0m\u001b[1;33m\u001b[0m\u001b[0m\n\u001b[0;32m    133\u001b[0m \u001b[1;33m\u001b[0m\u001b[0m\n\u001b[1;32m--> 134\u001b[1;33m         \u001b[1;32mfor\u001b[0m \u001b[0mit\u001b[0m\u001b[1;33m,\u001b[0m \u001b[0mbatch\u001b[0m \u001b[1;32min\u001b[0m \u001b[0menumerate\u001b[0m\u001b[1;33m(\u001b[0m\u001b[0mdataloader_train\u001b[0m\u001b[1;33m)\u001b[0m\u001b[1;33m:\u001b[0m\u001b[1;33m\u001b[0m\u001b[1;33m\u001b[0m\u001b[0m\n\u001b[0m\u001b[0;32m    135\u001b[0m             \u001b[1;31m# 5.1 Load a batch, break it down in images and targets.\u001b[0m\u001b[1;33m\u001b[0m\u001b[1;33m\u001b[0m\u001b[1;33m\u001b[0m\u001b[0m\n\u001b[0;32m    136\u001b[0m             \u001b[0mx\u001b[0m\u001b[1;33m,\u001b[0m \u001b[0my\u001b[0m\u001b[1;33m,\u001b[0m \u001b[0mm\u001b[0m \u001b[1;33m=\u001b[0m \u001b[0mbatch\u001b[0m\u001b[1;33m\u001b[0m\u001b[1;33m\u001b[0m\u001b[0m\n",
      "\u001b[1;32mc:\\Users\\GuillemUPV\\Anaconda3\\envs\\tfg\\lib\\site-packages\\torch\\utils\\data\\dataloader.py\u001b[0m in \u001b[0;36m__next__\u001b[1;34m(self)\u001b[0m\n\u001b[0;32m    650\u001b[0m                 \u001b[1;31m# TODO(https://github.com/pytorch/pytorch/issues/76750)\u001b[0m\u001b[1;33m\u001b[0m\u001b[1;33m\u001b[0m\u001b[1;33m\u001b[0m\u001b[0m\n\u001b[0;32m    651\u001b[0m                 \u001b[0mself\u001b[0m\u001b[1;33m.\u001b[0m\u001b[0m_reset\u001b[0m\u001b[1;33m(\u001b[0m\u001b[1;33m)\u001b[0m  \u001b[1;31m# type: ignore[call-arg]\u001b[0m\u001b[1;33m\u001b[0m\u001b[1;33m\u001b[0m\u001b[0m\n\u001b[1;32m--> 652\u001b[1;33m             \u001b[0mdata\u001b[0m \u001b[1;33m=\u001b[0m \u001b[0mself\u001b[0m\u001b[1;33m.\u001b[0m\u001b[0m_next_data\u001b[0m\u001b[1;33m(\u001b[0m\u001b[1;33m)\u001b[0m\u001b[1;33m\u001b[0m\u001b[1;33m\u001b[0m\u001b[0m\n\u001b[0m\u001b[0;32m    653\u001b[0m             \u001b[0mself\u001b[0m\u001b[1;33m.\u001b[0m\u001b[0m_num_yielded\u001b[0m \u001b[1;33m+=\u001b[0m \u001b[1;36m1\u001b[0m\u001b[1;33m\u001b[0m\u001b[1;33m\u001b[0m\u001b[0m\n\u001b[0;32m    654\u001b[0m             \u001b[1;32mif\u001b[0m \u001b[0mself\u001b[0m\u001b[1;33m.\u001b[0m\u001b[0m_dataset_kind\u001b[0m \u001b[1;33m==\u001b[0m \u001b[0m_DatasetKind\u001b[0m\u001b[1;33m.\u001b[0m\u001b[0mIterable\u001b[0m \u001b[1;32mand\u001b[0m\u001b[0;31m \u001b[0m\u001b[0;31m\\\u001b[0m\u001b[1;33m\u001b[0m\u001b[1;33m\u001b[0m\u001b[0m\n",
      "\u001b[1;32mc:\\Users\\GuillemUPV\\Anaconda3\\envs\\tfg\\lib\\site-packages\\torch\\utils\\data\\dataloader.py\u001b[0m in \u001b[0;36m_next_data\u001b[1;34m(self)\u001b[0m\n\u001b[0;32m    690\u001b[0m     \u001b[1;32mdef\u001b[0m \u001b[0m_next_data\u001b[0m\u001b[1;33m(\u001b[0m\u001b[0mself\u001b[0m\u001b[1;33m)\u001b[0m\u001b[1;33m:\u001b[0m\u001b[1;33m\u001b[0m\u001b[1;33m\u001b[0m\u001b[0m\n\u001b[0;32m    691\u001b[0m         \u001b[0mindex\u001b[0m \u001b[1;33m=\u001b[0m \u001b[0mself\u001b[0m\u001b[1;33m.\u001b[0m\u001b[0m_next_index\u001b[0m\u001b[1;33m(\u001b[0m\u001b[1;33m)\u001b[0m  \u001b[1;31m# may raise StopIteration\u001b[0m\u001b[1;33m\u001b[0m\u001b[1;33m\u001b[0m\u001b[0m\n\u001b[1;32m--> 692\u001b[1;33m         \u001b[0mdata\u001b[0m \u001b[1;33m=\u001b[0m \u001b[0mself\u001b[0m\u001b[1;33m.\u001b[0m\u001b[0m_dataset_fetcher\u001b[0m\u001b[1;33m.\u001b[0m\u001b[0mfetch\u001b[0m\u001b[1;33m(\u001b[0m\u001b[0mindex\u001b[0m\u001b[1;33m)\u001b[0m  \u001b[1;31m# may raise StopIteration\u001b[0m\u001b[1;33m\u001b[0m\u001b[1;33m\u001b[0m\u001b[0m\n\u001b[0m\u001b[0;32m    693\u001b[0m         \u001b[1;32mif\u001b[0m \u001b[0mself\u001b[0m\u001b[1;33m.\u001b[0m\u001b[0m_pin_memory\u001b[0m\u001b[1;33m:\u001b[0m\u001b[1;33m\u001b[0m\u001b[1;33m\u001b[0m\u001b[0m\n\u001b[0;32m    694\u001b[0m             \u001b[0mdata\u001b[0m \u001b[1;33m=\u001b[0m \u001b[0m_utils\u001b[0m\u001b[1;33m.\u001b[0m\u001b[0mpin_memory\u001b[0m\u001b[1;33m.\u001b[0m\u001b[0mpin_memory\u001b[0m\u001b[1;33m(\u001b[0m\u001b[0mdata\u001b[0m\u001b[1;33m,\u001b[0m \u001b[0mself\u001b[0m\u001b[1;33m.\u001b[0m\u001b[0m_pin_memory_device\u001b[0m\u001b[1;33m)\u001b[0m\u001b[1;33m\u001b[0m\u001b[1;33m\u001b[0m\u001b[0m\n",
      "\u001b[1;32mc:\\Users\\GuillemUPV\\Anaconda3\\envs\\tfg\\lib\\site-packages\\torch\\utils\\data\\_utils\\fetch.py\u001b[0m in \u001b[0;36mfetch\u001b[1;34m(self, possibly_batched_index)\u001b[0m\n\u001b[0;32m     50\u001b[0m         \u001b[1;32melse\u001b[0m\u001b[1;33m:\u001b[0m\u001b[1;33m\u001b[0m\u001b[1;33m\u001b[0m\u001b[0m\n\u001b[0;32m     51\u001b[0m             \u001b[0mdata\u001b[0m \u001b[1;33m=\u001b[0m \u001b[0mself\u001b[0m\u001b[1;33m.\u001b[0m\u001b[0mdataset\u001b[0m\u001b[1;33m[\u001b[0m\u001b[0mpossibly_batched_index\u001b[0m\u001b[1;33m]\u001b[0m\u001b[1;33m\u001b[0m\u001b[1;33m\u001b[0m\u001b[0m\n\u001b[1;32m---> 52\u001b[1;33m         \u001b[1;32mreturn\u001b[0m \u001b[0mself\u001b[0m\u001b[1;33m.\u001b[0m\u001b[0mcollate_fn\u001b[0m\u001b[1;33m(\u001b[0m\u001b[0mdata\u001b[0m\u001b[1;33m)\u001b[0m\u001b[1;33m\u001b[0m\u001b[1;33m\u001b[0m\u001b[0m\n\u001b[0m",
      "\u001b[1;32mc:\\Users\\GuillemUPV\\Anaconda3\\envs\\tfg\\lib\\site-packages\\torch\\utils\\data\\_utils\\collate.py\u001b[0m in \u001b[0;36mdefault_collate\u001b[1;34m(batch)\u001b[0m\n\u001b[0;32m    173\u001b[0m \u001b[1;33m\u001b[0m\u001b[0m\n\u001b[0;32m    174\u001b[0m         \u001b[1;32mif\u001b[0m \u001b[0misinstance\u001b[0m\u001b[1;33m(\u001b[0m\u001b[0melem\u001b[0m\u001b[1;33m,\u001b[0m \u001b[0mtuple\u001b[0m\u001b[1;33m)\u001b[0m\u001b[1;33m:\u001b[0m\u001b[1;33m\u001b[0m\u001b[1;33m\u001b[0m\u001b[0m\n\u001b[1;32m--> 175\u001b[1;33m             \u001b[1;32mreturn\u001b[0m \u001b[1;33m[\u001b[0m\u001b[0mdefault_collate\u001b[0m\u001b[1;33m(\u001b[0m\u001b[0msamples\u001b[0m\u001b[1;33m)\u001b[0m \u001b[1;32mfor\u001b[0m \u001b[0msamples\u001b[0m \u001b[1;32min\u001b[0m \u001b[0mtransposed\u001b[0m\u001b[1;33m]\u001b[0m  \u001b[1;31m# Backwards compatibility.\u001b[0m\u001b[1;33m\u001b[0m\u001b[1;33m\u001b[0m\u001b[0m\n\u001b[0m\u001b[0;32m    176\u001b[0m         \u001b[1;32melse\u001b[0m\u001b[1;33m:\u001b[0m\u001b[1;33m\u001b[0m\u001b[1;33m\u001b[0m\u001b[0m\n\u001b[0;32m    177\u001b[0m             \u001b[1;32mtry\u001b[0m\u001b[1;33m:\u001b[0m\u001b[1;33m\u001b[0m\u001b[1;33m\u001b[0m\u001b[0m\n",
      "\u001b[1;32mc:\\Users\\GuillemUPV\\Anaconda3\\envs\\tfg\\lib\\site-packages\\torch\\utils\\data\\_utils\\collate.py\u001b[0m in \u001b[0;36m<listcomp>\u001b[1;34m(.0)\u001b[0m\n\u001b[0;32m    173\u001b[0m \u001b[1;33m\u001b[0m\u001b[0m\n\u001b[0;32m    174\u001b[0m         \u001b[1;32mif\u001b[0m \u001b[0misinstance\u001b[0m\u001b[1;33m(\u001b[0m\u001b[0melem\u001b[0m\u001b[1;33m,\u001b[0m \u001b[0mtuple\u001b[0m\u001b[1;33m)\u001b[0m\u001b[1;33m:\u001b[0m\u001b[1;33m\u001b[0m\u001b[1;33m\u001b[0m\u001b[0m\n\u001b[1;32m--> 175\u001b[1;33m             \u001b[1;32mreturn\u001b[0m \u001b[1;33m[\u001b[0m\u001b[0mdefault_collate\u001b[0m\u001b[1;33m(\u001b[0m\u001b[0msamples\u001b[0m\u001b[1;33m)\u001b[0m \u001b[1;32mfor\u001b[0m \u001b[0msamples\u001b[0m \u001b[1;32min\u001b[0m \u001b[0mtransposed\u001b[0m\u001b[1;33m]\u001b[0m  \u001b[1;31m# Backwards compatibility.\u001b[0m\u001b[1;33m\u001b[0m\u001b[1;33m\u001b[0m\u001b[0m\n\u001b[0m\u001b[0;32m    176\u001b[0m         \u001b[1;32melse\u001b[0m\u001b[1;33m:\u001b[0m\u001b[1;33m\u001b[0m\u001b[1;33m\u001b[0m\u001b[0m\n\u001b[0;32m    177\u001b[0m             \u001b[1;32mtry\u001b[0m\u001b[1;33m:\u001b[0m\u001b[1;33m\u001b[0m\u001b[1;33m\u001b[0m\u001b[0m\n",
      "\u001b[1;32mc:\\Users\\GuillemUPV\\Anaconda3\\envs\\tfg\\lib\\site-packages\\torch\\utils\\data\\_utils\\collate.py\u001b[0m in \u001b[0;36mdefault_collate\u001b[1;34m(batch)\u001b[0m\n\u001b[0;32m    139\u001b[0m             \u001b[0mstorage\u001b[0m \u001b[1;33m=\u001b[0m \u001b[0melem\u001b[0m\u001b[1;33m.\u001b[0m\u001b[0mstorage\u001b[0m\u001b[1;33m(\u001b[0m\u001b[1;33m)\u001b[0m\u001b[1;33m.\u001b[0m\u001b[0m_new_shared\u001b[0m\u001b[1;33m(\u001b[0m\u001b[0mnumel\u001b[0m\u001b[1;33m,\u001b[0m \u001b[0mdevice\u001b[0m\u001b[1;33m=\u001b[0m\u001b[0melem\u001b[0m\u001b[1;33m.\u001b[0m\u001b[0mdevice\u001b[0m\u001b[1;33m)\u001b[0m\u001b[1;33m\u001b[0m\u001b[1;33m\u001b[0m\u001b[0m\n\u001b[0;32m    140\u001b[0m             \u001b[0mout\u001b[0m \u001b[1;33m=\u001b[0m \u001b[0melem\u001b[0m\u001b[1;33m.\u001b[0m\u001b[0mnew\u001b[0m\u001b[1;33m(\u001b[0m\u001b[0mstorage\u001b[0m\u001b[1;33m)\u001b[0m\u001b[1;33m.\u001b[0m\u001b[0mresize_\u001b[0m\u001b[1;33m(\u001b[0m\u001b[0mlen\u001b[0m\u001b[1;33m(\u001b[0m\u001b[0mbatch\u001b[0m\u001b[1;33m)\u001b[0m\u001b[1;33m,\u001b[0m \u001b[1;33m*\u001b[0m\u001b[0mlist\u001b[0m\u001b[1;33m(\u001b[0m\u001b[0melem\u001b[0m\u001b[1;33m.\u001b[0m\u001b[0msize\u001b[0m\u001b[1;33m(\u001b[0m\u001b[1;33m)\u001b[0m\u001b[1;33m)\u001b[0m\u001b[1;33m)\u001b[0m\u001b[1;33m\u001b[0m\u001b[1;33m\u001b[0m\u001b[0m\n\u001b[1;32m--> 141\u001b[1;33m         \u001b[1;32mreturn\u001b[0m \u001b[0mtorch\u001b[0m\u001b[1;33m.\u001b[0m\u001b[0mstack\u001b[0m\u001b[1;33m(\u001b[0m\u001b[0mbatch\u001b[0m\u001b[1;33m,\u001b[0m \u001b[1;36m0\u001b[0m\u001b[1;33m,\u001b[0m \u001b[0mout\u001b[0m\u001b[1;33m=\u001b[0m\u001b[0mout\u001b[0m\u001b[1;33m)\u001b[0m\u001b[1;33m\u001b[0m\u001b[1;33m\u001b[0m\u001b[0m\n\u001b[0m\u001b[0;32m    142\u001b[0m     \u001b[1;32melif\u001b[0m \u001b[0melem_type\u001b[0m\u001b[1;33m.\u001b[0m\u001b[0m__module__\u001b[0m \u001b[1;33m==\u001b[0m \u001b[1;34m'numpy'\u001b[0m \u001b[1;32mand\u001b[0m \u001b[0melem_type\u001b[0m\u001b[1;33m.\u001b[0m\u001b[0m__name__\u001b[0m \u001b[1;33m!=\u001b[0m \u001b[1;34m'str_'\u001b[0m\u001b[0;31m \u001b[0m\u001b[0;31m\\\u001b[0m\u001b[1;33m\u001b[0m\u001b[1;33m\u001b[0m\u001b[0m\n\u001b[0;32m    143\u001b[0m             \u001b[1;32mand\u001b[0m \u001b[0melem_type\u001b[0m\u001b[1;33m.\u001b[0m\u001b[0m__name__\u001b[0m \u001b[1;33m!=\u001b[0m \u001b[1;34m'string_'\u001b[0m\u001b[1;33m:\u001b[0m\u001b[1;33m\u001b[0m\u001b[1;33m\u001b[0m\u001b[0m\n",
      "\u001b[1;31mKeyboardInterrupt\u001b[0m: "
     ]
    }
   ],
   "source": [
    "momentum = [0.01,0.9]\n",
    "nesterov = dampening = [True, False]\n",
    "\n",
    "# EXPERIMENTS with Stochastic Gradient Descend and 10 epochs.\n",
    "importlib.reload(ml)\n",
    "error,accuracy_train,accuracy_test,confusion_matrix = ml.Grid_Search_SGD(train_data,scalers,\n",
    "                                            criterions,learning_rate,momentum,model,\n",
    "                                            kfold,batch_size=bs,epochs=5)"
   ]
  },
  {
   "cell_type": "code",
   "execution_count": null,
   "metadata": {},
   "outputs": [],
   "source": [
    "plot_results(error,accuracy_train,accuracy_test,confusion_matrix)"
   ]
  },
  {
   "cell_type": "code",
   "execution_count": null,
   "metadata": {},
   "outputs": [],
   "source": [
    "# EXPERIMENTS with Stochastic Gradient Descend and 10 epochs.\n",
    "error,accuracy_train,accuracy_test,confusion_matrix = ml.Grid_Search_SGD(train_data,scalers,\n",
    "                                            criterions,learning_rate,momentum,model,\n",
    "                                            kfold,batch_size=bs,epochs=20)"
   ]
  },
  {
   "cell_type": "code",
   "execution_count": null,
   "metadata": {},
   "outputs": [],
   "source": [
    "plot_results(error,accuracy_train,accuracy_test,confusion_matrix)"
   ]
  },
  {
   "cell_type": "markdown",
   "metadata": {},
   "source": [
    "##### Adam Optimizer"
   ]
  },
  {
   "cell_type": "code",
   "execution_count": null,
   "metadata": {},
   "outputs": [],
   "source": [
    "optimizer   = torch.optim.Adam\n",
    "\n",
    "# params Adam\n",
    "r = np.random.rand\n",
    "b1, b2          = [0.01,0.1,0.9], [0.01,0.1,0.9,0.99]\n",
    "weight_decay    = [0,1,10]"
   ]
  },
  {
   "cell_type": "code",
   "execution_count": null,
   "metadata": {},
   "outputs": [],
   "source": [
    "# 10 epochs\n",
    "importlib.reload(ml)\n",
    "\n",
    "error,accuracy_train,accuracy_test,confusion_matrix = ml.Grid_Search_Adam(train_data,scalers,\n",
    "                                            criterions,learning_rate,b1,b2,model,\n",
    "                                            kfold,batch_size=bs,weight_decay=weight_decay,epochs=10)"
   ]
  },
  {
   "cell_type": "code",
   "execution_count": null,
   "metadata": {},
   "outputs": [],
   "source": [
    "plot_results(error,accuracy_train,accuracy_test,confusion_matrix)"
   ]
  },
  {
   "cell_type": "code",
   "execution_count": null,
   "metadata": {},
   "outputs": [],
   "source": [
    "# 20 epochs\n",
    "error,accuracy_train,accuracy_test,confusion_matrix = ml.Grid_Search_Adam(train_data,scalers,\n",
    "                                            criterions,learning_rate,momentum,model,\n",
    "                                            kfold,batch_size=bs,epochs=20)"
   ]
  },
  {
   "cell_type": "code",
   "execution_count": null,
   "metadata": {},
   "outputs": [],
   "source": [
    "hyperparams = (np.array(np.meshgrid(scalers,criterions,learning_rate,b1,b2\n",
    "                        ,weight_decay,bs)).T.reshape((-1,7)))\n",
    "\n",
    "plot_results(error,accuracy_train,accuracy_test,confusion_matrix,hyperparams)"
   ]
  },
  {
   "cell_type": "markdown",
   "metadata": {},
   "source": [
    "### Dimensionality Reduction"
   ]
  },
  {
   "cell_type": "code",
   "execution_count": 18,
   "metadata": {},
   "outputs": [
    {
     "name": "stdout",
     "output_type": "stream",
     "text": [
      "torch.Size([1100, 22])\n",
      "torch.Size([1100, 10])\n"
     ]
    }
   ],
   "source": [
    "# Dimensionality Reduction: PCA\n",
    "\n",
    "train_data = ml.FootballMatchesDataset('train')\n",
    "print(train_data.data.shape)\n",
    "\n",
    "pca = PCA(n_components=10,random_state=0)\n",
    "train_data.data = torch.tensor(pca.fit_transform(train_data.data))\n",
    "print(train_data.data.shape)"
   ]
  },
  {
   "cell_type": "code",
   "execution_count": 33,
   "metadata": {},
   "outputs": [],
   "source": [
    "# scaling/normalization\n",
    "scalers = [None,preprocessing.MinMaxScaler(), preprocessing.Normalizer()]\n",
    "\n",
    "# loss function\n",
    "weights_class = torch.tensor(np.mean(train_data.labels.numpy(),axis=0))\n",
    "criterions = [nn.CrossEntropyLoss(), nn.CrossEntropyLoss(weight=weights_class)]\n",
    "\n",
    "# optimizer\n",
    "learning_rate = [0.1,0.5]\n",
    "\n",
    "# cross-validation\n",
    "folds = 5\n",
    "kfold = model_selection.KFold(n_splits=folds,shuffle=True,random_state=0)\n",
    "\n",
    "# batch-size\n",
    "bs = [10,20]"
   ]
  },
  {
   "cell_type": "code",
   "execution_count": 38,
   "metadata": {},
   "outputs": [],
   "source": [
    "# params SGD\n",
    "momentum = [0.1,0.9]\n",
    "nesterov = dampening = [True]\n",
    "\n",
    "# params Adam\n",
    "b1, b2          = [0.01,0.1,0.9], [0.01,0.1,0.9,0.99]\n",
    "weight_decay    = [0,1,10]"
   ]
  },
  {
   "cell_type": "code",
   "execution_count": 39,
   "metadata": {},
   "outputs": [
    {
     "name": "stdout",
     "output_type": "stream",
     "text": [
      "Config: 48/48: loss train: 0.29, accuracy train: 0.55, accuracy test: 0.59"
     ]
    }
   ],
   "source": [
    "# usar n_componentes dependiendo de cuanta varianza conservamos\n",
    "\n",
    "for pca_n in [3,5,10,15]:\n",
    "    train_data = ml.FootballMatchesDataset('train')\n",
    "\n",
    "    pca = PCA(n_components=pca_n,random_state=0)\n",
    "    train_data.data = torch.tensor(pca.fit_transform(train_data.data)).float()\n",
    "\n",
    "    model       = NeuralNetwork(pca_n,3)\n",
    "\n",
    "    # # SGD - 10 epochs\n",
    "    # _,_,_,_ = ml.Grid_Search_SGD(train_data,scalers,\n",
    "    #                                         criterions,learning_rate,momentum,model,\n",
    "    #                                         kfold,batch_size=bs,epochs=20)\n",
    "    # Adam - 10 epochs\n",
    "    _,_,_,_ = ml.Grid_Search_Adam(train_data,scalers,\n",
    "                                            criterions,learning_rate,b1,b2,model,\n",
    "                                            kfold,batch_size=bs,weight_decay=weight_decay,epochs=10)\n",
    "    # Adam - 20 epochs\n",
    "    _,_,_,_ = ml.Grid_Search_Adam(train_data,scalers,\n",
    "                                            criterions,learning_rate,b1,b2,model,\n",
    "                                            kfold,batch_size=bs,weight_decay=weight_decay,epochs=20)\n"
   ]
  },
  {
   "cell_type": "code",
   "execution_count": null,
   "metadata": {},
   "outputs": [],
   "source": [
    "# SIGUIENTES PASOS:\n",
    "\n",
    "# 1. otros optimizadores y epochs\n",
    "# 2. reducir dimensionalidad / seleccionar caract.\n",
    "# 3. otra arquitectura de red\n",
    "    # a. reducir params\n",
    "    # b. añadir hidden layers"
   ]
  },
  {
   "cell_type": "code",
   "execution_count": 43,
   "metadata": {},
   "outputs": [],
   "source": [
    "mlp15_sgd_ep20_pca3_error = np.load(path_results+'mlp15_sgd_ep20_pca3//error__07_30_15_03_52.npy')"
   ]
  },
  {
   "cell_type": "code",
   "execution_count": 44,
   "metadata": {},
   "outputs": [
    {
     "data": {
      "text/plain": [
       "(48, 5, 20)"
      ]
     },
     "execution_count": 44,
     "metadata": {},
     "output_type": "execute_result"
    }
   ],
   "source": [
    "mlp15_sgd_ep20_pca3_error.shape"
   ]
  },
  {
   "cell_type": "code",
   "execution_count": 53,
   "metadata": {},
   "outputs": [],
   "source": [
    "acc_test_lastepoch = mlp15_sgd_ep20_pca3_error[:,:,-1]"
   ]
  },
  {
   "cell_type": "code",
   "execution_count": 52,
   "metadata": {},
   "outputs": [
    {
     "data": {
      "text/plain": [
       "array([21,  1,  1,  3,  3], dtype=int64)"
      ]
     },
     "execution_count": 52,
     "metadata": {},
     "output_type": "execute_result"
    }
   ],
   "source": [
    "np.argmin(acc_test_lastepoch,axis=0)"
   ]
  },
  {
   "cell_type": "code",
   "execution_count": 63,
   "metadata": {},
   "outputs": [
    {
     "name": "stdout",
     "output_type": "stream",
     "text": [
      "config \t \terror\n",
      "1 \t 0.3036581575870514\n",
      "3 \t 0.29153501987457275\n",
      "21 \t 0.3035866916179657\n"
     ]
    }
   ],
   "source": [
    "best_cv          = acc_test_lastepoch.argmin(axis=1)\n",
    "best_config_cv   = np.unique(acc_test_lastepoch.argmin(axis=0))\n",
    "\n",
    "# best configurations are:\n",
    "print('config','\\t', '\\terror')\n",
    "\n",
    "for c in best_config_cv:\n",
    "    print(c,'\\t', acc_test_lastepoch[c,best_cv[c]])"
   ]
  },
  {
   "cell_type": "code",
   "execution_count": 80,
   "metadata": {},
   "outputs": [
    {
     "name": "stderr",
     "output_type": "stream",
     "text": [
      "No handles with labels found to put in legend.\n"
     ]
    },
    {
     "data": {
      "image/png": "[encoded data removed]",
      "text/plain": [
       "<Figure size 720x432 with 1 Axes>"
      ]
     },
     "metadata": {
      "needs_background": "light"
     },
     "output_type": "display_data"
    }
   ],
   "source": [
    "importlib.reload(ml)\n",
    "\n",
    "ml.plotError(mlp15_sgd_ep20_pca3_error,best_config_cv,best_cv,'MLP 1x5 SGD PCA3',filename='mlp15_sgd_ep20_pca3_error',save=True)"
   ]
  },
  {
   "cell_type": "code",
   "execution_count": null,
   "metadata": {},
   "outputs": [],
   "source": []
  },
  {
   "cell_type": "markdown",
   "metadata": {},
   "source": [
    "### Selected features"
   ]
  },
  {
   "cell_type": "markdown",
   "metadata": {},
   "source": [
    "## II) Model 2"
   ]
  },
  {
   "cell_type": "code",
   "execution_count": null,
   "metadata": {},
   "outputs": [],
   "source": []
  }
 ],
 "metadata": {
  "kernelspec": {
   "display_name": "Python 3.8.8 ('tfg')",
   "language": "python",
   "name": "python3"
  },
  "language_info": {
   "codemirror_mode": {
    "name": "ipython",
    "version": 3
   },
   "file_extension": ".py",
   "mimetype": "text/x-python",
   "name": "python",
   "nbconvert_exporter": "python",
   "pygments_lexer": "ipython3",
   "version": "3.8.8"
  },
  "orig_nbformat": 4,
  "vscode": {
   "interpreter": {
    "hash": "288ff6fe8157f43ba3e1fb4cfa0011490e9beb907b54ad0d71ae70a61946bdb3"
   }
  }
 },
 "nbformat": 4,
 "nbformat_minor": 2
}
