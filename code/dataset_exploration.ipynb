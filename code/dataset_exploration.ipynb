{
 "cells": [
  {
   "cell_type": "code",
   "execution_count": null,
   "metadata": {},
   "outputs": [],
   "source": [
    "import os\n",
    "import pandas as pd\n",
    "import numpy as np\n",
    "import json\n",
    "import seaborn as sns\n",
    "import funcTest as ft\n",
    "import funcData as fd"
   ]
  },
  {
   "cell_type": "code",
   "execution_count": null,
   "metadata": {},
   "outputs": [],
   "source": [
    "path_rawdata = 'F://TFG//datasets/raw_datasets//'\n",
    "path_train = 'F://TFG//datasets//data_train//'\n",
    "path = 'F:/TFG/datasets/nature-dataset/'\n",
    "\n",
    "\n",
    "rawdata = pd.read_csv(path_rawdata+'rawDB.csv')\n",
    "footdata = pd.read_csv(path_rawdata+'fdataDB.csv')\n",
    "partidos_raw = pd.read_json(path_rawdata+'RAW_partidos.json')"
   ]
  },
  {
   "cell_type": "markdown",
   "metadata": {},
   "source": [
    "#### Import of data"
   ]
  },
  {
   "cell_type": "code",
   "execution_count": null,
   "metadata": {},
   "outputs": [],
   "source": [
    "tags = pd.read_csv(path+'tags2name.csv')\n",
    "tags.set_index('Tag',inplace=True,drop=True)\n",
    "\n",
    "eventosDF = pd.read_json(path_rawdata+'eventos_raw.json')\n",
    "eventosDF.set_index('id',inplace=True)\n",
    "teams = pd.read_csv(path_rawdata+'teams.csv',index_col='wyId',delimiter=';')\n",
    "players = pd.read_csv(path_rawdata+'players.csv',index_col='wyId',delimiter=';')\n",
    "\n",
    "eventos_dict = list(set(zip(eventosDF.eventId,eventosDF.eventName)))\n",
    "eventos_dict = {v:k for k,v in eventos_dict}"
   ]
  },
  {
   "cell_type": "code",
   "execution_count": null,
   "metadata": {},
   "outputs": [],
   "source": [
    "matches = pd.read_csv(path_rawdata+'Nature_wStatsDB_v2.csv')\n",
    "matches.set_index('wyId',inplace=True)\n",
    "matches[:4]"
   ]
  },
  {
   "cell_type": "code",
   "execution_count": null,
   "metadata": {},
   "outputs": [],
   "source": [
    "shots = pd.read_json(path_rawdata+'shots.json')\n",
    "passes = pd.read_json(path_rawdata+'passes.json')\n"
   ]
  },
  {
   "cell_type": "code",
   "execution_count": null,
   "metadata": {},
   "outputs": [],
   "source": [
    "matches_stats = pd.read_csv(path_rawdata+'match_stats.csv',sep=';',index_col='matchId')\n",
    "# matches_stats.drop(['teamId_sh1', 'teamId_sh2'],axis=1,inplace=True)\n",
    "matches_stats[:3]"
   ]
  },
  {
   "cell_type": "markdown",
   "metadata": {},
   "source": [
    "#### Calculo de los ultimos N partidos"
   ]
  },
  {
   "cell_type": "code",
   "execution_count": null,
   "metadata": {},
   "outputs": [],
   "source": [
    "def ult_partidos(npj=4,nj=4):\n",
    "\n",
    "    partidos_h = {}\n",
    "    partidos_a = {}\n",
    "\n",
    "    for mtc in matches.index.to_list():\n",
    "        tid_h, tid_a = matches.loc[mtc].teamId_home, matches.loc[mtc].teamId_away\n",
    "        mask_time = (matches.loc[mtc].dateutc > matches.dateutc)\n",
    "        mask_team_h, mask_team_a = (matches.teamId_home == tid_h), (matches.teamId_away == tid_a)\n",
    "        mask_h, mask_a = mask_time & mask_team_h, mask_time & mask_team_a\n",
    "        # assert sum(mask_h) == sum(mask_a)\n",
    "        # hecho para que solo coja los ultimos partidos en casa si el partido actual es en casa. Igual para visitante.\n",
    "\n",
    "        if sum(mask_h) >= npj:\n",
    "            partidos_anteriores_h = (matches[mask_h][:npj].index).to_numpy()\n",
    "        else:\n",
    "            partidos_anteriores_h = np.nan\n",
    "\n",
    "        if sum(mask_a) >= npj:\n",
    "            partidos_anteriores_a = (matches[mask_a][:npj].index).to_numpy()\n",
    "        else:\n",
    "            partidos_anteriores_a = np.nan\n",
    "\n",
    "        \n",
    "\n",
    "        partidos_h[mtc], partidos_a[mtc] = partidos_anteriores_h, partidos_anteriores_a\n",
    "\n",
    "        # jugadores mas disparos\n",
    "\n",
    "    return partidos_h, partidos_a"
   ]
  },
  {
   "cell_type": "code",
   "execution_count": null,
   "metadata": {},
   "outputs": [],
   "source": [
    "npj = 4\n",
    "partidos_h, partidos_a = ult_partidos(npj)"
   ]
  },
  {
   "cell_type": "markdown",
   "metadata": {},
   "source": [
    "#### Calculo minutos de los jugadores"
   ]
  },
  {
   "cell_type": "code",
   "execution_count": null,
   "metadata": {},
   "outputs": [],
   "source": [
    "playerIds = np.array(players.index)"
   ]
  },
  {
   "cell_type": "code",
   "execution_count": null,
   "metadata": {},
   "outputs": [],
   "source": [
    "indice          = [] # idmatch_idteam\n",
    "players_id_mins = []\n",
    "players_mins    = []\n",
    "\n",
    "# tambien estamos interesados en mantener un diccionario con todos los minutos que han jugado cada jugador y en que partidos\n",
    "players_match_mins = {pId:{} for pId in playerIds}    # creamos un dict vacio para cada jugador\n",
    "partidos_raw.set_index('wyId',inplace=True)\n",
    "\n",
    "for m in matches.reset_index().wyId:\n",
    "    form_info = partidos_raw.teamsData.loc[m]                                   # seleccionamos el campo de las formaciones\n",
    "    for t in list(form_info.keys()):                                            # iteramos sobre los dos equipos\n",
    "        indice.append((m,int(t)))                                               # guardamos en una lista de tuplas lo que seran las keys de la tabla (partido,equipo)\n",
    "        form_t = form_info[t]['formation']                                      # seleccionamos la formacion de uno de los equipos\n",
    "        dict_team1 = {pl['playerId']:0 for pl in form_t['bench']}              \n",
    "        dict_team2 = {pl['playerId']:90 for pl in form_t['lineup']}\n",
    "        dict_match = {**dict_team1, **dict_team2}\n",
    "        # añadimos los minutos en el dict de los minutos de cada jugador a lo largo de la temporada\n",
    "        for pl in form_t['bench']:\n",
    "            if players_match_mins.get(pl['playerId'],-1) == -1: players_match_mins[pl['playerId']] = {}\n",
    "            players_match_mins[pl['playerId']][m] = 0\n",
    "        for pl in form_t['lineup']:\n",
    "            if players_match_mins.get(pl['playerId'],-1) == -1: players_match_mins[pl['playerId']] = {}\n",
    "            players_match_mins[pl['playerId']][m] = 90\n",
    "        # print((m,int(t)))\n",
    "        if form_t['substitutions'] != 'null':\n",
    "            for subs in form_t['substitutions']:\n",
    "                # print(subs['minute'])\n",
    "                if players_match_mins.get(subs['playerIn'],-1) != -1 and players_match_mins.get(subs['playerOut'],-1) != -1:\n",
    "                    mins = subs['minute'] if (subs['minute'] < 90) else 90\n",
    "                    dict_match[subs['playerIn']] = 90-mins\n",
    "                    players_match_mins[subs['playerIn']][m] = 90-mins  \n",
    "                    dict_match[subs['playerOut']] = dict_match[subs['playerOut']] - (90-mins)  \n",
    "                    players_match_mins[subs['playerOut']][m] = dict_match[subs['playerOut']] - (90-mins) \n",
    "                \n",
    "\n",
    "        players_id_mins.append(np.array(list(dict_match.keys())))   \n",
    "        players_mins.append(np.array(list(dict_match.values())))   \n",
    "\n",
    "players_id_mins = np.array(players_id_mins)\n",
    "players_mins = np.array(players_mins)\n"
   ]
  },
  {
   "cell_type": "code",
   "execution_count": null,
   "metadata": {},
   "outputs": [],
   "source": [
    "assert len(players_id_mins) == len(players_mins) == len(indice)"
   ]
  },
  {
   "cell_type": "code",
   "execution_count": null,
   "metadata": {},
   "outputs": [],
   "source": [
    "# todos los equipos deberian sumar 990 minutos en un partido entre sus jugadores\n",
    "\n",
    "for mId,mins in zip(indice,players_mins):\n",
    "    if np.sum(mins) != 990:\n",
    "        print(mId, mins)\n",
    "    # assert np.sum(m) == 11*90\n",
    "\n",
    "# PARTIDOS QUE NO CUMPLEN LOS MINUTOS:\n",
    "# (2575965, 3204) [ 0  0  0  0  0  0  0  0  0  0  0  0 56 62 88 90 90 90 90 90 90 90 90  2] -> no estan registrados los IDs de los jugadores que entran al partido\n",
    "# (2575959, 3158) [ 0  0  0  0  0  0  0  0  0  0  0 74 81 84 90 90 90 90 90 90 90 90  6] -> no estan registrados los IDs de los jugadores que entran al partido"
   ]
  },
  {
   "cell_type": "code",
   "execution_count": null,
   "metadata": {},
   "outputs": [],
   "source": [
    "indice_list = np.array(indice)\n",
    "\n",
    "# vamos a crear un dataframe con dichos arrays\n",
    "\n",
    "players_mins_DF = pd.DataFrame({'matchesId': indice_list[:,0], 'teamsId': indice_list[:,1], 'players_id': players_id_mins, 'players_min': players_mins})\n",
    "players_mins_DF.set_index(['matchesId','teamsId'],drop=True,inplace=True)\n",
    "players_mins_DF"
   ]
  },
  {
   "cell_type": "markdown",
   "metadata": {},
   "source": [
    "### Vector de caracteristicas para cada equipo teniendo solo en cuenta el LineUp"
   ]
  },
  {
   "cell_type": "markdown",
   "metadata": {},
   "source": [
    "- Features defensivas -> tackles, fouls, interception, clearances...\n",
    "- Features portero -> saves attempts\n",
    "- Features ataque -> smart passes, cross passes, duels\n",
    "- Features generales -> missed balls, time loss,  \n",
    "\n",
    "Vamos a crear estadisticas de cada equipo en cada partido, partiendo de los jugadores del lineup.\n",
    "\n",
    "Evaluaremos:\n",
    "- Estadisticas como valor absoluto -> i.e. # smart passes\n",
    "- Estadisticas por minutos jugados (sin weighted) -> i.e. # smart passes / # minutos jugados\n",
    "- Estadisticas por minutos jugados (weighted) -> i.e. # smart passes * # minutos jugados / # minutos jugados"
   ]
  },
  {
   "cell_type": "markdown",
   "metadata": {},
   "source": [
    "#### Vector minutos x equipo"
   ]
  },
  {
   "cell_type": "code",
   "execution_count": null,
   "metadata": {},
   "outputs": [],
   "source": [
    "aux1 = np.array([0,1,2,3,4,5,6])\n",
    "aux2 = np.array([3,4,6,9,8])\n",
    "np.intersect1d(aux1,aux2)"
   ]
  },
  {
   "cell_type": "code",
   "execution_count": null,
   "metadata": {},
   "outputs": [],
   "source": [
    "# seleccionamos solo los partidos que tienen 4 partidos anteriores\n",
    "idxs_h = np.array(pd.DataFrame(partidos_h).T.reset_index().dropna(axis=0)['index'].to_list())\n",
    "idxs_a = np.array(pd.DataFrame(partidos_a).T.reset_index().dropna(axis=0)['index'].to_list())\n",
    "idxs   = np.intersect1d(idxs_h,idxs_a)\n",
    "\n",
    "matches_wUltPartidos = matches_stats.set_index('wyId').loc[idxs]\n",
    "matches_wUltPartidos.shape"
   ]
  },
  {
   "cell_type": "code",
   "execution_count": null,
   "metadata": {},
   "outputs": [],
   "source": [
    "matches_wUltPartidos.columns"
   ]
  },
  {
   "cell_type": "code",
   "execution_count": null,
   "metadata": {},
   "outputs": [],
   "source": [
    "# iteramos sobre cada partido de matches_stats y para cada equipo seleccionamos los jugadores titulares.\n",
    "\n",
    "minsH, minsA = np.zeros(len(matches_wUltPartidos)), np.zeros(len(matches_wUltPartidos))\n",
    "\n",
    "for i,m in enumerate(matches_wUltPartidos.reset_index().itertuples()):\n",
    "    # if m.wyId == 2565632: print(m.wyId)\n",
    "    # los jugadores titulares son los últimos 11 elementos de los arrays 'players_id'\n",
    "    lineup_h = players_mins_DF.loc[m.wyId, m.teamId_home].players_id[-11:]\n",
    "    lineup_a = players_mins_DF.loc[m.wyId, m.teamId_away].players_id[-11:]\n",
    "\n",
    "    for player in lineup_h:\n",
    "        for part in partidos_h[m.wyId]:\n",
    "            # if part == 2565632: print(player)\n",
    "            minsH[i] += players_match_mins[player].get(part,0)\n",
    "\n",
    "    for player in lineup_a:\n",
    "        for part in partidos_a[m.wyId]:\n",
    "            minsA[i] += players_match_mins[player].get(part,0)\n",
    "\n",
    "    # minsH = minsH / (npj*90)\n",
    "    # minsA = minsA / (npj*90)\n",
    "\n",
    "    # OPCION CODIGO\n",
    "    # crear un diccionario grande de los ultimos N partidos (playerId : player_min) y hacer ReduceByKey(add), con lo cual tendremos la suma de minutos de cada jugador\n",
    "    # a continuación escogeriamos solamente las Keys de los jugadores del lineup y las sumariamos\n",
    "    \n",
    "\n",
    "assert len(minsA) == len(minsH) == len(matches_wUltPartidos)"
   ]
  },
  {
   "cell_type": "code",
   "execution_count": null,
   "metadata": {},
   "outputs": [],
   "source": [
    "matches_wUltPartidos['mins4_H'] = minsH / (npj*11)\n",
    "matches_wUltPartidos['mins4_A'] = minsA / (npj*11)"
   ]
  },
  {
   "cell_type": "code",
   "execution_count": null,
   "metadata": {},
   "outputs": [],
   "source": [
    "matches_wUltPartidos.mins4_H[2565632]"
   ]
  },
  {
   "cell_type": "markdown",
   "metadata": {},
   "source": [
    "#### Añadir vectores de las demás caracteristicas"
   ]
  },
  {
   "cell_type": "code",
   "execution_count": null,
   "metadata": {},
   "outputs": [],
   "source": [
    "def filterDB(db,matches,players):\n",
    "    mask_players = False\n",
    "    for p in players:\n",
    "        mask_players = mask_players | np.array(db.playerId == p)\n",
    "\n",
    "    mask_matches = False\n",
    "    for m in matches:\n",
    "        mask_matches = mask_matches | np.array(db.matchId == m)\n",
    "\n",
    "    mask = mask_matches & mask_players\n",
    "    \n",
    "    return db[mask]"
   ]
  },
  {
   "cell_type": "code",
   "execution_count": null,
   "metadata": {},
   "outputs": [],
   "source": [
    "# creamos feature de pases y disparos segun el lineup-11\n",
    "\n",
    "shots_11H, shots_acc_11H, goals_H, goals_ratio_H = [], [], [], []\n",
    "shots_11A, shots_acc_11A, goals_A, goals_ratio_A = [], [], [], []\n",
    "\n",
    "passes_11H, passes_acc_11H, keyPasses_H = [], [], []\n",
    "passes_11A, passes_acc_11A, keyPasses_A = [], [], []\n",
    "\n",
    "for m in matches_wUltPartidos.reset_index().itertuples():\n",
    "    #shots\n",
    "    db_filtered_h = filterDB(shots,partidos_h[m.wyId],players_mins_DF.loc[(m.wyId,m.teamId_home)].players_id[-11:])\n",
    "    shots_11H.append(len(db_filtered_h))\n",
    "    shots_acc_11H.append(np.mean(db_filtered_h.accuracy))\n",
    "    goals_H.append(sum(db_filtered_h.goal))\n",
    "    db_filtered_a = filterDB(shots,partidos_a[m.wyId],players_mins_DF.loc[m.wyId].loc[m.teamId_away].players_id[-11:])\n",
    "    shots_11A.append(len(db_filtered_a))\n",
    "    shots_acc_11A.append(np.mean(db_filtered_a.accuracy))\n",
    "    goals_A.append(sum(db_filtered_a.goal))\n",
    "    # interesante el ratio de goles del line-up (goles lineup/golestotales)\n",
    "    golestotales_h = sum([matches.loc[mh].score_home for mh in partidos_h[m.wyId]])\n",
    "    golestotales_a = sum([matches.loc[ma].score_away for ma in partidos_a[m.wyId]])\n",
    "    if golestotales_h == 0: goals_ratio_H.append(0)\n",
    "    else: goals_ratio_H.append(sum(db_filtered_h.goal) / golestotales_h)\n",
    "    if golestotales_a == 0: goals_ratio_A.append(0)\n",
    "    else: goals_ratio_A.append(sum(db_filtered_a.goal) / golestotales_a)\n",
    "\n",
    "    #passes\n",
    "    db_filtered_h = filterDB(passes,partidos_h[m.wyId],players_mins_DF.loc[m.wyId].loc[m.teamId_home].players_id[-11:])\n",
    "    passes_11H.append(len(db_filtered_h))\n",
    "    passes_acc_11H.append(np.mean(db_filtered_h.accuracy))\n",
    "    keyPasses_H.append(sum(db_filtered_h.keyPass))\n",
    "    db_filtered_a = filterDB(passes,partidos_a[m.wyId],players_mins_DF.loc[m.wyId].loc[m.teamId_away].players_id[-11:])\n",
    "    passes_11A.append(len(db_filtered_a))\n",
    "    passes_acc_11A.append(np.mean(db_filtered_a.accuracy))\n",
    "    keyPasses_A.append(sum(db_filtered_a.keyPass))"
   ]
  },
  {
   "cell_type": "code",
   "execution_count": null,
   "metadata": {},
   "outputs": [],
   "source": [
    "assert len(shots_11H) == len(shots_acc_11H) == len(goals_ratio_H) == len(goals_ratio_A)"
   ]
  },
  {
   "cell_type": "code",
   "execution_count": null,
   "metadata": {},
   "outputs": [],
   "source": [
    "matches_wUltPartidos['shots_11H']       = shots_11H\n",
    "matches_wUltPartidos['shots_11A']       = shots_11A\n",
    "matches_wUltPartidos['shots_acc_11H']   = shots_acc_11H\n",
    "matches_wUltPartidos['shots_acc_11A']   = shots_acc_11A\n",
    "matches_wUltPartidos['goals_H']         = goals_H\n",
    "matches_wUltPartidos['goals_A']         = goals_A\n",
    "matches_wUltPartidos['goals_ratio_H']   = goals_ratio_H\n",
    "matches_wUltPartidos['goals_ratio_A']   = goals_ratio_A\n",
    "\n",
    "matches_wUltPartidos['passes_11H']      = passes_11H\n",
    "matches_wUltPartidos['passes_11A']      = passes_11A\n",
    "matches_wUltPartidos['passes_acc_11H']  = passes_acc_11H\n",
    "matches_wUltPartidos['passes_acc_11A']  = passes_acc_11A\n",
    "matches_wUltPartidos['keyPasses_H']     = keyPasses_H\n",
    "matches_wUltPartidos['keyPasses_A']     = keyPasses_A"
   ]
  },
  {
   "cell_type": "code",
   "execution_count": null,
   "metadata": {},
   "outputs": [],
   "source": [
    "matches_wUltPartidos.columns"
   ]
  },
  {
   "cell_type": "code",
   "execution_count": null,
   "metadata": {},
   "outputs": [],
   "source": [
    "# matches_wUltPartidos.to_csv(path_rawdata+'matches_wUltPartidos.csv',sep=';')\n",
    "matches_wUltPartidos = pd.read_csv(path_rawdata+'matches_wUltPartidos.csv',sep=';',index_col='wyId')\n",
    "matches_wUltPartidos.head(3)"
   ]
  },
  {
   "cell_type": "markdown",
   "metadata": {},
   "source": [
    "#### Indicadores Ataque-Defensa"
   ]
  },
  {
   "cell_type": "code",
   "execution_count": null,
   "metadata": {},
   "outputs": [],
   "source": [
    "ataque_defensa = [[[],[]],[[],[]]]\n",
    "w = 1/np.arange(1,5)\n",
    "\n",
    "for match in matches_wUltPartidos.reset_index().itertuples(): \n",
    "    df_ult_partH = matches.loc[partidos_h[match.wyId]][['teamId_home','teamId_away','score_away','score_home']]\n",
    "    df_ult_partA = matches.loc[partidos_a[match.wyId]][['teamId_home','teamId_away','score_away','score_home']]\n",
    "\n",
    "    df_ult = [df_ult_partH, df_ult_partA]\n",
    "    col    = ['teamId_home','teamId_away']\n",
    "    score  = ['score_away','score_home']\n",
    "\n",
    "    for i,df in enumerate(df_ult):\n",
    "        # avg_encajados, avg_marcados = np.mean(df[score[i]]), np.mean(df[score[not(i)]])\n",
    "        avg_encajados = np.average(df[score[i]],weights=w), # damos +importancia a los partidos mas recientes\n",
    "        avg_marcados  = np.average(df[score[not(i)]],weights=w)\n",
    "        ataque_defensa[i][0].append(avg_encajados), ataque_defensa[i][1].append(avg_marcados)\n",
    "\n",
    "# un equipo que solo ha recibido un gol y ha marcado X goles recibirá mejor puntuación\n",
    "# que otro equipo que ha marcado los mismos goles pero no ha encajado ni un gol.\n",
    "# si dividimos por la SUMA de los goles encajados desaparece este problema.\n",
    "# sin embargo, un equipo que recibe un solo gol y no marca ninguno, \n",
    "# recibe menos puntuacion que otro que marca un gol y recibe muchos."
   ]
  },
  {
   "cell_type": "code",
   "execution_count": null,
   "metadata": {},
   "outputs": [],
   "source": [
    "assert len(ataque_defensa[0][0]) == len(matches_wUltPartidos)"
   ]
  },
  {
   "cell_type": "code",
   "execution_count": null,
   "metadata": {},
   "outputs": [],
   "source": [
    "ataque_h  = np.array(ataque_defensa[0][1])\n",
    "defensa_h = np.array(ataque_defensa[0][0])\n",
    "ataque_a  = np.array(ataque_defensa[1][1])\n",
    "defensa_a = np.array(ataque_defensa[1][0])\n",
    "\n",
    "matches_wUltPartidos['ataque_h'], matches_wUltPartidos['defensa_h'] = ataque_h, defensa_h\n",
    "matches_wUltPartidos['ataque_a'], matches_wUltPartidos['defensa_a'] = ataque_a, defensa_a"
   ]
  },
  {
   "cell_type": "code",
   "execution_count": null,
   "metadata": {},
   "outputs": [],
   "source": [
    "avg_encajados_home = matches_wUltPartidos.groupby('teamId_home').agg(encajados=('score_away','mean'))\n",
    "avg_marcados_home  = matches_wUltPartidos.groupby('teamId_home').agg(marcados=('score_home','mean'))\n",
    "avg_encajados_away = matches_wUltPartidos.groupby('teamId_away').agg(encajados=('score_home','mean'))\n",
    "avg_marcados_away  = matches_wUltPartidos.groupby('teamId_away').agg(marcados=('score_away','mean'))\n",
    "\n",
    "avg_encajados = (pd.concat([avg_encajados_away,avg_encajados_home],axis=1)).mean(axis=1)  # (encajados como locales + commo encajados visit) / 2 -> pq son mismo # partidos\n",
    "avg_marcados  = (pd.concat([avg_marcados_home,avg_marcados_away],axis=1)).mean(axis=1)\n",
    "\n",
    "# comprimimos ambos en uno solo\n",
    "avg_encajados_inv = 1/avg_encajados\n",
    "indicador = np.mean([avg_marcados,avg_encajados_inv],axis=0)\n",
    "indicador = pd.DataFrame({'indicador':indicador},index=avg_encajados.index)\n",
    "\n",
    "# ataque_defensa_teams = pd.DataFrame({'avg_marcados':avg_marcados, 'avg_encajados':avg_encajados}).reset_index()\n",
    "# teamId = ataque_defensa_teams['index']\n",
    "# ataque_defensa_teams['teamId'] = teamId\n",
    "# ataque_defensa_teams.drop('index',axis=1,inplace=True)\n"
   ]
  },
  {
   "cell_type": "code",
   "execution_count": null,
   "metadata": {},
   "outputs": [],
   "source": [
    "# ataque_defensa_teams.set_index('teamId',inplace=True)\n",
    "# indicador.to_csv(path_rawdata+'indicador_ataquedefensa_teams.csv',sep=';')\n",
    "indicador"
   ]
  },
  {
   "cell_type": "code",
   "execution_count": null,
   "metadata": {},
   "outputs": [],
   "source": [
    "indicador.sort_values(by='indicador',ascending=False)"
   ]
  },
  {
   "cell_type": "code",
   "execution_count": null,
   "metadata": {},
   "outputs": [],
   "source": [
    "matches_wUltPartidos['ataquedefensa_H'] = matches_wUltPartidos.teamId_home.map(dict(indicador.indicador))\n",
    "matches_wUltPartidos['ataquedefensa_A'] = matches_wUltPartidos.teamId_away.map(dict(indicador.indicador))"
   ]
  },
  {
   "cell_type": "code",
   "execution_count": null,
   "metadata": {},
   "outputs": [],
   "source": [
    "matches_wUltPartidos.head(3)"
   ]
  },
  {
   "cell_type": "code",
   "execution_count": null,
   "metadata": {},
   "outputs": [],
   "source": [
    "matches_wUltPartidos.to_csv(path_rawdata+'matches_wUltPartidos.csv',sep=';')"
   ]
  }
 ],
 "metadata": {
  "kernelspec": {
   "display_name": "Python 3.8.8 ('tfg')",
   "language": "python",
   "name": "python3"
  },
  "language_info": {
   "codemirror_mode": {
    "name": "ipython",
    "version": 3
   },
   "file_extension": ".py",
   "mimetype": "text/x-python",
   "name": "python",
   "nbconvert_exporter": "python",
   "pygments_lexer": "ipython3",
   "version": "3.8.8"
  },
  "orig_nbformat": 4,
  "vscode": {
   "interpreter": {
    "hash": "288ff6fe8157f43ba3e1fb4cfa0011490e9beb907b54ad0d71ae70a61946bdb3"
   }
  }
 },
 "nbformat": 4,
 "nbformat_minor": 2
}
