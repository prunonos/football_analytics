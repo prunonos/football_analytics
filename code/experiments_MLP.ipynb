{
 "cells": [
  {
   "cell_type": "code",
   "execution_count": 184,
   "metadata": {},
   "outputs": [],
   "source": [
    "import torch\n",
    "import torch.nn as nn\n",
    "import torch.nn.functional as F\n",
    "from torchvision.transforms import ToTensor\n",
    "from torch.utils.data import Dataset, DataLoader, SubsetRandomSampler\n",
    "import numpy as np\n",
    "import pandas as pd\n",
    "from sklearn import preprocessing, metrics, model_selection\n",
    "import matplotlib.pyplot as plt\n",
    "import seaborn as sn\n",
    "%matplotlib inline\n",
    "\n",
    "torch.manual_seed(0)\n",
    "import random\n",
    "random.seed(0)"
   ]
  },
  {
   "cell_type": "code",
   "execution_count": 2,
   "metadata": {},
   "outputs": [
    {
     "name": "stdout",
     "output_type": "stream",
     "text": [
      "Using cuda device\n"
     ]
    }
   ],
   "source": [
    "device = \"cuda\" if torch.cuda.is_available() else \"cpu\"\n",
    "print(f\"Using {device} device\")"
   ]
  },
  {
   "cell_type": "code",
   "execution_count": 3,
   "metadata": {},
   "outputs": [],
   "source": [
    "path_train      = 'F://TFG//datasets//data_train//'\n",
    "path_graphs     = 'F://TFG//graphs//plot_results//'"
   ]
  },
  {
   "cell_type": "code",
   "execution_count": 4,
   "metadata": {},
   "outputs": [],
   "source": [
    "data = pd.read_csv(path_train+'training_features_DF.csv',sep=';',index_col='wyId')\n",
    "\n",
    "# X_train = pd.read_csv(path_train+'X_train.csv',sep=';',index_col='wyId')\n",
    "# y_train = pd.read_csv(path_train+'y_train.csv',sep=';',index_col='wyId')\n",
    "# X_test = pd.read_csv(path_train+'X_test.csv',sep=';',index_col='wyId')\n",
    "# y_test = pd.read_csv(path_train+'y_test.csv',sep=';',index_col='wyId')"
   ]
  },
  {
   "cell_type": "code",
   "execution_count": 5,
   "metadata": {},
   "outputs": [],
   "source": [
    "class FootballMatchesDataset(Dataset):\n",
    "    def __init__(self,file):\n",
    "        df              = pd.read_csv(path_train+'X_'+file+'.csv',sep=';')\n",
    "        lab_df          = pd.read_csv(path_train+'y_'+file+'.csv',sep=';')\n",
    "        self.data       = torch.tensor(df.values[:,1:]).float() \n",
    "        self.labels     = F.one_hot(torch.tensor(lab_df.values[:,1]), num_classes=3).float()\n",
    "        self.matches    = torch.tensor(lab_df.values[:,0])\n",
    "\n",
    "    def __len__(self):\n",
    "        return len(self.data)\n",
    "\n",
    "    def shape(self):\n",
    "        return self.data.shape\n",
    "\n",
    "    def __getitem__(self,idx):\n",
    "        sample  = self.data[idx]\n",
    "        label   = self.labels[idx]\n",
    "        match   = self.matches[idx]\n",
    "        return sample, label, match\n",
    "\n"
   ]
  },
  {
   "cell_type": "code",
   "execution_count": 6,
   "metadata": {},
   "outputs": [
    {
     "data": {
      "text/plain": [
       "(1100, 314)"
      ]
     },
     "execution_count": 6,
     "metadata": {},
     "output_type": "execute_result"
    }
   ],
   "source": [
    "train_data  = FootballMatchesDataset(file = 'train')\n",
    "test_data   = FootballMatchesDataset(file = 'test')\n",
    "\n",
    "len(train_data), len(test_data)"
   ]
  },
  {
   "cell_type": "code",
   "execution_count": 7,
   "metadata": {},
   "outputs": [
    {
     "data": {
      "text/plain": [
       "tensor([[0., 0., 1.],\n",
       "        [0., 1., 0.],\n",
       "        [0., 1., 0.],\n",
       "        [0., 1., 0.]])"
      ]
     },
     "execution_count": 7,
     "metadata": {},
     "output_type": "execute_result"
    }
   ],
   "source": [
    "dataloader = DataLoader(train_data, batch_size=4, shuffle=True, num_workers=0)\n",
    "train_feat, train_lab, _ = next(iter(dataloader))\n",
    "train_lab"
   ]
  },
  {
   "cell_type": "code",
   "execution_count": 8,
   "metadata": {},
   "outputs": [],
   "source": [
    "scaler  = preprocessing.StandardScaler()\n",
    "train_data.data = scaler.fit_transform(train_data.data)"
   ]
  },
  {
   "cell_type": "markdown",
   "metadata": {},
   "source": [
    "### Neural Network Implementation\n",
    "\n",
    "Define the class:"
   ]
  },
  {
   "cell_type": "markdown",
   "metadata": {},
   "source": [
    "#### I) Artificial Neural Network Approach to Football Score Prediction\n",
    "\n",
    "Multilayer Perceptron with 1 hidden layer with BacpPropagation.\n",
    "6 units input -> 5 hidden units -> 2 output units w/ sigmoid\n",
    "\n",
    "Data Normalized [0,1]"
   ]
  },
  {
   "cell_type": "code",
   "execution_count": 9,
   "metadata": {},
   "outputs": [],
   "source": [
    "train_data  = FootballMatchesDataset(file = 'train')\n",
    "test_data   = FootballMatchesDataset(file = 'test')"
   ]
  },
  {
   "cell_type": "code",
   "execution_count": 10,
   "metadata": {},
   "outputs": [],
   "source": [
    "normalizer = preprocessing.Normalizer()\n",
    "train_data.data = normalizer.fit_transform(train_data.data)"
   ]
  },
  {
   "cell_type": "code",
   "execution_count": 11,
   "metadata": {},
   "outputs": [
    {
     "name": "stdout",
     "output_type": "stream",
     "text": [
      "0.06813519 0.20202015\n",
      "0.96471554 0.0\n"
     ]
    }
   ],
   "source": [
    "print(train_data.data.mean(), train_data.data.std())\n",
    "print(train_data.data.max(),  train_data.data.min())"
   ]
  },
  {
   "cell_type": "code",
   "execution_count": 102,
   "metadata": {},
   "outputs": [
    {
     "data": {
      "text/plain": [
       "tensor([3.9871e-02, 2.7169e-02, 1.5277e-02, 2.0369e-02, 2.6523e-04, 1.7903e-04,\n",
       "        3.8192e-03, 1.2731e-03, 4.2436e-04, 3.1827e-04, 7.9504e-01, 6.0408e-01,\n",
       "        5.3971e-04, 5.1446e-04, 1.9096e-03, 6.3654e-04, 1.5532e-03, 8.6570e-04,\n",
       "        4.3285e-04, 5.3469e-04, 6.6201e-04, 4.1110e-04])"
      ]
     },
     "execution_count": 102,
     "metadata": {},
     "output_type": "execute_result"
    }
   ],
   "source": [
    "dataloader_train    = DataLoader(train_data, batch_size=20, shuffle=True)\n",
    "dataloader_test     = DataLoader(test_data,  batch_size=50, shuffle=True)\n",
    "\n",
    "train_feat, train_lab, _ = next(iter(dataloader_train))\n",
    "train_feat[0]"
   ]
  },
  {
   "cell_type": "code",
   "execution_count": 103,
   "metadata": {},
   "outputs": [],
   "source": [
    "class NeuralNetwork(nn.Module):\n",
    "    def __init__(self, input_feature, ouput_classes):\n",
    "        super().__init__()\n",
    "        \n",
    "        self.h1 = nn.Linear(in_features=input_feature,out_features=5)\n",
    "        self.bn = nn.BatchNorm1d(5)\n",
    "        self.out = nn.Linear(5,ouput_classes)\n",
    "\n",
    "    def forward(self,x):\n",
    "        x = F.relu(self.h1(x))\n",
    "        x = self.bn(x)\n",
    "        return F.softmax(self.out(x),1)    \n",
    "\n",
    "    def reset_weights(self):\n",
    "        self.h1.reset_parameters()\n",
    "        self.bn.reset_parameters()\n",
    "        self.out.reset_parameters()    "
   ]
  },
  {
   "cell_type": "code",
   "execution_count": 104,
   "metadata": {},
   "outputs": [],
   "source": [
    "model = NeuralNetwork(22,3)"
   ]
  },
  {
   "cell_type": "code",
   "execution_count": 105,
   "metadata": {},
   "outputs": [
    {
     "name": "stdout",
     "output_type": "stream",
     "text": [
      "NeuralNetwork(\n",
      "  (h1): Linear(in_features=22, out_features=5, bias=True)\n",
      "  (bn): BatchNorm1d(5, eps=1e-05, momentum=0.1, affine=True, track_running_stats=True)\n",
      "  (out): Linear(in_features=5, out_features=3, bias=True)\n",
      ")\n",
      "The model has 143 parameters.\n"
     ]
    }
   ],
   "source": [
    "# Print out the architecture and number of parameters.\n",
    "print(model)\n",
    "print(f\"The model has {sum([x.nelement() for x in model.parameters()]):,} parameters.\")"
   ]
  },
  {
   "cell_type": "markdown",
   "metadata": {},
   "source": [
    "##### Loss Function: Cross-entropy Loss\n",
    "\n",
    "we can provide `weights`, as prior probability of each class $C$."
   ]
  },
  {
   "cell_type": "code",
   "execution_count": 106,
   "metadata": {},
   "outputs": [
    {
     "data": {
      "text/plain": [
       "tensor([[1., 0., 0.],\n",
       "        [0., 1., 0.],\n",
       "        [0., 1., 0.],\n",
       "        ...,\n",
       "        [1., 0., 0.],\n",
       "        [0., 1., 0.],\n",
       "        [0., 1., 0.]])"
      ]
     },
     "execution_count": 106,
     "metadata": {},
     "output_type": "execute_result"
    }
   ],
   "source": [
    "train_data.labels   # in 1-hot encoding"
   ]
  },
  {
   "cell_type": "code",
   "execution_count": 107,
   "metadata": {},
   "outputs": [],
   "source": [
    "weights_class = np.mean(train_data.labels.numpy(),axis=0)\n",
    "\n",
    "criterion = nn.CrossEntropyLoss()"
   ]
  },
  {
   "cell_type": "markdown",
   "metadata": {},
   "source": [
    "##### Optimizer"
   ]
  },
  {
   "cell_type": "code",
   "execution_count": 108,
   "metadata": {},
   "outputs": [],
   "source": [
    "learning_rate = 1e-1\n",
    "optimizer = torch.optim.SGD(model.parameters(), lr=learning_rate)\n",
    "# optimizar con momentum (nesterov), weight decay"
   ]
  },
  {
   "cell_type": "markdown",
   "metadata": {},
   "source": [
    "##### Accuracy"
   ]
  },
  {
   "cell_type": "code",
   "execution_count": 146,
   "metadata": {},
   "outputs": [],
   "source": [
    "def get_accuracy(pred,y,conf_matrix=False):\n",
    "    pred_class = torch.argmax(pred,dim=1).numpy()\n",
    "    y_class    = torch.argmax(y,dim=1).numpy()\n",
    "    \n",
    "    if conf_matrix:\n",
    "        return (np.mean((pred_class == y_class)), \n",
    "                metrics.confusion_matrix(y_class,pred_class))\n",
    "    else:\n",
    "        return np.mean((pred_class == y_class)), _\n",
    "    "
   ]
  },
  {
   "cell_type": "markdown",
   "metadata": {},
   "source": [
    "##### Train Loop"
   ]
  },
  {
   "cell_type": "code",
   "execution_count": 202,
   "metadata": {},
   "outputs": [],
   "source": [
    "def train_model(model, criterion, optimizer, dataloader_train, dataloader_test, epochs):\n",
    "\n",
    "    accuracy_train  = []\n",
    "    error           = []\n",
    "    accuracy_test   = []\n",
    "\n",
    "    confusion_matrix = np.zeros((3,3))\n",
    "\n",
    "    for ep in range(epochs):\n",
    "        # Training.\n",
    "        model.train()\n",
    "        acc_batch   = []\n",
    "        \n",
    "        for it, batch in enumerate(dataloader_train):\n",
    "\n",
    "            # 5.1 Load a batch, break it down in images and targets.\n",
    "            x, y, _ = batch\n",
    "            # batch to device ????\n",
    "            \n",
    "            # 5.2 Run forward pass.\n",
    "            logits = model(x)\n",
    "            \n",
    "            # 5.3 Compute loss (using 'criterion').\n",
    "            loss = criterion(logits, y)\n",
    "            \n",
    "            # 5.4 Run backward pass.\n",
    "            loss.backward()\n",
    "            \n",
    "            # 5.5 Update the weights using optimizer.\n",
    "            optimizer.step()\n",
    "            \n",
    "            # 5.6 Zero-out the accumulated gradients.\n",
    "            optimizer.zero_grad()\n",
    "            # `model.zero_grad()` also works\n",
    "\n",
    "            res, _ = get_accuracy(logits,y)\n",
    "            acc_batch.append(res)\n",
    "\n",
    "        accuracy_train.append(np.mean(acc_batch)) \n",
    "        error.append(float(loss))\n",
    "\n",
    "        print('\\rEp {}/{}, it {}/{}: loss train: {:.2f}, accuracy train: {:.2f}'.\n",
    "                format(ep + 1, epochs, it + 1, len(dataloader_train), loss,\n",
    "                        np.mean(acc_batch)), end='')\n",
    "\n",
    "        # Validation.\n",
    "        model.eval()\n",
    "        with torch.no_grad():\n",
    "            acc_run = 0\n",
    "            for it, batch in enumerate(dataloader_test):\n",
    "                # Get batch of data.\n",
    "                x, y, _          = batch\n",
    "                curr_bs          = x.shape[0]\n",
    "                preds            = model(x) \n",
    "                res, conf_mat    = get_accuracy(preds, y, conf_matrix=True)\n",
    "                acc_run          += res * curr_bs\n",
    "                if ep == epochs-1:\n",
    "                    confusion_matrix += conf_mat\n",
    "\n",
    "            acc_test = acc_run / len(dataloader_test.dataset)\n",
    "            accuracy_test.append(acc_test)\n",
    "\n",
    "            print(', accuracy test: {:.2f}'.format(acc_test))\n",
    "\n",
    "    return error,accuracy_train,accuracy_test,confusion_matrix"
   ]
  },
  {
   "cell_type": "code",
   "execution_count": 205,
   "metadata": {},
   "outputs": [
    {
     "name": "stdout",
     "output_type": "stream",
     "text": [
      "Ep 1/10, it 55/55: loss train: 1.03, accuracy train: 0.48, accuracy test: 0.28\n",
      "Ep 2/10, it 55/55: loss train: 1.21, accuracy train: 0.48, accuracy test: 0.28\n",
      "Ep 3/10, it 55/55: loss train: 1.10, accuracy train: 0.50, accuracy test: 0.26\n",
      "Ep 4/10, it 55/55: loss train: 1.06, accuracy train: 0.48, accuracy test: 0.27\n",
      "Ep 5/10, it 55/55: loss train: 0.96, accuracy train: 0.49, accuracy test: 0.27\n",
      "Ep 6/10, it 55/55: loss train: 1.07, accuracy train: 0.48, accuracy test: 0.27\n",
      "Ep 7/10, it 55/55: loss train: 1.08, accuracy train: 0.49, accuracy test: 0.27\n",
      "Ep 8/10, it 55/55: loss train: 1.08, accuracy train: 0.48, accuracy test: 0.30\n",
      "Ep 9/10, it 55/55: loss train: 1.12, accuracy train: 0.48, accuracy test: 0.30\n",
      "Ep 10/10, it 55/55: loss train: 1.09, accuracy train: 0.49, accuracy test: 0.26\n"
     ]
    }
   ],
   "source": [
    "# Train the model\n",
    "epochs = 10\n",
    "learning_rate = 1e-1\n",
    "optimizer_lenet = torch.optim.SGD(model.parameters(), lr=learning_rate)\n",
    "error,accuracy_train,accuracy_test,confusion_matrix = train_model(model, criterion, optimizer, dataloader_train, dataloader_test, epochs)"
   ]
  },
  {
   "cell_type": "code",
   "execution_count": 207,
   "metadata": {},
   "outputs": [
    {
     "name": "stderr",
     "output_type": "stream",
     "text": [
      "No handles with labels found to put in legend.\n"
     ]
    },
    {
     "data": {
      "image/png": "[encoded data removed]",
      "text/plain": [
       "<Figure size 720x432 with 1 Axes>"
      ]
     },
     "metadata": {
      "needs_background": "light"
     },
     "output_type": "display_data"
    }
   ],
   "source": [
    "plt.figure(figsize=(10,6))\n",
    "\n",
    "for p in [accuracy_train,accuracy_test]:\n",
    "    plt.plot(p)\n",
    "\n",
    "plt.title('Accuracy: MLP 5 hidden units, batch_size=20')\n",
    "plt.xticks(np.arange(epochs))\n",
    "plt.legend()\n",
    "plt.grid()\n",
    "plt.xlabel('epochs')\n",
    "plt.ylabel('accuracy')\n",
    "plt.ylim([0,1])\n",
    "\n",
    "plt.savefig(path_graphs + 'acc_mlp5_bn20.jpg', format='jpg', dpi=200)"
   ]
  },
  {
   "cell_type": "markdown",
   "metadata": {},
   "source": [
    "##### Applying Cross Validation"
   ]
  },
  {
   "cell_type": "code",
   "execution_count": 148,
   "metadata": {},
   "outputs": [],
   "source": [
    "folds = 5\n",
    "kfold = model_selection.KFold(n_splits=folds,shuffle=True,random_state=0)"
   ]
  },
  {
   "cell_type": "code",
   "execution_count": 149,
   "metadata": {},
   "outputs": [],
   "source": [
    "def train_wCrossValidation(model,criterion,optimizer,train_data,batch_size=20,epochs=5):\n",
    "\n",
    "    model.reset_weights()\n",
    "\n",
    "    error           = []\n",
    "    accuracy_train  = []\n",
    "    accuracy_test   = []\n",
    "\n",
    "    confusion_matrix = []\n",
    "\n",
    "    for fold,(train_idx,test_idx) in enumerate(kfold.split(train_data.data)):\n",
    "        train_subsampler    = SubsetRandomSampler(train_idx)\n",
    "        test_subsampler     = SubsetRandomSampler(test_idx)\n",
    "        \n",
    "        trainloader = DataLoader(\n",
    "                            train_data, \n",
    "                            batch_size=batch_size, sampler=train_subsampler)\n",
    "        testloader  = DataLoader(\n",
    "                            train_data,\n",
    "                            batch_size=100, sampler=test_subsampler)\n",
    "        \n",
    "        model.reset_weights()\n",
    "\n",
    "        error_fold,acc_train_fold,acc_test_fold,conf_matrix = train_model(\n",
    "                model, criterion, optimizer, trainloader, testloader, epochs\n",
    "            )\n",
    "\n",
    "        confusion_matrix.append(conf_matrix)\n",
    "        error.append(error_fold)\n",
    "        accuracy_train.append(acc_train_fold)\n",
    "        accuracy_test.append(acc_test_fold)\n",
    "        \n",
    "        print('\\rFold {}/{}: loss train: {:.2f}, accuracy train: {:.2f}, accuracy test: {:.2f}'.\n",
    "                format(fold + 1, folds, np.mean(error_fold),\n",
    "                        np.mean(acc_train_fold), np.mean(acc_test_fold)), end='')\n",
    "        print('\\n')\n",
    "    \n",
    "    return error, accuracy_train, accuracy_test, np.array(confusion_matrix)\n",
    "        "
   ]
  },
  {
   "cell_type": "code",
   "execution_count": 154,
   "metadata": {},
   "outputs": [
    {
     "name": "stdout",
     "output_type": "stream",
     "text": [
      "Ep 1/5, it 88/88: loss train: 1.03, accuracy train: 0.45, accuracy test: 0.10\n",
      "Ep 2/5, it 88/88: loss train: 0.98, accuracy train: 0.48, accuracy test: 0.10\n",
      "Ep 3/5, it 88/88: loss train: 1.10, accuracy train: 0.47, accuracy test: 0.10\n",
      "Ep 4/5, it 88/88: loss train: 1.01, accuracy train: 0.47, accuracy test: 0.10\n",
      "Ep 5/5, it 88/88: loss train: 1.04, accuracy train: 0.48, accuracy test: 0.05\n",
      "Fold 1/5: loss train: 1.03, accuracy train: 0.47, accuracy test: 0.09\n",
      "\n",
      "Ep 1/5, it 88/88: loss train: 1.02, accuracy train: 0.46, accuracy test: 0.09\n",
      "Ep 2/5, it 88/88: loss train: 1.05, accuracy train: 0.49, accuracy test: 0.09\n",
      "Ep 3/5, it 88/88: loss train: 1.01, accuracy train: 0.49, accuracy test: 0.09\n",
      "Ep 4/5, it 88/88: loss train: 1.02, accuracy train: 0.49, accuracy test: 0.09\n",
      "Ep 5/5, it 88/88: loss train: 0.98, accuracy train: 0.48, accuracy test: 0.09\n",
      "Fold 2/5: loss train: 1.02, accuracy train: 0.48, accuracy test: 0.09\n",
      "\n",
      "Ep 1/5, it 88/88: loss train: 1.09, accuracy train: 0.47, accuracy test: 0.09\n",
      "Ep 2/5, it 88/88: loss train: 1.20, accuracy train: 0.48, accuracy test: 0.09\n",
      "Ep 3/5, it 88/88: loss train: 1.03, accuracy train: 0.48, accuracy test: 0.09\n",
      "Ep 4/5, it 88/88: loss train: 0.98, accuracy train: 0.48, accuracy test: 0.09\n",
      "Ep 5/5, it 88/88: loss train: 1.12, accuracy train: 0.48, accuracy test: 0.09\n",
      "Fold 3/5: loss train: 1.08, accuracy train: 0.48, accuracy test: 0.09\n",
      "\n",
      "Ep 1/5, it 88/88: loss train: 0.98, accuracy train: 0.44, accuracy test: 0.09\n",
      "Ep 2/5, it 88/88: loss train: 0.96, accuracy train: 0.50, accuracy test: 0.09\n",
      "Ep 3/5, it 88/88: loss train: 0.99, accuracy train: 0.49, accuracy test: 0.09\n",
      "Ep 4/5, it 88/88: loss train: 1.16, accuracy train: 0.48, accuracy test: 0.09\n",
      "Ep 5/5, it 88/88: loss train: 0.98, accuracy train: 0.49, accuracy test: 0.09\n",
      "Fold 4/5: loss train: 1.01, accuracy train: 0.48, accuracy test: 0.09\n",
      "\n",
      "Ep 1/5, it 88/88: loss train: 1.11, accuracy train: 0.40, accuracy test: 0.10\n",
      "Ep 2/5, it 88/88: loss train: 0.98, accuracy train: 0.45, accuracy test: 0.11\n",
      "Ep 3/5, it 88/88: loss train: 1.01, accuracy train: 0.47, accuracy test: 0.11\n",
      "Ep 4/5, it 88/88: loss train: 0.96, accuracy train: 0.47, accuracy test: 0.11\n",
      "Ep 5/5, it 88/88: loss train: 0.97, accuracy train: 0.47, accuracy test: 0.11\n",
      "Fold 5/5: loss train: 1.01, accuracy train: 0.45, accuracy test: 0.11\n",
      "\n"
     ]
    }
   ],
   "source": [
    "error, accuracy_train, accuracy_test, confusion_matrix = train_wCrossValidation(model,criterion, optimizer, train_data, epochs)"
   ]
  },
  {
   "cell_type": "code",
   "execution_count": 155,
   "metadata": {},
   "outputs": [
    {
     "data": {
      "text/plain": [
       "array([0.24909091, 0.45727274, 0.29363635], dtype=float32)"
      ]
     },
     "execution_count": 155,
     "metadata": {},
     "output_type": "execute_result"
    }
   ],
   "source": [
    "weights_class"
   ]
  },
  {
   "cell_type": "code",
   "execution_count": 196,
   "metadata": {},
   "outputs": [],
   "source": [
    "def dispConfusionMatrix(matrix,title,filename,save=True):\n",
    "    df_confmat = pd.DataFrame(matrix, index=['draw','local win','away win'], columns=['draw','local win','away win'])\n",
    "    plt.figure(figsize=(10,7))\n",
    "    plt.title(title)\n",
    "    sn.heatmap(df_confmat,annot=True,fmt=\".0f\")\n",
    "    plt.savefig(path_graphs + filename + '.jpg', format='jpg', dpi=200)"
   ]
  },
  {
   "cell_type": "code",
   "execution_count": 197,
   "metadata": {},
   "outputs": [
    {
     "data": {
      "image/png": "[encoded data removed]",
      "text/plain": [
       "<Figure size 720x504 with 2 Axes>"
      ]
     },
     "metadata": {
      "needs_background": "light"
     },
     "output_type": "display_data"
    }
   ],
   "source": [
    "dispConfusionMatrix(confusion_matrix[4],'Confusion matrix: Normaliz. MLP 1x5, bn=20','confmat_norm_mlp5_bn20')"
   ]
  },
  {
   "cell_type": "code",
   "execution_count": 66,
   "metadata": {},
   "outputs": [
    {
     "name": "stderr",
     "output_type": "stream",
     "text": [
      "No handles with labels found to put in legend.\n"
     ]
    },
    {
     "data": {
      "text/plain": [
       "(0.5, 1.5)"
      ]
     },
     "execution_count": 66,
     "metadata": {},
     "output_type": "execute_result"
    },
    {
     "data": {
      "image/png": "[encoded data removed]",
      "text/plain": [
       "<Figure size 720x432 with 1 Axes>"
      ]
     },
     "metadata": {
      "needs_background": "light"
     },
     "output_type": "display_data"
    }
   ],
   "source": [
    "plt.figure(figsize=(10,6))\n",
    "\n",
    "for p in error:\n",
    "    plt.plot(p)\n",
    "\n",
    "plt.title('Error Cross-Validation: MLP 5 hidden units, batch_size=20')\n",
    "plt.xticks(np.arange(folds))\n",
    "plt.legend()\n",
    "plt.grid()\n",
    "plt.xlabel('epochs')\n",
    "plt.ylabel('error')\n",
    "plt.ylim([0.5,1.5])\n",
    "\n",
    "# plt.savefig(path_graphs + 'error_cv5_mlp5_bn20.jpg', format='jpg', dpi=200)"
   ]
  },
  {
   "cell_type": "markdown",
   "metadata": {},
   "source": [
    "##### Grid Search"
   ]
  },
  {
   "cell_type": "code",
   "execution_count": 227,
   "metadata": {},
   "outputs": [],
   "source": [
    "# scaling/normalization\n",
    "normalizer = preprocessing.MinMaxScaler()\n",
    "train_data.data = normalizer.fit_transform(train_data.data)\n",
    "\n",
    "# model\n",
    "model = NeuralNetwork(22,3)\n",
    "\n",
    "# loss function\n",
    "weights_class = np.mean(train_data.labels.numpy(),axis=0)\n",
    "criterion = nn.CrossEntropyLoss()\n",
    "\n",
    "# optimizer\n",
    "learning_rate = 1e-1\n",
    "optimizer = torch.optim.SGD(model.parameters(), lr=learning_rate)\n",
    "\n",
    "# cross-validation\n",
    "folds = 5\n",
    "kfold = model_selection.KFold(n_splits=folds,shuffle=True,random_state=0)"
   ]
  },
  {
   "cell_type": "code",
   "execution_count": 228,
   "metadata": {},
   "outputs": [
    {
     "name": "stdout",
     "output_type": "stream",
     "text": [
      "Ep 1/5, it 88/88: loss train: 0.98, accuracy train: 0.45, accuracy test: 0.11\n",
      "Ep 2/5, it 88/88: loss train: 1.04, accuracy train: 0.52, accuracy test: 0.11\n",
      "Ep 3/5, it 88/88: loss train: 0.98, accuracy train: 0.54, accuracy test: 0.11\n",
      "Ep 4/5, it 88/88: loss train: 0.84, accuracy train: 0.55, accuracy test: 0.10\n",
      "Ep 5/5, it 88/88: loss train: 0.96, accuracy train: 0.54, accuracy test: 0.11\n",
      "Fold 1/5: loss train: 0.96, accuracy train: 0.52, accuracy test: 0.11\n",
      "\n",
      "Ep 1/5, it 88/88: loss train: 1.04, accuracy train: 0.40, accuracy test: 0.10\n",
      "Ep 2/5, it 88/88: loss train: 0.94, accuracy train: 0.51, accuracy test: 0.09\n",
      "Ep 3/5, it 88/88: loss train: 0.92, accuracy train: 0.52, accuracy test: 0.10\n",
      "Ep 4/5, it 88/88: loss train: 0.79, accuracy train: 0.54, accuracy test: 0.10\n",
      "Ep 5/5, it 88/88: loss train: 0.85, accuracy train: 0.54, accuracy test: 0.10\n",
      "Fold 2/5: loss train: 0.91, accuracy train: 0.50, accuracy test: 0.10\n",
      "\n",
      "Ep 1/5, it 88/88: loss train: 0.92, accuracy train: 0.48, accuracy test: 0.10\n",
      "Ep 2/5, it 88/88: loss train: 0.86, accuracy train: 0.54, accuracy test: 0.10\n",
      "Ep 3/5, it 88/88: loss train: 0.74, accuracy train: 0.56, accuracy test: 0.10\n",
      "Ep 4/5, it 88/88: loss train: 1.11, accuracy train: 0.56, accuracy test: 0.10\n",
      "Ep 5/5, it 88/88: loss train: 0.85, accuracy train: 0.55, accuracy test: 0.10\n",
      "Fold 3/5: loss train: 0.90, accuracy train: 0.54, accuracy test: 0.10\n",
      "\n",
      "Ep 1/5, it 88/88: loss train: 1.02, accuracy train: 0.43, accuracy test: 0.09\n",
      "Ep 2/5, it 88/88: loss train: 0.97, accuracy train: 0.53, accuracy test: 0.10\n",
      "Ep 3/5, it 88/88: loss train: 0.88, accuracy train: 0.54, accuracy test: 0.10\n",
      "Ep 4/5, it 88/88: loss train: 0.86, accuracy train: 0.54, accuracy test: 0.10\n",
      "Ep 5/5, it 88/88: loss train: 0.96, accuracy train: 0.55, accuracy test: 0.11\n",
      "Fold 4/5: loss train: 0.94, accuracy train: 0.52, accuracy test: 0.10\n",
      "\n",
      "Ep 1/5, it 88/88: loss train: 1.05, accuracy train: 0.46, accuracy test: 0.11\n",
      "Ep 2/5, it 88/88: loss train: 0.98, accuracy train: 0.49, accuracy test: 0.11\n",
      "Ep 3/5, it 88/88: loss train: 0.90, accuracy train: 0.54, accuracy test: 0.10\n",
      "Ep 4/5, it 88/88: loss train: 1.19, accuracy train: 0.53, accuracy test: 0.10\n",
      "Ep 5/5, it 88/88: loss train: 0.92, accuracy train: 0.51, accuracy test: 0.12\n",
      "Fold 5/5: loss train: 1.01, accuracy train: 0.51, accuracy test: 0.11\n",
      "\n"
     ]
    }
   ],
   "source": [
    "error, accuracy_train, accuracy_test, confusion_matrix = train_wCrossValidation(model,criterion, optimizer, train_data, epochs)"
   ]
  },
  {
   "cell_type": "code",
   "execution_count": 241,
   "metadata": {},
   "outputs": [],
   "source": [
    "# scaling/normalization\n",
    "scalers = [preprocessing.MinMaxScaler(), preprocessing.Normalizer(), \n",
    "                preprocessing.MaxAbsScaler(), preprocessing.StandardScaler()]\n",
    "\n",
    "# model\n",
    "model = NeuralNetwork(22,3)\n",
    "\n",
    "# loss function\n",
    "weights_class = torch.tensor(np.mean(train_data.labels.numpy(),axis=0))\n",
    "criterion = [nn.CrossEntropyLoss(), nn.CrossEntropyLoss(weight=weights_class)]\n",
    "\n",
    "# optimizer\n",
    "learning_rate = [0.5,0.1,1e-2]\n",
    "momentum = [0.01,0.1,0.5,0.9]\n",
    "nesterov = dampening = [True, False]\n",
    "optimizer = torch.optim.SGD\n",
    "\n",
    "# cross-validation\n",
    "folds = 5\n",
    "kfold = model_selection.KFold(n_splits=folds,shuffle=True,random_state=0)"
   ]
  },
  {
   "cell_type": "code",
   "execution_count": null,
   "metadata": {},
   "outputs": [],
   "source": []
  },
  {
   "cell_type": "code",
   "execution_count": null,
   "metadata": {},
   "outputs": [],
   "source": [
    "def grid_search():\n",
    "    return"
   ]
  },
  {
   "cell_type": "code",
   "execution_count": 245,
   "metadata": {},
   "outputs": [],
   "source": [
    "hyperparams = np.array(np.meshgrid(scalers,criterion,learning_rate,momentum,nesterov,dampening)).T.reshape((-1,6))"
   ]
  },
  {
   "cell_type": "code",
   "execution_count": 247,
   "metadata": {},
   "outputs": [
    {
     "data": {
      "text/plain": [
       "(384, 6)"
      ]
     },
     "execution_count": 247,
     "metadata": {},
     "output_type": "execute_result"
    }
   ],
   "source": [
    "hyperparams.shape"
   ]
  },
  {
   "cell_type": "code",
   "execution_count": null,
   "metadata": {},
   "outputs": [],
   "source": [
    "train_data.data = scaler.fit_transform(train_data.data)\n"
   ]
  },
  {
   "cell_type": "code",
   "execution_count": 222,
   "metadata": {},
   "outputs": [
    {
     "data": {
      "text/plain": [
       "array([['hol', '1'],\n",
       "       ['hol', '2'],\n",
       "       ['hol', '3'],\n",
       "       ['hol', '5'],\n",
       "       ['QUE TAL', '1'],\n",
       "       ['QUE TAL', '2'],\n",
       "       ['QUE TAL', '3'],\n",
       "       ['QUE TAL', '5']], dtype='<U11')"
      ]
     },
     "execution_count": 222,
     "metadata": {},
     "output_type": "execute_result"
    }
   ],
   "source": [
    "a1 = ['hol','QUE TAL']\n",
    "a2 = [1,2,3,5]\n",
    "np.array(np.meshgrid(a1,a2)).T.reshape((-1,2))"
   ]
  }
 ],
 "metadata": {
  "kernelspec": {
   "display_name": "Python 3.8.8 ('tfg')",
   "language": "python",
   "name": "python3"
  },
  "language_info": {
   "codemirror_mode": {
    "name": "ipython",
    "version": 3
   },
   "file_extension": ".py",
   "mimetype": "text/x-python",
   "name": "python",
   "nbconvert_exporter": "python",
   "pygments_lexer": "ipython3",
   "version": "3.8.8"
  },
  "orig_nbformat": 4,
  "vscode": {
   "interpreter": {
    "hash": "288ff6fe8157f43ba3e1fb4cfa0011490e9beb907b54ad0d71ae70a61946bdb3"
   }
  }
 },
 "nbformat": 4,
 "nbformat_minor": 2
}
