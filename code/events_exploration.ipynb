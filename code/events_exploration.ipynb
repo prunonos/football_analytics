{
 "cells": [
  {
   "cell_type": "code",
   "execution_count": null,
   "id": "cfbb1860",
   "metadata": {},
   "outputs": [],
   "source": [
    "import os\n",
    "import pandas as pd\n",
    "import numpy as np\n",
    "import json\n",
    "import seaborn as sns\n",
    "import funcTest as ft\n",
    "import funcData as fd"
   ]
  },
  {
   "cell_type": "code",
   "execution_count": null,
   "id": "c2e31a8e",
   "metadata": {},
   "outputs": [],
   "source": [
    "path_rawdata = 'F://TFG//datasets/raw_datasets//'\n",
    "path_train = 'F://TFG//datasets//data_train//'\n",
    "path = 'F:/TFG/datasets/nature-dataset/'\n",
    "\n",
    "\n",
    "rawdata = pd.read_csv(path_rawdata+'rawDB.csv')\n",
    "footdata = pd.read_csv(path_rawdata+'fdataDB.csv')\n",
    "partidos_raw = pd.read_json(path_rawdata+'RAW_partidos.json')"
   ]
  },
  {
   "cell_type": "markdown",
   "id": "c7eb2012",
   "metadata": {},
   "source": [
    "### DATOS EN BRUTO DE NATURE"
   ]
  },
  {
   "cell_type": "code",
   "execution_count": null,
   "id": "9c549273",
   "metadata": {
    "scrolled": true
   },
   "outputs": [],
   "source": [
    "rawdata[:5]"
   ]
  },
  {
   "cell_type": "markdown",
   "id": "44b444f5",
   "metadata": {},
   "source": [
    "### EXPLORACION"
   ]
  },
  {
   "cell_type": "code",
   "execution_count": null,
   "id": "690294e5",
   "metadata": {},
   "outputs": [],
   "source": [
    "match = rawdata.loc[0]\n",
    "match"
   ]
  },
  {
   "cell_type": "code",
   "execution_count": null,
   "id": "130db12f",
   "metadata": {},
   "outputs": [],
   "source": [
    "formacion = match['formation_home']"
   ]
  },
  {
   "cell_type": "code",
   "execution_count": null,
   "id": "b045e424",
   "metadata": {},
   "outputs": [],
   "source": [
    "path = 'F:/TFG/datasets/nature-dataset/'\n",
    "\n",
    "matches={}\n",
    "nations = ['Italy','England','Germany','France','Spain','European_Championship','World_Cup']\n",
    "for nation in nations:\n",
    "    with open(path + '/matches/matches_%s.json' %nation) as json_data:\n",
    "        matches[nation] = json.load(json_data)\n",
    "        \n",
    "# loading the events data\n",
    "events={}\n",
    "nations = ['Italy','England','Germany','France','Spain','European_Championship','World_Cup']\n",
    "for nation in nations:\n",
    "    with open(path + '/events/events_%s.json' %nation) as json_data:\n",
    "        events[nation] = json.load(json_data)"
   ]
  },
  {
   "cell_type": "code",
   "execution_count": null,
   "id": "95c99059",
   "metadata": {},
   "outputs": [],
   "source": [
    "# loading the players data\n",
    "path = 'F:/TFG/datasets/nature-dataset/'\n",
    "\n",
    "players={}\n",
    "with open(path + '/players.json',encoding='utf-8') as json_data:\n",
    "    players = json.load(json_data)\n",
    "    \n",
    "# loading the teams data\n",
    "teams={}\n",
    "with open(path + '/teams.json',encoding='utf-8') as json_data:\n",
    "    teams = json.load(json_data)"
   ]
  },
  {
   "cell_type": "code",
   "execution_count": null,
   "id": "3abb1b11",
   "metadata": {},
   "outputs": [],
   "source": [
    "partidos = []\n",
    "eventos  = []\n",
    "\n",
    "paises = ['Italy','England','Germany','France','Spain']\n",
    "\n",
    "for pais in paises:\n",
    "    for m in matches[pais]:\n",
    "        partidos.append(m)\n",
    "    for e in events[pais]:\n",
    "        eventos.append(e)\n",
    "        \n",
    "partidos = np.array(partidos,dtype=dict)\n",
    "eventos = np.array(eventos,dtype=dict)\n",
    "partidos.shape"
   ]
  },
  {
   "cell_type": "code",
   "execution_count": null,
   "id": "9387630f",
   "metadata": {},
   "outputs": [],
   "source": [
    "tags = pd.read_csv(path+'tags2name.csv')\n",
    "tags.set_index('Tag',inplace=True,drop=True)"
   ]
  },
  {
   "cell_type": "code",
   "execution_count": null,
   "id": "42edf5cb",
   "metadata": {
    "scrolled": false
   },
   "outputs": [],
   "source": [
    "# eventosDF = pd.DataFrame(list(eventos),columns=list(eventos[0].keys()))\n",
    "eventosDF = pd.read_json(path_rawdata+'eventos_raw.json')\n",
    "eventosDF.set_index('id',inplace=True)\n",
    "teams = pd.read_csv(path_rawdata+'teams.csv',index_col='wyId',delimiter=';')\n",
    "players = pd.read_csv(path_rawdata+'players.csv',index_col='wyId',delimiter=';')"
   ]
  },
  {
   "cell_type": "code",
   "execution_count": null,
   "id": "51ef3c3b",
   "metadata": {},
   "outputs": [],
   "source": [
    "eventos_dict = list(set(zip(eventosDF.eventId,eventosDF.eventName)))\n",
    "eventos_dict = {v:k for k,v in eventos_dict}\n",
    "eventos_dict"
   ]
  },
  {
   "cell_type": "code",
   "execution_count": null,
   "id": "52b119c1",
   "metadata": {},
   "outputs": [],
   "source": [
    "passes = eventosDF[eventosDF.eventId == 8]\n",
    "shots = eventosDF[eventosDF.eventId == eventos_dict['Shot']]"
   ]
  },
  {
   "cell_type": "code",
   "execution_count": null,
   "id": "ca54bcde",
   "metadata": {},
   "outputs": [],
   "source": [
    "shots"
   ]
  },
  {
   "cell_type": "markdown",
   "id": "778e3885",
   "metadata": {},
   "source": [
    "#### VAMOS A PROBAR CON ESTADISTICAS DE UN EQUIPO\n",
    "\n",
    "En este caso usaremos el Atalanta como modo de ejemplo"
   ]
  },
  {
   "cell_type": "code",
   "execution_count": null,
   "id": "61ba9d8e",
   "metadata": {
    "scrolled": true
   },
   "outputs": [],
   "source": [
    "teams.name[3172]"
   ]
  },
  {
   "cell_type": "code",
   "execution_count": null,
   "id": "cec82afe",
   "metadata": {
    "scrolled": false
   },
   "outputs": [],
   "source": [
    "shots_atalanta = shots[shots.teamId == 3172] # atalanta = 3172\n",
    "passes_atalanta = passes[passes.teamId == 3172]"
   ]
  },
  {
   "cell_type": "markdown",
   "id": "81436e55",
   "metadata": {},
   "source": [
    "### Vamos a ver por ejemplo los jugadores con más disparos:"
   ]
  },
  {
   "cell_type": "code",
   "execution_count": null,
   "id": "744e0b8a",
   "metadata": {},
   "outputs": [],
   "source": [
    "shots_atalanta['counter'] = np.ones(len(shots_atalanta))\n",
    "shots_atalanta.columns"
   ]
  },
  {
   "cell_type": "code",
   "execution_count": null,
   "id": "e428da73",
   "metadata": {},
   "outputs": [],
   "source": [
    "top5_shooters_atalanta = shots_atalanta.groupby('playerId').sum('counter').sort_values('counter',ascending=0)[:5]\n",
    "top5_shooters_atalanta"
   ]
  },
  {
   "cell_type": "code",
   "execution_count": null,
   "id": "fe60ff3a",
   "metadata": {
    "scrolled": true
   },
   "outputs": [],
   "source": [
    "for p in top5_shooters_atalanta.itertuples():\n",
    "    pl = players.loc[p.Index]\n",
    "    print(pl.firstName + ' ' + pl.lastName + ' -> ' + str(p.counter))"
   ]
  },
  {
   "cell_type": "markdown",
   "id": "7a31f026",
   "metadata": {},
   "source": [
    "#### Jugadores con más porcentaje de acierto de disparo (en Atalanta)"
   ]
  },
  {
   "cell_type": "code",
   "execution_count": null,
   "id": "6123ceb0",
   "metadata": {
    "scrolled": true
   },
   "outputs": [],
   "source": [
    "list(shots_atalanta[:20].tags)"
   ]
  },
  {
   "cell_type": "code",
   "execution_count": null,
   "id": "2957ea49",
   "metadata": {},
   "outputs": [],
   "source": [
    "acc = [int('1801' in tag) for tag in list(shots_atalanta.tags)]"
   ]
  },
  {
   "cell_type": "code",
   "execution_count": null,
   "id": "4dd74194",
   "metadata": {},
   "outputs": [],
   "source": [
    "shots_atalanta['accuracy'] = acc"
   ]
  },
  {
   "cell_type": "code",
   "execution_count": null,
   "id": "cd24eb6b",
   "metadata": {},
   "outputs": [],
   "source": [
    "top5_acc_atalanta = shots_atalanta.groupby('playerId').mean('accuracy').sort_values('accuracy',ascending=0)[:5]\n",
    "top5_acc_atalanta"
   ]
  },
  {
   "cell_type": "code",
   "execution_count": null,
   "id": "20a6c4be",
   "metadata": {
    "scrolled": true
   },
   "outputs": [],
   "source": [
    "for p in top5_acc_atalanta.itertuples():\n",
    "    pl = players.loc[p.Index]\n",
    "    print(pl.firstName + ' ' + pl.lastName + ' -> ' + str(p.accuracy))"
   ]
  },
  {
   "cell_type": "markdown",
   "id": "79c9a0dc",
   "metadata": {},
   "source": [
    "#### Acierto disparos total del equipo (Atalanta)"
   ]
  },
  {
   "cell_type": "code",
   "execution_count": null,
   "id": "ac9ab019",
   "metadata": {},
   "outputs": [],
   "source": [
    "print(f'Acierto total del equipo: {np.array(acc).mean()}')"
   ]
  },
  {
   "cell_type": "markdown",
   "id": "9b16e45e",
   "metadata": {},
   "source": [
    "# DATASET EVENTOS"
   ]
  },
  {
   "cell_type": "code",
   "execution_count": null,
   "id": "50e2e9b8",
   "metadata": {
    "scrolled": true
   },
   "outputs": [],
   "source": [
    "# matches = pd.read_csv(path_rawdata+'Nature_wStatsDB_v2.csv',index_col='dateutc')\n",
    "# matches.index = pd.to_datetime(matches.index)\n",
    "# matches[:4]\n",
    "\n",
    "matches = pd.read_csv(path_rawdata+'Nature_wStatsDB_v2.csv')\n",
    "matches.set_index('wyId',inplace=True)\n",
    "matches[:4]"
   ]
  },
  {
   "cell_type": "code",
   "execution_count": null,
   "id": "24a4dc0b",
   "metadata": {},
   "outputs": [],
   "source": [
    "matches.dateutc = pd.to_datetime(matches.dateutc)"
   ]
  },
  {
   "cell_type": "markdown",
   "id": "8a7b5bed",
   "metadata": {},
   "source": [
    "Vamos a limpiar el dataset de disparos:\n",
    "- Posiciones: en un array [y0,x0,y1,x1]\n",
    "- Accuracy: 1 o 0\n",
    "- Goal: 1 o 0"
   ]
  },
  {
   "cell_type": "code",
   "execution_count": null,
   "id": "3fe84232",
   "metadata": {
    "scrolled": true
   },
   "outputs": [],
   "source": [
    "# posiciones y tags en formato array\n",
    "shots['positions'] = [[p.positions[0]['y'],p.positions[0]['x'],p.positions[1]['y'],p.positions[1]['y'],] for p in shots.itertuples()]\n",
    "shots['tags'] = np.array([[t['id'] for t in s.tags] for s in shots.itertuples()])"
   ]
  },
  {
   "cell_type": "code",
   "execution_count": null,
   "id": "14539b35",
   "metadata": {
    "scrolled": true
   },
   "outputs": [],
   "source": [
    "posDF = pd.DataFrame(shots[\"positions\"].to_list(), columns=['y0', 'x0','y1','x1'])\n",
    "posDF.shape"
   ]
  },
  {
   "cell_type": "code",
   "execution_count": null,
   "id": "66ce676d",
   "metadata": {},
   "outputs": [],
   "source": [
    "shots.reset_index(inplace=True)"
   ]
  },
  {
   "cell_type": "code",
   "execution_count": null,
   "id": "74dda81e",
   "metadata": {},
   "outputs": [],
   "source": [
    "posDF"
   ]
  },
  {
   "cell_type": "code",
   "execution_count": null,
   "id": "0267ef0e",
   "metadata": {},
   "outputs": [],
   "source": [
    "for c in list(posDF.columns):\n",
    "    shots[c] = posDF[c]"
   ]
  },
  {
   "cell_type": "code",
   "execution_count": null,
   "id": "5739f097",
   "metadata": {},
   "outputs": [],
   "source": [
    "shots = shots.drop('positions',axis=1)"
   ]
  },
  {
   "cell_type": "code",
   "execution_count": null,
   "id": "3ec053b1",
   "metadata": {},
   "outputs": [],
   "source": [
    "shots['accuracy'] = [int(1801 in t) for t in shots.tags]\n",
    "shots['goal'] = [int(101 in t) for t in shots.tags]"
   ]
  },
  {
   "cell_type": "code",
   "execution_count": null,
   "id": "0771937c",
   "metadata": {},
   "outputs": [],
   "source": [
    "shots"
   ]
  },
  {
   "cell_type": "code",
   "execution_count": null,
   "id": "ed560ace",
   "metadata": {},
   "outputs": [],
   "source": [
    "# shots.to_json(path_rawdata+'shots.json')\n",
    "shots = pd.read_json(path_rawdata+'shots.json')"
   ]
  },
  {
   "cell_type": "markdown",
   "id": "69b19d7b",
   "metadata": {},
   "source": [
    "#### Funcion que selecciona los partidos del ultimo mes"
   ]
  },
  {
   "cell_type": "code",
   "execution_count": null,
   "id": "b963d7a5",
   "metadata": {},
   "outputs": [],
   "source": [
    "def n_matches(db,n):\n",
    "    ..."
   ]
  },
  {
   "cell_type": "markdown",
   "id": "403741a1",
   "metadata": {},
   "source": [
    "### 5 jugadores más disparan cada equipo"
   ]
  },
  {
   "cell_type": "markdown",
   "id": "f9b8c8ec",
   "metadata": {},
   "source": [
    "De cada partido calculamos los 5 jugadores que mas disparan. Hacemos un dataframe con una columna donde salgan esos 5 jugadores.\n",
    "Más tarde, para cada equipo podemos sacar los 5 jugadores que más aparezcan en cada lista, en cada partido.\n",
    "\n",
    "Convendria asignar pesos, ya que alomejor un jugador abarca el 40% de los disparos de un equipo, y por lo tanto no tiene la misma importancia que el resto de los 5 jugadores que más disparan.\n",
    "A lo mejor podriamos para ello sacar la distribucion de disparos de los jugadores, para calcular el peso de cada jugador.\n",
    "\n",
    "P.e. La calidad (en cuanto a disparos) de un jugador puede depender de cuantos disparos x partido\n",
    "\n",
    "Podriamos por ejemplo representar en una gráfica donde x= # jugadores importantes (mas disparan) que le faltan al equipo, y donde y = # goles marcados o resultado (v-e-d) p.e."
   ]
  },
  {
   "cell_type": "code",
   "execution_count": null,
   "id": "2b0a4c6b",
   "metadata": {},
   "outputs": [],
   "source": [
    "shots[-3:]"
   ]
  },
  {
   "cell_type": "markdown",
   "id": "3fb34b44",
   "metadata": {},
   "source": [
    "### Estadisticas por equipo de disparos por partido."
   ]
  },
  {
   "cell_type": "markdown",
   "id": "33b3d8e8",
   "metadata": {},
   "source": [
    "Resumen de toda la temporada:"
   ]
  },
  {
   "cell_type": "code",
   "execution_count": null,
   "id": "291ba164",
   "metadata": {},
   "outputs": [],
   "source": [
    "team_stats = shots.groupby('teamId').agg(\n",
    "    y0=('y0','mean'),x0=('x0','mean'),y1=('y1','mean'),x1=('x1','mean'),\n",
    "    shots_count=('accuracy','count'),acc_count=('accuracy','sum'),\n",
    "    acc_avg=('accuracy','mean'),\n",
    "    goal_count=('goal','sum'),goal_avg=('goal','mean'),\n",
    ")\n",
    "team_stats.sort_values('goal_count',ascending=False)"
   ]
  },
  {
   "cell_type": "code",
   "execution_count": null,
   "id": "e4d55e0a",
   "metadata": {},
   "outputs": [],
   "source": [
    "# hay algunos casos concretos que solo un equipo realiza disparos durante un partido\n",
    "np.unique(shots.set_index('matchId').loc[2576281].teamId)"
   ]
  },
  {
   "cell_type": "code",
   "execution_count": null,
   "id": "67ad2441",
   "metadata": {},
   "outputs": [],
   "source": [
    "shots_match = shots.groupby(['matchId','teamId']).agg(\n",
    "    y0=('y0','mean'),x0=('x0','mean'),\n",
    "    acc_avg=('accuracy','mean'),\n",
    "    goal_avg=('goal','mean'),\n",
    ")\n",
    "\n",
    "shots_match"
   ]
  },
  {
   "cell_type": "code",
   "execution_count": null,
   "id": "cf23ee3d",
   "metadata": {},
   "outputs": [],
   "source": [
    "sm_aux1 = shots_match.reset_index()[::2]\n",
    "sm_aux2 = shots_match.reset_index()[1::2]"
   ]
  },
  {
   "cell_type": "code",
   "execution_count": null,
   "id": "f94f7c95",
   "metadata": {},
   "outputs": [],
   "source": [
    "shots_match = pd.merge(sm_aux1,sm_aux2,on='matchId',how='outer',suffixes=('_sh_H','_sh_A')).set_index('matchId')\n",
    "shots_match\n"
   ]
  },
  {
   "cell_type": "code",
   "execution_count": null,
   "id": "734d65ae",
   "metadata": {},
   "outputs": [],
   "source": [
    "shots_match[shots_match.isna().any(axis=1)].reset_index()"
   ]
  },
  {
   "cell_type": "code",
   "execution_count": null,
   "id": "b90dab07",
   "metadata": {},
   "outputs": [],
   "source": [
    "matches['matchId'] = matches.index.to_list()\n",
    "# matches.drop('wyId',axis=1,inplace=True)"
   ]
  },
  {
   "cell_type": "code",
   "execution_count": null,
   "id": "8f57ad6e",
   "metadata": {},
   "outputs": [],
   "source": [
    "for row in shots_match[shots_match.isna().any(axis=1)].reset_index().itertuples():\n",
    "    shots_match.loc[row.matchId].teamId_sh1 = matches.loc[row.matchId].teamId_home\n",
    "    shots_match.loc[row.matchId].teamId_sh2 = matches.loc[row.matchId].teamId_away"
   ]
  },
  {
   "cell_type": "code",
   "execution_count": null,
   "id": "19f7532c",
   "metadata": {},
   "outputs": [],
   "source": [
    "shots_match[shots_match.isna().any(axis=1)].reset_index()"
   ]
  },
  {
   "cell_type": "markdown",
   "id": "d1bf24f8",
   "metadata": {},
   "source": [
    "En vez de eliminar las filas con valores NaN vamos a sustituir los valores con el ID del equipo, pero los valores de y0 x0 y de accuracy lo dejamos a NaN\n",
    "Cuando se utilice en un modelo como input habrá que filtrar dichos valores! Sin embargo, para crear los datos de los partidos posteriores si que es útil tenerlo."
   ]
  },
  {
   "cell_type": "code",
   "execution_count": null,
   "id": "e2187470",
   "metadata": {},
   "outputs": [],
   "source": []
  },
  {
   "cell_type": "code",
   "execution_count": null,
   "id": "ac53e5de",
   "metadata": {},
   "outputs": [],
   "source": [
    "matches_stats = pd.merge(matches.reset_index(),shots_match.reset_index(),on='matchId',how='inner')\n",
    "matches_stats.set_index('matchId',inplace=True, drop=True)\n",
    "matches_stats.drop(['teamId_sh_H', 'teamId_sh_A'],axis=1,inplace=True)"
   ]
  },
  {
   "cell_type": "code",
   "execution_count": null,
   "id": "6c3bb9cf",
   "metadata": {},
   "outputs": [],
   "source": [
    "matches_stats[matches_stats.isna().any(axis=1)]"
   ]
  },
  {
   "cell_type": "code",
   "execution_count": null,
   "id": "574075ca",
   "metadata": {},
   "outputs": [],
   "source": [
    "# matches_stats.to_csv(path_rawdata+'match_stats.csv',sep=';')\n",
    "matches_stats = pd.read_csv(path_rawdata+'match_stats.csv',sep=';',index_col='matchId')\n",
    "# matches_stats.drop(['teamId_sh1', 'teamId_sh2'],axis=1,inplace=True)\n",
    "matches_stats[:3]"
   ]
  },
  {
   "cell_type": "code",
   "execution_count": null,
   "id": "a43c79ac",
   "metadata": {},
   "outputs": [],
   "source": [
    "matches_stats.columns"
   ]
  },
  {
   "cell_type": "markdown",
   "id": "b8daa10b",
   "metadata": {},
   "source": [
    "#### Sacamos los jugadores con mas disparos en un partido"
   ]
  },
  {
   "cell_type": "code",
   "execution_count": null,
   "id": "87d59633",
   "metadata": {},
   "outputs": [],
   "source": [
    "n = 4\n",
    "mtc = 2576143\n",
    "tid = matches.loc[mtc].teamId_home\n",
    "mask_time = (matches.loc[mtc].dateutc > matches.dateutc)\n",
    "mask_team_h = (matches.teamId_home == tid)\n",
    "mask = mask_time & mask_team_h\n",
    "# mask_team_a = (matches.teamId_away == tid)\n",
    "\n",
    "# TODO: hacer loop que recorra cada partido, y hacer el proceso para los dos equipos de cada partido"
   ]
  },
  {
   "cell_type": "code",
   "execution_count": null,
   "id": "0a58533d",
   "metadata": {},
   "outputs": [],
   "source": [
    "partidos_anteriores = matches[mask][:n].index.to_list()"
   ]
  },
  {
   "cell_type": "code",
   "execution_count": null,
   "id": "4c50812f",
   "metadata": {},
   "outputs": [],
   "source": [
    "players_shots = shots[shots.matchId == partidos_anteriores[0]].playerId.to_numpy()\n",
    "np.argsort(np.bincount(players_shots))[::-1][:4]"
   ]
  },
  {
   "cell_type": "code",
   "execution_count": null,
   "id": "c81cfcce",
   "metadata": {},
   "outputs": [],
   "source": [
    "def ult_partidos(npj,nj=4):\n",
    "\n",
    "    partidos_h = {}\n",
    "    partidos_a = {}\n",
    "\n",
    "    for mtc in matches.index.to_list():\n",
    "        tid_h, tid_a = matches.loc[mtc].teamId_home, matches.loc[mtc].teamId_away\n",
    "        mask_time = (matches.loc[mtc].dateutc > matches.dateutc)\n",
    "        mask_team_h, mask_team_a = (matches.teamId_home == tid_h), (matches.teamId_away == tid_a)\n",
    "        mask_h, mask_a = mask_time & mask_team_h, mask_time & mask_team_a\n",
    "        # hecho para que solo coja los ultimos partidos en casa si el partido actual es en casa. Igual para visitante.\n",
    "\n",
    "\n",
    "        if sum(mask_h) >= npj:\n",
    "            partidos_anteriores_h = (matches[mask_h][:npj].index).to_numpy()\n",
    "            partidos_anteriores_a = (matches[mask_a][:npj].index).to_numpy()\n",
    "            # # \n",
    "            # # calcular top shooters:\n",
    "            # matches_stats.loc[mtc].top_shooters_h = np.argsort(np.bincount(shots[shots.matchId.isin(partidos_anteriores_h)].playerId))[::-1][:nj]\n",
    "            # matches_stats.loc[mtc].top_shooters_a = np.argsort(np.bincount(shots[shots.matchId.isin(partidos_anteriores_a)].playerId))[::-1][:nj]\n",
    "        else:\n",
    "            partidos_anteriores_h, partidos_anteriores_a = np.nan, np.nan\n",
    "\n",
    "        partidos_h[mtc], partidos_a[mtc] = partidos_anteriores_h, partidos_anteriores_a\n",
    "\n",
    "        # jugadores mas disparos\n",
    "\n",
    "    return partidos_h, partidos_a"
   ]
  },
  {
   "cell_type": "code",
   "execution_count": null,
   "id": "84eb371b",
   "metadata": {},
   "outputs": [],
   "source": [
    "matches[matches.teamId_home == 3162][:10]"
   ]
  },
  {
   "cell_type": "code",
   "execution_count": null,
   "id": "9829a057",
   "metadata": {},
   "outputs": [],
   "source": [
    "partidos_h, partidos_a = ult_partidos(5,4)"
   ]
  },
  {
   "cell_type": "code",
   "execution_count": null,
   "id": "3a3acac5",
   "metadata": {},
   "outputs": [],
   "source": [
    "np.argsort(np.bincount(shots[shots.matchId.isin(partidos_h[2576335])].playerId))[::-1][:4]"
   ]
  },
  {
   "cell_type": "code",
   "execution_count": null,
   "id": "c0cdb5c2",
   "metadata": {},
   "outputs": [],
   "source": [
    "matches_stats.shape"
   ]
  },
  {
   "cell_type": "code",
   "execution_count": null,
   "id": "747bf559",
   "metadata": {},
   "outputs": [],
   "source": [
    "matches.shape"
   ]
  },
  {
   "cell_type": "markdown",
   "id": "9bb260f5",
   "metadata": {},
   "source": [
    "### Repetimos lo mismo pero con los pases"
   ]
  },
  {
   "cell_type": "code",
   "execution_count": null,
   "id": "7211bbe6",
   "metadata": {},
   "outputs": [],
   "source": [
    "passes[:3]"
   ]
  },
  {
   "cell_type": "code",
   "execution_count": null,
   "id": "842e6c34",
   "metadata": {},
   "outputs": [],
   "source": [
    "# posiciones y tags en formato array\n",
    "passes['positions'] = [[p.positions[0]['y'],p.positions[0]['x'],p.positions[1]['y'],p.positions[1]['y'],] for p in passes.itertuples()]\n",
    "passes['tags'] = [[t['id'] for t in s.tags] for s in passes.itertuples()]"
   ]
  },
  {
   "cell_type": "code",
   "execution_count": null,
   "id": "dead0def",
   "metadata": {},
   "outputs": [],
   "source": [
    "posDF = pd.DataFrame(passes[\"positions\"].to_list(), columns=['y0', 'x0','y1','x1'])\n",
    "print(posDF.shape)\n",
    "passes.reset_index(inplace=True)\n",
    "posDF"
   ]
  },
  {
   "cell_type": "code",
   "execution_count": null,
   "id": "5b46c350",
   "metadata": {},
   "outputs": [],
   "source": [
    "for c in list(posDF.columns):\n",
    "    passes[c] = posDF[c]"
   ]
  },
  {
   "cell_type": "code",
   "execution_count": null,
   "id": "f9d7a645",
   "metadata": {},
   "outputs": [],
   "source": [
    "subEventDictPass = { id:name for id,name in zip(np.unique(passes.subEventId),np.unique(passes.subEventName)) }\n",
    "subEventDictPass"
   ]
  },
  {
   "cell_type": "code",
   "execution_count": null,
   "id": "94bc2332",
   "metadata": {},
   "outputs": [],
   "source": [
    "# passes = passes.drop('positions',axis=1)\n",
    "passes[passes.subEventId == 86]"
   ]
  },
  {
   "cell_type": "code",
   "execution_count": null,
   "id": "63b45e11",
   "metadata": {},
   "outputs": [],
   "source": [
    "passes['accuracy'] = np.array([(1801 in t) for t in passes.tags])*1\n",
    "passes['keyPass'] = np.array([(302 in t) for t in passes.tags])*1"
   ]
  },
  {
   "cell_type": "code",
   "execution_count": null,
   "id": "997c4b48",
   "metadata": {},
   "outputs": [],
   "source": [
    "passes"
   ]
  },
  {
   "cell_type": "code",
   "execution_count": null,
   "id": "83e33cd8",
   "metadata": {},
   "outputs": [],
   "source": [
    "# passes.to_json(path_rawdata+'passes.json')\n",
    "passes = pd.read_json(path_rawdata+'passes.json')"
   ]
  },
  {
   "cell_type": "code",
   "execution_count": null,
   "id": "badf108e",
   "metadata": {},
   "outputs": [],
   "source": [
    "passes_match = passes.groupby(['matchId','teamId']).agg(\n",
    "    y0=('y0','mean'),x0=('x0','mean'),\n",
    "    y1=('y1','mean'),x1=('x1','mean'),\n",
    "    acc_avg=('accuracy','mean'),\n",
    "    keypass=('keyPass','sum'),\n",
    ")\n",
    "\n",
    "passes_match"
   ]
  },
  {
   "cell_type": "code",
   "execution_count": null,
   "id": "fa4d6687",
   "metadata": {},
   "outputs": [],
   "source": [
    "sm_aux1 = passes_match.reset_index()[::2]\n",
    "sm_aux2 = passes_match.reset_index()[1::2]"
   ]
  },
  {
   "cell_type": "code",
   "execution_count": null,
   "id": "7c1fffe6",
   "metadata": {},
   "outputs": [],
   "source": [
    "passes_match = pd.merge(sm_aux1,sm_aux2,on='matchId',how='outer',suffixes=('_ps_H','_ps_A')).set_index('matchId')\n",
    "passes_match"
   ]
  },
  {
   "cell_type": "code",
   "execution_count": null,
   "id": "57c80c99",
   "metadata": {},
   "outputs": [],
   "source": [
    "passes_match[passes_match.isna().any(axis=1)].reset_index()\n",
    "\n",
    "# no hay ningun valor indefinido NaN"
   ]
  },
  {
   "cell_type": "code",
   "execution_count": null,
   "id": "c57960d0",
   "metadata": {},
   "outputs": [],
   "source": [
    "matches_stats = pd.merge(matches_stats,passes_match.reset_index(),on='matchId',how='inner')\n",
    "# matches_stats.set_index('matchId',inplace=True, drop=True)\n",
    "matches_stats.drop(['teamId_ps_H', 'teamId_ps_A'],axis=1,inplace=True)"
   ]
  },
  {
   "cell_type": "code",
   "execution_count": null,
   "metadata": {},
   "outputs": [],
   "source": [
    "matches_stats.columns"
   ]
  },
  {
   "cell_type": "markdown",
   "id": "77bd7c64",
   "metadata": {},
   "source": [
    "## Total minutos acumulados de la alineacion"
   ]
  },
  {
   "cell_type": "markdown",
   "id": "671e059e",
   "metadata": {},
   "source": [
    "Sumamos los minutos jugados en los ultimos N partidos por los jugadores que componen la alineacion inicial del partido"
   ]
  },
  {
   "cell_type": "markdown",
   "id": "6281d9aa",
   "metadata": {},
   "source": [
    "### Crear tabla de las Formaciones"
   ]
  },
  {
   "cell_type": "code",
   "execution_count": null,
   "id": "30aa9542",
   "metadata": {},
   "outputs": [],
   "source": [
    "partidos_raw[:3].teamsData"
   ]
  },
  {
   "cell_type": "markdown",
   "id": "3cb74ed0",
   "metadata": {},
   "source": [
    "Vamos a hacer un DataFrame que indique los IDs de los jugadores que juegan y otro DataFrame con los minutos.\n",
    "Tendremos dos DF que cada posicion concuerda con el jugador y tiempo de juego"
   ]
  },
  {
   "cell_type": "code",
   "execution_count": null,
   "id": "85edbc56",
   "metadata": {},
   "outputs": [],
   "source": [
    "# partidos_raw.set_index('wyId',inplace=True)"
   ]
  },
  {
   "cell_type": "code",
   "execution_count": null,
   "id": "40024a10",
   "metadata": {},
   "outputs": [],
   "source": [
    "print(partidos_raw.columns)\n",
    "assert matches.reset_index().wyId.all() == partidos_raw.reset_index().wyId.all()"
   ]
  },
  {
   "cell_type": "markdown",
   "id": "3e27b8ef",
   "metadata": {},
   "source": [
    "Creacion de las dos tablas"
   ]
  },
  {
   "cell_type": "code",
   "execution_count": null,
   "id": "ebe23af4",
   "metadata": {},
   "outputs": [],
   "source": [
    "x = {'a': 1, 'b': 2}\n",
    "y = {'d': 10, 'c': 11}\n",
    "\n",
    "z = {**x, **y}\n",
    "list(z.values())"
   ]
  },
  {
   "cell_type": "code",
   "execution_count": null,
   "id": "43a278f0",
   "metadata": {},
   "outputs": [],
   "source": [
    "playerIds = np.array(players.index)"
   ]
  },
  {
   "cell_type": "code",
   "execution_count": null,
   "id": "d98b48c7",
   "metadata": {},
   "outputs": [],
   "source": [
    "players_match_mins = {pId:{} for pId in playerIds}    # creamos un dict vacio para cada jugador"
   ]
  },
  {
   "cell_type": "code",
   "execution_count": null,
   "id": "e9061041",
   "metadata": {},
   "outputs": [],
   "source": [
    "matches"
   ]
  },
  {
   "cell_type": "code",
   "execution_count": null,
   "id": "4549ed87",
   "metadata": {},
   "outputs": [],
   "source": [
    "indice          = [] # idmatch_idteam\n",
    "players_id_mins = []\n",
    "players_mins    = []\n",
    "\n",
    "# tambien estamos interesados en mantener un diccionario con todos los minutos que han jugado cada jugador y en que partidos\n",
    "players_match_mins = {pId:{} for pId in playerIds}    # creamos un dict vacio para cada jugador\n",
    "\n",
    "for m in matches.reset_index().wyId:\n",
    "    form_info = partidos_raw.teamsData.loc[m]                                   # seleccionamos el campo de las formaciones\n",
    "    for t in list(form_info.keys()):                                            # iteramos sobre los dos equipos\n",
    "        indice.append((m,int(t)))                                               # guardamos en una lista de tuplas lo que seran las keys de la tabla (partido,equipo)\n",
    "        form_t = form_info[t]['formation']                                      # seleccionamos la formacion de uno de los equipos\n",
    "        dict_team1 = {pl['playerId']:0 for pl in form_t['bench']}              \n",
    "        dict_team2 = {pl['playerId']:90 for pl in form_t['lineup']}\n",
    "        dict_match = {**dict_team1, **dict_team2}\n",
    "        # añadimos los minutos en el dict de los minutos de cada jugador a lo largo de la temporada\n",
    "        for pl in form_t['bench']:\n",
    "            if players_match_mins.get(pl['playerId'],-1) == -1: players_match_mins[pl['playerId']] = {}\n",
    "            players_match_mins[pl['playerId']][m] = 0\n",
    "        for pl in form_t['lineup']:\n",
    "            if players_match_mins.get(pl['playerId'],-1) == -1: players_match_mins[pl['playerId']] = {}\n",
    "            players_match_mins[pl['playerId']][m] = 90\n",
    "        # print((m,int(t)))\n",
    "        if form_t['substitutions'] != 'null':\n",
    "            for subs in form_t['substitutions']:\n",
    "                # print(subs['minute'])\n",
    "                if players_match_mins.get(subs['playerIn'],-1) != -1 and players_match_mins.get(subs['playerOut'],-1) != -1:\n",
    "                    mins = subs['minute'] if (subs['minute'] < 90) else 90\n",
    "                    dict_match[subs['playerIn']] = 90-mins\n",
    "                    players_match_mins[subs['playerIn']][m] = 90-mins  \n",
    "                    dict_match[subs['playerOut']] = dict_match[subs['playerOut']] - (90-mins)  \n",
    "                    players_match_mins[subs['playerOut']][m] = dict_match[subs['playerOut']] - (90-mins) \n",
    "                \n",
    "\n",
    "        players_id_mins.append(np.array(list(dict_match.keys())))   \n",
    "        players_mins.append(np.array(list(dict_match.values())))   \n",
    "\n",
    "players_id_mins = np.array(players_id_mins)\n",
    "players_mins = np.array(players_mins)\n"
   ]
  },
  {
   "cell_type": "code",
   "execution_count": null,
   "id": "807d1ac2",
   "metadata": {},
   "outputs": [],
   "source": [
    "players_match_mins[372752][2565608]"
   ]
  },
  {
   "cell_type": "code",
   "execution_count": null,
   "id": "559e76f5",
   "metadata": {},
   "outputs": [],
   "source": [
    "# comprobamos que todos las 3 listas tengan el mismo tamaño\n",
    "assert len(players_id_mins) == len(players_mins) == len(indice)"
   ]
  },
  {
   "cell_type": "code",
   "execution_count": null,
   "id": "517e67a1",
   "metadata": {},
   "outputs": [],
   "source": [
    "# todos los equipos deberian sumar 990 minutos en un partido entre sus jugadores\n",
    "\n",
    "for mId,mins in zip(indice,players_mins):\n",
    "    if np.sum(mins) != 990:\n",
    "        print(mId, mins)\n",
    "    # assert np.sum(m) == 11*90\n",
    "\n",
    "# PARTIDOS QUE NO CUMPLEN LOS MINUTOS:\n",
    "# (2575965, 3204) [ 0  0  0  0  0  0  0  0  0  0  0  0 56 62 88 90 90 90 90 90 90 90 90  2] -> no estan registrados los IDs de los jugadores que entran al partido\n",
    "# (2575959, 3158) [ 0  0  0  0  0  0  0  0  0  0  0 74 81 84 90 90 90 90 90 90 90 90  6] -> no estan registrados los IDs de los jugadores que entran al partido"
   ]
  },
  {
   "cell_type": "code",
   "execution_count": null,
   "id": "cd3786cb",
   "metadata": {},
   "outputs": [],
   "source": [
    "# partidos_raw.loc[2575959].teamsData"
   ]
  },
  {
   "cell_type": "code",
   "execution_count": null,
   "id": "f6cd11f0",
   "metadata": {},
   "outputs": [],
   "source": [
    "indice_list = np.array(indice)\n",
    "indice_list"
   ]
  },
  {
   "cell_type": "code",
   "execution_count": null,
   "id": "3a890b3b",
   "metadata": {},
   "outputs": [],
   "source": [
    "# vamos a crear un dataframe con dichos arrays\n",
    "\n",
    "players_mins_DF = pd.DataFrame({'matchesId': indice_list[:,0], 'teamsId': indice_list[:,1], 'players_id': players_id_mins, 'players_min': players_mins})\n",
    "players_mins_DF.set_index(['matchesId','teamsId'],drop=True,inplace=True)\n",
    "players_mins_DF"
   ]
  },
  {
   "cell_type": "code",
   "execution_count": null,
   "id": "39c5366b",
   "metadata": {},
   "outputs": [],
   "source": [
    "players_mins_DF.loc[(2576281, 3173)]"
   ]
  },
  {
   "cell_type": "code",
   "execution_count": null,
   "id": "6a3fb2a8",
   "metadata": {},
   "outputs": [],
   "source": [
    "partidos_raw.loc[2576281]"
   ]
  },
  {
   "cell_type": "code",
   "execution_count": null,
   "id": "357a8143",
   "metadata": {},
   "outputs": [],
   "source": [
    "print(players_match_mins[393228].values())\n",
    "print(len(players_match_mins[393228].keys()))\n"
   ]
  },
  {
   "cell_type": "markdown",
   "id": "9fa42f9f",
   "metadata": {},
   "source": [
    "## Vector de caracteristicas para cada equipo, solo teniendo en cuenta los jugadores de la alineacion\n",
    "\n",
    "- Features defensivas -> tackles, fouls, interception, clearances...\n",
    "- Features portero -> saves attempts\n",
    "- Features ataque -> smart passes, cross passes, duels\n",
    "- Features generales -> missed balls, time loss,  "
   ]
  },
  {
   "cell_type": "markdown",
   "id": "37560b04",
   "metadata": {},
   "source": [
    "Vamos a crear estadisticas de cada equipo en cada partido, partiendo de los jugadores del lineup.\n",
    "\n",
    "Evaluaremos:\n",
    "- Estadisticas como valor absoluto -> i.e. # smart passes\n",
    "- Estadisticas por minutos jugados (sin weighted) -> i.e. # smart passes / # minutos jugados\n",
    "- Estadisticas por minutos jugados (weighted) -> i.e. # smart passes * # minutos jugados / # minutos jugados"
   ]
  },
  {
   "cell_type": "code",
   "execution_count": null,
   "id": "200ac8e3",
   "metadata": {},
   "outputs": [],
   "source": [
    "def _2means(m,x):\n",
    "    print((1/m @ x) / np.sum(1/m), np.mean(x))\n",
    "    print()\n"
   ]
  },
  {
   "cell_type": "markdown",
   "id": "45a8d2e0",
   "metadata": {},
   "source": [
    "#### VECTOR MINUTOS X EQUIPO\n",
    "\n",
    "Vamos a crear dos vectores: uno con el numero de minutos acumulados en los últimos N partidos por los jugadores titulares del partido, el otro vector será lo mismo pero dividiendo por el numero total de minutos disputados en los ultimos N partidos (N * 90 mins).\n",
    "\n",
    "También puede ser interesante crear un vector con unos pesos que multipliquen los minutos disputados. Los pesos representarian los resultados de los últimos N partidos jugados por el jugador."
   ]
  },
  {
   "cell_type": "code",
   "execution_count": null,
   "id": "958a0067",
   "metadata": {},
   "outputs": [],
   "source": [
    "# vamos a añadir a matches_stats dos vectores (uno para cada equipo) con el % de minutos disputados de cada equipo\n",
    "\n",
    "matches_stats.head(3)"
   ]
  },
  {
   "cell_type": "code",
   "execution_count": null,
   "id": "750a535c",
   "metadata": {},
   "outputs": [],
   "source": [
    "# vamos a calcular los vectores a partir de los últimos npj partidos\n",
    "npj = 4\n",
    "partidos_h, partidos_a = ult_partidos(npj=npj)"
   ]
  },
  {
   "cell_type": "code",
   "execution_count": null,
   "id": "30f4cddf",
   "metadata": {},
   "outputs": [],
   "source": [
    "players_mins_DF.loc[2576335,3162].players_id[:-11]"
   ]
  },
  {
   "cell_type": "code",
   "execution_count": null,
   "id": "7feee2b9",
   "metadata": {},
   "outputs": [],
   "source": [
    "partidos_h[2565632]"
   ]
  },
  {
   "cell_type": "code",
   "execution_count": null,
   "id": "2aefb109",
   "metadata": {},
   "outputs": [],
   "source": [
    "# seleccionamos solo los partidos que tienen 4 partidos anteriores\n",
    "idxs = np.array(pd.DataFrame(partidos_h).T.reset_index().dropna(axis=0)['index'].to_list())\n",
    "matches_wUltPartidos = matches_stats.set_index('wyId').loc[idxs]"
   ]
  },
  {
   "cell_type": "code",
   "execution_count": null,
   "id": "e3e694a8",
   "metadata": {},
   "outputs": [],
   "source": [
    "# iteramos sobre cada partido de matches_stats y para cada equipo seleccionamos los jugadores titulares.\n",
    "\n",
    "minsH, minsA = np.zeros(len(matches_wUltPartidos)), np.zeros(len(matches_wUltPartidos))\n",
    "\n",
    "for i,m in enumerate(matches_wUltPartidos.reset_index().itertuples()):\n",
    "    # if m.wyId == 2565632: print(m.wyId)\n",
    "    # los jugadores titulares son los últimos 11 elementos de los arrays 'players_id'\n",
    "    lineup_h = players_mins_DF.loc[m.wyId, m.teamId_home].players_id[-11:]\n",
    "    lineup_a = players_mins_DF.loc[m.wyId, m.teamId_away].players_id[-11:]\n",
    "\n",
    "    for player in lineup_h:\n",
    "        for part in partidos_h[m.wyId]:\n",
    "            if part == 2565632: print(player)\n",
    "            minsH[i] += players_match_mins[player].get(part,0)\n",
    "\n",
    "    for player in lineup_a:\n",
    "        for part in partidos_a[m.wyId]:\n",
    "            minsA[i] += players_match_mins[player].get(part,0)\n",
    "\n",
    "    # minsH = minsH / (npj*90)\n",
    "    # minsA = minsA / (npj*90)\n",
    "\n",
    "    # OPCION CODIGO\n",
    "    # crear un diccionario grande de los ultimos N partidos (playerId : player_min) y hacer ReduceByKey(add), con lo cual tendremos la suma de minutos de cada jugador\n",
    "    # a continuación escogeriamos solamente las Keys de los jugadores del lineup y las sumariamos\n",
    "        "
   ]
  },
  {
   "cell_type": "code",
   "execution_count": null,
   "id": "a2c253de",
   "metadata": {},
   "outputs": [],
   "source": [
    "assert len(minsA) == len(minsH) == len(matches_wUltPartidos)"
   ]
  },
  {
   "cell_type": "code",
   "execution_count": null,
   "id": "89306dd8",
   "metadata": {},
   "outputs": [],
   "source": [
    "matches_wUltPartidos['mins4_H'] = minsH / (npj*11)\n",
    "matches_wUltPartidos['mins4_A'] = minsA / (npj*11)"
   ]
  },
  {
   "cell_type": "code",
   "execution_count": null,
   "id": "6a598fc8",
   "metadata": {},
   "outputs": [],
   "source": [
    "# matches_stats.to_csv(path_rawdata+'match_stats.csv',sep=';')\n",
    "matches_stats = pd.read_csv(path_rawdata+'match_stats.csv',sep=';',index_col='matchId')\n",
    "matches_stats[:3]"
   ]
  },
  {
   "cell_type": "code",
   "execution_count": null,
   "id": "ce1cee0e",
   "metadata": {},
   "outputs": [],
   "source": [
    "matches_stats.mins4_H[2565632]"
   ]
  },
  {
   "cell_type": "code",
   "execution_count": null,
   "id": "12bab8c9",
   "metadata": {},
   "outputs": [],
   "source": [
    "matches_wUltPartidos.mins4_H[2565632]"
   ]
  },
  {
   "cell_type": "code",
   "execution_count": null,
   "id": "863c7444",
   "metadata": {},
   "outputs": [],
   "source": [
    "min(matches_wUltPartidos.mins4_A)"
   ]
  },
  {
   "cell_type": "markdown",
   "id": "7c51c80b",
   "metadata": {},
   "source": [
    "### AÑADIR LOS VECTORES DE LAS DEMÁS CARACTERÍSTICAS\n",
    "\n",
    "1) Sacamos de cada equipo cuantos disparos/pases/faltas ha hecho en los ultimos N partidos los jugadores del 11 titular, y luego lo dividimos entre el numero de minutos que hayan jugado los titulares."
   ]
  },
  {
   "cell_type": "code",
   "execution_count": null,
   "id": "9db197dc",
   "metadata": {},
   "outputs": [],
   "source": [
    "passes"
   ]
  },
  {
   "cell_type": "code",
   "execution_count": null,
   "id": "1bea83ad",
   "metadata": {},
   "outputs": [],
   "source": [
    "def filterDB(db,matches,players):\n",
    "    mask_players = False\n",
    "    for p in players:\n",
    "        mask_players = mask_players | np.array(db.playerId == p)\n",
    "\n",
    "    mask_matches = False\n",
    "    for m in matches:\n",
    "        mask_matches = mask_matches | np.array(db.matchId == m)\n",
    "\n",
    "    mask = mask_matches & mask_players\n",
    "    \n",
    "    return db[mask]"
   ]
  },
  {
   "cell_type": "code",
   "execution_count": null,
   "id": "630a0d4d",
   "metadata": {},
   "outputs": [],
   "source": [
    "matches_stats.head(2)"
   ]
  },
  {
   "cell_type": "code",
   "execution_count": null,
   "id": "8adf4524",
   "metadata": {},
   "outputs": [],
   "source": [
    "partidos_h, partidos_a = ult_partidos(4)"
   ]
  },
  {
   "cell_type": "code",
   "execution_count": null,
   "id": "4db381d1",
   "metadata": {},
   "outputs": [],
   "source": [
    "# line-up\n",
    "players_mins_DF.loc[2576335].loc[3162].players_id[-11:]"
   ]
  },
  {
   "cell_type": "code",
   "execution_count": null,
   "id": "85b67034",
   "metadata": {},
   "outputs": [],
   "source": [
    "players_mins_DF"
   ]
  },
  {
   "cell_type": "code",
   "execution_count": null,
   "id": "098b5ce7",
   "metadata": {},
   "outputs": [],
   "source": [
    "aux_filtered = filterDB(passes,partidos_a[2576336],players_mins_DF.loc[2576336].loc[3158].players_id[-11:])\n",
    "count = len(aux_filtered)\n",
    "acc = np.mean(aux_filtered.accuracy)\n",
    "kp = sum(aux_filtered.keyPass)\n",
    "print(count,acc,kp)"
   ]
  },
  {
   "cell_type": "code",
   "execution_count": null,
   "id": "d79d6757",
   "metadata": {},
   "outputs": [],
   "source": [
    "matches_wUltPartidos.head(1)"
   ]
  },
  {
   "cell_type": "code",
   "execution_count": null,
   "id": "b8193f28",
   "metadata": {},
   "outputs": [],
   "source": [
    "# creamos feature de pases y disparos segun el lineup-11\n",
    "\n",
    "shots_11H, shots_acc_11H, goals_H = [], [], []\n",
    "shots_11A, shots_acc_11A, goals_A = [], [], []\n",
    "\n",
    "passes_11H, passes_acc_11H, keyPasses_H = [], [], []\n",
    "passes_11A, passes_acc_11A, keyPasses_A = [], [], []\n",
    "\n",
    "for m in matches_wUltPartidos.reset_index().itertuples():\n",
    "    #shots\n",
    "    db_filtered_h = filterDB(shots,partidos_h[m.wyId],players_mins_DF.loc[(m.wyId,m.teamId_home)].players_id[-11:])\n",
    "    shots_11H.append(len(db_filtered_h))\n",
    "    shots_acc_11H.append(np.mean(db_filtered_h.accuracy))\n",
    "    goals_H.append(sum(db_filtered_h.goal))\n",
    "    db_filtered_a = filterDB(shots,partidos_a[m.wyId],players_mins_DF.loc[m.wyId].loc[m.teamId_away].players_id[-11:])\n",
    "    shots_11A.append(len(db_filtered_a))\n",
    "    shots_acc_11A.append(np.mean(db_filtered_a.accuracy))\n",
    "    goals_A.append(sum(db_filtered_a.goal))\n",
    "\n",
    "    #passes\n",
    "    db_filtered_h = filterDB(passes,partidos_h[m.wyId],players_mins_DF.loc[m.wyId].loc[m.teamId_home].players_id[-11:])\n",
    "    passes_11H.append(len(db_filtered_h))\n",
    "    passes_acc_11H.append(np.mean(db_filtered_h.accuracy))\n",
    "    keyPasses_H.append(sum(db_filtered_h.keyPass))\n",
    "    db_filtered_a = filterDB(passes,partidos_a[m.wyId],players_mins_DF.loc[m.wyId].loc[m.teamId_away].players_id[-11:])\n",
    "    passes_11A.append(len(db_filtered_a))\n",
    "    passes_acc_11A.append(np.mean(db_filtered_a.accuracy))\n",
    "    keyPasses_A.append(sum(db_filtered_a.keyPass))\n",
    "\n"
   ]
  },
  {
   "cell_type": "code",
   "execution_count": null,
   "id": "6a15218d",
   "metadata": {},
   "outputs": [],
   "source": [
    "assert len(shots_11H) == len(shots_11A) == len(shots_acc_11H)"
   ]
  },
  {
   "cell_type": "code",
   "execution_count": null,
   "id": "5f14c4e6",
   "metadata": {},
   "outputs": [],
   "source": [
    "matches_wUltPartidos['shots_11H'] = shots_11H\n",
    "matches_wUltPartidos['shots_11A'] = shots_11A\n",
    "matches_wUltPartidos['shots_acc_11H'] = shots_acc_11H\n",
    "matches_wUltPartidos['shots_acc_11A'] = shots_acc_11A\n",
    "matches_wUltPartidos['goals_H'] = goals_H\n",
    "matches_wUltPartidos['goals_A'] = goals_A\n",
    "matches_wUltPartidos['passes_11H'] = passes_11H\n",
    "matches_wUltPartidos['passes_11A'] = passes_11A\n",
    "matches_wUltPartidos['passes_acc_11H'] = passes_acc_11H\n",
    "matches_wUltPartidos['passes_acc_11A'] = passes_acc_11A\n",
    "matches_wUltPartidos['keyPasses_H'] = keyPasses_H\n",
    "matches_wUltPartidos['keyPasses_A'] = keyPasses_A"
   ]
  },
  {
   "cell_type": "code",
   "execution_count": null,
   "id": "d30ae8f8",
   "metadata": {},
   "outputs": [],
   "source": [
    "matches_wUltPartidos.columns"
   ]
  },
  {
   "cell_type": "code",
   "execution_count": null,
   "id": "07c919c6",
   "metadata": {},
   "outputs": [],
   "source": [
    "print(matches_wUltPartidos.loc[2576335].acc_avg_sh_A, matches_wUltPartidos.loc[2576335].shots_acc_11A)"
   ]
  },
  {
   "cell_type": "code",
   "execution_count": null,
   "id": "2e58a44d",
   "metadata": {},
   "outputs": [],
   "source": [
    "# matches_wUltPartidos.to_csv(path_rawdata+'matches_wUltPartidos.csv',sep=';')\n",
    "matches_wUltPartidos = pd.read_csv(path_rawdata+'matches_wUltPartidos.csv',sep=';',index_col='wyId')\n",
    "matches_wUltPartidos"
   ]
  },
  {
   "cell_type": "code",
   "execution_count": null,
   "id": "52ab5adf",
   "metadata": {},
   "outputs": [],
   "source": [
    "matches_wUltPartidos.mins4_H"
   ]
  },
  {
   "cell_type": "code",
   "execution_count": null,
   "id": "e0d166fc",
   "metadata": {},
   "outputs": [],
   "source": [
    "matches_wUltPartidos.columns"
   ]
  },
  {
   "cell_type": "markdown",
   "id": "1ce27f7f",
   "metadata": {},
   "source": [
    "## INDICADOR ATAQUE-DEFENSA\n",
    "\n",
    "avg. goles marcados / avg. goles encajados   [ ult. 4 partidos ]"
   ]
  },
  {
   "cell_type": "code",
   "execution_count": null,
   "id": "473bed31",
   "metadata": {},
   "outputs": [],
   "source": [
    "teams.loc[1673]"
   ]
  },
  {
   "cell_type": "code",
   "execution_count": null,
   "id": "09653f34",
   "metadata": {},
   "outputs": [],
   "source": [
    "partidos_h"
   ]
  },
  {
   "cell_type": "code",
   "execution_count": null,
   "id": "0676cd9d",
   "metadata": {},
   "outputs": [],
   "source": [
    "matches_stats.head(2)"
   ]
  },
  {
   "cell_type": "code",
   "execution_count": null,
   "id": "4736ed9d",
   "metadata": {},
   "outputs": [],
   "source": [
    "ataque_defensa = [[],[]]\n",
    "\n",
    "for match in matches_wUltPartidos.itertuples(): \n",
    "    df_ult_partH = matches_stats.loc[partidos_h[match.matchId]][['teamId_home','teamId_away','score_away','score_home']]\n",
    "    df_ult_partA = matches_stats.loc[partidos_a[match.matchId]][['teamId_home','teamId_away','score_away','score_home']]\n",
    "\n",
    "    df_ult = [df_ult_partH, df_ult_partA]\n",
    "    col    = ['teamId_home','teamId_away']\n",
    "    score  = ['score_away','score_home']\n",
    "\n",
    "    for i,df in enumerate(df_ult):\n",
    "        # avg_encajados, avg_marcados = np.mean(df[score[i]]), np.mean(df[score[not(i)]])\n",
    "        avg_encajados, avg_marcados = np.sum(df[score[i]]), np.mean(df[score[not(i)]])\n",
    "        if(avg_encajados > 0):\n",
    "            ataque_defensa[i].append(avg_marcados/avg_encajados)   \n",
    "        else: ataque_defensa[i].append(avg_marcados)\n",
    "\n",
    "# un equipo que solo ha recibido un gol y ha marcado X goles recibirá mejor puntuación\n",
    "# que otro equipo que ha marcado los mismos goles pero no ha encajado ni un gol.\n",
    "# si dividimos por la SUMA de los goles encajados desaparece este problema.\n",
    "# sin embargo, un equipo que recibe un solo gol y no marca ninguno, \n",
    "# recibe menos puntuacion que otro que marca un gol y recibe muchos."
   ]
  },
  {
   "cell_type": "code",
   "execution_count": null,
   "id": "22383841",
   "metadata": {},
   "outputs": [],
   "source": [
    "assert len(ataque_defensa[0]) == len(matches_wUltPartidos)"
   ]
  },
  {
   "cell_type": "code",
   "execution_count": null,
   "id": "f82ad48d",
   "metadata": {},
   "outputs": [],
   "source": [
    "ataque_defensa_h = np.array(ataque_defensa[0])\n",
    "ataque_defensa_a = np.array(ataque_defensa[1])\n",
    "\n",
    "matches_wUltPartidos['ataque_defensa_h'] = (ataque_defensa_h-np.mean(ataque_defensa_h))/np.std(ataque_defensa_h)\n",
    "matches_wUltPartidos['ataque_defensa_a'] = (ataque_defensa_a-np.mean(ataque_defensa_a))/np.std(ataque_defensa_a)"
   ]
  },
  {
   "cell_type": "code",
   "execution_count": null,
   "id": "3088a8d2",
   "metadata": {},
   "outputs": [],
   "source": [
    "max(matches_wUltPartidos.ataque_defensa_h)"
   ]
  },
  {
   "cell_type": "code",
   "execution_count": null,
   "id": "689ac398",
   "metadata": {},
   "outputs": [],
   "source": [
    "ataque_defensa_h.max()"
   ]
  },
  {
   "cell_type": "code",
   "execution_count": null,
   "id": "ed587c3e",
   "metadata": {},
   "outputs": [],
   "source": [
    "matches_wUltPartidos.to_csv(path_rawdata+'matches_wUltPartidos.csv',sep=';')"
   ]
  },
  {
   "cell_type": "code",
   "execution_count": null,
   "id": "a32067f6",
   "metadata": {},
   "outputs": [],
   "source": [
    "avg_encajados_home = matches_wUltPartidos.groupby('teamId_home').agg(encajados=('score_away','mean'))\n",
    "avg_marcados_home  = matches_wUltPartidos.groupby('teamId_home').agg(marcados=('score_home','mean'))\n",
    "avg_encajados_away = matches_wUltPartidos.groupby('teamId_away').agg(encajados=('score_home','mean'))\n",
    "avg_marcados_away  = matches_wUltPartidos.groupby('teamId_away').agg(marcados=('score_away','mean'))\n",
    "\n",
    "avg_encajados = (pd.concat([avg_encajados_away,avg_encajados_home],axis=1)).mean(axis=1)  # (encajados como locales + commo encajados visit) / 2 -> pq son mismo # partidos\n",
    "avg_marcados  = (pd.concat([avg_marcados_home,avg_marcados_away],axis=1)).mean(axis=1)\n",
    "\n",
    "ataque_defensa = (avg_marcados/avg_encajados).sort_index()\n",
    "ataque_defensa_norm = (ataque_defensa-ataque_defensa.mean())/ataque_defensa.std()\n",
    "\n",
    "ataque_defensa_teams = pd.DataFrame(ataque_defensa_norm,columns=['indicador']).reset_index()\n",
    "teamId = ataque_defensa_teams['index']\n",
    "ataque_defensa_teams['teamId'] = teamId\n",
    "ataque_defensa_teams.drop('index',axis=1,inplace=True)\n"
   ]
  },
  {
   "cell_type": "code",
   "execution_count": null,
   "id": "a05e50de",
   "metadata": {},
   "outputs": [],
   "source": [
    "ataque_defensa_teams.set_index('teamId',inplace=True)"
   ]
  },
  {
   "cell_type": "code",
   "execution_count": null,
   "id": "808478f6",
   "metadata": {},
   "outputs": [],
   "source": [
    "ataque_defensa_teams"
   ]
  },
  {
   "cell_type": "code",
   "execution_count": null,
   "id": "db4d88e2",
   "metadata": {},
   "outputs": [],
   "source": [
    "ad_h, ad_a = [], []\n",
    "\n",
    "for match in matches_wUltPartidos.itertuples():\n",
    "    ind_h = ataque_defensa_teams.loc[match.teamId_home].indicador\n",
    "    ind_a = ataque_defensa_teams.loc[match.teamId_away].indicador\n",
    "    ad_h.append(ind_h), ad_a.append(ind_a)\n",
    "    \n",
    "matches_wUltPartidos['ataque_defensa_season_h'] = ad_h\n",
    "matches_wUltPartidos['ataque_defensa_season_a'] = ad_a"
   ]
  },
  {
   "cell_type": "code",
   "execution_count": null,
   "id": "4fc0ca75",
   "metadata": {},
   "outputs": [],
   "source": [
    "matches_wUltPartidos"
   ]
  },
  {
   "cell_type": "code",
   "execution_count": null,
   "id": "d9bec43f",
   "metadata": {},
   "outputs": [],
   "source": []
  }
 ],
 "metadata": {
  "interpreter": {
   "hash": "288ff6fe8157f43ba3e1fb4cfa0011490e9beb907b54ad0d71ae70a61946bdb3"
  },
  "kernelspec": {
   "display_name": "Python 3.8.8 ('tfg')",
   "language": "python",
   "name": "python3"
  },
  "language_info": {
   "codemirror_mode": {
    "name": "ipython",
    "version": 3
   },
   "file_extension": ".py",
   "mimetype": "text/x-python",
   "name": "python",
   "nbconvert_exporter": "python",
   "pygments_lexer": "ipython3",
   "version": "3.8.8"
  }
 },
 "nbformat": 4,
 "nbformat_minor": 5
}
