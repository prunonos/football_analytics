{
 "cells": [
  {
   "cell_type": "code",
   "execution_count": 1,
   "metadata": {},
   "outputs": [],
   "source": [
    "import os\n",
    "import pandas as pd\n",
    "import numpy as np\n",
    "from sklearn.model_selection import train_test_split "
   ]
  },
  {
   "cell_type": "code",
   "execution_count": 2,
   "metadata": {},
   "outputs": [],
   "source": [
    "path_rawdata    = 'F://TFG//datasets/raw_datasets//'\n",
    "path_train      = 'F://TFG//datasets//data_train//'\n",
    "path_graphs     = 'F://TFG//graphs//'\n",
    "path            = 'F:/TFG/datasets/nature-dataset/'"
   ]
  },
  {
   "cell_type": "markdown",
   "metadata": {},
   "source": [
    "## Wyscout processing"
   ]
  },
  {
   "cell_type": "code",
   "execution_count": 3,
   "metadata": {},
   "outputs": [],
   "source": [
    "data        = pd.read_csv(path_rawdata+'matches_wUltPartidos.csv',sep=';',index_col='wyId')\n",
    "teams       = pd.read_csv(path_rawdata+'teams.csv',sep=';')\n",
    "raw_Data    = pd.read_json(path_rawdata+'RAW_partidos.json')"
   ]
  },
  {
   "cell_type": "code",
   "execution_count": 4,
   "metadata": {},
   "outputs": [],
   "source": [
    "data = (pd.merge(data.reset_index(),raw_Data[['wyId','label']],how='left',on='wyId')\n",
    "        .set_index('wyId'))"
   ]
  },
  {
   "cell_type": "code",
   "execution_count": 5,
   "metadata": {},
   "outputs": [
    {
     "data": {
      "text/plain": [
       "(1414, 53)"
      ]
     },
     "execution_count": 5,
     "metadata": {},
     "output_type": "execute_result"
    }
   ],
   "source": [
    "data.shape"
   ]
  },
  {
   "cell_type": "code",
   "execution_count": 6,
   "metadata": {},
   "outputs": [
    {
     "data": {
      "text/plain": [
       "dateutc                             2018-03-31 14:00:00\n",
       "competitionId                                       364\n",
       "seasonId                                         181150\n",
       "roundId                                         4405654\n",
       "winner                                             1633\n",
       "teamId_home                                        1633\n",
       "score_home                                            3\n",
       "scoreHT_home                                          3\n",
       "teamId_away                                        1619\n",
       "score_away                                            0\n",
       "scoreHT_away                                          0\n",
       "HS                                                   13\n",
       "AS                                                    9\n",
       "HST                                                   5\n",
       "AST                                                   0\n",
       "HC                                                    5\n",
       "AC                                                    9\n",
       "HF                                                    9\n",
       "AF                                                   16\n",
       "B365H                                               2.7\n",
       "B365D                                              3.25\n",
       "B365A                                               2.6\n",
       "y0_sh_H                                           47.25\n",
       "x0_sh_H                                          84.875\n",
       "acc_avg_sh_H                                        0.0\n",
       "goal_avg_sh_H                                       0.0\n",
       "y0_sh_A                                       50.454545\n",
       "x0_sh_A                                       86.636364\n",
       "acc_avg_sh_A                                   0.454545\n",
       "goal_avg_sh_A                                  0.272727\n",
       "mins4_H                                       60.818182\n",
       "mins4_A                                       56.840909\n",
       "shots_11H                                            28\n",
       "shots_11A                                            18\n",
       "shots_acc_11H                                  0.321429\n",
       "shots_acc_11A                                  0.444444\n",
       "goals_H                                               1\n",
       "goals_A                                               3\n",
       "goals_ratio_H                                      0.25\n",
       "goals_ratio_A                                       0.5\n",
       "passes_11H                                          900\n",
       "passes_11A                                         1198\n",
       "passes_acc_11H                                 0.757778\n",
       "passes_acc_11A                                 0.782137\n",
       "keyPasses_H                                           5\n",
       "keyPasses_A                                           6\n",
       "ataque_h                                           0.76\n",
       "defensa_h                                          1.72\n",
       "ataque_a                                           0.96\n",
       "defensa_a                                          2.24\n",
       "ataquedefensa_H                                0.973546\n",
       "ataquedefensa_A                                0.817933\n",
       "label              West Ham United - Southampton, 3 - 0\n",
       "Name: 2499738, dtype: object"
      ]
     },
     "execution_count": 6,
     "metadata": {},
     "output_type": "execute_result"
    }
   ],
   "source": [
    "data.loc[2499738]"
   ]
  },
  {
   "cell_type": "code",
   "execution_count": 7,
   "metadata": {},
   "outputs": [
    {
     "data": {
      "text/plain": [
       "wyId\n",
       "2501028                           Lille - Metz, 3 - 1\n",
       "2500919             Olympique Marseille - Metz, 6 - 3\n",
       "2576085                   Sampdoria - Juventus, 3 - 2\n",
       "2565922              Barcelona - Real Sociedad, 1 - 0\n",
       "2500897             Caen - Olympique Marseille, 0 - 2\n",
       "2500016           Stoke City - Manchester City, 0 - 2\n",
       "2576077                        Lazio - Udinese, 3 - 0\n",
       "2500047                      Watford - Burnley, 1 - 2\n",
       "2565856               Barcelona - Legan\\u00e9s, 3 - 1\n",
       "2516902          Hoffenheim - Bayer Leverkusen, 1 - 4\n",
       "2499874      Newcastle United - Leicester City, 2 - 3\n",
       "2499882              West Ham United - Arsenal, 0 - 0\n",
       "2500940         Olympique Marseille - Bordeaux, 1 - 0\n",
       "2517036        Bayern M\\u00fcnchen - Stuttgart, 1 - 4\n",
       "2516833         Borussia M'gladbach - Mainz 05, 1 - 1\n",
       "2516870                  Augsburg - Hertha BSC, 1 - 1\n",
       "2500082                    Chelsea - Liverpool, 1 - 0\n",
       "2576215                      Cagliari - Napoli, 0 - 5\n",
       "2499884    Manchester United - AFC Bournemouth, 1 - 0\n",
       "2516891        Stuttgart - Bayern M\\u00fcnchen, 0 - 1\n",
       "Name: label, dtype: object"
      ]
     },
     "execution_count": 7,
     "metadata": {},
     "output_type": "execute_result"
    }
   ],
   "source": [
    "data.loc[[2501028, 2500919, 2576085, 2565922, 2500897, 2500016, 2576077, 2500047, 2565856,\n",
    " 2516902, 2499874, 2499882, 2500940, 2517036, 2516833, 2516870, 2500082, 2576215,\n",
    " 2499884, 2516891]].label"
   ]
  },
  {
   "cell_type": "code",
   "execution_count": 8,
   "metadata": {},
   "outputs": [
    {
     "data": {
      "text/plain": [
       "Index(['dateutc', 'competitionId', 'seasonId', 'roundId', 'winner',\n",
       "       'teamId_home', 'score_home', 'scoreHT_home', 'teamId_away',\n",
       "       'score_away', 'scoreHT_away', 'HS', 'AS', 'HST', 'AST', 'HC', 'AC',\n",
       "       'HF', 'AF', 'B365H', 'B365D', 'B365A', 'y0_sh_H', 'x0_sh_H',\n",
       "       'acc_avg_sh_H', 'goal_avg_sh_H', 'y0_sh_A', 'x0_sh_A', 'acc_avg_sh_A',\n",
       "       'goal_avg_sh_A', 'mins4_H', 'mins4_A', 'shots_11H', 'shots_11A',\n",
       "       'shots_acc_11H', 'shots_acc_11A', 'goals_H', 'goals_A', 'goals_ratio_H',\n",
       "       'goals_ratio_A', 'passes_11H', 'passes_11A', 'passes_acc_11H',\n",
       "       'passes_acc_11A', 'keyPasses_H', 'keyPasses_A', 'ataque_h', 'defensa_h',\n",
       "       'ataque_a', 'defensa_a', 'ataquedefensa_H', 'ataquedefensa_A', 'label'],\n",
       "      dtype='object')"
      ]
     },
     "execution_count": 8,
     "metadata": {},
     "output_type": "execute_result"
    }
   ],
   "source": [
    "data.columns"
   ]
  },
  {
   "cell_type": "code",
   "execution_count": null,
   "metadata": {},
   "outputs": [],
   "source": [
    "data.to_csv(path_rawdata+'matches_wUltPartidos.csv',sep=';')"
   ]
  },
  {
   "cell_type": "code",
   "execution_count": 10,
   "metadata": {},
   "outputs": [
    {
     "ename": "FileNotFoundError",
     "evalue": "[Errno 2] No such file or directory: 'F:/TFG/graphs/plot_results/train_preds_df.csv'",
     "output_type": "error",
     "traceback": [
      "\u001b[1;31m---------------------------------------------------------------------------\u001b[0m",
      "\u001b[1;31mFileNotFoundError\u001b[0m                         Traceback (most recent call last)",
      "\u001b[1;32m<ipython-input-10-c8967d5e358f>\u001b[0m in \u001b[0;36m<module>\u001b[1;34m\u001b[0m\n\u001b[1;32m----> 1\u001b[1;33m \u001b[0mresults\u001b[0m \u001b[1;33m=\u001b[0m \u001b[0mpd\u001b[0m\u001b[1;33m.\u001b[0m\u001b[0mread_csv\u001b[0m\u001b[1;33m(\u001b[0m\u001b[0mpath_graphs\u001b[0m\u001b[1;33m+\u001b[0m\u001b[1;34m'plot_results//train_preds_df.csv'\u001b[0m\u001b[1;33m,\u001b[0m\u001b[0msep\u001b[0m\u001b[1;33m=\u001b[0m\u001b[1;34m';'\u001b[0m\u001b[1;33m)\u001b[0m\u001b[1;33m\u001b[0m\u001b[1;33m\u001b[0m\u001b[0m\n\u001b[0m\u001b[0;32m      2\u001b[0m \u001b[0mresults\u001b[0m\u001b[1;33m\u001b[0m\u001b[1;33m\u001b[0m\u001b[0m\n",
      "\u001b[1;32mc:\\Users\\GuillemUPV\\Anaconda3\\envs\\tfg\\lib\\site-packages\\pandas\\io\\parsers.py\u001b[0m in \u001b[0;36mread_csv\u001b[1;34m(filepath_or_buffer, sep, delimiter, header, names, index_col, usecols, squeeze, prefix, mangle_dupe_cols, dtype, engine, converters, true_values, false_values, skipinitialspace, skiprows, skipfooter, nrows, na_values, keep_default_na, na_filter, verbose, skip_blank_lines, parse_dates, infer_datetime_format, keep_date_col, date_parser, dayfirst, cache_dates, iterator, chunksize, compression, thousands, decimal, lineterminator, quotechar, quoting, doublequote, escapechar, comment, encoding, dialect, error_bad_lines, warn_bad_lines, delim_whitespace, low_memory, memory_map, float_precision, storage_options)\u001b[0m\n\u001b[0;32m    608\u001b[0m     \u001b[0mkwds\u001b[0m\u001b[1;33m.\u001b[0m\u001b[0mupdate\u001b[0m\u001b[1;33m(\u001b[0m\u001b[0mkwds_defaults\u001b[0m\u001b[1;33m)\u001b[0m\u001b[1;33m\u001b[0m\u001b[1;33m\u001b[0m\u001b[0m\n\u001b[0;32m    609\u001b[0m \u001b[1;33m\u001b[0m\u001b[0m\n\u001b[1;32m--> 610\u001b[1;33m     \u001b[1;32mreturn\u001b[0m \u001b[0m_read\u001b[0m\u001b[1;33m(\u001b[0m\u001b[0mfilepath_or_buffer\u001b[0m\u001b[1;33m,\u001b[0m \u001b[0mkwds\u001b[0m\u001b[1;33m)\u001b[0m\u001b[1;33m\u001b[0m\u001b[1;33m\u001b[0m\u001b[0m\n\u001b[0m\u001b[0;32m    611\u001b[0m \u001b[1;33m\u001b[0m\u001b[0m\n\u001b[0;32m    612\u001b[0m \u001b[1;33m\u001b[0m\u001b[0m\n",
      "\u001b[1;32mc:\\Users\\GuillemUPV\\Anaconda3\\envs\\tfg\\lib\\site-packages\\pandas\\io\\parsers.py\u001b[0m in \u001b[0;36m_read\u001b[1;34m(filepath_or_buffer, kwds)\u001b[0m\n\u001b[0;32m    460\u001b[0m \u001b[1;33m\u001b[0m\u001b[0m\n\u001b[0;32m    461\u001b[0m     \u001b[1;31m# Create the parser.\u001b[0m\u001b[1;33m\u001b[0m\u001b[1;33m\u001b[0m\u001b[1;33m\u001b[0m\u001b[0m\n\u001b[1;32m--> 462\u001b[1;33m     \u001b[0mparser\u001b[0m \u001b[1;33m=\u001b[0m \u001b[0mTextFileReader\u001b[0m\u001b[1;33m(\u001b[0m\u001b[0mfilepath_or_buffer\u001b[0m\u001b[1;33m,\u001b[0m \u001b[1;33m**\u001b[0m\u001b[0mkwds\u001b[0m\u001b[1;33m)\u001b[0m\u001b[1;33m\u001b[0m\u001b[1;33m\u001b[0m\u001b[0m\n\u001b[0m\u001b[0;32m    463\u001b[0m \u001b[1;33m\u001b[0m\u001b[0m\n\u001b[0;32m    464\u001b[0m     \u001b[1;32mif\u001b[0m \u001b[0mchunksize\u001b[0m \u001b[1;32mor\u001b[0m \u001b[0miterator\u001b[0m\u001b[1;33m:\u001b[0m\u001b[1;33m\u001b[0m\u001b[1;33m\u001b[0m\u001b[0m\n",
      "\u001b[1;32mc:\\Users\\GuillemUPV\\Anaconda3\\envs\\tfg\\lib\\site-packages\\pandas\\io\\parsers.py\u001b[0m in \u001b[0;36m__init__\u001b[1;34m(self, f, engine, **kwds)\u001b[0m\n\u001b[0;32m    817\u001b[0m             \u001b[0mself\u001b[0m\u001b[1;33m.\u001b[0m\u001b[0moptions\u001b[0m\u001b[1;33m[\u001b[0m\u001b[1;34m\"has_index_names\"\u001b[0m\u001b[1;33m]\u001b[0m \u001b[1;33m=\u001b[0m \u001b[0mkwds\u001b[0m\u001b[1;33m[\u001b[0m\u001b[1;34m\"has_index_names\"\u001b[0m\u001b[1;33m]\u001b[0m\u001b[1;33m\u001b[0m\u001b[1;33m\u001b[0m\u001b[0m\n\u001b[0;32m    818\u001b[0m \u001b[1;33m\u001b[0m\u001b[0m\n\u001b[1;32m--> 819\u001b[1;33m         \u001b[0mself\u001b[0m\u001b[1;33m.\u001b[0m\u001b[0m_engine\u001b[0m \u001b[1;33m=\u001b[0m \u001b[0mself\u001b[0m\u001b[1;33m.\u001b[0m\u001b[0m_make_engine\u001b[0m\u001b[1;33m(\u001b[0m\u001b[0mself\u001b[0m\u001b[1;33m.\u001b[0m\u001b[0mengine\u001b[0m\u001b[1;33m)\u001b[0m\u001b[1;33m\u001b[0m\u001b[1;33m\u001b[0m\u001b[0m\n\u001b[0m\u001b[0;32m    820\u001b[0m \u001b[1;33m\u001b[0m\u001b[0m\n\u001b[0;32m    821\u001b[0m     \u001b[1;32mdef\u001b[0m \u001b[0mclose\u001b[0m\u001b[1;33m(\u001b[0m\u001b[0mself\u001b[0m\u001b[1;33m)\u001b[0m\u001b[1;33m:\u001b[0m\u001b[1;33m\u001b[0m\u001b[1;33m\u001b[0m\u001b[0m\n",
      "\u001b[1;32mc:\\Users\\GuillemUPV\\Anaconda3\\envs\\tfg\\lib\\site-packages\\pandas\\io\\parsers.py\u001b[0m in \u001b[0;36m_make_engine\u001b[1;34m(self, engine)\u001b[0m\n\u001b[0;32m   1048\u001b[0m             )\n\u001b[0;32m   1049\u001b[0m         \u001b[1;31m# error: Too many arguments for \"ParserBase\"\u001b[0m\u001b[1;33m\u001b[0m\u001b[1;33m\u001b[0m\u001b[1;33m\u001b[0m\u001b[0m\n\u001b[1;32m-> 1050\u001b[1;33m         \u001b[1;32mreturn\u001b[0m \u001b[0mmapping\u001b[0m\u001b[1;33m[\u001b[0m\u001b[0mengine\u001b[0m\u001b[1;33m]\u001b[0m\u001b[1;33m(\u001b[0m\u001b[0mself\u001b[0m\u001b[1;33m.\u001b[0m\u001b[0mf\u001b[0m\u001b[1;33m,\u001b[0m \u001b[1;33m**\u001b[0m\u001b[0mself\u001b[0m\u001b[1;33m.\u001b[0m\u001b[0moptions\u001b[0m\u001b[1;33m)\u001b[0m  \u001b[1;31m# type: ignore[call-arg]\u001b[0m\u001b[1;33m\u001b[0m\u001b[1;33m\u001b[0m\u001b[0m\n\u001b[0m\u001b[0;32m   1051\u001b[0m \u001b[1;33m\u001b[0m\u001b[0m\n\u001b[0;32m   1052\u001b[0m     \u001b[1;32mdef\u001b[0m \u001b[0m_failover_to_python\u001b[0m\u001b[1;33m(\u001b[0m\u001b[0mself\u001b[0m\u001b[1;33m)\u001b[0m\u001b[1;33m:\u001b[0m\u001b[1;33m\u001b[0m\u001b[1;33m\u001b[0m\u001b[0m\n",
      "\u001b[1;32mc:\\Users\\GuillemUPV\\Anaconda3\\envs\\tfg\\lib\\site-packages\\pandas\\io\\parsers.py\u001b[0m in \u001b[0;36m__init__\u001b[1;34m(self, src, **kwds)\u001b[0m\n\u001b[0;32m   1865\u001b[0m \u001b[1;33m\u001b[0m\u001b[0m\n\u001b[0;32m   1866\u001b[0m         \u001b[1;31m# open handles\u001b[0m\u001b[1;33m\u001b[0m\u001b[1;33m\u001b[0m\u001b[1;33m\u001b[0m\u001b[0m\n\u001b[1;32m-> 1867\u001b[1;33m         \u001b[0mself\u001b[0m\u001b[1;33m.\u001b[0m\u001b[0m_open_handles\u001b[0m\u001b[1;33m(\u001b[0m\u001b[0msrc\u001b[0m\u001b[1;33m,\u001b[0m \u001b[0mkwds\u001b[0m\u001b[1;33m)\u001b[0m\u001b[1;33m\u001b[0m\u001b[1;33m\u001b[0m\u001b[0m\n\u001b[0m\u001b[0;32m   1868\u001b[0m         \u001b[1;32massert\u001b[0m \u001b[0mself\u001b[0m\u001b[1;33m.\u001b[0m\u001b[0mhandles\u001b[0m \u001b[1;32mis\u001b[0m \u001b[1;32mnot\u001b[0m \u001b[1;32mNone\u001b[0m\u001b[1;33m\u001b[0m\u001b[1;33m\u001b[0m\u001b[0m\n\u001b[0;32m   1869\u001b[0m         \u001b[1;32mfor\u001b[0m \u001b[0mkey\u001b[0m \u001b[1;32min\u001b[0m \u001b[1;33m(\u001b[0m\u001b[1;34m\"storage_options\"\u001b[0m\u001b[1;33m,\u001b[0m \u001b[1;34m\"encoding\"\u001b[0m\u001b[1;33m,\u001b[0m \u001b[1;34m\"memory_map\"\u001b[0m\u001b[1;33m,\u001b[0m \u001b[1;34m\"compression\"\u001b[0m\u001b[1;33m)\u001b[0m\u001b[1;33m:\u001b[0m\u001b[1;33m\u001b[0m\u001b[1;33m\u001b[0m\u001b[0m\n",
      "\u001b[1;32mc:\\Users\\GuillemUPV\\Anaconda3\\envs\\tfg\\lib\\site-packages\\pandas\\io\\parsers.py\u001b[0m in \u001b[0;36m_open_handles\u001b[1;34m(self, src, kwds)\u001b[0m\n\u001b[0;32m   1360\u001b[0m         \u001b[0mLet\u001b[0m \u001b[0mthe\u001b[0m \u001b[0mreaders\u001b[0m \u001b[0mopen\u001b[0m \u001b[0mIOHanldes\u001b[0m \u001b[0mafter\u001b[0m \u001b[0mthey\u001b[0m \u001b[0mare\u001b[0m \u001b[0mdone\u001b[0m \u001b[1;32mwith\u001b[0m \u001b[0mtheir\u001b[0m \u001b[0mpotential\u001b[0m \u001b[0mraises\u001b[0m\u001b[1;33m.\u001b[0m\u001b[1;33m\u001b[0m\u001b[1;33m\u001b[0m\u001b[0m\n\u001b[0;32m   1361\u001b[0m         \"\"\"\n\u001b[1;32m-> 1362\u001b[1;33m         self.handles = get_handle(\n\u001b[0m\u001b[0;32m   1363\u001b[0m             \u001b[0msrc\u001b[0m\u001b[1;33m,\u001b[0m\u001b[1;33m\u001b[0m\u001b[1;33m\u001b[0m\u001b[0m\n\u001b[0;32m   1364\u001b[0m             \u001b[1;34m\"r\"\u001b[0m\u001b[1;33m,\u001b[0m\u001b[1;33m\u001b[0m\u001b[1;33m\u001b[0m\u001b[0m\n",
      "\u001b[1;32mc:\\Users\\GuillemUPV\\Anaconda3\\envs\\tfg\\lib\\site-packages\\pandas\\io\\common.py\u001b[0m in \u001b[0;36mget_handle\u001b[1;34m(path_or_buf, mode, encoding, compression, memory_map, is_text, errors, storage_options)\u001b[0m\n\u001b[0;32m    556\u001b[0m \u001b[1;33m\u001b[0m\u001b[0m\n\u001b[0;32m    557\u001b[0m     \u001b[1;31m# open URLs\u001b[0m\u001b[1;33m\u001b[0m\u001b[1;33m\u001b[0m\u001b[1;33m\u001b[0m\u001b[0m\n\u001b[1;32m--> 558\u001b[1;33m     ioargs = _get_filepath_or_buffer(\n\u001b[0m\u001b[0;32m    559\u001b[0m         \u001b[0mpath_or_buf\u001b[0m\u001b[1;33m,\u001b[0m\u001b[1;33m\u001b[0m\u001b[1;33m\u001b[0m\u001b[0m\n\u001b[0;32m    560\u001b[0m         \u001b[0mencoding\u001b[0m\u001b[1;33m=\u001b[0m\u001b[0mencoding\u001b[0m\u001b[1;33m,\u001b[0m\u001b[1;33m\u001b[0m\u001b[1;33m\u001b[0m\u001b[0m\n",
      "\u001b[1;32mc:\\Users\\GuillemUPV\\Anaconda3\\envs\\tfg\\lib\\site-packages\\pandas\\io\\common.py\u001b[0m in \u001b[0;36m_get_filepath_or_buffer\u001b[1;34m(filepath_or_buffer, encoding, compression, mode, storage_options)\u001b[0m\n\u001b[0;32m    331\u001b[0m \u001b[1;33m\u001b[0m\u001b[0m\n\u001b[0;32m    332\u001b[0m         \u001b[1;32mtry\u001b[0m\u001b[1;33m:\u001b[0m\u001b[1;33m\u001b[0m\u001b[1;33m\u001b[0m\u001b[0m\n\u001b[1;32m--> 333\u001b[1;33m             file_obj = fsspec.open(\n\u001b[0m\u001b[0;32m    334\u001b[0m                 \u001b[0mfilepath_or_buffer\u001b[0m\u001b[1;33m,\u001b[0m \u001b[0mmode\u001b[0m\u001b[1;33m=\u001b[0m\u001b[0mfsspec_mode\u001b[0m\u001b[1;33m,\u001b[0m \u001b[1;33m**\u001b[0m\u001b[1;33m(\u001b[0m\u001b[0mstorage_options\u001b[0m \u001b[1;32mor\u001b[0m \u001b[1;33m{\u001b[0m\u001b[1;33m}\u001b[0m\u001b[1;33m)\u001b[0m\u001b[1;33m\u001b[0m\u001b[1;33m\u001b[0m\u001b[0m\n\u001b[0;32m    335\u001b[0m             ).open()\n",
      "\u001b[1;32mc:\\Users\\GuillemUPV\\Anaconda3\\envs\\tfg\\lib\\site-packages\\fsspec\\core.py\u001b[0m in \u001b[0;36mopen\u001b[1;34m(self)\u001b[0m\n\u001b[0;32m    132\u001b[0m         \u001b[0mbeen\u001b[0m \u001b[0mdeleted\u001b[0m\u001b[1;33m;\u001b[0m \u001b[0mbut\u001b[0m \u001b[0ma\u001b[0m \u001b[1;32mwith\u001b[0m\u001b[1;33m-\u001b[0m\u001b[0mcontext\u001b[0m \u001b[1;32mis\u001b[0m \u001b[0mbetter\u001b[0m \u001b[0mstyle\u001b[0m\u001b[1;33m.\u001b[0m\u001b[1;33m\u001b[0m\u001b[1;33m\u001b[0m\u001b[0m\n\u001b[0;32m    133\u001b[0m         \"\"\"\n\u001b[1;32m--> 134\u001b[1;33m         \u001b[0mout\u001b[0m \u001b[1;33m=\u001b[0m \u001b[0mself\u001b[0m\u001b[1;33m.\u001b[0m\u001b[0m__enter__\u001b[0m\u001b[1;33m(\u001b[0m\u001b[1;33m)\u001b[0m\u001b[1;33m\u001b[0m\u001b[1;33m\u001b[0m\u001b[0m\n\u001b[0m\u001b[0;32m    135\u001b[0m         \u001b[0mcloser\u001b[0m \u001b[1;33m=\u001b[0m \u001b[0mout\u001b[0m\u001b[1;33m.\u001b[0m\u001b[0mclose\u001b[0m\u001b[1;33m\u001b[0m\u001b[1;33m\u001b[0m\u001b[0m\n\u001b[0;32m    136\u001b[0m         \u001b[0mfobjects\u001b[0m \u001b[1;33m=\u001b[0m \u001b[0mself\u001b[0m\u001b[1;33m.\u001b[0m\u001b[0mfobjects\u001b[0m\u001b[1;33m.\u001b[0m\u001b[0mcopy\u001b[0m\u001b[1;33m(\u001b[0m\u001b[1;33m)\u001b[0m\u001b[1;33m[\u001b[0m\u001b[1;33m:\u001b[0m\u001b[1;33m-\u001b[0m\u001b[1;36m1\u001b[0m\u001b[1;33m]\u001b[0m\u001b[1;33m\u001b[0m\u001b[1;33m\u001b[0m\u001b[0m\n",
      "\u001b[1;32mc:\\Users\\GuillemUPV\\Anaconda3\\envs\\tfg\\lib\\site-packages\\fsspec\\core.py\u001b[0m in \u001b[0;36m__enter__\u001b[1;34m(self)\u001b[0m\n\u001b[0;32m    100\u001b[0m         \u001b[0mmode\u001b[0m \u001b[1;33m=\u001b[0m \u001b[0mself\u001b[0m\u001b[1;33m.\u001b[0m\u001b[0mmode\u001b[0m\u001b[1;33m.\u001b[0m\u001b[0mreplace\u001b[0m\u001b[1;33m(\u001b[0m\u001b[1;34m\"t\"\u001b[0m\u001b[1;33m,\u001b[0m \u001b[1;34m\"\"\u001b[0m\u001b[1;33m)\u001b[0m\u001b[1;33m.\u001b[0m\u001b[0mreplace\u001b[0m\u001b[1;33m(\u001b[0m\u001b[1;34m\"b\"\u001b[0m\u001b[1;33m,\u001b[0m \u001b[1;34m\"\"\u001b[0m\u001b[1;33m)\u001b[0m \u001b[1;33m+\u001b[0m \u001b[1;34m\"b\"\u001b[0m\u001b[1;33m\u001b[0m\u001b[1;33m\u001b[0m\u001b[0m\n\u001b[0;32m    101\u001b[0m \u001b[1;33m\u001b[0m\u001b[0m\n\u001b[1;32m--> 102\u001b[1;33m         \u001b[0mf\u001b[0m \u001b[1;33m=\u001b[0m \u001b[0mself\u001b[0m\u001b[1;33m.\u001b[0m\u001b[0mfs\u001b[0m\u001b[1;33m.\u001b[0m\u001b[0mopen\u001b[0m\u001b[1;33m(\u001b[0m\u001b[0mself\u001b[0m\u001b[1;33m.\u001b[0m\u001b[0mpath\u001b[0m\u001b[1;33m,\u001b[0m \u001b[0mmode\u001b[0m\u001b[1;33m=\u001b[0m\u001b[0mmode\u001b[0m\u001b[1;33m)\u001b[0m\u001b[1;33m\u001b[0m\u001b[1;33m\u001b[0m\u001b[0m\n\u001b[0m\u001b[0;32m    103\u001b[0m \u001b[1;33m\u001b[0m\u001b[0m\n\u001b[0;32m    104\u001b[0m         \u001b[0mself\u001b[0m\u001b[1;33m.\u001b[0m\u001b[0mfobjects\u001b[0m \u001b[1;33m=\u001b[0m \u001b[1;33m[\u001b[0m\u001b[0mf\u001b[0m\u001b[1;33m]\u001b[0m\u001b[1;33m\u001b[0m\u001b[1;33m\u001b[0m\u001b[0m\n",
      "\u001b[1;32mc:\\Users\\GuillemUPV\\Anaconda3\\envs\\tfg\\lib\\site-packages\\fsspec\\spec.py\u001b[0m in \u001b[0;36mopen\u001b[1;34m(self, path, mode, block_size, cache_options, **kwargs)\u001b[0m\n\u001b[0;32m    938\u001b[0m         \u001b[1;32melse\u001b[0m\u001b[1;33m:\u001b[0m\u001b[1;33m\u001b[0m\u001b[1;33m\u001b[0m\u001b[0m\n\u001b[0;32m    939\u001b[0m             \u001b[0mac\u001b[0m \u001b[1;33m=\u001b[0m \u001b[0mkwargs\u001b[0m\u001b[1;33m.\u001b[0m\u001b[0mpop\u001b[0m\u001b[1;33m(\u001b[0m\u001b[1;34m\"autocommit\"\u001b[0m\u001b[1;33m,\u001b[0m \u001b[1;32mnot\u001b[0m \u001b[0mself\u001b[0m\u001b[1;33m.\u001b[0m\u001b[0m_intrans\u001b[0m\u001b[1;33m)\u001b[0m\u001b[1;33m\u001b[0m\u001b[1;33m\u001b[0m\u001b[0m\n\u001b[1;32m--> 940\u001b[1;33m             f = self._open(\n\u001b[0m\u001b[0;32m    941\u001b[0m                 \u001b[0mpath\u001b[0m\u001b[1;33m,\u001b[0m\u001b[1;33m\u001b[0m\u001b[1;33m\u001b[0m\u001b[0m\n\u001b[0;32m    942\u001b[0m                 \u001b[0mmode\u001b[0m\u001b[1;33m=\u001b[0m\u001b[0mmode\u001b[0m\u001b[1;33m,\u001b[0m\u001b[1;33m\u001b[0m\u001b[1;33m\u001b[0m\u001b[0m\n",
      "\u001b[1;32mc:\\Users\\GuillemUPV\\Anaconda3\\envs\\tfg\\lib\\site-packages\\fsspec\\implementations\\local.py\u001b[0m in \u001b[0;36m_open\u001b[1;34m(self, path, mode, block_size, **kwargs)\u001b[0m\n\u001b[0;32m    116\u001b[0m         \u001b[1;32mif\u001b[0m \u001b[0mself\u001b[0m\u001b[1;33m.\u001b[0m\u001b[0mauto_mkdir\u001b[0m \u001b[1;32mand\u001b[0m \u001b[1;34m\"w\"\u001b[0m \u001b[1;32min\u001b[0m \u001b[0mmode\u001b[0m\u001b[1;33m:\u001b[0m\u001b[1;33m\u001b[0m\u001b[1;33m\u001b[0m\u001b[0m\n\u001b[0;32m    117\u001b[0m             \u001b[0mself\u001b[0m\u001b[1;33m.\u001b[0m\u001b[0mmakedirs\u001b[0m\u001b[1;33m(\u001b[0m\u001b[0mself\u001b[0m\u001b[1;33m.\u001b[0m\u001b[0m_parent\u001b[0m\u001b[1;33m(\u001b[0m\u001b[0mpath\u001b[0m\u001b[1;33m)\u001b[0m\u001b[1;33m,\u001b[0m \u001b[0mexist_ok\u001b[0m\u001b[1;33m=\u001b[0m\u001b[1;32mTrue\u001b[0m\u001b[1;33m)\u001b[0m\u001b[1;33m\u001b[0m\u001b[1;33m\u001b[0m\u001b[0m\n\u001b[1;32m--> 118\u001b[1;33m         \u001b[1;32mreturn\u001b[0m \u001b[0mLocalFileOpener\u001b[0m\u001b[1;33m(\u001b[0m\u001b[0mpath\u001b[0m\u001b[1;33m,\u001b[0m \u001b[0mmode\u001b[0m\u001b[1;33m,\u001b[0m \u001b[0mfs\u001b[0m\u001b[1;33m=\u001b[0m\u001b[0mself\u001b[0m\u001b[1;33m,\u001b[0m \u001b[1;33m**\u001b[0m\u001b[0mkwargs\u001b[0m\u001b[1;33m)\u001b[0m\u001b[1;33m\u001b[0m\u001b[1;33m\u001b[0m\u001b[0m\n\u001b[0m\u001b[0;32m    119\u001b[0m \u001b[1;33m\u001b[0m\u001b[0m\n\u001b[0;32m    120\u001b[0m     \u001b[1;32mdef\u001b[0m \u001b[0mtouch\u001b[0m\u001b[1;33m(\u001b[0m\u001b[0mself\u001b[0m\u001b[1;33m,\u001b[0m \u001b[0mpath\u001b[0m\u001b[1;33m,\u001b[0m \u001b[1;33m**\u001b[0m\u001b[0mkwargs\u001b[0m\u001b[1;33m)\u001b[0m\u001b[1;33m:\u001b[0m\u001b[1;33m\u001b[0m\u001b[1;33m\u001b[0m\u001b[0m\n",
      "\u001b[1;32mc:\\Users\\GuillemUPV\\Anaconda3\\envs\\tfg\\lib\\site-packages\\fsspec\\implementations\\local.py\u001b[0m in \u001b[0;36m__init__\u001b[1;34m(self, path, mode, autocommit, fs, **kwargs)\u001b[0m\n\u001b[0;32m    198\u001b[0m         \u001b[0mself\u001b[0m\u001b[1;33m.\u001b[0m\u001b[0mautocommit\u001b[0m \u001b[1;33m=\u001b[0m \u001b[0mautocommit\u001b[0m\u001b[1;33m\u001b[0m\u001b[1;33m\u001b[0m\u001b[0m\n\u001b[0;32m    199\u001b[0m         \u001b[0mself\u001b[0m\u001b[1;33m.\u001b[0m\u001b[0mblocksize\u001b[0m \u001b[1;33m=\u001b[0m \u001b[0mio\u001b[0m\u001b[1;33m.\u001b[0m\u001b[0mDEFAULT_BUFFER_SIZE\u001b[0m\u001b[1;33m\u001b[0m\u001b[1;33m\u001b[0m\u001b[0m\n\u001b[1;32m--> 200\u001b[1;33m         \u001b[0mself\u001b[0m\u001b[1;33m.\u001b[0m\u001b[0m_open\u001b[0m\u001b[1;33m(\u001b[0m\u001b[1;33m)\u001b[0m\u001b[1;33m\u001b[0m\u001b[1;33m\u001b[0m\u001b[0m\n\u001b[0m\u001b[0;32m    201\u001b[0m \u001b[1;33m\u001b[0m\u001b[0m\n\u001b[0;32m    202\u001b[0m     \u001b[1;32mdef\u001b[0m \u001b[0m_open\u001b[0m\u001b[1;33m(\u001b[0m\u001b[0mself\u001b[0m\u001b[1;33m)\u001b[0m\u001b[1;33m:\u001b[0m\u001b[1;33m\u001b[0m\u001b[1;33m\u001b[0m\u001b[0m\n",
      "\u001b[1;32mc:\\Users\\GuillemUPV\\Anaconda3\\envs\\tfg\\lib\\site-packages\\fsspec\\implementations\\local.py\u001b[0m in \u001b[0;36m_open\u001b[1;34m(self)\u001b[0m\n\u001b[0;32m    203\u001b[0m         \u001b[1;32mif\u001b[0m \u001b[0mself\u001b[0m\u001b[1;33m.\u001b[0m\u001b[0mf\u001b[0m \u001b[1;32mis\u001b[0m \u001b[1;32mNone\u001b[0m \u001b[1;32mor\u001b[0m \u001b[0mself\u001b[0m\u001b[1;33m.\u001b[0m\u001b[0mf\u001b[0m\u001b[1;33m.\u001b[0m\u001b[0mclosed\u001b[0m\u001b[1;33m:\u001b[0m\u001b[1;33m\u001b[0m\u001b[1;33m\u001b[0m\u001b[0m\n\u001b[0;32m    204\u001b[0m             \u001b[1;32mif\u001b[0m \u001b[0mself\u001b[0m\u001b[1;33m.\u001b[0m\u001b[0mautocommit\u001b[0m \u001b[1;32mor\u001b[0m \u001b[1;34m\"w\"\u001b[0m \u001b[1;32mnot\u001b[0m \u001b[1;32min\u001b[0m \u001b[0mself\u001b[0m\u001b[1;33m.\u001b[0m\u001b[0mmode\u001b[0m\u001b[1;33m:\u001b[0m\u001b[1;33m\u001b[0m\u001b[1;33m\u001b[0m\u001b[0m\n\u001b[1;32m--> 205\u001b[1;33m                 \u001b[0mself\u001b[0m\u001b[1;33m.\u001b[0m\u001b[0mf\u001b[0m \u001b[1;33m=\u001b[0m \u001b[0mopen\u001b[0m\u001b[1;33m(\u001b[0m\u001b[0mself\u001b[0m\u001b[1;33m.\u001b[0m\u001b[0mpath\u001b[0m\u001b[1;33m,\u001b[0m \u001b[0mmode\u001b[0m\u001b[1;33m=\u001b[0m\u001b[0mself\u001b[0m\u001b[1;33m.\u001b[0m\u001b[0mmode\u001b[0m\u001b[1;33m)\u001b[0m\u001b[1;33m\u001b[0m\u001b[1;33m\u001b[0m\u001b[0m\n\u001b[0m\u001b[0;32m    206\u001b[0m             \u001b[1;32melse\u001b[0m\u001b[1;33m:\u001b[0m\u001b[1;33m\u001b[0m\u001b[1;33m\u001b[0m\u001b[0m\n\u001b[0;32m    207\u001b[0m                 \u001b[1;31m# TODO: check if path is writable?\u001b[0m\u001b[1;33m\u001b[0m\u001b[1;33m\u001b[0m\u001b[1;33m\u001b[0m\u001b[0m\n",
      "\u001b[1;31mFileNotFoundError\u001b[0m: [Errno 2] No such file or directory: 'F:/TFG/graphs/plot_results/train_preds_df.csv'"
     ]
    }
   ],
   "source": [
    "results = pd.read_csv(path_graphs+'plot_results//train_preds_df.csv',sep=';')\n",
    "results"
   ]
  },
  {
   "cell_type": "markdown",
   "metadata": {},
   "source": [
    "We only want the data from the last 4 matches as training data."
   ]
  },
  {
   "cell_type": "code",
   "execution_count": 11,
   "metadata": {},
   "outputs": [
    {
     "data": {
      "text/html": [
       "<div>\n",
       "<style scoped>\n",
       "    .dataframe tbody tr th:only-of-type {\n",
       "        vertical-align: middle;\n",
       "    }\n",
       "\n",
       "    .dataframe tbody tr th {\n",
       "        vertical-align: top;\n",
       "    }\n",
       "\n",
       "    .dataframe thead th {\n",
       "        text-align: right;\n",
       "    }\n",
       "</style>\n",
       "<table border=\"1\" class=\"dataframe\">\n",
       "  <thead>\n",
       "    <tr style=\"text-align: right;\">\n",
       "      <th></th>\n",
       "      <th>Labels</th>\n",
       "    </tr>\n",
       "    <tr>\n",
       "      <th>wyId</th>\n",
       "      <th></th>\n",
       "    </tr>\n",
       "  </thead>\n",
       "  <tbody>\n",
       "    <tr>\n",
       "      <th>2499738</th>\n",
       "      <td>1</td>\n",
       "    </tr>\n",
       "    <tr>\n",
       "      <th>2499799</th>\n",
       "      <td>1</td>\n",
       "    </tr>\n",
       "    <tr>\n",
       "      <th>2499800</th>\n",
       "      <td>2</td>\n",
       "    </tr>\n",
       "  </tbody>\n",
       "</table>\n",
       "</div>"
      ],
      "text/plain": [
       "         Labels\n",
       "wyId           \n",
       "2499738       1\n",
       "2499799       1\n",
       "2499800       2"
      ]
     },
     "execution_count": 11,
     "metadata": {},
     "output_type": "execute_result"
    }
   ],
   "source": [
    "labels = []\n",
    "\n",
    "for match in data.itertuples():\n",
    "    if match.winner == 0: labels.append(0)\n",
    "    elif match.winner == match.teamId_home: labels.append(1)\n",
    "    else: labels.append(2)\n",
    "\n",
    "# data['res'] = target\n",
    "label_set = pd.DataFrame({'Labels':labels}, index=data.index)\n",
    "label_set.head(3)"
   ]
  },
  {
   "cell_type": "code",
   "execution_count": 12,
   "metadata": {},
   "outputs": [],
   "source": [
    "training_features = ['mins4_H', 'mins4_A', 'shots_11H', 'shots_11A',\n",
    "       'shots_acc_11H', 'shots_acc_11A', 'goals_H', 'goals_A', 'goals_ratio_H',\n",
    "       'goals_ratio_A', 'passes_11H', 'passes_11A', 'passes_acc_11H',\n",
    "       'passes_acc_11A', 'keyPasses_H', 'keyPasses_A', 'ataque_h', 'defensa_h',\n",
    "       'ataque_a', 'defensa_a', 'ataquedefensa_H', 'ataquedefensa_A']"
   ]
  },
  {
   "cell_type": "code",
   "execution_count": 13,
   "metadata": {},
   "outputs": [
    {
     "data": {
      "text/html": [
       "<div>\n",
       "<style scoped>\n",
       "    .dataframe tbody tr th:only-of-type {\n",
       "        vertical-align: middle;\n",
       "    }\n",
       "\n",
       "    .dataframe tbody tr th {\n",
       "        vertical-align: top;\n",
       "    }\n",
       "\n",
       "    .dataframe thead th {\n",
       "        text-align: right;\n",
       "    }\n",
       "</style>\n",
       "<table border=\"1\" class=\"dataframe\">\n",
       "  <thead>\n",
       "    <tr style=\"text-align: right;\">\n",
       "      <th></th>\n",
       "      <th>mins4_H</th>\n",
       "      <th>mins4_A</th>\n",
       "      <th>shots_11H</th>\n",
       "      <th>shots_11A</th>\n",
       "      <th>shots_acc_11H</th>\n",
       "      <th>shots_acc_11A</th>\n",
       "      <th>goals_H</th>\n",
       "      <th>goals_A</th>\n",
       "      <th>goals_ratio_H</th>\n",
       "      <th>goals_ratio_A</th>\n",
       "      <th>...</th>\n",
       "      <th>passes_acc_11H</th>\n",
       "      <th>passes_acc_11A</th>\n",
       "      <th>keyPasses_H</th>\n",
       "      <th>keyPasses_A</th>\n",
       "      <th>ataque_h</th>\n",
       "      <th>defensa_h</th>\n",
       "      <th>ataque_a</th>\n",
       "      <th>defensa_a</th>\n",
       "      <th>ataquedefensa_H</th>\n",
       "      <th>ataquedefensa_A</th>\n",
       "    </tr>\n",
       "    <tr>\n",
       "      <th>wyId</th>\n",
       "      <th></th>\n",
       "      <th></th>\n",
       "      <th></th>\n",
       "      <th></th>\n",
       "      <th></th>\n",
       "      <th></th>\n",
       "      <th></th>\n",
       "      <th></th>\n",
       "      <th></th>\n",
       "      <th></th>\n",
       "      <th></th>\n",
       "      <th></th>\n",
       "      <th></th>\n",
       "      <th></th>\n",
       "      <th></th>\n",
       "      <th></th>\n",
       "      <th></th>\n",
       "      <th></th>\n",
       "      <th></th>\n",
       "      <th></th>\n",
       "      <th></th>\n",
       "    </tr>\n",
       "  </thead>\n",
       "  <tbody>\n",
       "    <tr>\n",
       "      <th>2499738</th>\n",
       "      <td>60.818182</td>\n",
       "      <td>56.840909</td>\n",
       "      <td>28</td>\n",
       "      <td>18</td>\n",
       "      <td>0.321429</td>\n",
       "      <td>0.444444</td>\n",
       "      <td>1</td>\n",
       "      <td>3</td>\n",
       "      <td>0.250000</td>\n",
       "      <td>0.500000</td>\n",
       "      <td>...</td>\n",
       "      <td>0.757778</td>\n",
       "      <td>0.782137</td>\n",
       "      <td>5</td>\n",
       "      <td>6</td>\n",
       "      <td>0.76</td>\n",
       "      <td>1.72</td>\n",
       "      <td>0.96</td>\n",
       "      <td>2.24</td>\n",
       "      <td>0.973546</td>\n",
       "      <td>0.817933</td>\n",
       "    </tr>\n",
       "    <tr>\n",
       "      <th>2499799</th>\n",
       "      <td>54.500000</td>\n",
       "      <td>72.454545</td>\n",
       "      <td>35</td>\n",
       "      <td>28</td>\n",
       "      <td>0.400000</td>\n",
       "      <td>0.321429</td>\n",
       "      <td>4</td>\n",
       "      <td>5</td>\n",
       "      <td>1.000000</td>\n",
       "      <td>0.625000</td>\n",
       "      <td>...</td>\n",
       "      <td>0.851005</td>\n",
       "      <td>0.843464</td>\n",
       "      <td>4</td>\n",
       "      <td>8</td>\n",
       "      <td>0.56</td>\n",
       "      <td>0.84</td>\n",
       "      <td>2.00</td>\n",
       "      <td>1.20</td>\n",
       "      <td>1.316667</td>\n",
       "      <td>0.810784</td>\n",
       "    </tr>\n",
       "    <tr>\n",
       "      <th>2499800</th>\n",
       "      <td>63.295455</td>\n",
       "      <td>72.000000</td>\n",
       "      <td>37</td>\n",
       "      <td>29</td>\n",
       "      <td>0.162162</td>\n",
       "      <td>0.344828</td>\n",
       "      <td>1</td>\n",
       "      <td>1</td>\n",
       "      <td>0.333333</td>\n",
       "      <td>1.000000</td>\n",
       "      <td>...</td>\n",
       "      <td>0.836437</td>\n",
       "      <td>0.858100</td>\n",
       "      <td>16</td>\n",
       "      <td>7</td>\n",
       "      <td>0.60</td>\n",
       "      <td>1.20</td>\n",
       "      <td>0.48</td>\n",
       "      <td>1.72</td>\n",
       "      <td>0.983333</td>\n",
       "      <td>1.399187</td>\n",
       "    </tr>\n",
       "    <tr>\n",
       "      <th>2499801</th>\n",
       "      <td>42.000000</td>\n",
       "      <td>54.272727</td>\n",
       "      <td>28</td>\n",
       "      <td>22</td>\n",
       "      <td>0.392857</td>\n",
       "      <td>0.409091</td>\n",
       "      <td>2</td>\n",
       "      <td>4</td>\n",
       "      <td>1.000000</td>\n",
       "      <td>0.571429</td>\n",
       "      <td>...</td>\n",
       "      <td>0.785348</td>\n",
       "      <td>0.842152</td>\n",
       "      <td>8</td>\n",
       "      <td>3</td>\n",
       "      <td>0.36</td>\n",
       "      <td>2.16</td>\n",
       "      <td>1.04</td>\n",
       "      <td>0.32</td>\n",
       "      <td>0.689456</td>\n",
       "      <td>1.360256</td>\n",
       "    </tr>\n",
       "    <tr>\n",
       "      <th>2499802</th>\n",
       "      <td>63.659091</td>\n",
       "      <td>51.477273</td>\n",
       "      <td>47</td>\n",
       "      <td>25</td>\n",
       "      <td>0.510638</td>\n",
       "      <td>0.480000</td>\n",
       "      <td>10</td>\n",
       "      <td>4</td>\n",
       "      <td>0.555556</td>\n",
       "      <td>0.666667</td>\n",
       "      <td>...</td>\n",
       "      <td>0.904959</td>\n",
       "      <td>0.763764</td>\n",
       "      <td>15</td>\n",
       "      <td>2</td>\n",
       "      <td>5.48</td>\n",
       "      <td>1.08</td>\n",
       "      <td>1.24</td>\n",
       "      <td>0.64</td>\n",
       "      <td>1.935507</td>\n",
       "      <td>0.921212</td>\n",
       "    </tr>\n",
       "  </tbody>\n",
       "</table>\n",
       "<p>5 rows × 22 columns</p>\n",
       "</div>"
      ],
      "text/plain": [
       "           mins4_H    mins4_A  shots_11H  shots_11A  shots_acc_11H  \\\n",
       "wyId                                                                 \n",
       "2499738  60.818182  56.840909         28         18       0.321429   \n",
       "2499799  54.500000  72.454545         35         28       0.400000   \n",
       "2499800  63.295455  72.000000         37         29       0.162162   \n",
       "2499801  42.000000  54.272727         28         22       0.392857   \n",
       "2499802  63.659091  51.477273         47         25       0.510638   \n",
       "\n",
       "         shots_acc_11A  goals_H  goals_A  goals_ratio_H  goals_ratio_A  ...  \\\n",
       "wyId                                                                    ...   \n",
       "2499738       0.444444        1        3       0.250000       0.500000  ...   \n",
       "2499799       0.321429        4        5       1.000000       0.625000  ...   \n",
       "2499800       0.344828        1        1       0.333333       1.000000  ...   \n",
       "2499801       0.409091        2        4       1.000000       0.571429  ...   \n",
       "2499802       0.480000       10        4       0.555556       0.666667  ...   \n",
       "\n",
       "         passes_acc_11H  passes_acc_11A  keyPasses_H  keyPasses_A  ataque_h  \\\n",
       "wyId                                                                          \n",
       "2499738        0.757778        0.782137            5            6      0.76   \n",
       "2499799        0.851005        0.843464            4            8      0.56   \n",
       "2499800        0.836437        0.858100           16            7      0.60   \n",
       "2499801        0.785348        0.842152            8            3      0.36   \n",
       "2499802        0.904959        0.763764           15            2      5.48   \n",
       "\n",
       "         defensa_h  ataque_a  defensa_a  ataquedefensa_H  ataquedefensa_A  \n",
       "wyId                                                                       \n",
       "2499738       1.72      0.96       2.24         0.973546         0.817933  \n",
       "2499799       0.84      2.00       1.20         1.316667         0.810784  \n",
       "2499800       1.20      0.48       1.72         0.983333         1.399187  \n",
       "2499801       2.16      1.04       0.32         0.689456         1.360256  \n",
       "2499802       1.08      1.24       0.64         1.935507         0.921212  \n",
       "\n",
       "[5 rows x 22 columns]"
      ]
     },
     "execution_count": 13,
     "metadata": {},
     "output_type": "execute_result"
    }
   ],
   "source": [
    "X_df = data[training_features]\n",
    "# X_df.to_csv(path_train+'training_features_DF.csv',sep=';')\n",
    "X_df.head(5)"
   ]
  },
  {
   "cell_type": "code",
   "execution_count": 14,
   "metadata": {},
   "outputs": [],
   "source": [
    "y = label_set\n",
    "X = data[training_features].dropna()"
   ]
  },
  {
   "cell_type": "code",
   "execution_count": 36,
   "metadata": {},
   "outputs": [],
   "source": [
    "X_train, X_test, y_train, y_test = train_test_split(\n",
    "    X, y, train_size=1100, random_state=1\n",
    ")"
   ]
  },
  {
   "cell_type": "code",
   "execution_count": null,
   "metadata": {},
   "outputs": [],
   "source": [
    "X_train.head(5)"
   ]
  },
  {
   "cell_type": "code",
   "execution_count": 37,
   "metadata": {},
   "outputs": [
    {
     "data": {
      "text/plain": [
       "((1100, 22), (1100, 1), (314, 22), (314, 1))"
      ]
     },
     "execution_count": 37,
     "metadata": {},
     "output_type": "execute_result"
    }
   ],
   "source": [
    "X_train.shape, y_train.shape, X_test.shape, y_test.shape"
   ]
  },
  {
   "cell_type": "code",
   "execution_count": 38,
   "metadata": {},
   "outputs": [],
   "source": [
    "X_train.to_csv(path_train+'X_wys_train.csv',sep=';')\n",
    "y_train.to_csv(path_train+'y_wys_train.csv',sep=';')\n",
    "X_test.to_csv(path_train+'X_wys_test.csv',sep=';')\n",
    "y_test.to_csv(path_train+'y_wys_test.csv',sep=';')"
   ]
  },
  {
   "cell_type": "markdown",
   "metadata": {},
   "source": [
    "## Historical processing"
   ]
  },
  {
   "cell_type": "code",
   "execution_count": 3,
   "metadata": {},
   "outputs": [],
   "source": [
    "import torch\n",
    "import torch.nn.functional as F\n",
    "from torch.utils.data import Dataset\n",
    "import re"
   ]
  },
  {
   "cell_type": "code",
   "execution_count": 4,
   "metadata": {},
   "outputs": [],
   "source": [
    "df = pd.read_csv(path_rawdata+'historical_goals'+'.csv',sep=';',index_col='matchId').drop(columns='aux')"
   ]
  },
  {
   "cell_type": "code",
   "execution_count": 5,
   "metadata": {},
   "outputs": [
    {
     "data": {
      "text/plain": [
       "(45383, 90)"
      ]
     },
     "execution_count": 5,
     "metadata": {},
     "output_type": "execute_result"
    }
   ],
   "source": [
    "df.shape"
   ]
  },
  {
   "cell_type": "code",
   "execution_count": 6,
   "metadata": {},
   "outputs": [
    {
     "data": {
      "text/plain": [
       "Index(['Div', 'Date', 'HomeTeam', 'AwayTeam', 'FTHG', 'FTAG', 'FTR', 'season',\n",
       "       'IdH', 'IdA', 'side_avg_1_home', 'Scored_1_home', 'Received_1_home',\n",
       "       'points_1_home', 'side_avg_1_away', 'Scored_1_away', 'Received_1_away',\n",
       "       'points_1_away', 'side_avg_2_home', 'Scored_2_home', 'Received_2_home',\n",
       "       'points_2_home', 'side_avg_2_away', 'Scored_2_away', 'Received_2_away',\n",
       "       'points_2_away', 'side_avg_3_home', 'Scored_3_home', 'Received_3_home',\n",
       "       'points_3_home', 'side_avg_3_away', 'Scored_3_away', 'Received_3_away',\n",
       "       'points_3_away', 'side_avg_4_home', 'Scored_4_home', 'Received_4_home',\n",
       "       'points_4_home', 'side_avg_4_away', 'Scored_4_away', 'Received_4_away',\n",
       "       'points_4_away', 'side_avg_5_home', 'Scored_5_home', 'Received_5_home',\n",
       "       'points_5_home', 'side_avg_5_away', 'Scored_5_away', 'Received_5_away',\n",
       "       'points_5_away', 'side_avg_6_home', 'Scored_6_home', 'Received_6_home',\n",
       "       'points_6_home', 'side_avg_6_away', 'Scored_6_away', 'Received_6_away',\n",
       "       'points_6_away', 'side_avg_7_home', 'Scored_7_home', 'Received_7_home',\n",
       "       'points_7_home', 'side_avg_7_away', 'Scored_7_away', 'Received_7_away',\n",
       "       'points_7_away', 'side_avg_8_home', 'Scored_8_home', 'Received_8_home',\n",
       "       'points_8_home', 'side_avg_8_away', 'Scored_8_away', 'Received_8_away',\n",
       "       'points_8_away', 'side_avg_9_home', 'Scored_9_home', 'Received_9_home',\n",
       "       'points_9_home', 'side_avg_9_away', 'Scored_9_away', 'Received_9_away',\n",
       "       'points_9_away', 'side_avg_10_home', 'Scored_10_home',\n",
       "       'Received_10_home', 'points_10_home', 'side_avg_10_away',\n",
       "       'Scored_10_away', 'Received_10_away', 'points_10_away'],\n",
       "      dtype='object')"
      ]
     },
     "execution_count": 6,
     "metadata": {},
     "output_type": "execute_result"
    }
   ],
   "source": [
    "df.columns"
   ]
  },
  {
   "cell_type": "code",
   "execution_count": 20,
   "metadata": {},
   "outputs": [],
   "source": [
    "class FootballMatchesDataset(Dataset):\n",
    "    def __init__(self,file,dataset='',drop=[]):\n",
    "\n",
    "        str_drop = ''\n",
    "        for d in drop:\n",
    "            str_drop += '(_' + str(d) + ')|'\n",
    "        if str_drop=='': str_drop='fhvcgh'\n",
    "\n",
    "        pattern = re.compile(r'^((?!' + str_drop[:-1] + r').|(_home)|(_away))+$')\n",
    "\n",
    "        # partidos para usar en entrenamiento y test (mismo conjunto en todos los datasets)\n",
    "        np.random.seed(0)\n",
    "        permutation = (np.random.permutation(np.arange(50000))[:37500] if (file=='train') \n",
    "                                else np.random.permutation(np.arange(50000))[37500:])\n",
    "        \n",
    "\n",
    "        df              = pd.read_csv(path_rawdata+dataset+'.csv',sep=';',index_col='matchId')\n",
    "        self.features   = list(filter(pattern.match,df.columns[13:]))\n",
    "        self.matches    = np.intersect1d(df[self.features].dropna().index.to_numpy(),permutation)\n",
    "        # falta drop na\n",
    "        self.data       = torch.tensor(df.loc[self.matches][self.features].values).float()\n",
    "        self.labels     = F.one_hot((torch.tensor(df.FTR.loc[self.matches].values)),num_classes=3).float()\n",
    "\n",
    "    def __len__(self):\n",
    "        return self.data.shape[0]\n",
    "\n",
    "    def shape(self):\n",
    "        return self.data.shape\n",
    "\n",
    "    def __getitem__(self,idx):\n",
    "        sample  = self.data[idx]\n",
    "        label   = self.labels[idx]\n",
    "        match   = self.matches[idx]\n",
    "        return sample, label, match"
   ]
  },
  {
   "cell_type": "code",
   "execution_count": 24,
   "metadata": {},
   "outputs": [],
   "source": [
    "historical = FootballMatchesDataset('train','historical',drop=[2])"
   ]
  },
  {
   "cell_type": "code",
   "execution_count": 25,
   "metadata": {},
   "outputs": [
    {
     "data": {
      "text/plain": [
       "torch.Size([15272, 193])"
      ]
     },
     "execution_count": 25,
     "metadata": {},
     "output_type": "execute_result"
    }
   ],
   "source": [
    "historical.data.shape"
   ]
  },
  {
   "cell_type": "code",
   "execution_count": 26,
   "metadata": {},
   "outputs": [
    {
     "data": {
      "text/plain": [
       "(tensor([1.5000e+01, 5.0000e+00, 1.1000e+01, 2.0000e+00, 1.3000e+01, 1.8000e+01,\n",
       "         0.0000e+00, 1.0000e+00, 0.0000e+00, 1.0000e+00, 2.0300e+02, 1.6130e+03,\n",
       "         1.6230e+03, 1.0000e+00, 3.0000e+00, 5.0000e+00, 0.0000e+00, 1.0000e+01,\n",
       "         7.0000e+00, 1.0000e+00, 9.0000e+00, 2.0000e+00, 0.0000e+00, 0.0000e+00,\n",
       "         1.0000e+00, 0.0000e+00, 3.0000e+00, 1.7000e+01, 9.0000e+00, 1.0000e+01,\n",
       "         1.4000e+01, 2.0000e+00, 2.0000e+00, 2.0000e+00, 5.0000e+00, 7.0000e+00,\n",
       "         1.0000e+00, 1.0333e+01, 7.3333e+00, 2.3333e+00, 9.3333e+00, 1.6667e+00,\n",
       "         3.3333e-01, 1.0000e+00, 3.0000e+00, 0.0000e+00, 3.0000e+00, 1.2333e+01,\n",
       "         5.6667e+00, 7.0000e+00, 1.5667e+01, 1.6667e+00, 1.3333e+00, 2.0000e+00,\n",
       "         7.0000e+00, 7.0000e+00, 1.5000e+00, 1.2250e+01, 8.7500e+00, 3.5000e+00,\n",
       "         1.1000e+01, 1.7500e+00, 7.5000e-01, 2.0000e+00, 4.0000e+00, 0.0000e+00,\n",
       "         3.0000e+00, 1.2250e+01, 6.0000e+00, 7.5000e+00, 1.6750e+01, 2.0000e+00,\n",
       "         1.0000e+00, 2.0000e+00, 9.0000e+00, 8.0000e+00, 1.8000e+00, 1.3000e+01,\n",
       "         9.4000e+00, 5.6000e+00, 1.1200e+01, 1.8000e+00, 1.0000e+00, 3.0000e+00,\n",
       "         5.0000e+00, 0.0000e+00, 3.0000e+00, 1.1800e+01, 5.8000e+00, 6.6000e+00,\n",
       "         1.5800e+01, 1.6000e+00, 8.0000e-01, 3.0000e+00, 1.1000e+01, 1.3000e+01,\n",
       "         1.5000e+00, 1.1667e+01, 8.6667e+00, 5.5000e+00, 1.0833e+01, 1.8333e+00,\n",
       "         1.0000e+00, 3.0000e+00, 7.0000e+00, 1.0000e+00, 3.0000e+00, 1.1500e+01,\n",
       "         5.8333e+00, 6.8333e+00, 1.6167e+01, 1.8333e+00, 1.1667e+00, 3.0000e+00,\n",
       "         1.3000e+01, 1.4000e+01, 1.7143e+00, 1.2000e+01, 8.5714e+00, 6.2857e+00,\n",
       "         1.0857e+01, 1.7143e+00, 1.0000e+00, 4.0000e+00, 7.0000e+00, 4.0000e+00,\n",
       "         2.5714e+00, 1.1000e+01, 5.5714e+00, 6.0000e+00, 1.5571e+01, 1.8571e+00,\n",
       "         1.1429e+00, 4.0000e+00, 1.5000e+01, 1.4000e+01, 1.8750e+00, 1.2125e+01,\n",
       "         8.2500e+00, 6.7500e+00, 1.0625e+01, 1.5000e+00, 8.7500e-01, 4.0000e+00,\n",
       "         9.0000e+00, 4.0000e+00, 2.6250e+00, 1.1500e+01, 6.0000e+00, 6.2500e+00,\n",
       "         1.5250e+01, 1.7500e+00, 1.1250e+00, 4.0000e+00, 1.7000e+01, 1.4000e+01,\n",
       "         2.0000e+00, 1.2000e+01, 8.0000e+00, 6.8889e+00, 1.0333e+01, 1.5556e+00,\n",
       "         1.0000e+00, 5.0000e+00, 1.1000e+01, 7.0000e+00, 2.3333e+00, 1.1778e+01,\n",
       "         6.1111e+00, 6.1111e+00, 1.5222e+01, 1.6667e+00, 1.0000e+00, 5.0000e+00,\n",
       "         1.7000e+01, 1.7000e+01, 1.8000e+00, 1.1300e+01, 7.2000e+00, 6.6000e+00,\n",
       "         1.0200e+01, 1.8000e+00, 9.0000e-01, 5.0000e+00, 1.3000e+01, 8.0000e+00,\n",
       "         2.4000e+00, 1.1900e+01, 6.3000e+00, 6.5000e+00, 1.5500e+01, 1.7000e+00,\n",
       "         1.1000e+00]),\n",
       " tensor([0., 1., 0.]),\n",
       " 917)"
      ]
     },
     "execution_count": 26,
     "metadata": {},
     "output_type": "execute_result"
    }
   ],
   "source": [
    "historical[464]"
   ]
  }
 ],
 "metadata": {
  "kernelspec": {
   "display_name": "Python 3.8.8 ('tfg')",
   "language": "python",
   "name": "python3"
  },
  "language_info": {
   "codemirror_mode": {
    "name": "ipython",
    "version": 3
   },
   "file_extension": ".py",
   "mimetype": "text/x-python",
   "name": "python",
   "nbconvert_exporter": "python",
   "pygments_lexer": "ipython3",
   "version": "3.8.8"
  },
  "orig_nbformat": 4,
  "vscode": {
   "interpreter": {
    "hash": "288ff6fe8157f43ba3e1fb4cfa0011490e9beb907b54ad0d71ae70a61946bdb3"
   }
  }
 },
 "nbformat": 4,
 "nbformat_minor": 2
}
